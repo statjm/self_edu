{
 "cells": [
  {
   "cell_type": "code",
   "execution_count": 4,
   "id": "5628bb67-9e74-441e-84c8-b59d7efc964d",
   "metadata": {
    "execution": {
     "iopub.execute_input": "2022-02-10T09:44:04.958325Z",
     "iopub.status.busy": "2022-02-10T09:44:04.958130Z",
     "iopub.status.idle": "2022-02-10T09:44:04.962644Z",
     "shell.execute_reply": "2022-02-10T09:44:04.961563Z",
     "shell.execute_reply.started": "2022-02-10T09:44:04.958306Z"
    },
    "tags": []
   },
   "outputs": [],
   "source": [
    "class User:\n",
    "    pass"
   ]
  },
  {
   "cell_type": "code",
   "execution_count": 13,
   "id": "6a16b7cb-ac54-4beb-bf27-82027ed28bd7",
   "metadata": {
    "execution": {
     "iopub.execute_input": "2022-02-10T09:45:00.317431Z",
     "iopub.status.busy": "2022-02-10T09:45:00.317103Z",
     "iopub.status.idle": "2022-02-10T09:45:00.321287Z",
     "shell.execute_reply": "2022-02-10T09:45:00.320610Z",
     "shell.execute_reply.started": "2022-02-10T09:45:00.317411Z"
    },
    "tags": []
   },
   "outputs": [],
   "source": [
    "user1 = User()\n",
    "user2 = User()\n",
    "user3 = User()"
   ]
  },
  {
   "cell_type": "markdown",
   "id": "6466a0eb-6c4d-4dcf-b00a-29e17d1cf9ef",
   "metadata": {},
   "source": [
    "인스턴스 각자가 갖고있는 변수 : 인스턴스 변수"
   ]
  },
  {
   "cell_type": "code",
   "execution_count": 14,
   "id": "aaed3da4-6739-42f3-b88f-db0292168cc7",
   "metadata": {
    "execution": {
     "iopub.execute_input": "2022-02-10T09:45:01.234331Z",
     "iopub.status.busy": "2022-02-10T09:45:01.233867Z",
     "iopub.status.idle": "2022-02-10T09:45:01.238057Z",
     "shell.execute_reply": "2022-02-10T09:45:01.237042Z",
     "shell.execute_reply.started": "2022-02-10T09:45:01.234310Z"
    },
    "tags": []
   },
   "outputs": [],
   "source": [
    "user1.name = \"임정민\"\n",
    "user1.email = \"임정\"\n",
    "user1.password = \"정민\""
   ]
  },
  {
   "cell_type": "code",
   "execution_count": 15,
   "id": "c25de186-bcbe-4539-86c5-d050faf6671a",
   "metadata": {
    "execution": {
     "iopub.execute_input": "2022-02-10T09:45:01.452114Z",
     "iopub.status.busy": "2022-02-10T09:45:01.451733Z",
     "iopub.status.idle": "2022-02-10T09:45:01.455889Z",
     "shell.execute_reply": "2022-02-10T09:45:01.455105Z",
     "shell.execute_reply.started": "2022-02-10T09:45:01.452096Z"
    },
    "tags": []
   },
   "outputs": [],
   "source": [
    "user2.name = \"이\"\n",
    "user2.email = \"예\"\n",
    "user2.password = \"지\""
   ]
  },
  {
   "cell_type": "code",
   "execution_count": 16,
   "id": "36965716-b575-4b1c-afcd-b66d3e602016",
   "metadata": {
    "execution": {
     "iopub.execute_input": "2022-02-10T09:45:01.652995Z",
     "iopub.status.busy": "2022-02-10T09:45:01.652472Z",
     "iopub.status.idle": "2022-02-10T09:45:01.656610Z",
     "shell.execute_reply": "2022-02-10T09:45:01.655697Z",
     "shell.execute_reply.started": "2022-02-10T09:45:01.652975Z"
    },
    "tags": []
   },
   "outputs": [],
   "source": [
    "user3.name = \"정\"\n",
    "user3.email = \"화\"\n",
    "user3.password = \"영\""
   ]
  },
  {
   "cell_type": "code",
   "execution_count": 9,
   "id": "3279a9bc-5f7e-43ec-9ab2-9291c412524f",
   "metadata": {
    "execution": {
     "iopub.execute_input": "2022-02-10T09:44:06.085870Z",
     "iopub.status.busy": "2022-02-10T09:44:06.085055Z",
     "iopub.status.idle": "2022-02-10T09:44:06.090028Z",
     "shell.execute_reply": "2022-02-10T09:44:06.089302Z",
     "shell.execute_reply.started": "2022-02-10T09:44:06.085846Z"
    },
    "tags": []
   },
   "outputs": [
    {
     "name": "stdout",
     "output_type": "stream",
     "text": [
      "임정\n",
      "지\n"
     ]
    }
   ],
   "source": [
    "print(user1.email)\n",
    "print(user2.password)\n",
    "\n",
    "#print(user1.age) # 인스턴스 변수가 사전에 정의가 되지 않았으므로 에러가 남"
   ]
  },
  {
   "cell_type": "markdown",
   "id": "f783848f-8efe-4ea8-8ab7-95901e9db604",
   "metadata": {},
   "source": [
    "# 인스턴스 메소드"
   ]
  },
  {
   "cell_type": "code",
   "execution_count": 11,
   "id": "19ae231a-ec39-4469-ab44-bc1c4a926245",
   "metadata": {
    "execution": {
     "iopub.execute_input": "2022-02-10T09:44:45.181774Z",
     "iopub.status.busy": "2022-02-10T09:44:45.181512Z",
     "iopub.status.idle": "2022-02-10T09:44:45.185470Z",
     "shell.execute_reply": "2022-02-10T09:44:45.184715Z",
     "shell.execute_reply.started": "2022-02-10T09:44:45.181752Z"
    },
    "tags": []
   },
   "outputs": [],
   "source": [
    "class User:\n",
    "    def say_hello(some_user):\n",
    "        # 인사메시지 출력메소드\n",
    "        print(\"안녕하세요! 나는 {}입니다.\".format(some_user.name)) # name이라는 인스턴스 변수를 이용함"
   ]
  },
  {
   "cell_type": "code",
   "execution_count": 10,
   "id": "348c313d-4d0c-47a1-a5f7-5de1e9648904",
   "metadata": {
    "execution": {
     "iopub.execute_input": "2022-02-03T03:54:46.884487Z",
     "iopub.status.busy": "2022-02-03T03:54:46.884007Z",
     "iopub.status.idle": "2022-02-03T03:54:46.889262Z",
     "shell.execute_reply": "2022-02-03T03:54:46.888352Z",
     "shell.execute_reply.started": "2022-02-03T03:54:46.884450Z"
    },
    "tags": []
   },
   "outputs": [
    {
     "name": "stdout",
     "output_type": "stream",
     "text": [
      "안녕하세요! 나는 임정민입니다.\n"
     ]
    }
   ],
   "source": [
    "User.say_hello(user1)"
   ]
  },
  {
   "cell_type": "code",
   "execution_count": 11,
   "id": "de01b421-8695-4f70-a42a-0fa40923f5c7",
   "metadata": {
    "execution": {
     "iopub.execute_input": "2022-02-03T03:54:57.722373Z",
     "iopub.status.busy": "2022-02-03T03:54:57.722127Z",
     "iopub.status.idle": "2022-02-03T03:54:57.727235Z",
     "shell.execute_reply": "2022-02-03T03:54:57.726439Z",
     "shell.execute_reply.started": "2022-02-03T03:54:57.722334Z"
    },
    "tags": []
   },
   "outputs": [
    {
     "name": "stdout",
     "output_type": "stream",
     "text": [
      "안녕하세요! 나는 이입니다.\n"
     ]
    }
   ],
   "source": [
    "User.say_hello(user2)"
   ]
  },
  {
   "cell_type": "code",
   "execution_count": 12,
   "id": "758ea89c-6644-4257-a9c1-e3f71f7e3b06",
   "metadata": {
    "execution": {
     "iopub.execute_input": "2022-02-03T03:55:01.855117Z",
     "iopub.status.busy": "2022-02-03T03:55:01.854577Z",
     "iopub.status.idle": "2022-02-03T03:55:01.859948Z",
     "shell.execute_reply": "2022-02-03T03:55:01.858931Z",
     "shell.execute_reply.started": "2022-02-03T03:55:01.855094Z"
    },
    "tags": []
   },
   "outputs": [
    {
     "name": "stdout",
     "output_type": "stream",
     "text": [
      "안녕하세요! 나는 정입니다.\n"
     ]
    }
   ],
   "source": [
    "User.say_hello(user3) # 클래스이름.메소드이름(인스턴스)"
   ]
  },
  {
   "cell_type": "code",
   "execution_count": 18,
   "id": "0334a928-a966-4695-9c7f-4422b6e4a731",
   "metadata": {
    "execution": {
     "iopub.execute_input": "2022-02-10T09:45:56.167557Z",
     "iopub.status.busy": "2022-02-10T09:45:56.166845Z",
     "iopub.status.idle": "2022-02-10T09:45:56.175265Z",
     "shell.execute_reply": "2022-02-10T09:45:56.174399Z",
     "shell.execute_reply.started": "2022-02-10T09:45:56.167534Z"
    },
    "tags": []
   },
   "outputs": [
    {
     "ename": "TypeError",
     "evalue": "say_hello() takes 1 positional argument but 2 were given",
     "output_type": "error",
     "traceback": [
      "\u001b[0;31m---------------------------------------------------------------------------\u001b[0m",
      "\u001b[0;31mTypeError\u001b[0m                                 Traceback (most recent call last)",
      "\u001b[0;32m/tmp/ipykernel_91/3968601487.py\u001b[0m in \u001b[0;36m<module>\u001b[0;34m\u001b[0m\n\u001b[0;32m----> 1\u001b[0;31m \u001b[0muser1\u001b[0m\u001b[0;34m.\u001b[0m\u001b[0msay_hello\u001b[0m\u001b[0;34m(\u001b[0m\u001b[0muser1\u001b[0m\u001b[0;34m)\u001b[0m\u001b[0;34m\u001b[0m\u001b[0;34m\u001b[0m\u001b[0m\n\u001b[0m",
      "\u001b[0;31mTypeError\u001b[0m: say_hello() takes 1 positional argument but 2 were given"
     ]
    }
   ],
   "source": [
    "user1.say_hello(user1) # error"
   ]
  },
  {
   "cell_type": "code",
   "execution_count": 19,
   "id": "e49cd0a6-63b5-403c-ab4c-6c1c0c82f489",
   "metadata": {
    "execution": {
     "iopub.execute_input": "2022-02-10T09:46:45.593804Z",
     "iopub.status.busy": "2022-02-10T09:46:45.593538Z",
     "iopub.status.idle": "2022-02-10T09:46:45.598471Z",
     "shell.execute_reply": "2022-02-10T09:46:45.597630Z",
     "shell.execute_reply.started": "2022-02-10T09:46:45.593783Z"
    },
    "tags": []
   },
   "outputs": [
    {
     "name": "stdout",
     "output_type": "stream",
     "text": [
      "안녕하세요! 나는 임정민입니다.\n"
     ]
    }
   ],
   "source": [
    "user1.say_hello() # parameter로 본인이 들어감"
   ]
  },
  {
   "cell_type": "markdown",
   "id": "5a3eac69-6b88-437c-ad32-f5ba000dd516",
   "metadata": {},
   "source": [
    "### 인스턴스메소드 특별한 규칙"
   ]
  },
  {
   "cell_type": "code",
   "execution_count": 23,
   "id": "deacbc6f-3b0c-410e-8bcf-692b16f519c6",
   "metadata": {
    "execution": {
     "iopub.execute_input": "2022-02-10T09:54:27.539143Z",
     "iopub.status.busy": "2022-02-10T09:54:27.538852Z",
     "iopub.status.idle": "2022-02-10T09:54:27.544562Z",
     "shell.execute_reply": "2022-02-10T09:54:27.543720Z",
     "shell.execute_reply.started": "2022-02-10T09:54:27.539119Z"
    },
    "tags": []
   },
   "outputs": [],
   "source": [
    "class User:\n",
    "    def say_hello(self):\n",
    "        # 인사메시지 출력메소드\n",
    "        print(\"안녕하세요! 나는 {}입니다.\".format(self.name)) # name이라는 인스턴스 변수를 이용함\n",
    "        \n",
    "    def login(self, my_email, my_password):\n",
    "        # 로그인 메소드\n",
    "        if(self.email == my_email and self.password == my_password):\n",
    "            print(\"로그인성공!\")\n",
    "        else:\n",
    "            print(\"로그인 실패, 없는 아이디이거나 잘못된 비밀번호\")\n",
    "    \n",
    "    def check_name(self, name):\n",
    "        # 파라미터로 받는 name이 유저의 이름과 같은지 불린으로 리턴으로 메소드\n",
    "        return self.name == name # self의 name과 parameter name을 비교"
   ]
  },
  {
   "cell_type": "code",
   "execution_count": 21,
   "id": "8153fae8-9347-474b-aafe-b9b41eba188a",
   "metadata": {
    "execution": {
     "iopub.execute_input": "2022-02-10T09:48:43.733887Z",
     "iopub.status.busy": "2022-02-10T09:48:43.733708Z",
     "iopub.status.idle": "2022-02-10T09:48:43.743153Z",
     "shell.execute_reply": "2022-02-10T09:48:43.742341Z",
     "shell.execute_reply.started": "2022-02-10T09:48:43.733867Z"
    },
    "tags": []
   },
   "outputs": [
    {
     "ename": "TypeError",
     "evalue": "login() takes 3 positional arguments but 4 were given",
     "output_type": "error",
     "traceback": [
      "\u001b[0;31m---------------------------------------------------------------------------\u001b[0m",
      "\u001b[0;31mTypeError\u001b[0m                                 Traceback (most recent call last)",
      "\u001b[0;32m/tmp/ipykernel_91/1541534052.py\u001b[0m in \u001b[0;36m<module>\u001b[0;34m\u001b[0m\n\u001b[1;32m      5\u001b[0m \u001b[0muser1\u001b[0m\u001b[0;34m.\u001b[0m\u001b[0mpassword\u001b[0m \u001b[0;34m=\u001b[0m \u001b[0;34m\"정민\"\u001b[0m\u001b[0;34m\u001b[0m\u001b[0;34m\u001b[0m\u001b[0m\n\u001b[1;32m      6\u001b[0m \u001b[0;34m\u001b[0m\u001b[0m\n\u001b[0;32m----> 7\u001b[0;31m \u001b[0muser1\u001b[0m\u001b[0;34m.\u001b[0m\u001b[0mlogin\u001b[0m\u001b[0;34m(\u001b[0m\u001b[0muser1\u001b[0m\u001b[0;34m,\u001b[0m \u001b[0;34m\"임정\"\u001b[0m\u001b[0;34m,\u001b[0m \u001b[0;34m\"정민\"\u001b[0m\u001b[0;34m)\u001b[0m\u001b[0;34m\u001b[0m\u001b[0;34m\u001b[0m\u001b[0m\n\u001b[0m",
      "\u001b[0;31mTypeError\u001b[0m: login() takes 3 positional arguments but 4 were given"
     ]
    }
   ],
   "source": [
    "user1 = User()\n",
    "\n",
    "user1.name = \"임정민\"\n",
    "user1.email = \"임정\"\n",
    "user1.password = \"정민\"\n",
    "\n",
    "user1.login(user1, \"임정\", \"정민\")"
   ]
  },
  {
   "cell_type": "code",
   "execution_count": 22,
   "id": "8e0fbbb6-7a04-4ef7-949e-fa5b35b30c2f",
   "metadata": {
    "execution": {
     "iopub.execute_input": "2022-02-10T09:48:52.757959Z",
     "iopub.status.busy": "2022-02-10T09:48:52.757525Z",
     "iopub.status.idle": "2022-02-10T09:48:52.762560Z",
     "shell.execute_reply": "2022-02-10T09:48:52.761557Z",
     "shell.execute_reply.started": "2022-02-10T09:48:52.757938Z"
    },
    "tags": []
   },
   "outputs": [
    {
     "name": "stdout",
     "output_type": "stream",
     "text": [
      "로그인성공!\n"
     ]
    }
   ],
   "source": [
    "user1.login(\"임정\",\"정민\")"
   ]
  },
  {
   "cell_type": "code",
   "execution_count": 24,
   "id": "a75f3766-d794-405a-b03c-963b17025a1f",
   "metadata": {
    "execution": {
     "iopub.execute_input": "2022-02-10T09:54:41.469084Z",
     "iopub.status.busy": "2022-02-10T09:54:41.468377Z",
     "iopub.status.idle": "2022-02-10T09:54:41.473416Z",
     "shell.execute_reply": "2022-02-10T09:54:41.471776Z",
     "shell.execute_reply.started": "2022-02-10T09:54:41.469062Z"
    },
    "tags": []
   },
   "outputs": [],
   "source": [
    "user1 = User()\n",
    "\n",
    "user1.name = \"임정민\"\n",
    "user1.email = \"임정\"\n",
    "user1.password = \"정민\"\n",
    "\n",
    "user2.name = \"정맨\""
   ]
  },
  {
   "cell_type": "code",
   "execution_count": 26,
   "id": "e2b33055-7212-42cc-981f-849242b5e7d4",
   "metadata": {
    "execution": {
     "iopub.execute_input": "2022-02-10T09:54:56.085676Z",
     "iopub.status.busy": "2022-02-10T09:54:56.085126Z",
     "iopub.status.idle": "2022-02-10T09:54:56.090297Z",
     "shell.execute_reply": "2022-02-10T09:54:56.089248Z",
     "shell.execute_reply.started": "2022-02-10T09:54:56.085655Z"
    },
    "tags": []
   },
   "outputs": [
    {
     "data": {
      "text/plain": [
       "True"
      ]
     },
     "execution_count": 26,
     "metadata": {},
     "output_type": "execute_result"
    }
   ],
   "source": [
    "user1.check_name(\"임정민\")"
   ]
  },
  {
   "cell_type": "code",
   "execution_count": 27,
   "id": "d9536777-d605-420d-9f70-30501a46870e",
   "metadata": {
    "execution": {
     "iopub.execute_input": "2022-02-10T09:55:52.599769Z",
     "iopub.status.busy": "2022-02-10T09:55:52.599544Z",
     "iopub.status.idle": "2022-02-10T09:55:52.605379Z",
     "shell.execute_reply": "2022-02-10T09:55:52.604409Z",
     "shell.execute_reply.started": "2022-02-10T09:55:52.599750Z"
    },
    "tags": []
   },
   "outputs": [
    {
     "data": {
      "text/plain": [
       "False"
      ]
     },
     "execution_count": 27,
     "metadata": {},
     "output_type": "execute_result"
    }
   ],
   "source": [
    "user1.check_name(\"정맨\")"
   ]
  },
  {
   "cell_type": "markdown",
   "id": "ab96a292-896e-4662-ac2d-f0bc55dcbb02",
   "metadata": {},
   "source": [
    "#### `__init__` 메소드"
   ]
  },
  {
   "cell_type": "code",
   "execution_count": 28,
   "id": "269d6358-20c1-49e2-82bf-a1ef13a7f8fd",
   "metadata": {
    "execution": {
     "iopub.execute_input": "2022-02-10T10:04:27.978795Z",
     "iopub.status.busy": "2022-02-10T10:04:27.978451Z",
     "iopub.status.idle": "2022-02-10T10:04:27.988623Z",
     "shell.execute_reply": "2022-02-10T10:04:27.987593Z",
     "shell.execute_reply.started": "2022-02-10T10:04:27.978753Z"
    },
    "tags": []
   },
   "outputs": [
    {
     "name": "stdout",
     "output_type": "stream",
     "text": [
      "Young young@codeit.kr 123456\n",
      "Yoonsoo yoonsoo@codeit.kr abcdef\n",
      "Taeho taeho@codeit.kr 123abc\n",
      "Lisa lisa@codeit.kr abc123\n"
     ]
    }
   ],
   "source": [
    "class User:\n",
    "\n",
    "    def initialize(self, name, email, password): # magic method / special method / 특수 메소드 특수 상황에서 자동으로 실행되는 메소드\n",
    "        self.name = name\n",
    "        self.email = email\n",
    "        self.password = password\n",
    "\n",
    "user1 = User()\n",
    "user1.initialize(\"Young\", \"young@codeit.kr\", \"123456\")\n",
    "\n",
    "user2 = User()\n",
    "user2.initialize(\"Yoonsoo\", \"yoonsoo@codeit.kr\", \"abcdef\")\n",
    "\n",
    "user3 = User()\n",
    "User.initialize(user3, \"Taeho\", \"taeho@codeit.kr\", \"123abc\")\n",
    "\n",
    "user4 = User()\n",
    "User.initialize(user4, \"Lisa\", \"lisa@codeit.kr\", \"abc123\")\n",
    "\n",
    "\n",
    "\n",
    "print(user1.name, user1.email, user1.password)\n",
    "print(user2.name, user2.email, user2.password)\n",
    "print(user3.name, user3.email, user3.password)\n",
    "print(user4.name, user4.email, user4.password)"
   ]
  },
  {
   "cell_type": "code",
   "execution_count": 30,
   "id": "c700d05a-03f3-44cd-b0ae-40075f153bf8",
   "metadata": {
    "execution": {
     "iopub.execute_input": "2022-02-10T10:09:44.293220Z",
     "iopub.status.busy": "2022-02-10T10:09:44.292766Z",
     "iopub.status.idle": "2022-02-10T10:09:44.301245Z",
     "shell.execute_reply": "2022-02-10T10:09:44.300340Z",
     "shell.execute_reply.started": "2022-02-10T10:09:44.293189Z"
    },
    "tags": []
   },
   "outputs": [
    {
     "name": "stdout",
     "output_type": "stream",
     "text": [
      "Young young@codeit.kr 123456\n",
      "Yoonsoo yoonsoo@codeit.kr abcdef\n",
      "Taeho taeho@codeit.kr 123abc\n",
      "Lisa lisa@codeit.kr abc123\n"
     ]
    }
   ],
   "source": [
    "class User:\n",
    "\n",
    "    def __init__(self, name, email, password): # magic method / special method / 특수 메소드 특수 상황에서 자동으로 실행되는 메소드\n",
    "        self.name = name\n",
    "        self.email = email\n",
    "        self.password = password\n",
    "\n",
    "user1 = User(\"Young\", \"young@codeit.kr\", \"123456\")\n",
    "\n",
    "user2 = User(\"Yoonsoo\", \"yoonsoo@codeit.kr\", \"abcdef\")\n",
    "\n",
    "user3 = User(\"Taeho\", \"taeho@codeit.kr\", \"123abc\")\n",
    "\n",
    "user4 = User(\"Lisa\", \"lisa@codeit.kr\", \"abc123\")\n",
    "\n",
    "\n",
    "\n",
    "print(user1.name, user1.email, user1.password)\n",
    "print(user2.name, user2.email, user2.password)\n",
    "print(user3.name, user3.email, user3.password)\n",
    "print(user4.name, user4.email, user4.password)"
   ]
  },
  {
   "cell_type": "markdown",
   "id": "b4ec70b1-f685-42a2-bb8e-e4aafb066e02",
   "metadata": {},
   "source": [
    "#### `__str__` 메소드"
   ]
  },
  {
   "cell_type": "code",
   "execution_count": 35,
   "id": "f2cf6f25-3482-4c8c-ae83-8dbada8cc866",
   "metadata": {
    "execution": {
     "iopub.execute_input": "2022-02-10T10:19:22.383054Z",
     "iopub.status.busy": "2022-02-10T10:19:22.382499Z",
     "iopub.status.idle": "2022-02-10T10:19:22.387214Z",
     "shell.execute_reply": "2022-02-10T10:19:22.386438Z",
     "shell.execute_reply.started": "2022-02-10T10:19:22.383031Z"
    },
    "tags": []
   },
   "outputs": [],
   "source": [
    "class User:\n",
    "\n",
    "    def __init__(self, name, email, password): # magic method / special method / 특수 메소드 특수 상황에서 자동으로 실행되는 메소드\n",
    "        self.name = name\n",
    "        self.email = email\n",
    "        self.password = password\n",
    "        \n",
    "    def say_hello(self):\n",
    "        # 인사메시지 출력메소드\n",
    "        print(\"안녕하세요! 나는 {}입니다.\".format(self.name)) # name이라는 인스턴스 변수를 이용함\n",
    "        \n",
    "    def __str__(self):\n",
    "        return \"사용자: {}, 이메일: {}, 비밀번호: ******\".format(self.name, self.email)"
   ]
  },
  {
   "cell_type": "code",
   "execution_count": 37,
   "id": "0032e9bd-d54d-42a5-a97d-5d8252158339",
   "metadata": {
    "execution": {
     "iopub.execute_input": "2022-02-10T10:19:25.187224Z",
     "iopub.status.busy": "2022-02-10T10:19:25.187057Z",
     "iopub.status.idle": "2022-02-10T10:19:25.191712Z",
     "shell.execute_reply": "2022-02-10T10:19:25.190594Z",
     "shell.execute_reply.started": "2022-02-10T10:19:25.187207Z"
    },
    "tags": []
   },
   "outputs": [],
   "source": [
    "user1 = User(\"Young\", \"young@codeit.kr\", \"123456\")\n",
    "user2 = User(\"Yoonsoo\", \"yoonsoo@codeit.kr\", \"abcdef\")"
   ]
  },
  {
   "cell_type": "code",
   "execution_count": 39,
   "id": "de9f7380-8bab-467a-818d-6ffac277315e",
   "metadata": {
    "execution": {
     "iopub.execute_input": "2022-02-10T10:20:02.285343Z",
     "iopub.status.busy": "2022-02-10T10:20:02.284839Z",
     "iopub.status.idle": "2022-02-10T10:20:02.289733Z",
     "shell.execute_reply": "2022-02-10T10:20:02.288838Z",
     "shell.execute_reply.started": "2022-02-10T10:20:02.285308Z"
    },
    "tags": []
   },
   "outputs": [
    {
     "name": "stdout",
     "output_type": "stream",
     "text": [
      "사용자: Young, 이메일: young@codeit.kr, 비밀번호: ******\n",
      "사용자: Yoonsoo, 이메일: yoonsoo@codeit.kr, 비밀번호: ******\n"
     ]
    }
   ],
   "source": [
    "print(user1)\n",
    "print(user2)"
   ]
  },
  {
   "cell_type": "markdown",
   "id": "fcf25229-2161-45c6-833e-f45b62253fbd",
   "metadata": {},
   "source": [
    "## 클래스변수"
   ]
  },
  {
   "cell_type": "code",
   "execution_count": 47,
   "id": "561dcdcb-d65c-4287-bc10-52bd1e09603c",
   "metadata": {
    "execution": {
     "iopub.execute_input": "2022-02-10T10:23:52.855692Z",
     "iopub.status.busy": "2022-02-10T10:23:52.855121Z",
     "iopub.status.idle": "2022-02-10T10:23:52.859616Z",
     "shell.execute_reply": "2022-02-10T10:23:52.858897Z",
     "shell.execute_reply.started": "2022-02-10T10:23:52.855673Z"
    },
    "tags": []
   },
   "outputs": [],
   "source": [
    "class User:\n",
    "    count = 0\n",
    "    \n",
    "    def __init__(self, name, email, password): # magic method / special method / 특수 메소드 특수 상황에서 자동으로 실행되는 메소드\n",
    "        self.name = name\n",
    "        self.email = email\n",
    "        self.password = password\n",
    "        \n",
    "        User.count += 1 # 인스턴스 생성될 때마다 늘어남"
   ]
  },
  {
   "cell_type": "code",
   "execution_count": 48,
   "id": "a26407cc-c056-4bc2-b5db-acaaaa9fbb54",
   "metadata": {
    "execution": {
     "iopub.execute_input": "2022-02-10T10:23:53.038528Z",
     "iopub.status.busy": "2022-02-10T10:23:53.038013Z",
     "iopub.status.idle": "2022-02-10T10:23:53.043069Z",
     "shell.execute_reply": "2022-02-10T10:23:53.042200Z",
     "shell.execute_reply.started": "2022-02-10T10:23:53.038505Z"
    },
    "tags": []
   },
   "outputs": [],
   "source": [
    "user1 = User(\"Young\", \"young@codeit.kr\", \"123456\")\n",
    "user2 = User(\"Yoonsoo\", \"yoonsoo@codeit.kr\", \"abcdef\")"
   ]
  },
  {
   "cell_type": "code",
   "execution_count": 55,
   "id": "47f09cb0-fd95-447d-84f8-25743db79171",
   "metadata": {
    "execution": {
     "iopub.execute_input": "2022-02-10T10:25:26.909972Z",
     "iopub.status.busy": "2022-02-10T10:25:26.909143Z",
     "iopub.status.idle": "2022-02-10T10:25:26.913720Z",
     "shell.execute_reply": "2022-02-10T10:25:26.913078Z",
     "shell.execute_reply.started": "2022-02-10T10:25:26.909948Z"
    },
    "tags": []
   },
   "outputs": [
    {
     "data": {
      "text/plain": [
       "2"
      ]
     },
     "execution_count": 55,
     "metadata": {},
     "output_type": "execute_result"
    }
   ],
   "source": [
    "User.count"
   ]
  },
  {
   "cell_type": "code",
   "execution_count": 56,
   "id": "545766ee-6194-4548-873e-e1aa6e4b79b1",
   "metadata": {
    "execution": {
     "iopub.execute_input": "2022-02-10T10:25:27.528070Z",
     "iopub.status.busy": "2022-02-10T10:25:27.527903Z",
     "iopub.status.idle": "2022-02-10T10:25:27.533011Z",
     "shell.execute_reply": "2022-02-10T10:25:27.532072Z",
     "shell.execute_reply.started": "2022-02-10T10:25:27.528051Z"
    },
    "tags": []
   },
   "outputs": [
    {
     "data": {
      "text/plain": [
       "5"
      ]
     },
     "execution_count": 56,
     "metadata": {},
     "output_type": "execute_result"
    }
   ],
   "source": [
    "user1.count"
   ]
  },
  {
   "cell_type": "code",
   "execution_count": 57,
   "id": "d56a0dd8-fc13-4a62-baf9-e8f66a2182ee",
   "metadata": {
    "execution": {
     "iopub.execute_input": "2022-02-10T10:25:28.175352Z",
     "iopub.status.busy": "2022-02-10T10:25:28.175175Z",
     "iopub.status.idle": "2022-02-10T10:25:28.180838Z",
     "shell.execute_reply": "2022-02-10T10:25:28.180023Z",
     "shell.execute_reply.started": "2022-02-10T10:25:28.175333Z"
    },
    "tags": []
   },
   "outputs": [
    {
     "data": {
      "text/plain": [
       "2"
      ]
     },
     "execution_count": 57,
     "metadata": {},
     "output_type": "execute_result"
    }
   ],
   "source": [
    "user2.count"
   ]
  },
  {
   "cell_type": "code",
   "execution_count": 54,
   "id": "52841750-d613-4872-97f1-35e3e5637fe2",
   "metadata": {
    "execution": {
     "iopub.execute_input": "2022-02-10T10:25:25.551440Z",
     "iopub.status.busy": "2022-02-10T10:25:25.551222Z",
     "iopub.status.idle": "2022-02-10T10:25:25.555045Z",
     "shell.execute_reply": "2022-02-10T10:25:25.554335Z",
     "shell.execute_reply.started": "2022-02-10T10:25:25.551413Z"
    },
    "tags": []
   },
   "outputs": [],
   "source": [
    "user1.count = 5 # 인스턴스변수를 생성하고 5로 넣은거임"
   ]
  },
  {
   "cell_type": "code",
   "execution_count": 58,
   "id": "d1397e70-a107-4206-9775-a8563f59108b",
   "metadata": {
    "execution": {
     "iopub.execute_input": "2022-02-10T10:27:03.279614Z",
     "iopub.status.busy": "2022-02-10T10:27:03.279366Z",
     "iopub.status.idle": "2022-02-10T10:27:03.284800Z",
     "shell.execute_reply": "2022-02-10T10:27:03.284109Z",
     "shell.execute_reply.started": "2022-02-10T10:27:03.279594Z"
    },
    "tags": []
   },
   "outputs": [
    {
     "data": {
      "text/plain": [
       "5"
      ]
     },
     "execution_count": 58,
     "metadata": {},
     "output_type": "execute_result"
    }
   ],
   "source": [
    "user1.count"
   ]
  },
  {
   "cell_type": "code",
   "execution_count": 59,
   "id": "c3862e25-4f4f-4b80-8697-df41e1cb680b",
   "metadata": {
    "execution": {
     "iopub.execute_input": "2022-02-10T10:27:06.312727Z",
     "iopub.status.busy": "2022-02-10T10:27:06.312467Z",
     "iopub.status.idle": "2022-02-10T10:27:06.317712Z",
     "shell.execute_reply": "2022-02-10T10:27:06.316863Z",
     "shell.execute_reply.started": "2022-02-10T10:27:06.312706Z"
    },
    "tags": []
   },
   "outputs": [
    {
     "data": {
      "text/plain": [
       "2"
      ]
     },
     "execution_count": 59,
     "metadata": {},
     "output_type": "execute_result"
    }
   ],
   "source": [
    "user2.count"
   ]
  },
  {
   "cell_type": "code",
   "execution_count": 60,
   "id": "a2ae7180-6fde-4c94-9564-d5bf12505183",
   "metadata": {
    "execution": {
     "iopub.execute_input": "2022-02-10T10:27:11.725182Z",
     "iopub.status.busy": "2022-02-10T10:27:11.724912Z",
     "iopub.status.idle": "2022-02-10T10:27:11.728553Z",
     "shell.execute_reply": "2022-02-10T10:27:11.727803Z",
     "shell.execute_reply.started": "2022-02-10T10:27:11.725145Z"
    },
    "tags": []
   },
   "outputs": [],
   "source": [
    "User.count = 5 # 클래스 변수 설정하려면 클래스로.."
   ]
  },
  {
   "cell_type": "code",
   "execution_count": 61,
   "id": "30fb6804-3f6c-49f4-bf8a-ca1e6aecc067",
   "metadata": {
    "execution": {
     "iopub.execute_input": "2022-02-10T10:27:26.924909Z",
     "iopub.status.busy": "2022-02-10T10:27:26.924650Z",
     "iopub.status.idle": "2022-02-10T10:27:26.929339Z",
     "shell.execute_reply": "2022-02-10T10:27:26.928615Z",
     "shell.execute_reply.started": "2022-02-10T10:27:26.924873Z"
    },
    "tags": []
   },
   "outputs": [
    {
     "name": "stdout",
     "output_type": "stream",
     "text": [
      "5\n",
      "5\n"
     ]
    }
   ],
   "source": [
    "print(user1.count)\n",
    "print(user2.count)"
   ]
  },
  {
   "cell_type": "markdown",
   "id": "46c72468-11e8-495d-a053-ff77a94ddf07",
   "metadata": {},
   "source": [
    "## 데코레이터"
   ]
  },
  {
   "cell_type": "code",
   "execution_count": 64,
   "id": "0ce030b0-1777-44bb-b1fd-25368b23feb5",
   "metadata": {
    "execution": {
     "iopub.execute_input": "2022-02-10T10:32:13.688575Z",
     "iopub.status.busy": "2022-02-10T10:32:13.688162Z",
     "iopub.status.idle": "2022-02-10T10:32:13.693135Z",
     "shell.execute_reply": "2022-02-10T10:32:13.692422Z",
     "shell.execute_reply.started": "2022-02-10T10:32:13.688554Z"
    },
    "tags": []
   },
   "outputs": [
    {
     "name": "stdout",
     "output_type": "stream",
     "text": [
      "함수 시작\n",
      "Hi\n",
      "함수 끝\n"
     ]
    }
   ],
   "source": [
    "def print_hello():\n",
    "    print('Hi')\n",
    "    \n",
    "def add_print_to(original):\n",
    "    def wrapper():\n",
    "        print('함수 시작') # 꾸며줌\n",
    "        original()\n",
    "        print('함수 끝') # 꾸며줌\n",
    "    return wrapper\n",
    "\n",
    "print_hello = add_print_to(print_hello)\n",
    "print_hello()"
   ]
  },
  {
   "cell_type": "code",
   "execution_count": 65,
   "id": "5e9e93c4-bc69-4b3f-9529-877f98a1324f",
   "metadata": {
    "execution": {
     "iopub.execute_input": "2022-02-10T10:35:59.361517Z",
     "iopub.status.busy": "2022-02-10T10:35:59.360997Z",
     "iopub.status.idle": "2022-02-10T10:35:59.366100Z",
     "shell.execute_reply": "2022-02-10T10:35:59.365345Z",
     "shell.execute_reply.started": "2022-02-10T10:35:59.361494Z"
    },
    "tags": []
   },
   "outputs": [
    {
     "name": "stdout",
     "output_type": "stream",
     "text": [
      "함수 시작\n",
      "Hi\n",
      "함수 끝\n"
     ]
    }
   ],
   "source": [
    "def add_print_to(original):\n",
    "    def wrapper():\n",
    "        print('함수 시작') # 꾸며줌\n",
    "        original()\n",
    "        print('함수 끝') # 꾸며줌\n",
    "    return wrapper\n",
    "\n",
    "@add_print_to\n",
    "def print_hello():\n",
    "    print('Hi')\n",
    "\n",
    "print_hello()"
   ]
  },
  {
   "cell_type": "markdown",
   "id": "3631c593-c1ab-4441-b6de-770ea662eb57",
   "metadata": {},
   "source": [
    "# 클래스 메소드"
   ]
  },
  {
   "cell_type": "code",
   "execution_count": 75,
   "id": "4c9b9d2c-46c2-4987-b1e2-f47d043be1ef",
   "metadata": {
    "execution": {
     "iopub.execute_input": "2022-02-10T10:49:07.371067Z",
     "iopub.status.busy": "2022-02-10T10:49:07.370899Z",
     "iopub.status.idle": "2022-02-10T10:49:07.377133Z",
     "shell.execute_reply": "2022-02-10T10:49:07.376159Z",
     "shell.execute_reply.started": "2022-02-10T10:49:07.371049Z"
    },
    "tags": []
   },
   "outputs": [],
   "source": [
    "class User:\n",
    "    count = 0\n",
    "    \n",
    "    def __init__(self, name, email, password): # magic method / special method / 특수 메소드 특수 상황에서 자동으로 실행되는 메소드\n",
    "        self.name = name\n",
    "        self.email = email\n",
    "        self.password = password\n",
    "        \n",
    "        User.count += 1 # 인스턴스 생성될 때마다 늘어남\n",
    "        \n",
    "    def say_hello(self):\n",
    "        # 인사메시지 출력메소드\n",
    "        print(\"안녕하세요! 나는 {}입니다.\".format(self.name)) # name이라는 인스턴스 변수를 이용함\n",
    "        \n",
    "    def __str__(self):\n",
    "        return \"사용자: {}, 이메일: {}, 비밀번호: ******\".format(self.name, self.email)\n",
    "    \n",
    "    @classmethod\n",
    "    def number_of_users(cls):\n",
    "        print(\"총 유저수는 {}입니다.\".format(cls.count))"
   ]
  },
  {
   "cell_type": "code",
   "execution_count": 76,
   "id": "e454a7c9-d8ac-4a48-aaec-8c7bda598f58",
   "metadata": {
    "execution": {
     "iopub.execute_input": "2022-02-10T10:49:07.533886Z",
     "iopub.status.busy": "2022-02-10T10:49:07.533301Z",
     "iopub.status.idle": "2022-02-10T10:49:07.880455Z",
     "shell.execute_reply": "2022-02-10T10:49:07.876028Z",
     "shell.execute_reply.started": "2022-02-10T10:49:07.533863Z"
    },
    "tags": []
   },
   "outputs": [
    {
     "name": "stdout",
     "output_type": "stream",
     "text": [
      "총 유저수는 0입니다.\n"
     ]
    }
   ],
   "source": [
    "User.number_of_users()"
   ]
  },
  {
   "cell_type": "code",
   "execution_count": 70,
   "id": "bdcde6ec-a488-416c-bcf8-2bbec1e9cebe",
   "metadata": {
    "execution": {
     "iopub.execute_input": "2022-02-10T10:42:44.731967Z",
     "iopub.status.busy": "2022-02-10T10:42:44.731356Z",
     "iopub.status.idle": "2022-02-10T10:42:44.735518Z",
     "shell.execute_reply": "2022-02-10T10:42:44.734787Z",
     "shell.execute_reply.started": "2022-02-10T10:42:44.731945Z"
    },
    "tags": []
   },
   "outputs": [
    {
     "name": "stdout",
     "output_type": "stream",
     "text": [
      "총 유저수는 2입니다.\n"
     ]
    }
   ],
   "source": [
    "user1.number_of_users()"
   ]
  },
  {
   "cell_type": "code",
   "execution_count": 71,
   "id": "8beba8d7-7920-4c84-8c73-afb2ded6dc25",
   "metadata": {
    "execution": {
     "iopub.execute_input": "2022-02-10T10:45:11.530904Z",
     "iopub.status.busy": "2022-02-10T10:45:11.530643Z",
     "iopub.status.idle": "2022-02-10T10:45:11.537231Z",
     "shell.execute_reply": "2022-02-10T10:45:11.536482Z",
     "shell.execute_reply.started": "2022-02-10T10:45:11.530882Z"
    },
    "tags": []
   },
   "outputs": [],
   "source": [
    "class User:\n",
    "    count = 0\n",
    "    \n",
    "    def __init__(self, name, email, password):\n",
    "        self.name = name\n",
    "        self.email = email\n",
    "        self.password = password\n",
    "        \n",
    "        User.count += 1\n",
    "        \n",
    "    def say_hello(self):\n",
    "        print(\"안녕하세요! 나는 {}입니다.\".format(self.name))\n",
    "        \n",
    "    def __str__(self):\n",
    "        return \"사용자: {}, 이메일: {}, 비밀번호: ******\".format(self.name, self.email)\n",
    "    \n",
    "    def number_of_users(self):\n",
    "        print(\"총 유저수는 {}입니다.\".format(User.count)) # 클래스 메소드로 작성해야 하는 이유"
   ]
  },
  {
   "cell_type": "code",
   "execution_count": 72,
   "id": "f67c6d7a-09a2-4d57-837a-a08e4731e10b",
   "metadata": {
    "execution": {
     "iopub.execute_input": "2022-02-10T10:45:18.356845Z",
     "iopub.status.busy": "2022-02-10T10:45:18.356574Z",
     "iopub.status.idle": "2022-02-10T10:45:18.360312Z",
     "shell.execute_reply": "2022-02-10T10:45:18.359526Z",
     "shell.execute_reply.started": "2022-02-10T10:45:18.356824Z"
    },
    "tags": []
   },
   "outputs": [],
   "source": [
    "user1 = User(\"Young\", \"young@codeit.kr\", \"123456\")\n",
    "user2 = User(\"Yoonsoo\", \"yoonsoo@codeit.kr\", \"abcdef\")"
   ]
  },
  {
   "cell_type": "code",
   "execution_count": 73,
   "id": "4c7b0c74-70ac-4c0f-a64d-4700c9f168f8",
   "metadata": {
    "execution": {
     "iopub.execute_input": "2022-02-10T10:45:22.819030Z",
     "iopub.status.busy": "2022-02-10T10:45:22.818452Z",
     "iopub.status.idle": "2022-02-10T10:45:22.822655Z",
     "shell.execute_reply": "2022-02-10T10:45:22.821868Z",
     "shell.execute_reply.started": "2022-02-10T10:45:22.819009Z"
    },
    "tags": []
   },
   "outputs": [
    {
     "name": "stdout",
     "output_type": "stream",
     "text": [
      "총 유저수는 2입니다.\n"
     ]
    }
   ],
   "source": [
    "User.number_of_users(user1)"
   ]
  },
  {
   "cell_type": "code",
   "execution_count": 74,
   "id": "33442a77-12ed-41f4-90a7-90eac41adc19",
   "metadata": {
    "execution": {
     "iopub.execute_input": "2022-02-10T10:45:26.460374Z",
     "iopub.status.busy": "2022-02-10T10:45:26.459679Z",
     "iopub.status.idle": "2022-02-10T10:45:26.464168Z",
     "shell.execute_reply": "2022-02-10T10:45:26.463445Z",
     "shell.execute_reply.started": "2022-02-10T10:45:26.460350Z"
    },
    "tags": []
   },
   "outputs": [
    {
     "name": "stdout",
     "output_type": "stream",
     "text": [
      "총 유저수는 2입니다.\n"
     ]
    }
   ],
   "source": [
    "user1.number_of_users()"
   ]
  },
  {
   "cell_type": "markdown",
   "id": "4eccc464-b669-41ab-a0a8-8776b245f8c5",
   "metadata": {},
   "source": [
    "# 정적메소드"
   ]
  },
  {
   "cell_type": "code",
   "execution_count": 77,
   "id": "4109efff-7a8a-4177-9105-4dbd226cc382",
   "metadata": {
    "execution": {
     "iopub.execute_input": "2022-02-10T11:33:42.614311Z",
     "iopub.status.busy": "2022-02-10T11:33:42.613849Z",
     "iopub.status.idle": "2022-02-10T11:33:42.619110Z",
     "shell.execute_reply": "2022-02-10T11:33:42.618441Z",
     "shell.execute_reply.started": "2022-02-10T11:33:42.614288Z"
    },
    "tags": []
   },
   "outputs": [],
   "source": [
    "class User:\n",
    "    count = 0\n",
    "    \n",
    "    def __init__(self, name, email, pw):\n",
    "        self.name = name\n",
    "        self.email = email\n",
    "        self.pw = pw\n",
    "    \n",
    "        User.count += 1\n",
    "    \n",
    "    def say_hello(self):\n",
    "        print(\"안녕하세요! 저는 {}입니다!\".format(self.name))\n",
    "    \n",
    "    def __str__(self):\n",
    "        return \"사용자: {}, 이메일: {}, 비밀번호: ******\".format(self.name, self.email)\n",
    "    \n",
    "    @classmethod\n",
    "    def number_of_users(cls):\n",
    "        print(\"총 유저 수는: {}입니다\".format(cls.count))\n",
    "    \n",
    "    @staticmethod\n",
    "    def is_valid_email(email_address):\n",
    "        return \"@\" in email_address"
   ]
  },
  {
   "cell_type": "code",
   "execution_count": 80,
   "id": "f56488e4-3d79-4073-a155-6b4eea83c6b2",
   "metadata": {
    "execution": {
     "iopub.execute_input": "2022-02-10T11:37:53.903033Z",
     "iopub.status.busy": "2022-02-10T11:37:53.902200Z",
     "iopub.status.idle": "2022-02-10T11:37:53.907788Z",
     "shell.execute_reply": "2022-02-10T11:37:53.907014Z",
     "shell.execute_reply.started": "2022-02-10T11:37:53.903013Z"
    },
    "tags": []
   },
   "outputs": [
    {
     "name": "stdout",
     "output_type": "stream",
     "text": [
      "False\n",
      "True\n",
      "False\n",
      "True\n"
     ]
    }
   ],
   "source": [
    "print(User.is_valid_email(\"taehosung\"))\n",
    "print(User.is_valid_email(\"taehosung@codeit.kr\"))\n",
    "\n",
    "user1 = User(\"Young\", \"young@codeit.kr\", \"123456\")\n",
    "\n",
    "print(user1.is_valid_email(\"taehosung\"))\n",
    "print(user1.is_valid_email(\"taehosung@codeit.kr\"))"
   ]
  },
  {
   "cell_type": "markdown",
   "id": "859fa140-23db-4a82-99e6-a0cd5bcee372",
   "metadata": {},
   "source": [
    "# 미리 알고 가야 할 것들"
   ]
  },
  {
   "cell_type": "code",
   "execution_count": 82,
   "id": "67137fb4-9157-4995-902d-3590da0e8aee",
   "metadata": {
    "execution": {
     "iopub.execute_input": "2022-02-10T11:43:44.628034Z",
     "iopub.status.busy": "2022-02-10T11:43:44.627549Z",
     "iopub.status.idle": "2022-02-10T11:43:44.632297Z",
     "shell.execute_reply": "2022-02-10T11:43:44.631564Z",
     "shell.execute_reply.started": "2022-02-10T11:43:44.628014Z"
    },
    "tags": []
   },
   "outputs": [
    {
     "data": {
      "text/plain": [
       "__main__.User"
      ]
     },
     "execution_count": 82,
     "metadata": {},
     "output_type": "execute_result"
    }
   ],
   "source": [
    "type(user1)"
   ]
  },
  {
   "cell_type": "code",
   "execution_count": 83,
   "id": "5618b875-ac09-4c3b-8278-d0ca3cdf54be",
   "metadata": {
    "execution": {
     "iopub.execute_input": "2022-02-10T11:44:22.333355Z",
     "iopub.status.busy": "2022-02-10T11:44:22.333134Z",
     "iopub.status.idle": "2022-02-10T11:44:22.338458Z",
     "shell.execute_reply": "2022-02-10T11:44:22.337734Z",
     "shell.execute_reply.started": "2022-02-10T11:44:22.333321Z"
    },
    "tags": []
   },
   "outputs": [
    {
     "name": "stdout",
     "output_type": "stream",
     "text": [
      "<class 'int'>\n"
     ]
    }
   ],
   "source": [
    "print(type(2))"
   ]
  },
  {
   "cell_type": "code",
   "execution_count": 84,
   "id": "89280955-8fce-4b73-b9a8-c117f1187f7e",
   "metadata": {
    "execution": {
     "iopub.execute_input": "2022-02-10T11:44:33.109722Z",
     "iopub.status.busy": "2022-02-10T11:44:33.109503Z",
     "iopub.status.idle": "2022-02-10T11:44:33.114220Z",
     "shell.execute_reply": "2022-02-10T11:44:33.113532Z",
     "shell.execute_reply.started": "2022-02-10T11:44:33.109703Z"
    },
    "tags": []
   },
   "outputs": [
    {
     "name": "stdout",
     "output_type": "stream",
     "text": [
      "<class 'str'>\n"
     ]
    }
   ],
   "source": [
    "print(type(\"string\"))"
   ]
  },
  {
   "cell_type": "code",
   "execution_count": 88,
   "id": "3c940bd8-cf27-4a8f-b5a0-b9da9a82ec52",
   "metadata": {
    "execution": {
     "iopub.execute_input": "2022-02-10T11:45:05.913663Z",
     "iopub.status.busy": "2022-02-10T11:45:05.913493Z",
     "iopub.status.idle": "2022-02-10T11:45:05.917676Z",
     "shell.execute_reply": "2022-02-10T11:45:05.916862Z",
     "shell.execute_reply.started": "2022-02-10T11:45:05.913646Z"
    },
    "tags": []
   },
   "outputs": [
    {
     "name": "stdout",
     "output_type": "stream",
     "text": [
      "<class 'list'>\n"
     ]
    }
   ],
   "source": [
    "print(type([]))"
   ]
  },
  {
   "cell_type": "code",
   "execution_count": 87,
   "id": "bcd2f09b-5efb-49bc-ade2-eb4611ed767f",
   "metadata": {
    "execution": {
     "iopub.execute_input": "2022-02-10T11:45:03.934053Z",
     "iopub.status.busy": "2022-02-10T11:45:03.933827Z",
     "iopub.status.idle": "2022-02-10T11:45:03.937773Z",
     "shell.execute_reply": "2022-02-10T11:45:03.937057Z",
     "shell.execute_reply.started": "2022-02-10T11:45:03.934034Z"
    },
    "tags": []
   },
   "outputs": [
    {
     "name": "stdout",
     "output_type": "stream",
     "text": [
      "<class 'tuple'>\n"
     ]
    }
   ],
   "source": [
    "print(type(()))"
   ]
  },
  {
   "cell_type": "code",
   "execution_count": 89,
   "id": "ffab86e3-e8b9-4276-b4a1-19f836a4980e",
   "metadata": {
    "execution": {
     "iopub.execute_input": "2022-02-10T11:45:10.474633Z",
     "iopub.status.busy": "2022-02-10T11:45:10.474255Z",
     "iopub.status.idle": "2022-02-10T11:45:10.478851Z",
     "shell.execute_reply": "2022-02-10T11:45:10.478090Z",
     "shell.execute_reply.started": "2022-02-10T11:45:10.474610Z"
    },
    "tags": []
   },
   "outputs": [
    {
     "name": "stdout",
     "output_type": "stream",
     "text": [
      "<class 'dict'>\n"
     ]
    }
   ],
   "source": [
    "print(type({}))"
   ]
  },
  {
   "cell_type": "code",
   "execution_count": 92,
   "id": "3eaf6688-38e6-4687-8547-8c20a55602a7",
   "metadata": {
    "execution": {
     "iopub.execute_input": "2022-02-10T11:45:30.512489Z",
     "iopub.status.busy": "2022-02-10T11:45:30.511976Z",
     "iopub.status.idle": "2022-02-10T11:45:30.516204Z",
     "shell.execute_reply": "2022-02-10T11:45:30.515495Z",
     "shell.execute_reply.started": "2022-02-10T11:45:30.512467Z"
    },
    "tags": []
   },
   "outputs": [
    {
     "name": "stdout",
     "output_type": "stream",
     "text": [
      "<class 'function'>\n"
     ]
    }
   ],
   "source": [
    "print(type(print_hello))"
   ]
  },
  {
   "cell_type": "code",
   "execution_count": 95,
   "id": "b0a378df-1b8b-4624-af1d-4d50c6d3e0d0",
   "metadata": {
    "execution": {
     "iopub.execute_input": "2022-02-10T11:46:42.570414Z",
     "iopub.status.busy": "2022-02-10T11:46:42.570229Z",
     "iopub.status.idle": "2022-02-10T11:46:42.574302Z",
     "shell.execute_reply": "2022-02-10T11:46:42.573237Z",
     "shell.execute_reply.started": "2022-02-10T11:46:42.570383Z"
    },
    "tags": []
   },
   "outputs": [],
   "source": [
    "int_list = []"
   ]
  },
  {
   "cell_type": "code",
   "execution_count": 96,
   "id": "7f51bebd-e086-492f-bed9-4d79a850abdd",
   "metadata": {
    "execution": {
     "iopub.execute_input": "2022-02-10T11:46:42.704155Z",
     "iopub.status.busy": "2022-02-10T11:46:42.703979Z",
     "iopub.status.idle": "2022-02-10T11:46:42.734197Z",
     "shell.execute_reply": "2022-02-10T11:46:42.733407Z",
     "shell.execute_reply.started": "2022-02-10T11:46:42.704136Z"
    },
    "tags": []
   },
   "outputs": [],
   "source": [
    "int_list.append(1)\n",
    "int_list.append(3)\n",
    "int_list.append(7)"
   ]
  },
  {
   "cell_type": "code",
   "execution_count": 97,
   "id": "2d26ccd4-0f94-4ca9-b316-d049b7e8af08",
   "metadata": {
    "execution": {
     "iopub.execute_input": "2022-02-10T11:46:46.808346Z",
     "iopub.status.busy": "2022-02-10T11:46:46.808099Z",
     "iopub.status.idle": "2022-02-10T11:46:46.812064Z",
     "shell.execute_reply": "2022-02-10T11:46:46.811386Z",
     "shell.execute_reply.started": "2022-02-10T11:46:46.808326Z"
    },
    "tags": []
   },
   "outputs": [
    {
     "name": "stdout",
     "output_type": "stream",
     "text": [
      "[1, 3, 7]\n"
     ]
    }
   ],
   "source": [
    "print(int_list)"
   ]
  },
  {
   "cell_type": "markdown",
   "id": "fc8e369c-9be1-4114-a152-46d00ae69036",
   "metadata": {},
   "source": [
    "### 가변 v.s. 불변"
   ]
  },
  {
   "cell_type": "code",
   "execution_count": 98,
   "id": "c97e606d-8e23-4f1c-a5a6-47aafb176be6",
   "metadata": {
    "execution": {
     "iopub.execute_input": "2022-02-10T11:49:55.044660Z",
     "iopub.status.busy": "2022-02-10T11:49:55.043784Z",
     "iopub.status.idle": "2022-02-10T11:49:55.048330Z",
     "shell.execute_reply": "2022-02-10T11:49:55.047602Z",
     "shell.execute_reply.started": "2022-02-10T11:49:55.044614Z"
    },
    "tags": []
   },
   "outputs": [],
   "source": [
    "mutable_obj = [1,2,3]\n",
    "immutable_obj = (1,2,3)"
   ]
  },
  {
   "cell_type": "code",
   "execution_count": 99,
   "id": "94a42daa-c410-4ef1-9466-13c12b8b1205",
   "metadata": {
    "execution": {
     "iopub.execute_input": "2022-02-10T11:50:05.554414Z",
     "iopub.status.busy": "2022-02-10T11:50:05.554013Z",
     "iopub.status.idle": "2022-02-10T11:50:05.558319Z",
     "shell.execute_reply": "2022-02-10T11:50:05.557539Z",
     "shell.execute_reply.started": "2022-02-10T11:50:05.554393Z"
    },
    "tags": []
   },
   "outputs": [
    {
     "name": "stdout",
     "output_type": "stream",
     "text": [
      "[4, 2, 3]\n"
     ]
    }
   ],
   "source": [
    "mutable_obj[0] = 4\n",
    "print(mutable_obj)"
   ]
  },
  {
   "cell_type": "code",
   "execution_count": 100,
   "id": "0a3c87db-5255-4009-a341-f864f96f94b8",
   "metadata": {
    "execution": {
     "iopub.execute_input": "2022-02-10T11:50:13.792156Z",
     "iopub.status.busy": "2022-02-10T11:50:13.791961Z",
     "iopub.status.idle": "2022-02-10T11:50:13.801274Z",
     "shell.execute_reply": "2022-02-10T11:50:13.800489Z",
     "shell.execute_reply.started": "2022-02-10T11:50:13.792137Z"
    },
    "tags": []
   },
   "outputs": [
    {
     "ename": "TypeError",
     "evalue": "'tuple' object does not support item assignment",
     "output_type": "error",
     "traceback": [
      "\u001b[0;31m---------------------------------------------------------------------------\u001b[0m",
      "\u001b[0;31mTypeError\u001b[0m                                 Traceback (most recent call last)",
      "\u001b[0;32m/tmp/ipykernel_91/3379129375.py\u001b[0m in \u001b[0;36m<module>\u001b[0;34m\u001b[0m\n\u001b[0;32m----> 1\u001b[0;31m \u001b[0mimmutable_obj\u001b[0m\u001b[0;34m[\u001b[0m\u001b[0;36m0\u001b[0m\u001b[0;34m]\u001b[0m \u001b[0;34m=\u001b[0m \u001b[0;36m4\u001b[0m\u001b[0;34m\u001b[0m\u001b[0;34m\u001b[0m\u001b[0m\n\u001b[0m\u001b[1;32m      2\u001b[0m \u001b[0mprint\u001b[0m\u001b[0;34m(\u001b[0m\u001b[0mimmutable_obj\u001b[0m\u001b[0;34m)\u001b[0m\u001b[0;34m\u001b[0m\u001b[0;34m\u001b[0m\u001b[0m\n",
      "\u001b[0;31mTypeError\u001b[0m: 'tuple' object does not support item assignment"
     ]
    }
   ],
   "source": [
    "immutable_obj[0] = 4\n",
    "print(immutable_obj)"
   ]
  },
  {
   "cell_type": "code",
   "execution_count": 102,
   "id": "2213c4b5-147a-46ea-bfb9-b0cf7995ff08",
   "metadata": {
    "execution": {
     "iopub.execute_input": "2022-02-10T11:52:13.661334Z",
     "iopub.status.busy": "2022-02-10T11:52:13.660873Z",
     "iopub.status.idle": "2022-02-10T11:52:13.665579Z",
     "shell.execute_reply": "2022-02-10T11:52:13.664695Z",
     "shell.execute_reply.started": "2022-02-10T11:52:13.661313Z"
    },
    "tags": []
   },
   "outputs": [
    {
     "name": "stdout",
     "output_type": "stream",
     "text": [
      "(1, 5)\n"
     ]
    }
   ],
   "source": [
    "tuple_x = (6, 4)\n",
    "tuple_x = (1, 5)\n",
    "\n",
    "print(tuple_x)"
   ]
  },
  {
   "cell_type": "code",
   "execution_count": 103,
   "id": "d2c8264e-4466-45a9-b61b-7a51c07e4707",
   "metadata": {
    "execution": {
     "iopub.execute_input": "2022-02-10T11:53:45.284997Z",
     "iopub.status.busy": "2022-02-10T11:53:45.284244Z",
     "iopub.status.idle": "2022-02-10T11:53:45.289278Z",
     "shell.execute_reply": "2022-02-10T11:53:45.288610Z",
     "shell.execute_reply.started": "2022-02-10T11:53:45.284968Z"
    },
    "tags": []
   },
   "outputs": [
    {
     "name": "stdout",
     "output_type": "stream",
     "text": [
      "[4, 1, 7]\n"
     ]
    }
   ],
   "source": [
    "list_x = []\n",
    "list_x.append(4)\n",
    "list_x.append(1)\n",
    "list_x.append(7)\n",
    "\n",
    "print(list_x)"
   ]
  },
  {
   "cell_type": "markdown",
   "id": "ba81e231-95dc-40df-8fd6-b201b753b579",
   "metadata": {},
   "source": [
    "### `zfile` 메소드"
   ]
  },
  {
   "cell_type": "code",
   "execution_count": 104,
   "id": "2c76448f-c873-4ec8-b6c5-f7e1d14621b4",
   "metadata": {
    "execution": {
     "iopub.execute_input": "2022-02-10T12:02:14.079499Z",
     "iopub.status.busy": "2022-02-10T12:02:14.078857Z",
     "iopub.status.idle": "2022-02-10T12:02:14.083273Z",
     "shell.execute_reply": "2022-02-10T12:02:14.082493Z",
     "shell.execute_reply.started": "2022-02-10T12:02:14.079475Z"
    },
    "tags": []
   },
   "outputs": [
    {
     "name": "stdout",
     "output_type": "stream",
     "text": [
      "000001\n"
     ]
    }
   ],
   "source": [
    "print(\"1\".zfill(6))"
   ]
  },
  {
   "cell_type": "markdown",
   "id": "655754e9-beed-4168-81a4-d37cac44d5b6",
   "metadata": {},
   "source": [
    "`randint` 함수와 `uniform` 함수"
   ]
  },
  {
   "cell_type": "code",
   "execution_count": 106,
   "id": "b9f2ff46-efc5-4b91-96bd-96c6a8416dee",
   "metadata": {
    "execution": {
     "iopub.execute_input": "2022-02-10T12:05:16.391009Z",
     "iopub.status.busy": "2022-02-10T12:05:16.390211Z",
     "iopub.status.idle": "2022-02-10T12:05:16.395414Z",
     "shell.execute_reply": "2022-02-10T12:05:16.394564Z",
     "shell.execute_reply.started": "2022-02-10T12:05:16.390987Z"
    }
   },
   "outputs": [
    {
     "name": "stdout",
     "output_type": "stream",
     "text": [
      "6\n"
     ]
    }
   ],
   "source": [
    "from random import randint\n",
    "# 1 <= N <= 20를 만족하는 랜덤한 정수(난수) N을 리턴한다.\n",
    "x = randint(1, 20)\n",
    "print(x)"
   ]
  },
  {
   "cell_type": "code",
   "execution_count": 107,
   "id": "2428bf58-34ab-4e88-bcc4-9fdbb349797c",
   "metadata": {
    "execution": {
     "iopub.execute_input": "2022-02-10T12:05:16.732218Z",
     "iopub.status.busy": "2022-02-10T12:05:16.732027Z",
     "iopub.status.idle": "2022-02-10T12:05:16.736779Z",
     "shell.execute_reply": "2022-02-10T12:05:16.735830Z",
     "shell.execute_reply.started": "2022-02-10T12:05:16.732176Z"
    },
    "tags": []
   },
   "outputs": [
    {
     "name": "stdout",
     "output_type": "stream",
     "text": [
      "0.5104188180418086\n"
     ]
    }
   ],
   "source": [
    "from random import uniform\n",
    "# 0 <= N <= 1을 만족하는 랜덤한 소수(난수) N을 리턴한다.\n",
    "x = uniform(0, 1)\n",
    "print(x)"
   ]
  },
  {
   "cell_type": "markdown",
   "id": "188bd4b3-7e67-41ca-b9bf-bcb96f49ae8f",
   "metadata": {},
   "source": [
    "# 연습"
   ]
  },
  {
   "cell_type": "markdown",
   "id": "dc7789cd-b9e3-444a-bab3-1ca55ef6de86",
   "metadata": {},
   "source": [
    "### 메뉴"
   ]
  },
  {
   "cell_type": "code",
   "execution_count": 108,
   "id": "41d9a34c-5677-4718-96fb-424d9e45b641",
   "metadata": {
    "execution": {
     "iopub.execute_input": "2022-02-10T12:10:54.165145Z",
     "iopub.status.busy": "2022-02-10T12:10:54.164146Z",
     "iopub.status.idle": "2022-02-10T12:10:54.170675Z",
     "shell.execute_reply": "2022-02-10T12:10:54.169852Z",
     "shell.execute_reply.started": "2022-02-10T12:10:54.165123Z"
    },
    "tags": []
   },
   "outputs": [
    {
     "name": "stdout",
     "output_type": "stream",
     "text": [
      "햄버거 가격: 4000\n",
      "콜라 가격: 1500\n",
      "후렌치 후라이 가격: 1500\n"
     ]
    }
   ],
   "source": [
    "class MenuItem:\n",
    "    # 음식 메뉴를 나타내는 클래스\n",
    "    def __init__(self, name, price):\n",
    "        self.name = name\n",
    "        self.price = price\n",
    "\n",
    "    def __str__(self):\n",
    "        return \"{} 가격: {}\".format(self.name, self.price)\n",
    "\n",
    "# 메뉴 인스턴스 생성\n",
    "burger = MenuItem(\"햄버거\", 4000)\n",
    "coke = MenuItem(\"콜라\", 1500)\n",
    "fries = MenuItem(\"후렌치 후라이\", 1500)\n",
    "\n",
    "# 메뉴 인스턴스 출력\n",
    "print(burger)\n",
    "print(coke)\n",
    "print(fries)"
   ]
  },
  {
   "cell_type": "markdown",
   "id": "56f02d1d-1f32-4246-b744-81f1fffc71da",
   "metadata": {},
   "source": [
    "### 계산기"
   ]
  },
  {
   "cell_type": "code",
   "execution_count": 109,
   "id": "423241ff-3105-453d-836f-cdf950fe354e",
   "metadata": {
    "execution": {
     "iopub.execute_input": "2022-02-10T12:10:56.080257Z",
     "iopub.status.busy": "2022-02-10T12:10:56.079805Z",
     "iopub.status.idle": "2022-02-10T12:10:56.087512Z",
     "shell.execute_reply": "2022-02-10T12:10:56.086689Z",
     "shell.execute_reply.started": "2022-02-10T12:10:56.080233Z"
    },
    "tags": []
   },
   "outputs": [
    {
     "name": "stdout",
     "output_type": "stream",
     "text": [
      "9\n",
      "-1\n",
      "20\n",
      "0.8\n"
     ]
    }
   ],
   "source": [
    "class SimpleCalculator:\n",
    "    # 계산기 클래스\n",
    "    @staticmethod\n",
    "    def add(first_number, second_number):\n",
    "        return first_number + second_number\n",
    "    \n",
    "    @staticmethod\n",
    "    def subtract(first_number, second_number):\n",
    "        return first_number - second_number\n",
    "    \n",
    "    @staticmethod\n",
    "    def multiply(first_number, second_number):\n",
    "        return first_number * second_number\n",
    "    \n",
    "    @staticmethod\n",
    "    def divide(first_number, second_number):\n",
    "        return first_number / second_number\n",
    "    \n",
    "    \n",
    "# 계산기 인스턴스 생성\n",
    "calculator = SimpleCalculator()\n",
    "    \n",
    "# 계산기 연산 호출\n",
    "print(calculator.add(4, 5))\n",
    "print(calculator.subtract(4, 5))\n",
    "print(calculator.multiply(4, 5))\n",
    "print(calculator.divide(4, 5))\n"
   ]
  },
  {
   "cell_type": "markdown",
   "id": "f0b566f1-1ca9-43ce-83fb-0ee0887c08f0",
   "metadata": {},
   "source": [
    "### 게임 캐릭터 만들기"
   ]
  },
  {
   "cell_type": "code",
   "execution_count": 115,
   "id": "6c49d385-efaa-4e65-bb09-9e368bd0be19",
   "metadata": {
    "execution": {
     "iopub.execute_input": "2022-02-10T12:23:33.196243Z",
     "iopub.status.busy": "2022-02-10T12:23:33.195767Z",
     "iopub.status.idle": "2022-02-10T12:23:33.204277Z",
     "shell.execute_reply": "2022-02-10T12:23:33.203549Z",
     "shell.execute_reply.started": "2022-02-10T12:23:33.196208Z"
    },
    "tags": []
   },
   "outputs": [
    {
     "name": "stdout",
     "output_type": "stream",
     "text": [
      "Ww영훈전사wW님은 이미 죽었습니다.\n",
      "Ww영훈전사wW님의 hp는 0만큼 남았습니다.\n",
      "Xx지웅최고xX님의 hp는 70만큼 남았습니다.\n"
     ]
    }
   ],
   "source": [
    "class GameCharacter:\n",
    "    # 게임 캐릭터 클래스\n",
    "    def __init__(self, name, hp, power):\n",
    "        # 게임 캐릭터는 속성으로 이름, hp, 공격력을 갖는다\n",
    "        self.name = name\n",
    "        self.hp = hp\n",
    "        self.power = power\n",
    "\n",
    "    def is_alive(self):\n",
    "        # 게임 캐릭터가 살아있는지(체력이 0이 넘는지) 확인하는 메소드\n",
    "        return self.hp > 0\n",
    "\n",
    "    def get_attacked(self, damage):\n",
    "        \"\"\"\n",
    "        게임 캐릭터가 살아있으면 공격한 캐릭터의 공격력만큼 체력을 깎는 메소드\n",
    "        조건:    \n",
    "            1. 이미 캐릭터가 죽었으면 죽었다는 메시지를 출력한다\n",
    "            2. 남은 체력보다 공격력이 더 크면 체력은 0이 된다.\n",
    "        \"\"\"\n",
    "        if self.is_alive():\n",
    "            self.hp = 0 if self.hp < damage else self.hp - damage\n",
    "        else:\n",
    "            print(\"{}님은 이미 죽었습니다.\".format(self.name))\n",
    "\n",
    "    def attack(self, other_character):\n",
    "        # 게임 캐릭터가 살아있으면 파라미터로 받은 다른 캐릭터의 체력을 자신의 공격력만큼 깎는다.\n",
    "        if self.is_alive():\n",
    "            other_character.get_attacked(self.power)\n",
    "        \n",
    "    def __str__(self):\n",
    "        # 게임 캐릭터의 의미있는 정보를 포함한 문자열을 리턴한다.\n",
    "        return \"{}님의 hp는 {}만큼 남았습니다.\".format(self.name, self.hp)\n",
    "\n",
    "# 게임 캐릭터 인스턴스 생성                        \n",
    "character_1 = GameCharacter(\"Ww영훈전사wW\", 200, 30)\n",
    "character_2 = GameCharacter(\"Xx지웅최고xX\", 100, 50)\n",
    "\n",
    "# 게임 캐릭터 인스턴스들 서로 공격\n",
    "character_1.attack(character_2)\n",
    "character_2.attack(character_1)\n",
    "character_2.attack(character_1)\n",
    "character_2.attack(character_1)\n",
    "character_2.attack(character_1)\n",
    "character_2.attack(character_1)\n",
    "\n",
    "# 게임 캐릭터 인스턴스 출력\n",
    "print(character_1)\n",
    "print(character_2)"
   ]
  },
  {
   "cell_type": "markdown",
   "id": "0582af46-eaf8-4065-9c29-b4cbabffcc02",
   "metadata": {},
   "source": [
    "### 블로그 유저 만들기"
   ]
  },
  {
   "cell_type": "code",
   "execution_count": 116,
   "id": "e18fb318-6f4e-4ced-a885-f4d16a3c5d52",
   "metadata": {
    "execution": {
     "iopub.execute_input": "2022-02-10T12:33:29.673542Z",
     "iopub.status.busy": "2022-02-10T12:33:29.673191Z",
     "iopub.status.idle": "2022-02-10T12:33:29.680753Z",
     "shell.execute_reply": "2022-02-10T12:33:29.680056Z",
     "shell.execute_reply.started": "2022-02-10T12:33:29.673523Z"
    },
    "tags": []
   },
   "outputs": [
    {
     "name": "stdout",
     "output_type": "stream",
     "text": [
      "안녕하세요 성태호입니다\n",
      "\n",
      "작성 날짜: 2019년 8월 30일\n",
      "내용: \n",
      "오늘은 내 생일이였다.\n",
      "많은 사람들이 축하해줬다.\n",
      "행복했다.\n",
      "\n",
      "작성 날짜: 2019년 8월 31일\n",
      "내용: \n",
      "재밌는 코딩 교육 사이트를 찾았다.\n",
      "코드잇이란 곳인데 최고다.\n",
      "같이 공부하실 분들은 www.codeit.kr로 오세요!\n",
      "\n"
     ]
    }
   ],
   "source": [
    "class Post:\n",
    "    # 게시글 클래스\n",
    "    def __init__(self, date, content):\n",
    "        # 게시글은 속성으로 작성 날짜와 내용을 갖는다\n",
    "        self.date = date\n",
    "        self.content = content\n",
    "\n",
    "    def __str__(self):\n",
    "        # 게시글의 정보를 문자열로 리턴하는 메소드\n",
    "        return \"작성 날짜: {}\\n내용: {}\".format(self.date, self.content)\n",
    "    \n",
    "    \n",
    "class BlogUser:\n",
    "    # 블로그 유저 클래스\n",
    "    def __init__(self, name):\n",
    "        \"\"\"\n",
    "        블로그 유저는 속성으로 이름, 게시글들을 갖는다\n",
    "        posts는 빈 배열로 초기화한다\n",
    "        \"\"\"\n",
    "        self.name = name\n",
    "        self.posts = []\n",
    "\n",
    "    def add_post(self, date, content):\n",
    "        # 새로운 게시글 추가\n",
    "        self.posts.append(Post(date, content))\n",
    "\n",
    "    def show_all_posts(self):\n",
    "        # 블로그 유저의 모든 게시글 출력\n",
    "        for post in self.posts:\n",
    "            print(post)\n",
    "\n",
    "    def __str__(self):\n",
    "        # 간단한 인사와 이름을 문자열로 리턴\n",
    "        return \"안녕하세요 {}입니다\\n\".format(self.name)\n",
    "    \n",
    "    \n",
    "\n",
    "# 블로그 유저 인스턴스 생성\n",
    "blog_user_1 = BlogUser(\"성태호\")\n",
    "\n",
    "# 블로그 유저 인스턴스 출력(인사, 이름)\n",
    "print(blog_user_1)\n",
    "\n",
    "# 블로그 유저 게시글 2개 추가\n",
    "blog_user_1.add_post(\"2019년 8월 30일\", \"\"\"\n",
    "오늘은 내 생일이였다.\n",
    "많은 사람들이 축하해줬다.\n",
    "행복했다.\n",
    "\"\"\")\n",
    "\n",
    "blog_user_1.add_post(\"2019년 8월 31일\", \"\"\"\n",
    "재밌는 코딩 교육 사이트를 찾았다.\n",
    "코드잇이란 곳인데 최고다.\n",
    "같이 공부하실 분들은 www.codeit.kr로 오세요!\n",
    "\"\"\")\n",
    "\n",
    "# 블로그 유저의 모든 게시글 출력\n",
    "blog_user_1.show_all_posts()"
   ]
  },
  {
   "cell_type": "markdown",
   "id": "38b8ef7a-e1d8-469d-be4e-063eee5742bf",
   "metadata": {},
   "source": [
    "# 실전"
   ]
  },
  {
   "cell_type": "markdown",
   "id": "a79a349e-fb14-4945-a939-de1abbae13b1",
   "metadata": {},
   "source": [
    "### 시간나누기"
   ]
  },
  {
   "cell_type": "code",
   "execution_count": 117,
   "id": "dd16355b-77fd-48f5-a62e-9ea6439affeb",
   "metadata": {
    "execution": {
     "iopub.execute_input": "2022-02-10T12:43:31.022240Z",
     "iopub.status.busy": "2022-02-10T12:43:31.021034Z",
     "iopub.status.idle": "2022-02-10T12:43:31.033573Z",
     "shell.execute_reply": "2022-02-10T12:43:31.032720Z",
     "shell.execute_reply.started": "2022-02-10T12:43:31.022217Z"
    },
    "tags": []
   },
   "outputs": [
    {
     "name": "stdout",
     "output_type": "stream",
     "text": [
      "1부터 5까지 카운트하기\n",
      "01\n",
      "02\n",
      "03\n",
      "04\n",
      "05\n",
      "카운터 값 0으로 설정하기\n",
      "00\n",
      "카운터 값 27로 설정하기\n",
      "27\n",
      "카운터 값이 30이 되면 0으로 바뀝니다\n",
      "28\n",
      "29\n",
      "00\n",
      "01\n",
      "02\n"
     ]
    }
   ],
   "source": [
    "class Counter:\n",
    "    \"\"\"\n",
    "    시계 클래스의 시,분,초를 각각 나타내는데 사용될 카운터 클래스\n",
    "    \"\"\"\n",
    "\n",
    "    def __init__(self, limit):\n",
    "        \"\"\"\n",
    "        인스턴스 변수 limit(최댓값), value(현재까지 카운트한 값)을 설정한다.\n",
    "        인스턴스를 생성할 때 인스턴스 변수 limit만 파라미터로 받고, value는 초깃값 0으로 설정한다.\n",
    "        \"\"\"\n",
    "        self.limit = limit\n",
    "        self.value = 0\n",
    "\n",
    "    def set(self, new_value):\n",
    "        \"\"\"\n",
    "        파라미터가 0 이상, 최댓값 미만이면 value에 설정한다.\n",
    "        아닐 경우 value에 0을 설정한다.\n",
    "        self.value = new_value if 0 <= new_value < self.limit else 0\n",
    "        \"\"\"\n",
    "        \n",
    "        if new_value >= 0 and new_value < self.limit:\n",
    "            self.value = new_value\n",
    "        else:\n",
    "            self.value = 0\n",
    "\n",
    "\n",
    "    def tick(self):\n",
    "        \"\"\"\n",
    "        value를 1 증가시킨다.\n",
    "        카운터의 값 value가 limit에 도달하면 value를 0으로 바꾼 뒤 True를 리턴한다.\n",
    "        value가 limit보다 작은 경우 False를 리턴한다.\n",
    "        \"\"\"\n",
    "        self.value += 1\n",
    "        if self.value == self.limit:\n",
    "            self.value = 0\n",
    "        return self.value == 0\n",
    "        \n",
    "    def __str__(self):\n",
    "        \"\"\"\n",
    "        value를 최소 두 자릿수 이상의 문자열로 리턴한다. \n",
    "        일단 str 함수로 숫자형 변수인 value를 문자열로 변환하고 zfill 메소드를 호출한다. \n",
    "        \"\"\"\n",
    "        return str(self.value).zfill(2)\n",
    "    \n",
    "    \n",
    "# 최대 30까지 셀 수 있는 카운터 인스턴스 생성\n",
    "counter = Counter(30)\n",
    "\n",
    "# 0부터 5까지 센다\n",
    "print(\"1부터 5까지 카운트하기\")\n",
    "for i in range(5):\n",
    "    counter.tick()\n",
    "    print(counter)\n",
    "\n",
    "# 타이머 값을 0으로 바꾼다\n",
    "print(\"카운터 값 0으로 설정하기\")\n",
    "counter.set(0)\n",
    "print(counter)\n",
    "\n",
    "# 카운터 값 27로 설정\n",
    "print(\"카운터 값 27로 설정하기\")\n",
    "counter.set(27)\n",
    "print(counter)\n",
    "\n",
    "# 카운터 값이 30이 되면 0으로 바뀌는지 확인\n",
    "print(\"카운터 값이 30이 되면 0으로 바뀝니다\")\n",
    "for i in range(5):\n",
    "    counter.tick()\n",
    "    print(counter)       "
   ]
  },
  {
   "cell_type": "markdown",
   "id": "c7c220ec-70bf-4756-968e-4308957a0401",
   "metadata": {},
   "source": [
    "### 시계프로그램"
   ]
  },
  {
   "cell_type": "code",
   "execution_count": 118,
   "id": "449ee942-05c9-4de1-a587-1936b8c94c2c",
   "metadata": {
    "execution": {
     "iopub.execute_input": "2022-02-10T12:58:56.904122Z",
     "iopub.status.busy": "2022-02-10T12:58:56.903729Z",
     "iopub.status.idle": "2022-02-10T12:58:56.918083Z",
     "shell.execute_reply": "2022-02-10T12:58:56.917390Z",
     "shell.execute_reply.started": "2022-02-10T12:58:56.904072Z"
    },
    "tags": []
   },
   "outputs": [
    {
     "name": "stdout",
     "output_type": "stream",
     "text": [
      "시간을 1시 30분 48초로 설정합니다\n",
      "01:30:48\n",
      "13초가 흘렀습니다\n",
      "01:31:01\n",
      "시간을 2시 59분 58초로 설정합니다\n",
      "02:59:58\n",
      "5초가 흘렀습니다\n",
      "03:00:03\n",
      "시간을 23시 59분 57초로 설정합니다\n",
      "23:59:57\n",
      "5초가 흘렀습니다\n",
      "00:00:02\n"
     ]
    }
   ],
   "source": [
    "class Counter:\n",
    "    \"\"\"\n",
    "    시계 클래스의 시,분,초를 각각 나타내는데 사용될 카운터 클래스\n",
    "    \"\"\"\n",
    "\n",
    "    def __init__(self, limit):\n",
    "        \"\"\"\n",
    "        인스턴스 변수 limit(최댓값), value(현재까지 카운트한 값)을 설정한다.\n",
    "        인스턴스를 생성할 때 인스턴스 변수 limit만 파라미터로 받고, value는 초깃값 0으로 설정한다.\n",
    "        \"\"\"    \n",
    "        self.limit = limit\n",
    "        self.value = 0\n",
    "\n",
    "\n",
    "    def set(self, new_value):\n",
    "        \"\"\"\n",
    "        파라미터가 0 이상, 최댓값 미만이면 value에 설정한다.\n",
    "        아닐 경우 value에 0을 설정한다.\n",
    "        \"\"\"\n",
    "        if 0 <= new_value < self.limit:\n",
    "            self.value = new_value\n",
    "        else:\n",
    "            self.value = 0\n",
    "\n",
    "\n",
    "    def tick(self):\n",
    "        \"\"\"\n",
    "        value를 1 증가시킨다.\n",
    "        카운터의 값 value가 limit에 도달하면 value를 0으로 바꾼 뒤 True를 리턴한다.\n",
    "        value가 limit보다 작은 경우 False를 리턴한다.\n",
    "        \"\"\"\n",
    "        self.value += 1\n",
    "\n",
    "        if self.value == self.limit:\n",
    "            self.value = 0\n",
    "            return True\n",
    "        return False\n",
    "\n",
    "\n",
    "    def __str__(self):\n",
    "        \"\"\"\n",
    "        value를 최소 두 자릿수 이상의 문자열로 리턴한다. \n",
    "        일단 str 함수로 숫자형 변수인 value를 문자열로 변환하고 zfill을 호출한다. \n",
    "        \"\"\"\n",
    "        return str(self.value).zfill(2)\n",
    "    \n",
    "\n",
    "class Clock:\n",
    "    \"\"\"\n",
    "    시계 클래스\n",
    "    \"\"\"\n",
    "    HOURS = 24 # 시 최댓값\n",
    "    MINUTES = 60 # 분 최댓값\n",
    "    SECONDS = 60 # 초 최댓값\n",
    "\n",
    "    def __init__(self, hour, minute, second):\n",
    "        \"\"\"\n",
    "        각각 시, 분, 초를 나타내는 카운터 인스턴스 3개(hour, minute, second)를 정의한다.\n",
    "        현재 시간을 파라미터 hour시, minute분, second초로 지정한다.\n",
    "        \"\"\"\n",
    "        self.hour = Counter(Clock.HOURS)\n",
    "        self.minute = Counter(Clock.MINUTES)\n",
    "        self.second = Counter(Clock.SECONDS)\n",
    "        self.set(hour, minute, second)\n",
    "\n",
    "\n",
    "    def set(self, hour, minute, second):\n",
    "        \"\"\"현재 시간을 파라미터 hour시, minute분, second초로 설정한다.\"\"\"\n",
    "        self.hour.set(hour)\n",
    "        self.minute.set(minute)\n",
    "        self.second.set(second)\n",
    "\n",
    "\n",
    "    def tick(self):\n",
    "        \"\"\"\n",
    "        초 카운터의 값을 1만큼 증가시킨다.\n",
    "        초 카운터를 증가시킬 때, 분 또는 시가 바뀌어야하는 경우도 처리한다.\n",
    "        \"\"\"\n",
    "        if self.second.tick():\n",
    "            if self.minute.tick():\n",
    "                self.hour.tick()\n",
    "\n",
    "    def __str__(self):\n",
    "        \"\"\"\n",
    "        현재 시간을 시:분:초 형식으로 리턴한다. 시, 분, 초는 두 자리 형식이다.\n",
    "        예시: \"03:11:02\"\n",
    "        \"\"\"\n",
    "        return \"{}:{}:{}\".format(self.hour, self.minute, self.second)\n",
    "        \n",
    "\n",
    "# 초가 60이 넘을 때 분이 늘어나는지 확인하기\n",
    "print(\"시간을 1시 30분 48초로 설정합니다\")\n",
    "clock = Clock(1, 30, 48)\n",
    "print(clock)\n",
    "\n",
    "# 13초를 늘린다\n",
    "print(\"13초가 흘렀습니다\")\n",
    "for i in range(13):\n",
    "    clock.tick()\n",
    "print(clock)\n",
    "\n",
    "# 분이 60이 넘을 때 시간이 늘어나는지 확인\n",
    "print(\"시간을 2시 59분 58초로 설정합니다\")\n",
    "clock.set(2, 59, 58)\n",
    "print(clock)\n",
    "\n",
    "# 5초를 늘린다\n",
    "print(\"5초가 흘렀습니다\")\n",
    "for i in range(5):\n",
    "    clock.tick()\n",
    "print(clock)\n",
    "\n",
    "# 시간이 24가 넘을 때 00:00:00으로 넘어가는 지 확인\n",
    "print(\"시간을 23시 59분 57초로 설정합니다\")\n",
    "clock.set(23, 59, 57)\n",
    "print(clock)\n",
    "\n",
    "# 5초를 늘린다\n",
    "print(\"5초가 흘렀습니다\")\n",
    "for i in range(5):\n",
    "    clock.tick()\n",
    "print(clock)"
   ]
  }
 ],
 "metadata": {
  "kernelspec": {
   "display_name": "Python 3 (ipykernel)",
   "language": "python",
   "name": "python3"
  },
  "language_info": {
   "codemirror_mode": {
    "name": "ipython",
    "version": 3
   },
   "file_extension": ".py",
   "mimetype": "text/x-python",
   "name": "python",
   "nbconvert_exporter": "python",
   "pygments_lexer": "ipython3",
   "version": "3.9.7"
  }
 },
 "nbformat": 4,
 "nbformat_minor": 5
}
