{
 "cells": [
  {
   "cell_type": "code",
   "execution_count": 1,
   "id": "5628bb67-9e74-441e-84c8-b59d7efc964d",
   "metadata": {
    "execution": {
     "iopub.execute_input": "2022-02-03T03:47:20.488682Z",
     "iopub.status.busy": "2022-02-03T03:47:20.488141Z",
     "iopub.status.idle": "2022-02-03T03:47:20.496392Z",
     "shell.execute_reply": "2022-02-03T03:47:20.495658Z",
     "shell.execute_reply.started": "2022-02-03T03:47:20.488612Z"
    },
    "tags": []
   },
   "outputs": [],
   "source": [
    "class User:\n",
    "    pass"
   ]
  },
  {
   "cell_type": "code",
   "execution_count": 2,
   "id": "6a16b7cb-ac54-4beb-bf27-82027ed28bd7",
   "metadata": {
    "execution": {
     "iopub.execute_input": "2022-02-03T03:47:30.866093Z",
     "iopub.status.busy": "2022-02-03T03:47:30.865584Z",
     "iopub.status.idle": "2022-02-03T03:47:30.870577Z",
     "shell.execute_reply": "2022-02-03T03:47:30.869643Z",
     "shell.execute_reply.started": "2022-02-03T03:47:30.866070Z"
    },
    "tags": []
   },
   "outputs": [],
   "source": [
    "user1 = User()\n",
    "user2 = User()\n",
    "user3 = User()"
   ]
  },
  {
   "cell_type": "markdown",
   "id": "6466a0eb-6c4d-4dcf-b00a-29e17d1cf9ef",
   "metadata": {},
   "source": [
    "인스턴스 각자가 갖고있는 변수 : 인스턴스 변수"
   ]
  },
  {
   "cell_type": "code",
   "execution_count": 3,
   "id": "aaed3da4-6739-42f3-b88f-db0292168cc7",
   "metadata": {
    "execution": {
     "iopub.execute_input": "2022-02-03T03:48:37.413288Z",
     "iopub.status.busy": "2022-02-03T03:48:37.413050Z",
     "iopub.status.idle": "2022-02-03T03:48:37.417192Z",
     "shell.execute_reply": "2022-02-03T03:48:37.416291Z",
     "shell.execute_reply.started": "2022-02-03T03:48:37.413243Z"
    }
   },
   "outputs": [],
   "source": [
    "user1.name = \"임정민\"\n",
    "user1.email = \"임정\"\n",
    "user1.password = \"정민\""
   ]
  },
  {
   "cell_type": "code",
   "execution_count": 4,
   "id": "c25de186-bcbe-4539-86c5-d050faf6671a",
   "metadata": {
    "execution": {
     "iopub.execute_input": "2022-02-03T03:48:37.597868Z",
     "iopub.status.busy": "2022-02-03T03:48:37.597562Z",
     "iopub.status.idle": "2022-02-03T03:48:37.864644Z",
     "shell.execute_reply": "2022-02-03T03:48:37.861934Z",
     "shell.execute_reply.started": "2022-02-03T03:48:37.597834Z"
    }
   },
   "outputs": [],
   "source": [
    "user2.name = \"이\"\n",
    "user2.email = \"예\"\n",
    "user2.password = \"지\""
   ]
  },
  {
   "cell_type": "code",
   "execution_count": 5,
   "id": "36965716-b575-4b1c-afcd-b66d3e602016",
   "metadata": {
    "execution": {
     "iopub.execute_input": "2022-02-03T03:48:38.137872Z",
     "iopub.status.busy": "2022-02-03T03:48:38.137541Z",
     "iopub.status.idle": "2022-02-03T03:48:38.142166Z",
     "shell.execute_reply": "2022-02-03T03:48:38.141440Z",
     "shell.execute_reply.started": "2022-02-03T03:48:38.137851Z"
    },
    "tags": []
   },
   "outputs": [],
   "source": [
    "user3.name = \"정\"\n",
    "user3.email = \"화\"\n",
    "user3.password = \"영\""
   ]
  },
  {
   "cell_type": "code",
   "execution_count": 7,
   "id": "3279a9bc-5f7e-43ec-9ab2-9291c412524f",
   "metadata": {
    "execution": {
     "iopub.execute_input": "2022-02-03T03:49:49.365364Z",
     "iopub.status.busy": "2022-02-03T03:49:49.364483Z",
     "iopub.status.idle": "2022-02-03T03:49:49.370113Z",
     "shell.execute_reply": "2022-02-03T03:49:49.369117Z",
     "shell.execute_reply.started": "2022-02-03T03:49:49.365319Z"
    },
    "tags": []
   },
   "outputs": [
    {
     "name": "stdout",
     "output_type": "stream",
     "text": [
      "임정\n"
     ]
    }
   ],
   "source": [
    "print(user1.email)\n",
    "print(user2.password)\n",
    "\n",
    "#print(user1.age) # 인스턴스 변수가 사전에 정의가 되지 않았으므로 에러가 남"
   ]
  },
  {
   "cell_type": "markdown",
   "id": "f783848f-8efe-4ea8-8ab7-95901e9db604",
   "metadata": {},
   "source": [
    "# 인스턴스 메소드"
   ]
  },
  {
   "cell_type": "code",
   "execution_count": 9,
   "id": "19ae231a-ec39-4469-ab44-bc1c4a926245",
   "metadata": {
    "execution": {
     "iopub.execute_input": "2022-02-03T03:54:46.509578Z",
     "iopub.status.busy": "2022-02-03T03:54:46.509050Z",
     "iopub.status.idle": "2022-02-03T03:54:46.513238Z",
     "shell.execute_reply": "2022-02-03T03:54:46.512387Z",
     "shell.execute_reply.started": "2022-02-03T03:54:46.509558Z"
    }
   },
   "outputs": [],
   "source": [
    "class User:\n",
    "    def say_hello(some_user):\n",
    "        # 인사메시지 출력메소드\n",
    "        print(\"안녕하세요! 나는 {}입니다.\".format(some_user.name)) # name이라는 인스턴스 변수를 이용함"
   ]
  },
  {
   "cell_type": "code",
   "execution_count": 10,
   "id": "348c313d-4d0c-47a1-a5f7-5de1e9648904",
   "metadata": {
    "execution": {
     "iopub.execute_input": "2022-02-03T03:54:46.884487Z",
     "iopub.status.busy": "2022-02-03T03:54:46.884007Z",
     "iopub.status.idle": "2022-02-03T03:54:46.889262Z",
     "shell.execute_reply": "2022-02-03T03:54:46.888352Z",
     "shell.execute_reply.started": "2022-02-03T03:54:46.884450Z"
    },
    "tags": []
   },
   "outputs": [
    {
     "name": "stdout",
     "output_type": "stream",
     "text": [
      "안녕하세요! 나는 임정민입니다.\n"
     ]
    }
   ],
   "source": [
    "User.say_hello(user1)"
   ]
  },
  {
   "cell_type": "code",
   "execution_count": 11,
   "id": "de01b421-8695-4f70-a42a-0fa40923f5c7",
   "metadata": {
    "execution": {
     "iopub.execute_input": "2022-02-03T03:54:57.722373Z",
     "iopub.status.busy": "2022-02-03T03:54:57.722127Z",
     "iopub.status.idle": "2022-02-03T03:54:57.727235Z",
     "shell.execute_reply": "2022-02-03T03:54:57.726439Z",
     "shell.execute_reply.started": "2022-02-03T03:54:57.722334Z"
    },
    "tags": []
   },
   "outputs": [
    {
     "name": "stdout",
     "output_type": "stream",
     "text": [
      "안녕하세요! 나는 이입니다.\n"
     ]
    }
   ],
   "source": [
    "User.say_hello(user2)"
   ]
  },
  {
   "cell_type": "code",
   "execution_count": 12,
   "id": "758ea89c-6644-4257-a9c1-e3f71f7e3b06",
   "metadata": {
    "execution": {
     "iopub.execute_input": "2022-02-03T03:55:01.855117Z",
     "iopub.status.busy": "2022-02-03T03:55:01.854577Z",
     "iopub.status.idle": "2022-02-03T03:55:01.859948Z",
     "shell.execute_reply": "2022-02-03T03:55:01.858931Z",
     "shell.execute_reply.started": "2022-02-03T03:55:01.855094Z"
    },
    "tags": []
   },
   "outputs": [
    {
     "name": "stdout",
     "output_type": "stream",
     "text": [
      "안녕하세요! 나는 정입니다.\n"
     ]
    }
   ],
   "source": [
    "User.say_hello(user3)"
   ]
  }
 ],
 "metadata": {
  "kernelspec": {
   "display_name": "Python 3 (ipykernel)",
   "language": "python",
   "name": "python3"
  },
  "language_info": {
   "codemirror_mode": {
    "name": "ipython",
    "version": 3
   },
   "file_extension": ".py",
   "mimetype": "text/x-python",
   "name": "python",
   "nbconvert_exporter": "python",
   "pygments_lexer": "ipython3",
   "version": "3.9.7"
  }
 },
 "nbformat": 4,
 "nbformat_minor": 5
}
