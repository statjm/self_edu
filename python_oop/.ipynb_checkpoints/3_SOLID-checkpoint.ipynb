{
 "cells": [
  {
   "cell_type": "markdown",
   "id": "d567c95f-c04d-430f-aa47-fe8e5bfd7322",
   "metadata": {},
   "source": [
    "# SOLID"
   ]
  },
  {
   "cell_type": "markdown",
   "id": "30300f02-a7cf-4606-9427-26d5f59a6358",
   "metadata": {},
   "source": [
    "### 단일 책임 원칙"
   ]
  },
  {
   "cell_type": "code",
   "execution_count": 1,
   "id": "aae380b1-d20b-4073-961f-a61406fcbfb2",
   "metadata": {
    "execution": {
     "iopub.execute_input": "2022-02-26T00:48:40.210488Z",
     "iopub.status.busy": "2022-02-26T00:48:40.210063Z",
     "iopub.status.idle": "2022-02-26T00:48:40.220868Z",
     "shell.execute_reply": "2022-02-26T00:48:40.220041Z",
     "shell.execute_reply.started": "2022-02-26T00:48:40.210428Z"
    },
    "tags": []
   },
   "outputs": [],
   "source": [
    "class Ship:\n",
    "    \"\"\"배 클래스\"\"\"\n",
    "    def __init__(self, fuel, fuel_per_hour, supplies, num_crew):\n",
    "        \"\"\"연료량, 시간당 연료 소비량, 물자량, 선원 수를 인스턴스 변수로 갖는다\"\"\"\n",
    "        self.fuel = fuel\n",
    "        self.fuel_per_hour = fuel_per_hour\n",
    "        self.supplies = supplies\n",
    "        self.num_crew = num_crew\n",
    "\n",
    "    def report_fuel(self):\n",
    "        \"\"\"연료량 보고 메소드\"\"\"\n",
    "        print(\"현재 연료는 {}l 남아 있습니다\".format(self.fuel))\n",
    "\n",
    "    def load_fuel(self, amount):\n",
    "        \"\"\"연료 충전 메소드\"\"\"\n",
    "        self.fuel += amount\n",
    "\n",
    "    def report_supplies(self):\n",
    "        \"\"\"물자량 보고 메소드\"\"\"\n",
    "        print(\"현재 물자는 {}명분이 남아 있습니다\".format(self.supplies))\n",
    "\n",
    "    def load_supplies(self, amount):\n",
    "        \"\"\"물자 보급 메소드\"\"\"\n",
    "        self.supplies += amount\n",
    "\n",
    "    def distribute_supplies_to_crew(self):\n",
    "        \"\"\"물자 배분 메소드\"\"\"\n",
    "        if self.supplies >= self.num_crew:\n",
    "            self.supplies -= self.num_crew\n",
    "            return True\n",
    "        print(\"물자가 부족하기 때문에 배분할 수 없습니다\")\n",
    "        return False\n",
    "\n",
    "    def report_crew(self):\n",
    "        \"\"\"선원 수 보고 메소드\"\"\"\n",
    "        print(\"현재 선원 {}명이 있습니다\".format(self.num_crew))\n",
    "\n",
    "    def load_crew(self, number):\n",
    "        \"\"\"선원 승선 메소드\"\"\"\n",
    "        self.num_crew += number\n",
    "\n",
    "    def run_engine_for_hours(self, hours):\n",
    "        \"\"\"엔진 작동 메소드\"\"\"\n",
    "        if self.fuel > self.fuel_per_hour * hours:\n",
    "            self.fuel -= self.fuel_per_hour * hours\n",
    "            print(\"엔진을 {}시간 동안 돌립니다!\".format(hours))\n",
    "        else:\n",
    "            print(\"연료가 부족하기 때문에 엔진 작동을 시작할 수 없습니다\")"
   ]
  },
  {
   "cell_type": "code",
   "execution_count": 2,
   "id": "2c40551f-616c-49e6-84c5-3c67f244e157",
   "metadata": {
    "execution": {
     "iopub.execute_input": "2022-02-26T00:48:40.778252Z",
     "iopub.status.busy": "2022-02-26T00:48:40.778072Z",
     "iopub.status.idle": "2022-02-26T00:48:40.783191Z",
     "shell.execute_reply": "2022-02-26T00:48:40.782455Z",
     "shell.execute_reply.started": "2022-02-26T00:48:40.778235Z"
    },
    "tags": []
   },
   "outputs": [],
   "source": [
    "ship = Ship(400, 10, 1000, 50)"
   ]
  },
  {
   "cell_type": "code",
   "execution_count": 3,
   "id": "72f35b92-f073-4c83-89ed-cbaa7783bc41",
   "metadata": {
    "execution": {
     "iopub.execute_input": "2022-02-26T00:48:40.979239Z",
     "iopub.status.busy": "2022-02-26T00:48:40.978589Z",
     "iopub.status.idle": "2022-02-26T00:48:40.982946Z",
     "shell.execute_reply": "2022-02-26T00:48:40.982200Z",
     "shell.execute_reply.started": "2022-02-26T00:48:40.979219Z"
    },
    "tags": []
   },
   "outputs": [],
   "source": [
    "ship.load_fuel(10)"
   ]
  },
  {
   "cell_type": "code",
   "execution_count": 4,
   "id": "e6bae822-a0cc-4c4b-8b96-780a764783ba",
   "metadata": {
    "execution": {
     "iopub.execute_input": "2022-02-26T00:48:41.186971Z",
     "iopub.status.busy": "2022-02-26T00:48:41.186765Z",
     "iopub.status.idle": "2022-02-26T00:48:41.190901Z",
     "shell.execute_reply": "2022-02-26T00:48:41.189943Z",
     "shell.execute_reply.started": "2022-02-26T00:48:41.186953Z"
    },
    "tags": []
   },
   "outputs": [],
   "source": [
    "ship.load_supplies(10)"
   ]
  },
  {
   "cell_type": "code",
   "execution_count": 5,
   "id": "25702fb9-417d-4fc1-8f7d-ce8fef0e6737",
   "metadata": {
    "execution": {
     "iopub.execute_input": "2022-02-26T00:48:41.381335Z",
     "iopub.status.busy": "2022-02-26T00:48:41.381140Z",
     "iopub.status.idle": "2022-02-26T00:48:41.385115Z",
     "shell.execute_reply": "2022-02-26T00:48:41.384392Z",
     "shell.execute_reply.started": "2022-02-26T00:48:41.381317Z"
    },
    "tags": []
   },
   "outputs": [],
   "source": [
    "ship.load_crew(10)"
   ]
  },
  {
   "cell_type": "code",
   "execution_count": 6,
   "id": "9d1041fd-a845-4077-80e1-13bc3a7053ab",
   "metadata": {
    "execution": {
     "iopub.execute_input": "2022-02-26T00:48:41.594045Z",
     "iopub.status.busy": "2022-02-26T00:48:41.593879Z",
     "iopub.status.idle": "2022-02-26T00:48:41.604219Z",
     "shell.execute_reply": "2022-02-26T00:48:41.603420Z",
     "shell.execute_reply.started": "2022-02-26T00:48:41.594028Z"
    },
    "tags": []
   },
   "outputs": [
    {
     "data": {
      "text/plain": [
       "True"
      ]
     },
     "execution_count": 6,
     "metadata": {},
     "output_type": "execute_result"
    }
   ],
   "source": [
    "ship.distribute_supplies_to_crew()"
   ]
  },
  {
   "cell_type": "code",
   "execution_count": 7,
   "id": "da6109c7-2bcc-4a73-a3a0-7ebf730fb34f",
   "metadata": {
    "execution": {
     "iopub.execute_input": "2022-02-26T00:48:42.074021Z",
     "iopub.status.busy": "2022-02-26T00:48:42.073851Z",
     "iopub.status.idle": "2022-02-26T00:48:42.078708Z",
     "shell.execute_reply": "2022-02-26T00:48:42.078018Z",
     "shell.execute_reply.started": "2022-02-26T00:48:42.074005Z"
    },
    "tags": []
   },
   "outputs": [
    {
     "name": "stdout",
     "output_type": "stream",
     "text": [
      "엔진을 4시간 동안 돌립니다!\n"
     ]
    }
   ],
   "source": [
    "ship.run_engine_for_hours(4)"
   ]
  },
  {
   "cell_type": "code",
   "execution_count": 8,
   "id": "ca60f996-b45a-41fd-b057-72f39032aadf",
   "metadata": {
    "execution": {
     "iopub.execute_input": "2022-02-26T00:48:42.451323Z",
     "iopub.status.busy": "2022-02-26T00:48:42.451150Z",
     "iopub.status.idle": "2022-02-26T00:48:42.456604Z",
     "shell.execute_reply": "2022-02-26T00:48:42.455839Z",
     "shell.execute_reply.started": "2022-02-26T00:48:42.451306Z"
    },
    "tags": []
   },
   "outputs": [
    {
     "name": "stdout",
     "output_type": "stream",
     "text": [
      "현재 선원 60명이 있습니다\n",
      "현재 연료는 370l 남아 있습니다\n",
      "현재 물자는 950명분이 남아 있습니다\n"
     ]
    }
   ],
   "source": [
    "ship.report_crew()\n",
    "ship.report_fuel()\n",
    "ship.report_supplies()"
   ]
  },
  {
   "cell_type": "markdown",
   "id": "97a2c970-ff34-453d-9c52-28b8f6d3726d",
   "metadata": {},
   "source": [
    "### 모든 책임을 단일 책임으로 만들기"
   ]
  },
  {
   "cell_type": "code",
   "execution_count": 9,
   "id": "ded9f2db-b7e5-4336-af44-e22803f413f0",
   "metadata": {
    "execution": {
     "iopub.execute_input": "2022-02-26T00:52:36.655257Z",
     "iopub.status.busy": "2022-02-26T00:52:36.655088Z",
     "iopub.status.idle": "2022-02-26T00:52:36.665872Z",
     "shell.execute_reply": "2022-02-26T00:52:36.665002Z",
     "shell.execute_reply.started": "2022-02-26T00:52:36.655238Z"
    },
    "tags": []
   },
   "outputs": [],
   "source": [
    "class Ship:\n",
    "    \"\"\"배 클래스\"\"\"\n",
    "    def __init__(self, fuel, fuel_per_hour, supplies, num_crew):\n",
    "        self.fuel_tank = FuelTank(fuel)\n",
    "        self.crew_manager = CrewManager(num_crew)\n",
    "        self.supply_hold = SupplyHold(supplies, self.crew_manager)\n",
    "        self.engine = Engine(self.fuel_tank, fuel_per_hour)\n",
    "\n",
    "\n",
    "class FuelTank:\n",
    "    \"\"\"연료 탱크 클래스\"\"\"\n",
    "    def __init__(self, fuel):\n",
    "        \"\"\"연료 탱크에 저장된 연료량을 인스턴스 변수로 갖는다\"\"\"\n",
    "        self.fuel = fuel\n",
    "\n",
    "    def load_fuel(self, amount):\n",
    "        \"\"\"연료 충전 메소드\"\"\"\n",
    "        self.fuel += amount\n",
    "\n",
    "    def use_fuel(self, amount):\n",
    "        \"\"\"연료 사용 메소드\"\"\"\n",
    "        if self.fuel - amount >= 0:\n",
    "            self.fuel -= amount\n",
    "            return True\n",
    "        print(\"연료가 부족합니다!\")\n",
    "        return False\n",
    "\n",
    "    def report_fuel(self):\n",
    "        \"\"\"연료량 보고 메소드\"\"\"\n",
    "        print(\"현재 연료는 {}l 남아 있습니다\".format(self.fuel))\n",
    "\n",
    "\n",
    "class Engine:\n",
    "    \"\"\"엔진 클래스\"\"\"\n",
    "    def __init__(self, fuel_tank, fuel_per_hour):\n",
    "        \"\"\"연료 탱크 인스턴스와 시간당 연료 소비량을 인스턴스 변수로 갖는다\"\"\"\n",
    "        self.fuel_tank = fuel_tank\n",
    "        self.fuel_per_hour = fuel_per_hour\n",
    "\n",
    "    def run_for_hours(self, hours):\n",
    "        \"\"\"엔진 작동 메소드, 연료 탱크 인스턴스를 사용한다\"\"\"\n",
    "        if self.fuel_tank.use_fuel(self.fuel_per_hour * hours):\n",
    "            print(\"엔진을 {}시간 동안 돌립니다!\".format(hours))\n",
    "            return True\n",
    "        print(\"연료가 부족하기 때문에 엔진 작동을 시작할 수 없습니다\")\n",
    "        return False\n",
    "\n",
    "\n",
    "class CrewManager:\n",
    "    \"\"\"선원 관리 클래스\"\"\"\n",
    "    def __init__(self, num_crew):\n",
    "        \"\"\"승선한 선원 수를 인스턴스 변수로 갖는다\"\"\"\n",
    "        self.num_crew = num_crew\n",
    "\n",
    "    def load_crew(self, number):\n",
    "        \"\"\"선원 승선 메소드\"\"\"\n",
    "        self.num_crew += number\n",
    "\n",
    "    def report_crew(self):\n",
    "        \"\"\"선원 수 보고 메소드\"\"\"\n",
    "        print(\"현재 선원 {}명이 있습니다\".format(self.num_crew))\n",
    "\n",
    "\n",
    "class SupplyHold:\n",
    "    \"\"\"물자 창고 클래스\"\"\"\n",
    "    def __init__(self, supplies, crew_manager):\n",
    "        \"\"\"물자량과 선원 관리 인스턴스를 인스턴스 변수로 갖는다\"\"\"\n",
    "        self.supplies = supplies\n",
    "        self.crew_manager = crew_manager\n",
    "\n",
    "    def load_supplies(self, amount):\n",
    "        \"\"\"물자 충전 메소드\"\"\"\n",
    "        self.supplies += amount\n",
    "\n",
    "    def distribute_supplies_to_crew(self):\n",
    "        \"\"\"물자 배분 메소드, 각 선원들에게 동일한 양의 물자를 배분한다\"\"\"\n",
    "        if self.supplies >= self.crew_manager.num_crew:\n",
    "            self.supplies -= self.crew_manager.num_crew\n",
    "            return True\n",
    "        print(\"물자가 부족하기 때문에 배분할 수 없습니다\")\n",
    "        return False\n",
    "\n",
    "    def report_supplies(self):\n",
    "        \"\"\"물자량 보고 메소드\"\"\"\n",
    "        print(\"현재 물자는 {}명분이 남아 있습니다\".format(self.supplies))"
   ]
  },
  {
   "cell_type": "code",
   "execution_count": 10,
   "id": "7301bdfb-7924-400d-b767-798a70aa6e74",
   "metadata": {
    "execution": {
     "iopub.execute_input": "2022-02-26T00:55:59.512177Z",
     "iopub.status.busy": "2022-02-26T00:55:59.511439Z",
     "iopub.status.idle": "2022-02-26T00:55:59.515326Z",
     "shell.execute_reply": "2022-02-26T00:55:59.514674Z",
     "shell.execute_reply.started": "2022-02-26T00:55:59.512155Z"
    },
    "tags": []
   },
   "outputs": [],
   "source": [
    "ship = Ship(400, 10, 1000, 50)"
   ]
  },
  {
   "cell_type": "code",
   "execution_count": 13,
   "id": "def76edd-fc22-4a44-ad2a-15e1252b6c59",
   "metadata": {
    "execution": {
     "iopub.execute_input": "2022-02-26T00:56:09.388130Z",
     "iopub.status.busy": "2022-02-26T00:56:09.387602Z",
     "iopub.status.idle": "2022-02-26T00:56:09.391376Z",
     "shell.execute_reply": "2022-02-26T00:56:09.390667Z",
     "shell.execute_reply.started": "2022-02-26T00:56:09.388109Z"
    },
    "tags": []
   },
   "outputs": [],
   "source": [
    "ship.fuel_tank.load_fuel(10)"
   ]
  },
  {
   "cell_type": "code",
   "execution_count": 14,
   "id": "e8131ffc-7767-4f57-bf3c-ee262b79d887",
   "metadata": {
    "execution": {
     "iopub.execute_input": "2022-02-26T00:56:17.744269Z",
     "iopub.status.busy": "2022-02-26T00:56:17.743724Z",
     "iopub.status.idle": "2022-02-26T00:56:17.747557Z",
     "shell.execute_reply": "2022-02-26T00:56:17.746748Z",
     "shell.execute_reply.started": "2022-02-26T00:56:17.744247Z"
    },
    "tags": []
   },
   "outputs": [],
   "source": [
    "ship.supply_hold.load_supplies(10)"
   ]
  },
  {
   "cell_type": "code",
   "execution_count": 15,
   "id": "0864fb13-5838-489b-a07f-db1496bec007",
   "metadata": {
    "execution": {
     "iopub.execute_input": "2022-02-26T00:56:22.584458Z",
     "iopub.status.busy": "2022-02-26T00:56:22.584241Z",
     "iopub.status.idle": "2022-02-26T00:56:22.588391Z",
     "shell.execute_reply": "2022-02-26T00:56:22.587582Z",
     "shell.execute_reply.started": "2022-02-26T00:56:22.584424Z"
    },
    "tags": []
   },
   "outputs": [],
   "source": [
    "ship.crew_manager.load_crew(10)"
   ]
  },
  {
   "cell_type": "code",
   "execution_count": 16,
   "id": "281b0971-df89-4cd8-a341-13825041a918",
   "metadata": {
    "execution": {
     "iopub.execute_input": "2022-02-26T00:56:36.511149Z",
     "iopub.status.busy": "2022-02-26T00:56:36.510505Z",
     "iopub.status.idle": "2022-02-26T00:56:36.515626Z",
     "shell.execute_reply": "2022-02-26T00:56:36.514887Z",
     "shell.execute_reply.started": "2022-02-26T00:56:36.511128Z"
    },
    "tags": []
   },
   "outputs": [
    {
     "data": {
      "text/plain": [
       "True"
      ]
     },
     "execution_count": 16,
     "metadata": {},
     "output_type": "execute_result"
    }
   ],
   "source": [
    "ship.supply_hold.distribute_supplies_to_crew()"
   ]
  },
  {
   "cell_type": "code",
   "execution_count": 17,
   "id": "83187896-a972-481f-b5a6-a8c35efca567",
   "metadata": {
    "execution": {
     "iopub.execute_input": "2022-02-26T00:56:47.085781Z",
     "iopub.status.busy": "2022-02-26T00:56:47.085153Z",
     "iopub.status.idle": "2022-02-26T00:56:47.090663Z",
     "shell.execute_reply": "2022-02-26T00:56:47.089971Z",
     "shell.execute_reply.started": "2022-02-26T00:56:47.085759Z"
    },
    "tags": []
   },
   "outputs": [
    {
     "name": "stdout",
     "output_type": "stream",
     "text": [
      "엔진을 4시간 동안 돌립니다!\n"
     ]
    },
    {
     "data": {
      "text/plain": [
       "True"
      ]
     },
     "execution_count": 17,
     "metadata": {},
     "output_type": "execute_result"
    }
   ],
   "source": [
    "ship.engine.run_for_hours(4)"
   ]
  },
  {
   "cell_type": "code",
   "execution_count": 19,
   "id": "e12e4557-0232-4ad4-989a-f20c55298288",
   "metadata": {
    "execution": {
     "iopub.execute_input": "2022-02-26T00:57:29.212855Z",
     "iopub.status.busy": "2022-02-26T00:57:29.212610Z",
     "iopub.status.idle": "2022-02-26T00:57:29.217634Z",
     "shell.execute_reply": "2022-02-26T00:57:29.216877Z",
     "shell.execute_reply.started": "2022-02-26T00:57:29.212837Z"
    },
    "tags": []
   },
   "outputs": [
    {
     "name": "stdout",
     "output_type": "stream",
     "text": [
      "현재 선원 60명이 있습니다\n",
      "현재 연료는 370l 남아 있습니다\n",
      "현재 물자는 950명분이 남아 있습니다\n"
     ]
    }
   ],
   "source": [
    "ship.crew_manager.report_crew()\n",
    "ship.fuel_tank.report_fuel()\n",
    "ship.supply_hold.report_supplies()"
   ]
  },
  {
   "cell_type": "code",
   "execution_count": 22,
   "id": "1b85eff8-aad6-4808-90ea-a965c1f54430",
   "metadata": {
    "execution": {
     "iopub.execute_input": "2022-02-26T01:44:47.784294Z",
     "iopub.status.busy": "2022-02-26T01:44:47.784123Z",
     "iopub.status.idle": "2022-02-26T01:44:47.793489Z",
     "shell.execute_reply": "2022-02-26T01:44:47.792584Z",
     "shell.execute_reply.started": "2022-02-26T01:44:47.784277Z"
    }
   },
   "outputs": [
    {
     "name": "stdout",
     "output_type": "stream",
     "text": [
      "코드잇 대학 성적표\n",
      "\n",
      "학생 이름:강영훈\n",
      "학생 번호:20130024\n",
      "소속 학과:컴퓨터 공학과\n",
      "평균 학점:3.575\n"
     ]
    }
   ],
   "source": [
    "class Student:\n",
    "    # 코드를 쓰세요\n",
    "    def __init__(self, name, id, major):\n",
    "        self.name = name\n",
    "        self.id = id\n",
    "        self.major = major\n",
    "        self.grades = Grade()\n",
    "        \n",
    "    def print_report_card(self):\n",
    "        \"\"\"학생 성적표 출력 메소드\"\"\"\n",
    "        print(\"코드잇 대학 성적표\\n\\n학생 이름:{}\\n학생 번호:{}\\n소속 학과:{}\\n평균 학점:{}\"\\\n",
    "        .format(self.name, self.id, self.major, self.grades.get_average_gpa()))\n",
    "        \n",
    "    def change_student_info(self, new_name, new_id, new_major):\n",
    "        \"\"\"학생 기본 정보 수정 메소드\"\"\"\n",
    "        self.name = new_name\n",
    "        self.id = new_id\n",
    "        self.major = new_major\n",
    "\n",
    "class Grade:\n",
    "    def __init__(self):\n",
    "        self.grades = []\n",
    "        \n",
    "    def add_grade(self, grade):\n",
    "        \"\"\"학점 추가 메소드\"\"\"\n",
    "        if 0 <= grade <= 4.3:\n",
    "            self.grades.append(grade)\n",
    "        else:\n",
    "            print(\"수업 학점은 0과 4.3 사이여야 합니다!\")\n",
    "    \n",
    "    def get_average_gpa(self):\n",
    "        \"\"\"평균 학점 계산 메소드\"\"\"\n",
    "        return sum(self.grades) / len(self.grades)\n",
    "\n",
    "    \n",
    "    \n",
    "\n",
    "# 학생 인스턴스 정의\n",
    "younghoon = Student(\"강영훈\", 20120034, \"통계학과\")\n",
    "younghoon.change_student_info(\"강영훈\", 20130024, \"컴퓨터 공학과\")\n",
    "\n",
    "# 학생 성적 추가\n",
    "younghoon.grades.add_grade(3.0)\n",
    "younghoon.grades.add_grade(3.33)\n",
    "younghoon.grades.add_grade(3.67)\n",
    "younghoon.grades.add_grade(4.3)\n",
    "\n",
    "# 학생 성적표 \n",
    "younghoon.print_report_card()\n",
    "            \n",
    "        "
   ]
  },
  {
   "cell_type": "markdown",
   "id": "6e05968f-2dfc-4012-aba1-412cc8168fdd",
   "metadata": {},
   "source": [
    "##### 모범답안"
   ]
  },
  {
   "cell_type": "code",
   "execution_count": 20,
   "id": "d1b4a438-922f-4dce-a406-892caa9ddcde",
   "metadata": {
    "execution": {
     "iopub.execute_input": "2022-02-26T01:22:57.985934Z",
     "iopub.status.busy": "2022-02-26T01:22:57.985766Z",
     "iopub.status.idle": "2022-02-26T01:22:57.994700Z",
     "shell.execute_reply": "2022-02-26T01:22:57.993823Z",
     "shell.execute_reply.started": "2022-02-26T01:22:57.985919Z"
    }
   },
   "outputs": [],
   "source": [
    "class StudentProfile:\n",
    "    \"\"\"학생 기본 정보 클래스\"\"\"\n",
    "    def __init__(self, name, id, major):\n",
    "        self.name = name\n",
    "        self.id = id\n",
    "        self.major = major\n",
    "\n",
    "    def change_info(self, new_name, new_id, new_major):\n",
    "        \"\"\"학생 기본 정보 수정 메소드\"\"\"\n",
    "        self.name = new_name\n",
    "        self.id = new_id\n",
    "        self.major = new_major\n",
    "        \n",
    "        \n",
    "class GPAManager:\n",
    "    \"\"\"학생 학점 관리 클래스\"\"\"\n",
    "    def __init__(self, grades):\n",
    "        self.grades = grades\n",
    "\n",
    "    def add_grade(self, grade):\n",
    "        \"\"\"학점 추가 메소드\"\"\"\n",
    "        if 0 <= grade <= 4.3:\n",
    "            self.grades.append(grade)\n",
    "        else:\n",
    "            print(\"수업 학점은 0과 4.3 사이여야 합니다!\")\n",
    "\n",
    "    def get_average_gpa(self):\n",
    "        \"\"\"평균 학점 계산\"\"\"\n",
    "        return sum(self.grades) / len(self.grades)  \n",
    "    \n",
    "    \n",
    "class ReportCardPrinter:\n",
    "    \"\"\"성적표 출력 클래스\"\"\"\n",
    "    def __init__(self, student_profile, gpa_manager):\n",
    "        self.student_profile = student_profile\n",
    "        self.gpa_manager = gpa_manager\n",
    "\n",
    "    def print(self):\n",
    "        \"\"\"학생 성적표 출력 메소드\"\"\"\n",
    "        print(\"코드잇 대학 성적표\\n\\n학생 이름:{}\\n학생 번호:{}\\n소속 학과:{}\\n평균 학점:{}\"\\\n",
    "        .format(self.student_profile.name, self.student_profile.id,\\\n",
    "                self.student_profile.major, self.gpa_manager.get_average_gpa()))   \n",
    "    \n",
    "\n",
    "class Student:\n",
    "    \"\"\"코드잇 대학생을 나타내는 클래스\"\"\"\n",
    "    def __init__(self, name, id, class_year):\n",
    "        self.profile = StudentProfile(name, id, class_year)\n",
    "        self.grades = []\n",
    "        self.gpa_manager = GPAManager(self.grades)\n",
    "        self.report_card_printer = ReportCardPrinter(self.profile, self.gpa_manager)\n",
    "\n"
   ]
  },
  {
   "cell_type": "code",
   "execution_count": 21,
   "id": "187cc246-907f-439a-9517-d85c7ae5e510",
   "metadata": {
    "execution": {
     "iopub.execute_input": "2022-02-26T01:22:58.225317Z",
     "iopub.status.busy": "2022-02-26T01:22:58.224964Z",
     "iopub.status.idle": "2022-02-26T01:22:58.442017Z",
     "shell.execute_reply": "2022-02-26T01:22:58.441262Z",
     "shell.execute_reply.started": "2022-02-26T01:22:58.225297Z"
    }
   },
   "outputs": [
    {
     "name": "stdout",
     "output_type": "stream",
     "text": [
      "코드잇 대학 성적표\n",
      "\n",
      "학생 이름:강영훈\n",
      "학생 번호:20130024\n",
      "소속 학과:컴퓨터 공학과\n",
      "평균 학점:3.575\n"
     ]
    }
   ],
   "source": [
    "younghoon = Student(\"강영훈\", 20120034, \"통계학과\")\n",
    "younghoon.profile.change_info(\"강영훈\", 20130024, \"컴퓨터 공학과\")\n",
    "\n",
    "# 학생 성적 추가\n",
    "younghoon.gpa_manager.add_grade(3.0)\n",
    "younghoon.gpa_manager.add_grade(3.33)\n",
    "younghoon.gpa_manager.add_grade(3.67)\n",
    "younghoon.gpa_manager.add_grade(4.3)\n",
    "\n",
    "# 학생 성적표 \n",
    "younghoon.report_card_printer.print()"
   ]
  },
  {
   "cell_type": "markdown",
   "id": "27d7afcc-e818-438b-a8c3-dfcafafe4506",
   "metadata": {},
   "source": [
    "### 개방폐쇄원칙"
   ]
  },
  {
   "cell_type": "code",
   "execution_count": 37,
   "id": "79667498-d9be-4bd1-8c89-1c7ce8c575d8",
   "metadata": {
    "execution": {
     "iopub.execute_input": "2022-02-26T01:51:19.385311Z",
     "iopub.status.busy": "2022-02-26T01:51:19.385072Z",
     "iopub.status.idle": "2022-02-26T01:51:19.391851Z",
     "shell.execute_reply": "2022-02-26T01:51:19.390646Z",
     "shell.execute_reply.started": "2022-02-26T01:51:19.385292Z"
    },
    "tags": []
   },
   "outputs": [],
   "source": [
    "class AppleKeyboard:\n",
    "    \"\"\"애플 키보드 클래스\"\"\"\n",
    "\n",
    "    def __init__(self):\n",
    "        \"\"\"키보드 인풋과 터치바 인풋\"\"\"\n",
    "        self.keyboard_input = \"\"\n",
    "\n",
    "    def set_keyboard_input(self, input):\n",
    "        \"\"\"키보드 인풋 저장 메소드\"\"\"\n",
    "        self.keyboard_input = input\n",
    "\n",
    "    def send_keyboard_input(self):\n",
    "        \"\"\"키보드 인풋 전송 메소드\"\"\"\n",
    "        return self.keyboard_input\n",
    "\n",
    "\n",
    "class KeyboardManager:\n",
    "    def __init__(self):\n",
    "        \"\"\"키보드 관리 클래스\"\"\"\n",
    "        self.keyboard = None\n",
    "\n",
    "    def connect_to_keyboard(self, keyboard):\n",
    "        \"\"\"키보드 교체 메소드\"\"\"\n",
    "        self.keyboard = keyboard\n",
    "\n",
    "    def get_keyboard_input(self):\n",
    "        \"\"\"유저가 키보드로 입력한 내용을 받아오는 메소드\"\"\"\n",
    "        if isinstance(self.keyboard, AppleKeyboard):\n",
    "            return self.keyboard.send_keyboard_input()\n",
    "        elif isinstance(self.keyboard, SamsungKeyboard):\n",
    "            return self.keyboard.give_user_input()\n",
    "    \n",
    "class SamsungKeyboard:\n",
    "    def __init__(self):\n",
    "        \"\"\"키보드 인풋\"\"\"\n",
    "        self.user_input = input\n",
    "        \n",
    "    def save_user_input(self, input):\n",
    "        self.user_input = input\n",
    "        \n",
    "    def give_user_input(self):\n",
    "        return self.user_input"
   ]
  },
  {
   "cell_type": "code",
   "execution_count": 24,
   "id": "809c6c30-6172-4f5a-9605-fe63e433af98",
   "metadata": {
    "execution": {
     "iopub.execute_input": "2022-02-26T01:46:02.746368Z",
     "iopub.status.busy": "2022-02-26T01:46:02.745495Z",
     "iopub.status.idle": "2022-02-26T01:46:02.749584Z",
     "shell.execute_reply": "2022-02-26T01:46:02.748893Z",
     "shell.execute_reply.started": "2022-02-26T01:46:02.746330Z"
    },
    "tags": []
   },
   "outputs": [],
   "source": [
    "keyboard_manager = KeyboardManager()"
   ]
  },
  {
   "cell_type": "code",
   "execution_count": 25,
   "id": "f455bfe6-5535-4e8f-86a7-faca77064644",
   "metadata": {
    "execution": {
     "iopub.execute_input": "2022-02-26T01:46:11.293084Z",
     "iopub.status.busy": "2022-02-26T01:46:11.292591Z",
     "iopub.status.idle": "2022-02-26T01:46:11.296508Z",
     "shell.execute_reply": "2022-02-26T01:46:11.295800Z",
     "shell.execute_reply.started": "2022-02-26T01:46:11.293062Z"
    },
    "tags": []
   },
   "outputs": [],
   "source": [
    "apple_keyboard = AppleKeyboard()"
   ]
  },
  {
   "cell_type": "code",
   "execution_count": 26,
   "id": "e4e37310-00fe-42ac-908d-b1f8acf148e0",
   "metadata": {
    "execution": {
     "iopub.execute_input": "2022-02-26T01:46:23.663900Z",
     "iopub.status.busy": "2022-02-26T01:46:23.663732Z",
     "iopub.status.idle": "2022-02-26T01:46:23.667739Z",
     "shell.execute_reply": "2022-02-26T01:46:23.666893Z",
     "shell.execute_reply.started": "2022-02-26T01:46:23.663882Z"
    },
    "tags": []
   },
   "outputs": [],
   "source": [
    "keyboard_manager.connect_to_keyboard(apple_keyboard)"
   ]
  },
  {
   "cell_type": "code",
   "execution_count": 28,
   "id": "3bd3eb73-b4bf-44e8-8818-533a62ea8111",
   "metadata": {
    "execution": {
     "iopub.execute_input": "2022-02-26T01:46:41.034589Z",
     "iopub.status.busy": "2022-02-26T01:46:41.034103Z",
     "iopub.status.idle": "2022-02-26T01:46:41.037780Z",
     "shell.execute_reply": "2022-02-26T01:46:41.036995Z",
     "shell.execute_reply.started": "2022-02-26T01:46:41.034569Z"
    },
    "tags": []
   },
   "outputs": [],
   "source": [
    "apple_keyboard.set_keyboard_input(\"안녕하세요\")"
   ]
  },
  {
   "cell_type": "code",
   "execution_count": 30,
   "id": "e5eb9546-a7bb-4186-8ceb-186c1b6e813a",
   "metadata": {
    "execution": {
     "iopub.execute_input": "2022-02-26T01:46:50.505331Z",
     "iopub.status.busy": "2022-02-26T01:46:50.504814Z",
     "iopub.status.idle": "2022-02-26T01:46:50.509022Z",
     "shell.execute_reply": "2022-02-26T01:46:50.508182Z",
     "shell.execute_reply.started": "2022-02-26T01:46:50.505311Z"
    },
    "tags": []
   },
   "outputs": [
    {
     "name": "stdout",
     "output_type": "stream",
     "text": [
      "안녕하세요\n"
     ]
    }
   ],
   "source": [
    "print(keyboard_manager.get_keyboard_input())"
   ]
  },
  {
   "cell_type": "code",
   "execution_count": 39,
   "id": "c9bb67c1-e2e9-4b2b-a5d8-f4c165cc29ac",
   "metadata": {
    "execution": {
     "iopub.execute_input": "2022-02-26T01:51:25.806442Z",
     "iopub.status.busy": "2022-02-26T01:51:25.805971Z",
     "iopub.status.idle": "2022-02-26T01:51:25.809372Z",
     "shell.execute_reply": "2022-02-26T01:51:25.808698Z",
     "shell.execute_reply.started": "2022-02-26T01:51:25.806421Z"
    },
    "tags": []
   },
   "outputs": [],
   "source": [
    "keyboard_manager = KeyboardManager()"
   ]
  },
  {
   "cell_type": "code",
   "execution_count": 40,
   "id": "ae1f6f11-082f-4463-8b89-8888620b343f",
   "metadata": {
    "execution": {
     "iopub.execute_input": "2022-02-26T01:51:25.993050Z",
     "iopub.status.busy": "2022-02-26T01:51:25.992786Z",
     "iopub.status.idle": "2022-02-26T01:51:25.996608Z",
     "shell.execute_reply": "2022-02-26T01:51:25.995725Z",
     "shell.execute_reply.started": "2022-02-26T01:51:25.993016Z"
    },
    "tags": []
   },
   "outputs": [],
   "source": [
    "samsung_keyboard = SamsungKeyboard()"
   ]
  },
  {
   "cell_type": "code",
   "execution_count": 41,
   "id": "ab275b79-5447-4932-8ebd-379842465cdb",
   "metadata": {
    "execution": {
     "iopub.execute_input": "2022-02-26T01:51:26.199158Z",
     "iopub.status.busy": "2022-02-26T01:51:26.198986Z",
     "iopub.status.idle": "2022-02-26T01:51:26.203564Z",
     "shell.execute_reply": "2022-02-26T01:51:26.202736Z",
     "shell.execute_reply.started": "2022-02-26T01:51:26.199141Z"
    },
    "tags": []
   },
   "outputs": [],
   "source": [
    "keyboard_manager.connect_to_keyboard(samsung_keyboard)"
   ]
  },
  {
   "cell_type": "code",
   "execution_count": 42,
   "id": "bd361ff2-fd8e-449f-bb08-e584e47c7bfb",
   "metadata": {
    "execution": {
     "iopub.execute_input": "2022-02-26T01:51:26.394726Z",
     "iopub.status.busy": "2022-02-26T01:51:26.394555Z",
     "iopub.status.idle": "2022-02-26T01:51:26.398744Z",
     "shell.execute_reply": "2022-02-26T01:51:26.397953Z",
     "shell.execute_reply.started": "2022-02-26T01:51:26.394710Z"
    },
    "tags": []
   },
   "outputs": [],
   "source": [
    "samsung_keyboard.save_user_input(\"안녕하세요\")"
   ]
  },
  {
   "cell_type": "code",
   "execution_count": 43,
   "id": "3c1e9e92-4b1d-4017-89c7-50ce545dd052",
   "metadata": {
    "execution": {
     "iopub.execute_input": "2022-02-26T01:51:26.893658Z",
     "iopub.status.busy": "2022-02-26T01:51:26.892851Z",
     "iopub.status.idle": "2022-02-26T01:51:26.898225Z",
     "shell.execute_reply": "2022-02-26T01:51:26.897046Z",
     "shell.execute_reply.started": "2022-02-26T01:51:26.893624Z"
    },
    "tags": []
   },
   "outputs": [
    {
     "name": "stdout",
     "output_type": "stream",
     "text": [
      "안녕하세요\n"
     ]
    }
   ],
   "source": [
    "print(keyboard_manager.get_keyboard_input())"
   ]
  },
  {
   "cell_type": "code",
   "execution_count": 45,
   "id": "b8de63bf-2af9-4288-8bc4-273b0135eb77",
   "metadata": {
    "execution": {
     "iopub.execute_input": "2022-02-26T01:55:51.284791Z",
     "iopub.status.busy": "2022-02-26T01:55:51.284216Z",
     "iopub.status.idle": "2022-02-26T01:55:51.291814Z",
     "shell.execute_reply": "2022-02-26T01:55:51.290923Z",
     "shell.execute_reply.started": "2022-02-26T01:55:51.284770Z"
    },
    "tags": []
   },
   "outputs": [],
   "source": [
    "from abc import ABC, abstractmethod\n",
    "\n",
    "class Keyboard(ABC):\n",
    "    \"\"\"키보드 클래스\"\"\"\n",
    "    @abstractmethod\n",
    "    def save_input(self, content: str) -> None:\n",
    "        \"\"\"인풋 저장 메서드\"\"\"\n",
    "        pass\n",
    "    \n",
    "    @abstractmethod\n",
    "    def send_input(self) -> None:\n",
    "        \"\"\"인풋 출력 메서드\"\"\"\n",
    "        pass\n",
    "    \n",
    "class AppleKeyboard(Keyboard):\n",
    "    \"\"\"애플 키보드 클래스\"\"\"\n",
    "\n",
    "    def __init__(self):\n",
    "        \"\"\"키보드 인풋과 터치바 인풋\"\"\"\n",
    "        self.keyboard_input = \"\"\n",
    "\n",
    "    def save_input(self, input):\n",
    "        \"\"\"키보드 인풋 저장 메소드\"\"\"\n",
    "        self.keyboard_input = input\n",
    "\n",
    "    def send_input(self):\n",
    "        \"\"\"키보드 인풋 전송 메소드\"\"\"\n",
    "        return self.keyboard_input\n",
    "\n",
    "\n",
    "class KeyboardManager:\n",
    "    def __init__(self):\n",
    "        \"\"\"키보드 관리 클래스\"\"\"\n",
    "        self.keyboard = None\n",
    "\n",
    "    def connect_to_keyboard(self, keyboard):\n",
    "        \"\"\"키보드 교체 메소드\"\"\"\n",
    "        self.keyboard = keyboard\n",
    "\n",
    "    def get_keyboard_input(self):\n",
    "        \"\"\"유저가 키보드로 입력한 내용을 받아오는 메소드\"\"\"\n",
    "        return self.keyboard.send_input()\n",
    "    \n",
    "class SamsungKeyboard(Keyboard):\n",
    "    def __init__(self):\n",
    "        \"\"\"키보드 인풋\"\"\"\n",
    "        self.user_input = input\n",
    "        \n",
    "    def save_input(self, input):\n",
    "        self.user_input = input\n",
    "        \n",
    "    def send_input(self):\n",
    "        return self.user_input"
   ]
  },
  {
   "cell_type": "code",
   "execution_count": 48,
   "id": "088fab62-5af4-4ec7-8d9e-df9adb7b732b",
   "metadata": {
    "execution": {
     "iopub.execute_input": "2022-02-26T01:56:34.304782Z",
     "iopub.status.busy": "2022-02-26T01:56:34.304317Z",
     "iopub.status.idle": "2022-02-26T01:56:34.309757Z",
     "shell.execute_reply": "2022-02-26T01:56:34.308946Z",
     "shell.execute_reply.started": "2022-02-26T01:56:34.304761Z"
    },
    "tags": []
   },
   "outputs": [
    {
     "name": "stdout",
     "output_type": "stream",
     "text": [
      "안녕하세요\n",
      "안녕하세요\n"
     ]
    }
   ],
   "source": [
    "keyboard_manager = KeyboardManager()\n",
    "apple_keyboard = AppleKeyboard()\n",
    "samsung_keyboard = SamsungKeyboard()\n",
    "\n",
    "keyboard_manager.connect_to_keyboard(apple_keyboard)\n",
    "apple_keyboard.save_input(\"안녕하세요\")\n",
    "print(keyboard_manager.get_keyboard_input())\n",
    "\n",
    "keyboard_manager.connect_to_keyboard(samsung_keyboard)\n",
    "samsung_keyboard.save_input(\"안녕하세요\")\n",
    "print(keyboard_manager.get_keyboard_input())"
   ]
  },
  {
   "cell_type": "markdown",
   "id": "91adb138-2a2e-4cc5-9c78-03e402c02d39",
   "metadata": {},
   "source": [
    "##### 내가 쓴 답"
   ]
  },
  {
   "cell_type": "code",
   "execution_count": 49,
   "id": "fe25f45a-a8b4-41cb-8700-e86dc9013325",
   "metadata": {
    "execution": {
     "iopub.execute_input": "2022-02-26T02:11:42.303678Z",
     "iopub.status.busy": "2022-02-26T02:11:42.303424Z",
     "iopub.status.idle": "2022-02-26T02:11:42.315379Z",
     "shell.execute_reply": "2022-02-26T02:11:42.314573Z",
     "shell.execute_reply.started": "2022-02-26T02:11:42.303660Z"
    },
    "tags": []
   },
   "outputs": [
    {
     "name": "stdout",
     "output_type": "stream",
     "text": [
      "새로 온 메시지들:\n",
      "2019년 7월 1일 오후 11시 30분\n",
      "고대위\n",
      "나 오늘 놀러 못갈...\n",
      "\n",
      "2019년 7월 1일 오후 11시 35분\n",
      "고대위\n",
      "서울시 성북구\n",
      "아니다, 갈게! 너네 어디서...\n",
      "\n",
      "이영훈, 2019년 7월 2일 오전 12시 30분\n",
      "나도 놀러 갈게, 나 ...\n",
      "\n"
     ]
    }
   ],
   "source": [
    "class NewMessage:\n",
    "    def short_message(self, content):\n",
    "        pass\n",
    "\n",
    "class MessageNotificationManager:\n",
    "    \"\"\"메시지 알림 관리 클래스\"\"\"\n",
    "    def __init__(self):\n",
    "        self.message_notifications = []\n",
    "\n",
    "    def add_new_message(self, new_message):\n",
    "        \"\"\"새로 온 메시지 추가\"\"\"\n",
    "        self.message_notifications.append(new_message)\n",
    "\n",
    "    def display_message_notifications(self):\n",
    "        \"\"\"모든 새 메시지 확인\"\"\"\n",
    "        print(\"새로 온 메시지들:\")\n",
    "\n",
    "        for message in self.message_notifications:\n",
    "            print(message.short_message() + \"\\n\")\n",
    "\n",
    "\n",
    "class KakaoTalkMessage:\n",
    "    \"\"\"카카오톡 메시지 클래스\"\"\"\n",
    "    notification_message_max_len = 10\n",
    "\n",
    "    def __init__(self, sent_by, time, content):\n",
    "        self.sent_by = sent_by\n",
    "        self.time = time\n",
    "        self.content = content\n",
    "        \n",
    "    def short_message(self):\n",
    "        \"\"\"메시지의 정보와 내용을 리턴함\"\"\"\n",
    "        message_str = \"{}\\n{}\\n\".format(self.time, self.sent_by)\n",
    "        message_str += self.content if len(self.content) <= KakaoTalkMessage.notification_message_max_len else self.content[:KakaoTalkMessage.notification_message_max_len] + \"...\"\n",
    "\n",
    "        return message_str\n",
    "\n",
    "\n",
    "class FacebookMessage:\n",
    "    \"\"\"페이스북 메시지 클래스\"\"\"\n",
    "    notification_message_max_len = 15\n",
    "\n",
    "    def __init__(self, sent_by, location, time, content):\n",
    "        self.sent_by = sent_by\n",
    "        self.location = location\n",
    "        self.time = time\n",
    "        self.content = content\n",
    "\n",
    "    def short_message(self):\n",
    "        \"\"\"메시지를 짧은 형태로 리턴함\"\"\"\n",
    "        res_str = \"{}\\n{}\\n{}\\n\".format(self.time, self.sent_by, self.location)\n",
    "        res_str += self.content if len(self.content) <= FacebookMessage.notification_message_max_len else self.content[:FacebookMessage.notification_message_max_len] + \"...\"\n",
    "\n",
    "        return res_str   \n",
    "        \n",
    "\n",
    "class TextMessage:\n",
    "    \"\"\"문자 메시지 클래스\"\"\"\n",
    "    notification_message_max_len = 12\n",
    "\n",
    "    def __init__(self, sent_by, time, content):\n",
    "        self.sent_by = sent_by\n",
    "        self.time = time\n",
    "        self.content = content\n",
    "\n",
    "    def short_message(self):\n",
    "        \"\"\"메시지의 정보와 내용을 리턴함\"\"\"\n",
    "        noti_string = \"{}, {}\\n\".format(self.sent_by, self.time)\n",
    "        noti_string += self.content if len(self.content) <= TextMessage.notification_message_max_len else self.content[:TextMessage.notification_message_max_len] + \"...\"\n",
    "        return noti_string \n",
    "\n",
    "\n",
    "\n",
    "# 메시지 알림 관리 인스턴스 생성\n",
    "message_notification_manager = MessageNotificationManager()\n",
    "\n",
    "# 서로 다른 종류의 메시지 3개 생성\n",
    "kakao_talk_message = KakaoTalkMessage(\"고대위\", \"2019년 7월 1일 오후 11시 30분\", \"나 오늘 놀러 못갈 거 같아, 미안!\")\n",
    "facebook_message = FacebookMessage(\"고대위\", \"서울시 성북구\", \"2019년 7월 1일 오후 11시 35분\", \"아니다, 갈게! 너네 어디서 놀고 있어?\")\n",
    "text_message = TextMessage(\"이영훈\", \"2019년 7월 2일 오전 12시 30분\", \"나도 놀러 갈게, 나 지금 출발\")\n",
    "\n",
    "# 메시지 알림 관리 인스턴스에 3개의 메시지를 추가\n",
    "message_notification_manager.add_new_message(kakao_talk_message)\n",
    "message_notification_manager.add_new_message(facebook_message)\n",
    "message_notification_manager.add_new_message(text_message)\n",
    "\n",
    "# 메시지 알림 관리 인스턴스에 있는 모든 메시지 출력\n",
    "message_notification_manager.display_message_notifications()            \n"
   ]
  },
  {
   "cell_type": "markdown",
   "id": "dfb5433b-fc7c-437d-ba41-30143ec6bf43",
   "metadata": {},
   "source": [
    "### 리스코프 치환 원칙 이해하기"
   ]
  },
  {
   "cell_type": "code",
   "execution_count": 51,
   "id": "6c9bcb82-f086-4cd1-bc7f-6ca7ae1e8879",
   "metadata": {
    "execution": {
     "iopub.execute_input": "2022-02-26T04:41:25.724326Z",
     "iopub.status.busy": "2022-02-26T04:41:25.723592Z",
     "iopub.status.idle": "2022-02-26T04:41:25.735976Z",
     "shell.execute_reply": "2022-02-26T04:41:25.734862Z",
     "shell.execute_reply.started": "2022-02-26T04:41:25.724307Z"
    },
    "tags": []
   },
   "outputs": [
    {
     "ename": "TypeError",
     "evalue": "unsupported operand type(s) for +=: 'int' and 'str'",
     "output_type": "error",
     "traceback": [
      "\u001b[0;31m---------------------------------------------------------------------------\u001b[0m",
      "\u001b[0;31mTypeError\u001b[0m                                 Traceback (most recent call last)",
      "\u001b[0;32m/tmp/ipykernel_79/2498095077.py\u001b[0m in \u001b[0;36m<module>\u001b[0;34m\u001b[0m\n\u001b[1;32m     54\u001b[0m \u001b[0;34m\u001b[0m\u001b[0m\n\u001b[1;32m     55\u001b[0m \u001b[0;32mfor\u001b[0m \u001b[0mem\u001b[0m \u001b[0;32min\u001b[0m \u001b[0mempolyee_list\u001b[0m\u001b[0;34m:\u001b[0m\u001b[0;34m\u001b[0m\u001b[0;34m\u001b[0m\u001b[0m\n\u001b[0;32m---> 56\u001b[0;31m     \u001b[0mtotal_wage\u001b[0m \u001b[0;34m+=\u001b[0m \u001b[0mem\u001b[0m\u001b[0;34m.\u001b[0m\u001b[0mwage\u001b[0m\u001b[0;34m\u001b[0m\u001b[0;34m\u001b[0m\u001b[0m\n\u001b[0m\u001b[1;32m     57\u001b[0m \u001b[0;34m\u001b[0m\u001b[0m\n\u001b[1;32m     58\u001b[0m \u001b[0mprint\u001b[0m\u001b[0;34m(\u001b[0m\u001b[0mtotal_wage\u001b[0m\u001b[0;34m)\u001b[0m\u001b[0;34m\u001b[0m\u001b[0;34m\u001b[0m\u001b[0m\n",
      "\u001b[0;31mTypeError\u001b[0m: unsupported operand type(s) for +=: 'int' and 'str'"
     ]
    }
   ],
   "source": [
    "class Employee:\n",
    "    \"\"\"직원 클래스\"\"\"\n",
    "    company_name = \"코드잇 버거\"\n",
    "    raise_percentage = 1.03\n",
    "\n",
    "    def __init__(self, name, wage):\n",
    "        self.name = name\n",
    "        self._wage = wage\n",
    "\n",
    "    def raise_pay(self):\n",
    "        \"\"\"직원 시급을 인상하는 메소드\"\"\"\n",
    "        self._wage *= self.raise_percentage\n",
    "\n",
    "    @property\n",
    "    def wage(self):\n",
    "        return self._wage\n",
    "\n",
    "    def __str__(self):\n",
    "        \"\"\"직원 정보를 문자열로 리턴하는 메소드\"\"\"\n",
    "        return Employee.company_name + \" 직원: \" + self.name\n",
    "\n",
    "\n",
    "class Cashier(Employee):\n",
    "    \"\"\"리스코프 치환 원칙을 지키지 않는 계산대 직원 클래스\"\"\"\n",
    "    burger_price = 4000\n",
    "\n",
    "    def __init__(self, name, wage, number_sold=0):\n",
    "        super().__init__(name, wage)\n",
    "        self.number_sold = number_sold\n",
    "\n",
    "    def raise_pay(self, raise_amount):\n",
    "        \"\"\"직원 시급을 인상하는 메소드\"\"\"\n",
    "        self.wage += self.raise_amount\n",
    "\n",
    "    @property\n",
    "    def wage(self):\n",
    "        return \"시급 정보를 알려줄 수 없습니다\"\n",
    "\n",
    "\n",
    "em_1 = Employee(\"성태호\", 7000)\n",
    "em_2 = Employee(\"강영훈\", 6500)\n",
    "\n",
    "cashier = Cashier(\"김대위\", 9000)\n",
    "\n",
    "empolyee_list = []\n",
    "empolyee_list.append(em_1)\n",
    "empolyee_list.append(em_2)\n",
    "empolyee_list.append(cashier)\n",
    "\n",
    "# for em in empolyee_list:\n",
    "#     em.raise_pay()\n",
    "    \n",
    "total_wage = 0\n",
    "\n",
    "for em in empolyee_list:\n",
    "    total_wage += em.wage\n",
    "    \n",
    "print(total_wage)"
   ]
  },
  {
   "cell_type": "markdown",
   "id": "1d88b44c-5603-4c73-b953-f529658c2387",
   "metadata": {},
   "source": [
    "자기 멋대로 `raise_amount`를 추가한거임"
   ]
  },
  {
   "cell_type": "code",
   "execution_count": 52,
   "id": "8fc41307-e431-4cab-8cb9-93bb59b5a1a9",
   "metadata": {
    "execution": {
     "iopub.execute_input": "2022-02-26T04:45:02.608139Z",
     "iopub.status.busy": "2022-02-26T04:45:02.607541Z",
     "iopub.status.idle": "2022-02-26T04:45:02.614452Z",
     "shell.execute_reply": "2022-02-26T04:45:02.613643Z",
     "shell.execute_reply.started": "2022-02-26T04:45:02.608115Z"
    },
    "tags": []
   },
   "outputs": [],
   "source": [
    "class Employee:\n",
    "    \"\"\"직원 클래스\"\"\"\n",
    "    company_name = \"코드잇 버거\"\n",
    "    raise_percentage = 1.03\n",
    "    \n",
    "    def __init__(self, name, wage):\n",
    "        \"\"\"인스턴스 변수 설정\"\"\"\n",
    "        self.name = name\n",
    "        self._wage = wage\n",
    "\n",
    "    def raise_pay(self):\n",
    "        \"\"\"직원 시급을 인상하는 메소드\"\"\"\n",
    "        self._wage *= self.raise_percentage\n",
    "\n",
    "    @property\n",
    "    def wage(self):\n",
    "        \"\"\"_wage 변수 getter 메소드\"\"\"\n",
    "        return self._wage\n",
    "\n",
    "    def __str__(self):\n",
    "        \"\"\"직원 정보를 문자열로 리턴하는 메소드\"\"\"\n",
    "        return Employee.company_name + \" 직원: \" + self.name\n",
    "\n",
    "class Cashier(Employee):\n",
    "    \"\"\"계산대 직원 클래스\"\"\"\n",
    "    raise_percentage = 1.05\n",
    "    burger_price = 4000\n",
    "\n",
    "    def __init__(self, name, wage, number_sold=0):\n",
    "        super().__init__(name, wage)\n",
    "        self.number_sold = number_sold\n",
    "\n",
    "    def take_order(self, money_received):\n",
    "        \"\"\"손님이 낸 돈을 받아 주문 처리를 하고 거스름돈을 리턴한다\"\"\"\n",
    "        if Cashier.burger_price > money_received:\n",
    "            print(\"돈이 충분하지 않습니다. 돈을 다시 계산해서 주세요!\")\n",
    "            return money_received\n",
    "        else:\n",
    "            self.number_sold += 1\n",
    "            change = money_received - Cashier.burger_price\n",
    "            return change\n",
    "\n",
    "    def __str__(self):\n",
    "        return Cashier.company_name + \" 계산대 직원: \" + self.name"
   ]
  },
  {
   "cell_type": "code",
   "execution_count": 53,
   "id": "b38873ac-445f-4545-9f1b-643f5a60c16d",
   "metadata": {
    "execution": {
     "iopub.execute_input": "2022-02-26T04:45:16.889420Z",
     "iopub.status.busy": "2022-02-26T04:45:16.889163Z",
     "iopub.status.idle": "2022-02-26T04:45:16.895618Z",
     "shell.execute_reply": "2022-02-26T04:45:16.894909Z",
     "shell.execute_reply.started": "2022-02-26T04:45:16.889401Z"
    },
    "tags": []
   },
   "outputs": [
    {
     "name": "stdout",
     "output_type": "stream",
     "text": [
      "23355.0\n"
     ]
    }
   ],
   "source": [
    "# Employee 인스턴스들 생성\n",
    "employee_1 = Employee(\"성태호\", 7000)\n",
    "employee_2 = Employee(\"강영훈\", 6500)\n",
    "\n",
    "# Cashier 인스턴스 생성\n",
    "cashier = Cashier(\"김대위\", 9000)\n",
    "\n",
    "# 생성한 모든 직원 인스턴스들을 리스트에 추가\n",
    "employee_list = []\n",
    "employee_list.append(employee_1)\n",
    "employee_list.append(employee_2)\n",
    "employee_list.append(cashier)\n",
    "\n",
    "# 모든 직원들의 시급 인상\n",
    "for employee in employee_list:\n",
    "    employee.raise_pay()\n",
    "\n",
    "# 모든 직원들의 총 시급 구하기\n",
    "total_wage = 0\n",
    "\n",
    "for employee in employee_list:\n",
    "    total_wage += employee.wage\n",
    "\n",
    "print(total_wage)"
   ]
  },
  {
   "cell_type": "code",
   "execution_count": 61,
   "id": "f90feba1-87e5-42e3-9a62-5b0f88ad9ec0",
   "metadata": {
    "execution": {
     "iopub.execute_input": "2022-02-26T04:51:25.746979Z",
     "iopub.status.busy": "2022-02-26T04:51:25.746813Z",
     "iopub.status.idle": "2022-02-26T04:51:25.752797Z",
     "shell.execute_reply": "2022-02-26T04:51:25.752001Z",
     "shell.execute_reply.started": "2022-02-26T04:51:25.746963Z"
    },
    "tags": []
   },
   "outputs": [],
   "source": [
    "class Rectangle:\n",
    "    \"\"\"직사각형 클래스\"\"\"\n",
    "\n",
    "    def __init__(self, width, height):\n",
    "        \"\"\"세로와 가로\"\"\"\n",
    "        self.width = width\n",
    "        self.height = height\n",
    "\n",
    "    def area(self):\n",
    "        \"\"\"넓이 계산 메소드\"\"\"\n",
    "        return self.width * self.height\n",
    "\n",
    "    @property\n",
    "    def width(self):\n",
    "        \"\"\"가로 변수 getter 메소드\"\"\"\n",
    "        return self._width\n",
    "\n",
    "    @width.setter\n",
    "    def width(self, value):\n",
    "        \"\"\"가로 변수 setter 메소드\"\"\"\n",
    "        self._width = value if value > 0 else 1\n",
    "\n",
    "    @property\n",
    "    def height(self):\n",
    "        \"\"\"세로 변수 getter 메소드\"\"\"\n",
    "        return self._height\n",
    "\n",
    "    @height.setter\n",
    "    def height(self, value):\n",
    "        \"\"\"세로 변수 setter 메소드\"\"\"\n",
    "        self._height = value if value > 0 else 1\n",
    "\n",
    "\n",
    "class Square(Rectangle):\n",
    "    def __init__(self, side):\n",
    "        super().__init__(side, side)\n"
   ]
  },
  {
   "cell_type": "code",
   "execution_count": 68,
   "id": "5973784c-ad93-4db6-8508-4e2b97c1ad23",
   "metadata": {
    "execution": {
     "iopub.execute_input": "2022-02-26T04:55:53.187350Z",
     "iopub.status.busy": "2022-02-26T04:55:53.186760Z",
     "iopub.status.idle": "2022-02-26T04:55:53.193657Z",
     "shell.execute_reply": "2022-02-26T04:55:53.192945Z",
     "shell.execute_reply.started": "2022-02-26T04:55:53.187331Z"
    },
    "tags": []
   },
   "outputs": [],
   "source": [
    "class Rectangle:\n",
    "    \"\"\"직사각형 클래스\"\"\"\n",
    "\n",
    "    def __init__(self, width, height):\n",
    "        \"\"\"세로와 가로\"\"\"\n",
    "        self.width = width\n",
    "        self.height = height\n",
    "\n",
    "    def area(self):\n",
    "        \"\"\"넓이 계산 메소드\"\"\"\n",
    "        return self.width * self.height\n",
    "\n",
    "    @property\n",
    "    def width(self):\n",
    "        \"\"\"가로 변수 getter 메소드\"\"\"\n",
    "        return self._width\n",
    "\n",
    "    @width.setter\n",
    "    def width(self, value):\n",
    "        \"\"\"가로 변수 setter 메소드\"\"\"\n",
    "        self._width = value if value > 0 else 1\n",
    "\n",
    "    @property\n",
    "    def height(self):\n",
    "        \"\"\"세로 변수 getter 메소드\"\"\"\n",
    "        return self._height\n",
    "\n",
    "    @height.setter\n",
    "    def height(self, value):\n",
    "        \"\"\"세로 변수 setter 메소드\"\"\"\n",
    "        self._height = value if value > 0 else 1\n",
    "\n",
    "\n",
    "class Square():\n",
    "    def __init__(self, side):\n",
    "        self.side = side\n",
    "    \n",
    "    def area(self):\n",
    "        return self.side * self.side\n",
    "\n",
    "    @property\n",
    "    def side(self):\n",
    "        return self._side\n",
    "    \n",
    "    def side(self, value):\n",
    "        self._side = value if value > 0 else 1"
   ]
  },
  {
   "cell_type": "code",
   "execution_count": 70,
   "id": "66490cca-753d-49c6-8a57-9628b1359463",
   "metadata": {
    "execution": {
     "iopub.execute_input": "2022-02-26T04:56:03.200435Z",
     "iopub.status.busy": "2022-02-26T04:56:03.200220Z",
     "iopub.status.idle": "2022-02-26T04:56:03.204171Z",
     "shell.execute_reply": "2022-02-26T04:56:03.203443Z",
     "shell.execute_reply.started": "2022-02-26T04:56:03.200417Z"
    },
    "tags": []
   },
   "outputs": [],
   "source": [
    "rect_1 = Rectangle(4, 6)\n",
    "square = Square(2)"
   ]
  },
  {
   "cell_type": "code",
   "execution_count": 71,
   "id": "9af42fee-0715-41e5-815c-3f2047ced5e6",
   "metadata": {
    "execution": {
     "iopub.execute_input": "2022-02-26T04:56:03.382066Z",
     "iopub.status.busy": "2022-02-26T04:56:03.381691Z",
     "iopub.status.idle": "2022-02-26T04:56:03.385344Z",
     "shell.execute_reply": "2022-02-26T04:56:03.384344Z",
     "shell.execute_reply.started": "2022-02-26T04:56:03.382049Z"
    },
    "tags": []
   },
   "outputs": [],
   "source": [
    "rect_1.width = 3\n",
    "rect_1.height = 7"
   ]
  },
  {
   "cell_type": "code",
   "execution_count": 72,
   "id": "87674f81-17fb-4c8a-850d-6ab431d9a8ca",
   "metadata": {
    "execution": {
     "iopub.execute_input": "2022-02-26T04:56:03.731764Z",
     "iopub.status.busy": "2022-02-26T04:56:03.731584Z",
     "iopub.status.idle": "2022-02-26T04:56:03.737159Z",
     "shell.execute_reply": "2022-02-26T04:56:03.736479Z",
     "shell.execute_reply.started": "2022-02-26T04:56:03.731747Z"
    },
    "tags": []
   },
   "outputs": [
    {
     "data": {
      "text/plain": [
       "21"
      ]
     },
     "execution_count": 72,
     "metadata": {},
     "output_type": "execute_result"
    }
   ],
   "source": [
    "rect_1.area()"
   ]
  },
  {
   "cell_type": "code",
   "execution_count": 73,
   "id": "0dbcb00a-0f4f-4b12-91d9-dd83af354d1e",
   "metadata": {
    "execution": {
     "iopub.execute_input": "2022-02-26T04:56:04.352191Z",
     "iopub.status.busy": "2022-02-26T04:56:04.351350Z",
     "iopub.status.idle": "2022-02-26T04:56:04.355526Z",
     "shell.execute_reply": "2022-02-26T04:56:04.354790Z",
     "shell.execute_reply.started": "2022-02-26T04:56:04.352152Z"
    },
    "tags": []
   },
   "outputs": [],
   "source": [
    "square.side = 10"
   ]
  },
  {
   "cell_type": "code",
   "execution_count": 74,
   "id": "c5bd4342-66ac-433f-85e9-59da79b055ee",
   "metadata": {
    "execution": {
     "iopub.execute_input": "2022-02-26T04:56:12.092192Z",
     "iopub.status.busy": "2022-02-26T04:56:12.091803Z",
     "iopub.status.idle": "2022-02-26T04:56:12.097096Z",
     "shell.execute_reply": "2022-02-26T04:56:12.096356Z",
     "shell.execute_reply.started": "2022-02-26T04:56:12.092157Z"
    },
    "tags": []
   },
   "outputs": [
    {
     "data": {
      "text/plain": [
       "100"
      ]
     },
     "execution_count": 74,
     "metadata": {},
     "output_type": "execute_result"
    }
   ],
   "source": [
    "square.area()"
   ]
  },
  {
   "cell_type": "markdown",
   "id": "f21ac6da-2515-481a-9d8f-59ede2cf1550",
   "metadata": {},
   "source": [
    "\n",
    "### 인스페이스 분리 원칙"
   ]
  },
  {
   "cell_type": "markdown",
   "id": "ffcbd9cb-00ed-4ee8-8c1b-56ef8bf88abc",
   "metadata": {},
   "source": [
    "인터페이스란? 파이썬에는 없는 개념이긴 하지만 추상 클래스 중에서 추상 메소드가 있고 일반 메소드는 없는 것"
   ]
  },
  {
   "cell_type": "markdown",
   "id": "02d3dbbe-3243-4112-b1e0-75b5b7a4eef8",
   "metadata": {},
   "source": [
    "클래스가 사용하지 않을 메소드에 의존할 것을 강요하면 안된다"
   ]
  },
  {
   "cell_type": "code",
   "execution_count": 80,
   "id": "8cde0792-f6bf-42f1-9721-f49ca6376160",
   "metadata": {
    "execution": {
     "iopub.execute_input": "2022-02-26T05:22:18.401322Z",
     "iopub.status.busy": "2022-02-26T05:22:18.401149Z",
     "iopub.status.idle": "2022-02-26T05:22:18.412836Z",
     "shell.execute_reply": "2022-02-26T05:22:18.412046Z",
     "shell.execute_reply.started": "2022-02-26T05:22:18.401304Z"
    },
    "tags": []
   },
   "outputs": [],
   "source": [
    "from abc import ABC, abstractmethod\n",
    "\n",
    "\n",
    "class IMessage(ABC):\n",
    "    @property\n",
    "    @abstractmethod\n",
    "    def content(self):\n",
    "        \"\"\"추상 getter 메소드\"\"\"\n",
    "        pass\n",
    "\n",
    "    @abstractmethod\n",
    "    def edit_content(self, new_content: str) -> None:\n",
    "        \"\"\"작성한 메시지를 수정하는 메소드\"\"\"\n",
    "        pass\n",
    "\n",
    "    @abstractmethod\n",
    "    def send(self, destination: str) -> bool:\n",
    "        \"\"\"작성한 메시지를 전송하는 메소드\"\"\"\n",
    "        pass\n",
    "\n",
    "\n",
    "class Email(IMessage):\n",
    "    def __init__(self, content, owner_email):\n",
    "        \"\"\"이메일은 그 내용과 보낸 사람의 이메일 주소를 인스턴스 변수로 가짐\"\"\"\n",
    "        self._content = content\n",
    "        self.owner_email = owner_email\n",
    "\n",
    "    @property\n",
    "    def content(self):\n",
    "        \"\"\"_content 변수 getter 메소드\"\"\"\n",
    "        return self._content\n",
    "\n",
    "    def edit_content(self, new_content):\n",
    "        \"\"\"이메일 내용 수정 메소드\"\"\"\n",
    "        self._content = self.owner_email + \"님의 메일\\n\" + new_content\n",
    "\n",
    "    def send(self, destination):\n",
    "        \"\"\"이메일 전송 메소드\"\"\"\n",
    "        print(\"{}에서 {}로 이메일 전송!\\n내용: {}\").format(self.owner_email, destination, self._content)\n",
    "        return True\n",
    "\n",
    "\n",
    "class TextMessage(IMessage):\n",
    "    def __init__(self, content):\n",
    "        \"\"\"문자 메시지는 그 내용을 인스턴스 변수로 가짐\"\"\"\n",
    "        self._content = content\n",
    "\n",
    "    @property\n",
    "    def content(self):\n",
    "        \"\"\"_content 변수 getter 메소드\"\"\"\n",
    "        return self._content\n",
    "\n",
    "    def edit_content(self, new_content):\n",
    "        \"\"\"문자 메시지 내용 수정 메소드\"\"\"\n",
    "        self._content = new_content\n",
    "\n",
    "    def send(self, destination):\n",
    "        \"\"\"문자 메시지 전송 메소드\"\"\"\n",
    "        print(\"{}로 문자 메시지 전송!\\n내용: {}\").format(destination, self._content)\n",
    "\n",
    "class Memo(IMessage):\n",
    "    \n",
    "    def __init__(self, content):\n",
    "        \"\"\"메모는 그 내용과 보낸 사람의 이메일 주소를 인스턴스 변수로 가짐\"\"\"\n",
    "        self._content = content\n",
    "\n",
    "    @property\n",
    "    def content(self):\n",
    "        \"\"\"_content 변수 getter 메소드\"\"\"\n",
    "        return self._content\n",
    "\n",
    "    def edit_content(self, new_content):\n",
    "        \"\"\"메모 내용 수정 메소드\"\"\"\n",
    "        self._content = new_content\n",
    "        \n",
    "    def send(self, destination):\n",
    "        \"\"\"문자 메시지 전송 메소드\"\"\"\n",
    "        print(\"메모는 아무 데도 보낼 수 없습니다\")\n",
    "        return False\n",
    "        \n",
    "        \n",
    "class TextReader:\n",
    "    \"\"\"인스턴스의 텍스트 내용을 읽어주는 클래스\"\"\"\n",
    "\n",
    "    def __init__(self):\n",
    "        self.texts = []\n",
    "\n",
    "    def add_text(self, text: IMessage):\n",
    "        \"\"\"인스턴스 추가 메소드, 파라미터는 IMessage 인터페이스를 상속받을 것\"\"\"\n",
    "        self.texts.append(text)\n",
    "\n",
    "    def read_all_texts(self):\n",
    "        \"\"\"인스턴스 안에 있는 모든 텍스트 내용 출력\"\"\"\n",
    "        for text in self.texts:\n",
    "            print(text.content)"
   ]
  },
  {
   "cell_type": "code",
   "execution_count": 81,
   "id": "fc6b7a98-c4be-4173-b0f5-9be6791882d2",
   "metadata": {
    "execution": {
     "iopub.execute_input": "2022-02-26T05:22:18.604874Z",
     "iopub.status.busy": "2022-02-26T05:22:18.604701Z",
     "iopub.status.idle": "2022-02-26T05:22:18.930948Z",
     "shell.execute_reply": "2022-02-26T05:22:18.927782Z",
     "shell.execute_reply.started": "2022-02-26T05:22:18.604858Z"
    },
    "tags": []
   },
   "outputs": [],
   "source": [
    "email = Email(\"안녕 잘지내니? 오랜만이야\",\"ejfa@gmail.com\")\n",
    "text_message = TextMessage(\"내일 시간 가능? 한 1시쯤 보게\")\n",
    "text_reader = TextReader()\n",
    "memo = Memo(\"내일 2시까지 숙제 끝내야돼\")"
   ]
  },
  {
   "cell_type": "code",
   "execution_count": 82,
   "id": "57342e53-da08-4e37-85ac-843e340e1818",
   "metadata": {
    "execution": {
     "iopub.execute_input": "2022-02-26T05:22:18.996631Z",
     "iopub.status.busy": "2022-02-26T05:22:18.995926Z",
     "iopub.status.idle": "2022-02-26T05:22:19.041492Z",
     "shell.execute_reply": "2022-02-26T05:22:19.040747Z",
     "shell.execute_reply.started": "2022-02-26T05:22:18.996602Z"
    },
    "tags": []
   },
   "outputs": [],
   "source": [
    "text_reader.add_text(email)\n",
    "text_reader.add_text(text_message)\n",
    "text_reader.add_text(memo)"
   ]
  },
  {
   "cell_type": "code",
   "execution_count": 83,
   "id": "2df71cfb-2eac-42e5-a5ea-dcc46450209e",
   "metadata": {
    "execution": {
     "iopub.execute_input": "2022-02-26T05:22:19.636056Z",
     "iopub.status.busy": "2022-02-26T05:22:19.635265Z",
     "iopub.status.idle": "2022-02-26T05:22:19.640360Z",
     "shell.execute_reply": "2022-02-26T05:22:19.639528Z",
     "shell.execute_reply.started": "2022-02-26T05:22:19.636003Z"
    },
    "tags": []
   },
   "outputs": [
    {
     "name": "stdout",
     "output_type": "stream",
     "text": [
      "안녕 잘지내니? 오랜만이야\n",
      "내일 시간 가능? 한 1시쯤 보게\n",
      "내일 2시까지 숙제 끝내야돼\n"
     ]
    }
   ],
   "source": [
    "text_reader.read_all_texts()"
   ]
  },
  {
   "cell_type": "code",
   "execution_count": 92,
   "id": "2eef9ab3-6f66-4212-ab7d-0a413b22bd08",
   "metadata": {
    "execution": {
     "iopub.execute_input": "2022-02-26T05:29:47.093344Z",
     "iopub.status.busy": "2022-02-26T05:29:47.093007Z",
     "iopub.status.idle": "2022-02-26T05:29:47.103305Z",
     "shell.execute_reply": "2022-02-26T05:29:47.102389Z",
     "shell.execute_reply.started": "2022-02-26T05:29:47.093323Z"
    },
    "tags": []
   },
   "outputs": [],
   "source": [
    "from abc import ABC, abstractmethod\n",
    "\n",
    "\n",
    "class IText(ABC):\n",
    "    @property\n",
    "    @abstractmethod\n",
    "    def content(self):\n",
    "        \"\"\"추상 getter 메소드\"\"\"\n",
    "        pass\n",
    "\n",
    "    @abstractmethod\n",
    "    def edit_content(self, new_content: str) -> None:\n",
    "        \"\"\"작성한 메시지를 수정하는 메소드\"\"\"\n",
    "        pass\n",
    "\n",
    "class ISendable(ABC):\n",
    "    @abstractmethod\n",
    "    def send(self, destination: str) -> bool:\n",
    "        \"\"\"작성한 메시지를 전송하는 메소드\"\"\"\n",
    "        pass\n",
    "    \n",
    "    \n",
    "class Email(IText, ISendable):\n",
    "    def __init__(self, content, owner_email):\n",
    "        \"\"\"이메일은 그 내용과 보낸 사람의 이메일 주소를 인스턴스 변수로 가짐\"\"\"\n",
    "        self._content = content\n",
    "        self.owner_email = owner_email\n",
    "\n",
    "    @property\n",
    "    def content(self):\n",
    "        \"\"\"_content 변수 getter 메소드\"\"\"\n",
    "        return self._content\n",
    "\n",
    "    def edit_content(self, new_content):\n",
    "        \"\"\"이메일 내용 수정 메소드\"\"\"\n",
    "        self._content = self.owner_email + \"님의 메일\\n\" + new_content\n",
    "\n",
    "    def send(self, destination):\n",
    "        \"\"\"이메일 전송 메소드\"\"\"\n",
    "        print(\"{}에서 {}로 이메일 전송!\\n내용: {}\").format(self.owner_email, destination, self._content)\n",
    "        return True\n",
    "\n",
    "\n",
    "class TextMessage(IText, ISendable):\n",
    "    def __init__(self, content):\n",
    "        \"\"\"문자 메시지는 그 내용을 인스턴스 변수로 가짐\"\"\"\n",
    "        self._content = content\n",
    "\n",
    "    @property\n",
    "    def content(self):\n",
    "        \"\"\"_content 변수 getter 메소드\"\"\"\n",
    "        return self._content\n",
    "\n",
    "    def edit_content(self, new_content):\n",
    "        \"\"\"문자 메시지 내용 수정 메소드\"\"\"\n",
    "        self._content = new_content\n",
    "\n",
    "    def send(self, destination):\n",
    "        \"\"\"문자 메시지 전송 메소드\"\"\"\n",
    "        print(\"{}로 문자 메시지 전송!\\n내용: {}\").format(destination, self._content)\n",
    "\n",
    "class Memo(IText):\n",
    "    \n",
    "    def __init__(self, content):\n",
    "        \"\"\"메모는 그 내용과 보낸 사람의 이메일 주소를 인스턴스 변수로 가짐\"\"\"\n",
    "        self._content = content\n",
    "\n",
    "    @property\n",
    "    def content(self):\n",
    "        \"\"\"_content 변수 getter 메소드\"\"\"\n",
    "        return self._content\n",
    "\n",
    "    def edit_content(self, new_content):\n",
    "        \"\"\"메모 내용 수정 메소드\"\"\"\n",
    "        self._content = new_content\n",
    "        \n",
    "        \n",
    "class TextReader:\n",
    "    \"\"\"인스턴스의 텍스트 내용을 읽어주는 클래스\"\"\"\n",
    "\n",
    "    def __init__(self):\n",
    "        self.texts = []\n",
    "\n",
    "    def add_text(self, text: IText):\n",
    "        \"\"\"인스턴스 추가 메소드, 파라미터는 IMessage 인터페이스를 상속받을 것\"\"\"\n",
    "        self.texts.append(text)\n",
    "\n",
    "    def read_all_texts(self):\n",
    "        \"\"\"인스턴스 안에 있는 모든 텍스트 내용 출력\"\"\"\n",
    "        for text in self.texts:\n",
    "            print(text.content)"
   ]
  },
  {
   "cell_type": "code",
   "execution_count": 97,
   "id": "c910447d-4cd2-4575-a807-1ee63cfdea23",
   "metadata": {
    "execution": {
     "iopub.execute_input": "2022-02-26T05:30:08.772194Z",
     "iopub.status.busy": "2022-02-26T05:30:08.771934Z",
     "iopub.status.idle": "2022-02-26T05:30:08.776977Z",
     "shell.execute_reply": "2022-02-26T05:30:08.775858Z",
     "shell.execute_reply.started": "2022-02-26T05:30:08.772161Z"
    },
    "tags": []
   },
   "outputs": [],
   "source": [
    "email = Email(\"안녕 잘지내니? 오랜만이야\",\"ejfa@gmail.com\")\n",
    "text_message = TextMessage(\"내일 시간 가능? 한 1시쯤 보게\")\n",
    "text_reader = TextReader()\n",
    "memo = Memo(\"내일 2시까지 숙제 끝내야돼\")"
   ]
  },
  {
   "cell_type": "code",
   "execution_count": 98,
   "id": "80c594c5-10e3-48d0-8e62-e1b597a7cc5e",
   "metadata": {
    "execution": {
     "iopub.execute_input": "2022-02-26T05:30:08.941696Z",
     "iopub.status.busy": "2022-02-26T05:30:08.941496Z",
     "iopub.status.idle": "2022-02-26T05:30:08.979238Z",
     "shell.execute_reply": "2022-02-26T05:30:08.978480Z",
     "shell.execute_reply.started": "2022-02-26T05:30:08.941679Z"
    },
    "tags": []
   },
   "outputs": [],
   "source": [
    "text_reader.add_text(email)\n",
    "text_reader.add_text(text_message)\n",
    "text_reader.add_text(memo)"
   ]
  },
  {
   "cell_type": "code",
   "execution_count": 99,
   "id": "c5babbed-303e-4e1d-8714-fefc38425cf0",
   "metadata": {
    "execution": {
     "iopub.execute_input": "2022-02-26T05:30:09.243947Z",
     "iopub.status.busy": "2022-02-26T05:30:09.243777Z",
     "iopub.status.idle": "2022-02-26T05:30:09.249035Z",
     "shell.execute_reply": "2022-02-26T05:30:09.248164Z",
     "shell.execute_reply.started": "2022-02-26T05:30:09.243930Z"
    },
    "tags": []
   },
   "outputs": [
    {
     "name": "stdout",
     "output_type": "stream",
     "text": [
      "안녕 잘지내니? 오랜만이야\n",
      "내일 시간 가능? 한 1시쯤 보게\n",
      "내일 2시까지 숙제 끝내야돼\n"
     ]
    }
   ],
   "source": [
    "text_reader.read_all_texts()"
   ]
  },
  {
   "cell_type": "markdown",
   "id": "118cdd7d-afc3-4987-9e33-ceac423b5bf9",
   "metadata": {},
   "source": [
    "##### 나의 답"
   ]
  },
  {
   "cell_type": "code",
   "execution_count": 100,
   "id": "9e55d668-97b4-4e4f-9586-9f731d80c21d",
   "metadata": {
    "execution": {
     "iopub.execute_input": "2022-02-26T05:35:27.251332Z",
     "iopub.status.busy": "2022-02-26T05:35:27.250593Z",
     "iopub.status.idle": "2022-02-26T05:35:27.261345Z",
     "shell.execute_reply": "2022-02-26T05:35:27.260296Z",
     "shell.execute_reply.started": "2022-02-26T05:35:27.251310Z"
    },
    "tags": []
   },
   "outputs": [
    {
     "name": "stdout",
     "output_type": "stream",
     "text": [
      "문서 4월 보고서.docx을/를 출력 중입니다!\n",
      "문서 4월 보고서.docx을/를 출력합니다.\n",
      "스캔 테스트 문서을/를 이미지 파일로 저장합니다.\n",
      "[<class '__main__.SamsungPrinter'>, <class '__main__.IPrinter'>, <class '__main__.IScanner'>, <class 'abc.ABC'>, <class 'object'>]\n",
      "[<class '__main__.LGPrinter'>, <class '__main__.IPrinter'>, <class 'abc.ABC'>, <class 'object'>]\n"
     ]
    }
   ],
   "source": [
    "from abc import ABC, abstractmethod\n",
    "\n",
    "class IPrinter(ABC):\n",
    "    @abstractmethod\n",
    "    def print_file(self, file:str) -> bool:\n",
    "        \"\"\"문서 출력 메소드\"\"\"\n",
    "        pass\n",
    "\n",
    "class IScanner(ABC):\n",
    "    @abstractmethod\n",
    "    def scan(self, content:str) -> bool:\n",
    "        \"\"\"문서 스캔 메소드\"\"\"\n",
    "        pass    \n",
    "    \n",
    "class SamsungPrinter(IPrinter, IScanner):\n",
    "    def __init__(self, has_ink, has_paper, is_connected):\n",
    "        self.has_ink = has_ink\n",
    "        self.has_paper = has_paper\n",
    "        self.is_connected = is_connected\n",
    "\n",
    "    def print_file(self, file):\n",
    "        \"\"\"문서 출력 메소드\"\"\"\n",
    "        if self.has_ink and self.has_paper and self.is_connected:\n",
    "            print(\"문서 {}을/를 출력 중입니다!\".format(file))\n",
    "            return True\n",
    "        return False\n",
    "\n",
    "    def scan(self, content):\n",
    "        \"\"\"문서 스캔 메소드\"\"\"\n",
    "        if self.is_connected:\n",
    "            print(\"{}을/를 이미지 파일로 저장합니다.\".format(content))\n",
    "            return True\n",
    "        return False \n",
    "    \n",
    "    \n",
    "class LGPrinter(IPrinter):\n",
    "    def __init__(self, has_ink, has_paper, is_connected):\n",
    "        self.has_ink = has_ink\n",
    "        self.has_paper = has_paper\n",
    "        self.is_connected = is_connected\n",
    "\n",
    "    def print_file(self, file):\n",
    "        \"\"\"문서 출력 메소드\"\"\"\n",
    "        if self.has_ink and self.has_paper and self.is_connected:\n",
    "            print(\"문서 {}을/를 출력합니다.\".format(file))\n",
    "            return True\n",
    "        return False\n",
    "\n",
    "\n",
    "samsung_printer = SamsungPrinter(True, True, True)\n",
    "lg_printer = LGPrinter(True, True, True)\n",
    "\n",
    "samsung_printer.print_file(\"4월 보고서.docx\")\n",
    "lg_printer.print_file(\"4월 보고서.docx\")\n",
    "\n",
    "samsung_printer.scan(\"스캔 테스트 문서\")\n",
    "# lg_printer.scan(\"스캔 테스트 문서\")\n",
    "\n",
    "print(SamsungPrinter.mro())\n",
    "print(LGPrinter.mro())"
   ]
  },
  {
   "cell_type": "markdown",
   "id": "1936a149-6572-4ba6-ac1c-9ad21cea789d",
   "metadata": {},
   "source": [
    "### 의존 관계 역전 원칙"
   ]
  },
  {
   "cell_type": "code",
   "execution_count": 110,
   "id": "8407e223-4713-414e-bf71-1d1286eb7956",
   "metadata": {
    "execution": {
     "iopub.execute_input": "2022-02-26T06:02:23.394119Z",
     "iopub.status.busy": "2022-02-26T06:02:23.393484Z",
     "iopub.status.idle": "2022-02-26T06:02:23.402102Z",
     "shell.execute_reply": "2022-02-26T06:02:23.401102Z",
     "shell.execute_reply.started": "2022-02-26T06:02:23.394099Z"
    },
    "tags": []
   },
   "outputs": [],
   "source": [
    "from abc import ABC, abstractmethod\n",
    "\n",
    "class IWeapon(ABC):\n",
    "    @abstractmethod\n",
    "    def use_on(self, other_character):\n",
    "        pass\n",
    "\n",
    "class Sword(IWeapon):\n",
    "    \"\"\"검 클래스\"\"\"\n",
    "    def __init__(self, damage):\n",
    "        self.damage = damage\n",
    "\n",
    "    def use_on(self, other_character):\n",
    "        \"\"\"검 사용 메소드\"\"\"\n",
    "        other_character.get_damage(self.damage)\n",
    "\n",
    "class Gun(IWeapon):\n",
    "    \"\"\"총 클래스\"\"\"\n",
    "    def __init__(self, damage, num_rounds):\n",
    "        self.damage = damage\n",
    "        self.num_rounds=num_rounds \n",
    "\n",
    "    def use_on(self, other_character):\n",
    "        \"\"\"총 사용 메소드\"\"\"\n",
    "        if self.num_rounds > 0:\n",
    "            other_character.get_damage(self.damage)\n",
    "        else:\n",
    "            print(\"reload!\")\n",
    "\n",
    "class GameCharacter:\n",
    "    \"\"\"게임 캐릭터 클래스\"\"\"\n",
    "    def __init__(self, name, hp, weapon: IWeapon):\n",
    "        self.name = name\n",
    "        self.hp = hp\n",
    "        self.weapon = weapon\n",
    "\n",
    "    def attack(self, other_character):\n",
    "        \"\"\"다른 유저를 공격하는 메소드\"\"\"\n",
    "        if self.hp > 0:\n",
    "            self.weapon.use_on(other_character)\n",
    "        else:\n",
    "            print(self.name + \"님은 사망해서 공격할 수 없습니다.\")\n",
    "\n",
    "    def change_sword(self, new_sword):\n",
    "        \"\"\"검을 바꾸는 메소드\"\"\"\n",
    "        self.sword = new_sword\n",
    "\n",
    "    def get_damage(self, damage):\n",
    "        \"\"\"캐릭터가 공격받았을 때 자신의 체력을 깎는 메소드\"\"\"\n",
    "        if self.hp <= damage:\n",
    "            self.hp = 0\n",
    "            print(self.name + \"님은 사망했습니다.\")\n",
    "        else:\n",
    "            self.hp -= damage\n",
    "\n",
    "    def __str__(self):\n",
    "        \"\"\"남은 체력을 문자열로 리턴하는 메소드\"\"\"\n",
    "        return self.name + \"님은 hp: {}이(가) 남았습니다.\".format(self.hp)"
   ]
  },
  {
   "cell_type": "code",
   "execution_count": 111,
   "id": "6c77376e-d063-4562-a3ac-637c11a269ea",
   "metadata": {
    "execution": {
     "iopub.execute_input": "2022-02-26T06:02:23.554802Z",
     "iopub.status.busy": "2022-02-26T06:02:23.554631Z",
     "iopub.status.idle": "2022-02-26T06:02:23.559596Z",
     "shell.execute_reply": "2022-02-26T06:02:23.558518Z",
     "shell.execute_reply.started": "2022-02-26T06:02:23.554785Z"
    },
    "tags": []
   },
   "outputs": [],
   "source": [
    "bad_sword = Sword(1)\n",
    "gun = Gun(100, 10)\n",
    "\n",
    "game_character_1 = GameCharacter(\"홍길동\", 100, bad_sword)\n",
    "game_character_2 = GameCharacter(\"아무개\", 1000, gun)"
   ]
  },
  {
   "cell_type": "code",
   "execution_count": 112,
   "id": "9ed2e5ad-bd94-4df9-ac2d-bf684c9190c8",
   "metadata": {
    "execution": {
     "iopub.execute_input": "2022-02-26T06:02:23.852665Z",
     "iopub.status.busy": "2022-02-26T06:02:23.852475Z",
     "iopub.status.idle": "2022-02-26T06:02:23.857213Z",
     "shell.execute_reply": "2022-02-26T06:02:23.856027Z",
     "shell.execute_reply.started": "2022-02-26T06:02:23.852645Z"
    },
    "tags": []
   },
   "outputs": [],
   "source": [
    "game_character_1.attack(game_character_2)\n",
    "game_character_1.attack(game_character_2)\n",
    "game_character_1.attack(game_character_2)"
   ]
  },
  {
   "cell_type": "code",
   "execution_count": 113,
   "id": "9d7639e0-24d0-4610-b967-fcd7fe446904",
   "metadata": {
    "execution": {
     "iopub.execute_input": "2022-02-26T06:02:24.312102Z",
     "iopub.status.busy": "2022-02-26T06:02:24.311928Z",
     "iopub.status.idle": "2022-02-26T06:02:24.316225Z",
     "shell.execute_reply": "2022-02-26T06:02:24.315402Z",
     "shell.execute_reply.started": "2022-02-26T06:02:24.312086Z"
    },
    "tags": []
   },
   "outputs": [
    {
     "name": "stdout",
     "output_type": "stream",
     "text": [
      "홍길동님은 사망했습니다.\n"
     ]
    }
   ],
   "source": [
    "game_character_2.attack(game_character_1)"
   ]
  },
  {
   "cell_type": "code",
   "execution_count": 114,
   "id": "0719450d-222b-495d-8356-7d440bfefced",
   "metadata": {
    "execution": {
     "iopub.execute_input": "2022-02-26T06:02:24.619108Z",
     "iopub.status.busy": "2022-02-26T06:02:24.618780Z",
     "iopub.status.idle": "2022-02-26T06:02:24.623940Z",
     "shell.execute_reply": "2022-02-26T06:02:24.623207Z",
     "shell.execute_reply.started": "2022-02-26T06:02:24.619087Z"
    },
    "tags": []
   },
   "outputs": [
    {
     "name": "stdout",
     "output_type": "stream",
     "text": [
      "홍길동님은 hp: 0이(가) 남았습니다.\n"
     ]
    }
   ],
   "source": [
    "print(game_character_1)"
   ]
  },
  {
   "cell_type": "code",
   "execution_count": 115,
   "id": "8fb0da0b-ea3b-4b66-85f1-04246c479df4",
   "metadata": {
    "execution": {
     "iopub.execute_input": "2022-02-26T06:02:25.470059Z",
     "iopub.status.busy": "2022-02-26T06:02:25.469881Z",
     "iopub.status.idle": "2022-02-26T06:02:25.474007Z",
     "shell.execute_reply": "2022-02-26T06:02:25.473269Z",
     "shell.execute_reply.started": "2022-02-26T06:02:25.470041Z"
    },
    "tags": []
   },
   "outputs": [
    {
     "name": "stdout",
     "output_type": "stream",
     "text": [
      "아무개님은 hp: 997이(가) 남았습니다.\n"
     ]
    }
   ],
   "source": [
    "print(game_character_2)"
   ]
  },
  {
   "cell_type": "markdown",
   "id": "e274026c-60ea-44c6-9d5e-79568a6b4c6a",
   "metadata": {},
   "source": [
    "##### 내 답"
   ]
  },
  {
   "cell_type": "code",
   "execution_count": 116,
   "id": "55d14a6d-f9ef-4b26-a269-48c400609563",
   "metadata": {
    "execution": {
     "iopub.execute_input": "2022-02-26T06:12:56.563607Z",
     "iopub.status.busy": "2022-02-26T06:12:56.563439Z",
     "iopub.status.idle": "2022-02-26T06:12:56.575806Z",
     "shell.execute_reply": "2022-02-26T06:12:56.575032Z",
     "shell.execute_reply.started": "2022-02-26T06:12:56.563589Z"
    },
    "tags": []
   },
   "outputs": [
    {
     "name": "stdout",
     "output_type": "stream",
     "text": [
      "문서 이름: 직원정보.txt\n",
      "문서 내용:\n",
      "\n",
      "이름|이메일\n",
      "강영훈|younghoon@codeit.kr\n",
      "이윤수|yoonsoo@codeit.kr\n",
      "손동욱|dongwook@codeit.kr\n",
      "\n",
      "CSV 파일로 변환 중~\n",
      "변환 완료!\n",
      "\n",
      "문서 이름: 직원정보.csv\n",
      "문서 내용:\n",
      "\n",
      "이름,이메일\n",
      "강영훈,younghoon@codeit.kr\n",
      "이윤수,yoonsoo@codeit.kr\n",
      "손동욱,dongwook@codeit.kr\n",
      "\n",
      "HTML 문서 변환 중~\n",
      "변환 완료!\n",
      "\n",
      "문서 이름: 직원정보.html\n",
      "문서 내용:\n",
      "\n",
      "<!DOCTYPE html>\n",
      "<html>\n",
      "<head>\n",
      "<title>Title of the document</title>\n",
      "</head>\n",
      "\n",
      "<body>\n",
      "\n",
      "이름|이메일\n",
      "강영훈|younghoon@codeit.kr\n",
      "이윤수|yoonsoo@codeit.kr\n",
      "손동욱|dongwook@codeit.kr\n",
      "</body>\n",
      "\n",
      "</html>\n",
      "        \n",
      "[<class '__main__.CSVExporter'>, <class '__main__.Exporter'>, <class 'abc.ABC'>, <class 'object'>]\n",
      "[<class '__main__.HTMLExporter'>, <class '__main__.Exporter'>, <class 'abc.ABC'>, <class 'object'>]\n"
     ]
    }
   ],
   "source": [
    "from abc import ABC, abstractmethod\n",
    "\n",
    "class Document:\n",
    "    def __init__(self, name, content):\n",
    "        self._name = name\n",
    "        self._content = content\n",
    "\n",
    "    @property\n",
    "    def content(self):\n",
    "        \"\"\"문서의 내용을 리턴한다\"\"\"\n",
    "        return self._content\n",
    "\n",
    "    def __str__(self):\n",
    "        \"\"\"문서의 정보를 문자열로 리턴한다\"\"\"\n",
    "        return \"문서 이름: {}\\n문서 내용:\\n{}\".format(self._name, self._content)\n",
    "\n",
    "class Exporter(ABC):\n",
    "    @abstractmethod\n",
    "    def export(self, new_name, document):\n",
    "        pass\n",
    "\n",
    "class CSVExporter(Exporter):\n",
    "    \"\"\"문서를 csv 형식으로 변환하는 클래스\"\"\"\n",
    "    def export(self, new_name, document):\n",
    "        \"\"\"문서를 변환한 후 주어진 이름으로 리턴한다\"\"\"\n",
    "        print(\"\\nCSV 파일로 변환 중~\")\n",
    "\n",
    "        new_content = document.content.replace(\"|\", \",\")\n",
    "        exported_document = Document(new_name, new_content)\n",
    "\n",
    "        print(\"변환 완료!\\n\")\n",
    "\n",
    "        return exported_document\n",
    "\n",
    "\n",
    "class HTMLExporter(Exporter):\n",
    "    \"\"\"문서를 HTML 형식으로 변환하는 클래스\"\"\"\n",
    "    def export(self, new_name, document):\n",
    "        \"\"\"문서를 변환한 후 주어진 이름으로 리턴한다\"\"\"\n",
    "        print(\"\\nHTML 문서 변환 중~\")\n",
    "\n",
    "        new_content = \"\"\"\n",
    "<!DOCTYPE html>\n",
    "<html>\n",
    "<head>\n",
    "<title>Title of the document</title>\n",
    "</head>\n",
    "\n",
    "<body>\n",
    "{}\n",
    "</body>\n",
    "\n",
    "</html>\n",
    "        \"\"\".format(document.content)\n",
    "        exported_document = Document(new_name, new_content)\n",
    "\n",
    "        print(\"변환 완료!\\n\")\n",
    "\n",
    "        return exported_document\n",
    "\n",
    "    \n",
    "class ExportController():\n",
    "    \"\"\"문서를 특정 파일 형식으로 변환하는 클래스\"\"\"\n",
    "    def __init__(self):\n",
    "        self.exporter = None\n",
    "\n",
    "    def set_exporter(self, exporter: Exporter):\n",
    "        \"\"\"변환하고 싶은 파일 타입에 맞는 변환기를 설정한다\"\"\"\n",
    "        self.exporter = exporter\n",
    "\n",
    "    def run_export(self, new_name, document):\n",
    "        \"\"\"파일을 변환해서 리턴한다\"\"\"\n",
    "        if self.exporter == None:\n",
    "            print(\"변환기를 정해주세요\")\n",
    "            return document\n",
    "\n",
    "        return self.exporter.export(new_name, document)\n",
    "\n",
    "\n",
    "# 변환기 컨트롤러 인스턴스 정의\n",
    "export_handler = ExportController()\n",
    "\n",
    "# csv 변환기 인스턴스, html 변환기 인스턴스 정의\n",
    "csv_exporter = CSVExporter()\n",
    "html_exporter = HTMLExporter()\n",
    "\n",
    "# 변환할 문서 인스턴스 정의\n",
    "document = Document(\n",
    "        \"직원정보.txt\",\n",
    "        \"\"\"\n",
    "이름|이메일\n",
    "강영훈|younghoon@codeit.kr\n",
    "이윤수|yoonsoo@codeit.kr\n",
    "손동욱|dongwook@codeit.kr\"\"\"\n",
    "        )\n",
    "\n",
    "# 기존 문서 출력\n",
    "print(document)\n",
    "\n",
    "# 변환기를 csv 변환기로 설정\n",
    "export_handler.set_exporter(csv_exporter)\n",
    "\n",
    "# 주어진 문서를 csv 문서로 변환\n",
    "exported_document = export_handler.run_export(\"직원정보.csv\", document)\n",
    "# 변환된 문서 출력\n",
    "print(exported_document)\n",
    "\n",
    "export_handler.set_exporter(html_exporter)\n",
    "exported_document = export_handler.run_export(\"직원정보.html\", document)\n",
    "print(exported_document)\n",
    "\n",
    "print(CSVExporter.mro())\n",
    "print(HTMLExporter.mro())"
   ]
  }
 ],
 "metadata": {
  "kernelspec": {
   "display_name": "Python 3 (ipykernel)",
   "language": "python",
   "name": "python3"
  },
  "language_info": {
   "codemirror_mode": {
    "name": "ipython",
    "version": 3
   },
   "file_extension": ".py",
   "mimetype": "text/x-python",
   "name": "python",
   "nbconvert_exporter": "python",
   "pygments_lexer": "ipython3",
   "version": "3.9.7"
  }
 },
 "nbformat": 4,
 "nbformat_minor": 5
}
