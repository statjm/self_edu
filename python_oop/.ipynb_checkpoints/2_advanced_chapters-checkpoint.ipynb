{
 "cells": [
  {
   "cell_type": "markdown",
   "id": "3bf592a2-9b70-4d2e-84c7-6e74932c5ff0",
   "metadata": {},
   "source": [
    "# 추상화"
   ]
  },
  {
   "cell_type": "code",
   "execution_count": 1,
   "id": "516a94ee-f936-4186-b107-fa0d4bac9744",
   "metadata": {
    "execution": {
     "iopub.execute_input": "2022-02-13T04:02:34.198150Z",
     "iopub.status.busy": "2022-02-13T04:02:34.197272Z",
     "iopub.status.idle": "2022-02-13T04:02:34.205203Z",
     "shell.execute_reply": "2022-02-13T04:02:34.204309Z",
     "shell.execute_reply.started": "2022-02-13T04:02:34.198067Z"
    },
    "tags": []
   },
   "outputs": [],
   "source": [
    "bolt_speed = 10.438413361\n",
    "minute = 60"
   ]
  },
  {
   "cell_type": "code",
   "execution_count": 2,
   "id": "de03757c-a989-4a57-b8f8-9f4ab636cf28",
   "metadata": {
    "execution": {
     "iopub.execute_input": "2022-02-13T04:02:44.081289Z",
     "iopub.status.busy": "2022-02-13T04:02:44.081029Z",
     "iopub.status.idle": "2022-02-13T04:02:44.086847Z",
     "shell.execute_reply": "2022-02-13T04:02:44.086071Z",
     "shell.execute_reply.started": "2022-02-13T04:02:44.081270Z"
    },
    "tags": []
   },
   "outputs": [
    {
     "name": "stdout",
     "output_type": "stream",
     "text": [
      "626.3048016600001\n"
     ]
    }
   ],
   "source": [
    "print(bolt_speed * minute)"
   ]
  },
  {
   "cell_type": "code",
   "execution_count": 3,
   "id": "14a4b2b3-cffa-4ad6-8c5c-d24ebad4f568",
   "metadata": {
    "execution": {
     "iopub.execute_input": "2022-02-13T04:02:56.310188Z",
     "iopub.status.busy": "2022-02-13T04:02:56.309529Z",
     "iopub.status.idle": "2022-02-13T04:02:56.315124Z",
     "shell.execute_reply": "2022-02-13T04:02:56.314330Z",
     "shell.execute_reply.started": "2022-02-13T04:02:56.310158Z"
    },
    "tags": []
   },
   "outputs": [
    {
     "name": "stdout",
     "output_type": "stream",
     "text": [
      "1252.6096033200001\n",
      "1878.91440498\n"
     ]
    }
   ],
   "source": [
    "print(bolt_speed * 2 * minute)\n",
    "print(bolt_speed * 3 * minute)"
   ]
  },
  {
   "cell_type": "code",
   "execution_count": 4,
   "id": "3b07b935-9f04-4189-bf45-422af0b1111c",
   "metadata": {
    "execution": {
     "iopub.execute_input": "2022-02-13T04:03:14.852716Z",
     "iopub.status.busy": "2022-02-13T04:03:14.852444Z",
     "iopub.status.idle": "2022-02-13T04:03:14.857135Z",
     "shell.execute_reply": "2022-02-13T04:03:14.856147Z",
     "shell.execute_reply.started": "2022-02-13T04:03:14.852694Z"
    },
    "tags": []
   },
   "outputs": [],
   "source": [
    "def welcome(name):\n",
    "    print(\"Hello, \"+name)\n",
    "    print(\"Welcome to codeit!!\")"
   ]
  },
  {
   "cell_type": "code",
   "execution_count": 5,
   "id": "09a846db-ba39-4548-a184-0e98db2158e7",
   "metadata": {
    "execution": {
     "iopub.execute_input": "2022-02-13T04:03:26.115729Z",
     "iopub.status.busy": "2022-02-13T04:03:26.115326Z",
     "iopub.status.idle": "2022-02-13T04:03:26.120328Z",
     "shell.execute_reply": "2022-02-13T04:03:26.119535Z",
     "shell.execute_reply.started": "2022-02-13T04:03:26.115708Z"
    },
    "tags": []
   },
   "outputs": [
    {
     "name": "stdout",
     "output_type": "stream",
     "text": [
      "Hello, 정맨\n",
      "Welcome to codeit!!\n"
     ]
    }
   ],
   "source": [
    "welcome(\"정맨\")"
   ]
  },
  {
   "cell_type": "code",
   "execution_count": 6,
   "id": "b6c92719-ae12-4e37-ac5a-e9fbab45d88b",
   "metadata": {
    "execution": {
     "iopub.execute_input": "2022-02-13T04:04:48.873602Z",
     "iopub.status.busy": "2022-02-13T04:04:48.872789Z",
     "iopub.status.idle": "2022-02-13T04:04:48.879232Z",
     "shell.execute_reply": "2022-02-13T04:04:48.878390Z",
     "shell.execute_reply.started": "2022-02-13T04:04:48.873565Z"
    },
    "tags": []
   },
   "outputs": [
    {
     "name": "stdout",
     "output_type": "stream",
     "text": [
      "3\n",
      "2\n",
      "6\n"
     ]
    }
   ],
   "source": [
    "example_list = []\n",
    "example_list.append(3)\n",
    "example_list.append(2)\n",
    "example_list.append(6)\n",
    "print(example_list[0])\n",
    "print(example_list[1])\n",
    "print(example_list[2])"
   ]
  },
  {
   "cell_type": "markdown",
   "id": "b97a7899-6164-48db-9407-295d71517d2c",
   "metadata": {},
   "source": [
    "### 추상화 잘하기 : 이름 잘 짓기"
   ]
  },
  {
   "cell_type": "markdown",
   "id": "92d7d436-a78e-46c6-8b79-8e13deae63ec",
   "metadata": {},
   "source": [
    "#### 더 잘하기 : 문서화"
   ]
  },
  {
   "cell_type": "code",
   "execution_count": 9,
   "id": "32f8df60-9b26-4060-acc3-6fc75d44facf",
   "metadata": {
    "execution": {
     "iopub.execute_input": "2022-02-13T04:17:17.605887Z",
     "iopub.status.busy": "2022-02-13T04:17:17.605193Z",
     "iopub.status.idle": "2022-02-13T04:17:17.611062Z",
     "shell.execute_reply": "2022-02-13T04:17:17.610125Z",
     "shell.execute_reply.started": "2022-02-13T04:17:17.605867Z"
    },
    "tags": []
   },
   "outputs": [],
   "source": [
    "# 안좋은 예\n",
    "class SomeClass:\n",
    "    class_variable = 0.02\n",
    "    \n",
    "    def __init__(self, var1, var2):\n",
    "        self.var1 = var1\n",
    "        self.var2 = var2\n",
    "        \n",
    "    def method_1(self, some_value):\n",
    "        self.var2 += some_value\n",
    "        \n",
    "    def method_2(self, some_value):\n",
    "        if self.var2 < some_value:\n",
    "            print(\"Insufficient balance!\")\n",
    "        else:\n",
    "            self.var2 -= some_value\n",
    "        \n",
    "    def method_3(self):\n",
    "        self.var2 *= 1 + SomeClass.class_var"
   ]
  },
  {
   "cell_type": "code",
   "execution_count": 24,
   "id": "cb8f3bd9-2a2c-4ddc-b705-d055802f142b",
   "metadata": {
    "execution": {
     "iopub.execute_input": "2022-02-13T04:25:54.386923Z",
     "iopub.status.busy": "2022-02-13T04:25:54.386629Z",
     "iopub.status.idle": "2022-02-13T04:25:54.393103Z",
     "shell.execute_reply": "2022-02-13T04:25:54.392307Z",
     "shell.execute_reply.started": "2022-02-13T04:25:54.386888Z"
    },
    "tags": []
   },
   "outputs": [],
   "source": [
    "# 좋은 예 ( 문서화 추가 )\n",
    "class BankAccount:\n",
    "    \"\"\"은행 계좌 클래스\"\"\"\n",
    "    interest = 0.02\n",
    "    \n",
    "    def __init__(self, ovewer_name, balance):\n",
    "        \"\"\"인스턴스 변수: name(문자열), balance (실수형)\"\"\"\n",
    "        self.ovewer_name = ovewer_name\n",
    "        self.balance = balance\n",
    "        \n",
    "    def deposit(self, amount):\n",
    "        \"\"\"잔액 인스턴스 balance를 파라미터 amount만큼 늘려주는 메소드\"\"\"\n",
    "        self.balance += amount\n",
    "        \n",
    "    def withdraw(self, amount):\n",
    "        \"\"\"잔액 인스턴스 balance를 파라미터 amount만큼 줄여주는 메소드\"\"\"\n",
    "        if self.balance < amount:\n",
    "            print(\"Insufficient balance!\")\n",
    "        else:\n",
    "            self.balance -= amount\n",
    "        \n",
    "    def add_interest(self):\n",
    "        \"\"\"잔액 인스턴스 balance를 파라미터 이자율만큼 늘여주는 메소드\"\"\"\n",
    "        self.balance *= 1 + BankAccount.interest\n"
   ]
  },
  {
   "cell_type": "code",
   "execution_count": 14,
   "id": "8a8bb651-ac7a-40f5-9a37-59c33456d5ba",
   "metadata": {
    "execution": {
     "iopub.execute_input": "2022-02-13T04:19:55.084423Z",
     "iopub.status.busy": "2022-02-13T04:19:55.084061Z",
     "iopub.status.idle": "2022-02-13T04:19:55.087878Z",
     "shell.execute_reply": "2022-02-13T04:19:55.087021Z",
     "shell.execute_reply.started": "2022-02-13T04:19:55.084403Z"
    },
    "tags": []
   },
   "outputs": [],
   "source": [
    "example_account = BankAccount(\"정민\", 1000)"
   ]
  },
  {
   "cell_type": "code",
   "execution_count": 15,
   "id": "3632931b-487b-4a85-8895-9a7192eb0f34",
   "metadata": {
    "execution": {
     "iopub.execute_input": "2022-02-13T04:20:00.980768Z",
     "iopub.status.busy": "2022-02-13T04:20:00.980320Z",
     "iopub.status.idle": "2022-02-13T04:20:00.984359Z",
     "shell.execute_reply": "2022-02-13T04:20:00.983358Z",
     "shell.execute_reply.started": "2022-02-13T04:20:00.980746Z"
    },
    "tags": []
   },
   "outputs": [],
   "source": [
    "example_account.add_interest()"
   ]
  },
  {
   "cell_type": "code",
   "execution_count": 16,
   "id": "933904dc-e813-47a4-bbe8-d3dd8d9036e8",
   "metadata": {
    "execution": {
     "iopub.execute_input": "2022-02-13T04:20:13.568469Z",
     "iopub.status.busy": "2022-02-13T04:20:13.567273Z",
     "iopub.status.idle": "2022-02-13T04:20:13.573250Z",
     "shell.execute_reply": "2022-02-13T04:20:13.572416Z",
     "shell.execute_reply.started": "2022-02-13T04:20:13.568416Z"
    },
    "tags": []
   },
   "outputs": [
    {
     "name": "stdout",
     "output_type": "stream",
     "text": [
      "1020.0\n"
     ]
    }
   ],
   "source": [
    "print(example_account.balance)"
   ]
  },
  {
   "cell_type": "code",
   "execution_count": 17,
   "id": "17f5990f-07a5-4770-9c7e-fd3ad8d00806",
   "metadata": {
    "execution": {
     "iopub.execute_input": "2022-02-13T04:20:46.144067Z",
     "iopub.status.busy": "2022-02-13T04:20:46.143858Z",
     "iopub.status.idle": "2022-02-13T04:20:46.148802Z",
     "shell.execute_reply": "2022-02-13T04:20:46.147806Z",
     "shell.execute_reply.started": "2022-02-13T04:20:46.144048Z"
    },
    "tags": []
   },
   "outputs": [
    {
     "name": "stdout",
     "output_type": "stream",
     "text": [
      "1520.0\n"
     ]
    }
   ],
   "source": [
    "example_account.deposit(500)\n",
    "print(example_account.balance)"
   ]
  },
  {
   "cell_type": "code",
   "execution_count": 19,
   "id": "5c8ba813-a527-44a0-91dd-1a2866c9515a",
   "metadata": {
    "execution": {
     "iopub.execute_input": "2022-02-13T04:21:23.872036Z",
     "iopub.status.busy": "2022-02-13T04:21:23.871695Z",
     "iopub.status.idle": "2022-02-13T04:21:23.875625Z",
     "shell.execute_reply": "2022-02-13T04:21:23.874709Z",
     "shell.execute_reply.started": "2022-02-13T04:21:23.872014Z"
    },
    "tags": []
   },
   "outputs": [],
   "source": [
    "example_account.withdraw(1000)"
   ]
  },
  {
   "cell_type": "code",
   "execution_count": 20,
   "id": "437cd8e7-ad7d-45a1-ac95-416caf7cada6",
   "metadata": {
    "execution": {
     "iopub.execute_input": "2022-02-13T04:21:28.624334Z",
     "iopub.status.busy": "2022-02-13T04:21:28.624161Z",
     "iopub.status.idle": "2022-02-13T04:21:28.634320Z",
     "shell.execute_reply": "2022-02-13T04:21:28.633483Z",
     "shell.execute_reply.started": "2022-02-13T04:21:28.624317Z"
    },
    "tags": []
   },
   "outputs": [
    {
     "data": {
      "text/plain": [
       "520.0"
      ]
     },
     "execution_count": 20,
     "metadata": {},
     "output_type": "execute_result"
    }
   ],
   "source": [
    "example_account.balance"
   ]
  },
  {
   "cell_type": "markdown",
   "id": "99660d88-5d73-46c0-9377-48c30973e61f",
   "metadata": {},
   "source": [
    "#### docstring 보려면 `help()`"
   ]
  },
  {
   "cell_type": "code",
   "execution_count": 25,
   "id": "14ff5e30-fb66-4c8d-8af3-ee4e0e929c72",
   "metadata": {
    "execution": {
     "iopub.execute_input": "2022-02-13T04:26:48.269570Z",
     "iopub.status.busy": "2022-02-13T04:26:48.269003Z",
     "iopub.status.idle": "2022-02-13T04:26:48.274375Z",
     "shell.execute_reply": "2022-02-13T04:26:48.273261Z",
     "shell.execute_reply.started": "2022-02-13T04:26:48.269550Z"
    },
    "tags": []
   },
   "outputs": [
    {
     "name": "stdout",
     "output_type": "stream",
     "text": [
      "Help on class BankAccount in module __main__:\n",
      "\n",
      "class BankAccount(builtins.object)\n",
      " |  BankAccount(ovewer_name, balance)\n",
      " |  \n",
      " |  은행 계좌 클래스\n",
      " |  \n",
      " |  Methods defined here:\n",
      " |  \n",
      " |  __init__(self, ovewer_name, balance)\n",
      " |      인스턴스 변수: name(문자열), balance (실수형)\n",
      " |  \n",
      " |  add_interest(self)\n",
      " |      잔액 인스턴스 balance를 파라미터 이자율만큼 늘여주는 메소드\n",
      " |  \n",
      " |  deposit(self, amount)\n",
      " |      잔액 인스턴스 balance를 파라미터 amount만큼 늘려주는 메소드\n",
      " |  \n",
      " |  withdraw(self, amount)\n",
      " |      잔액 인스턴스 balance를 파라미터 amount만큼 줄여주는 메소드\n",
      " |  \n",
      " |  ----------------------------------------------------------------------\n",
      " |  Data descriptors defined here:\n",
      " |  \n",
      " |  __dict__\n",
      " |      dictionary for instance variables (if defined)\n",
      " |  \n",
      " |  __weakref__\n",
      " |      list of weak references to the object (if defined)\n",
      " |  \n",
      " |  ----------------------------------------------------------------------\n",
      " |  Data and other attributes defined here:\n",
      " |  \n",
      " |  interest = 0.02\n",
      "\n"
     ]
    }
   ],
   "source": [
    "help(BankAccount)"
   ]
  },
  {
   "cell_type": "code",
   "execution_count": 27,
   "id": "8d68609d-700e-46b6-9da6-02eecf2a1acd",
   "metadata": {
    "execution": {
     "iopub.execute_input": "2022-02-13T04:27:54.644015Z",
     "iopub.status.busy": "2022-02-13T04:27:54.643817Z",
     "iopub.status.idle": "2022-02-13T04:27:54.656220Z",
     "shell.execute_reply": "2022-02-13T04:27:54.655438Z",
     "shell.execute_reply.started": "2022-02-13T04:27:54.643998Z"
    },
    "tags": []
   },
   "outputs": [
    {
     "name": "stdout",
     "output_type": "stream",
     "text": [
      "Help on class list in module builtins:\n",
      "\n",
      "class list(object)\n",
      " |  list(iterable=(), /)\n",
      " |  \n",
      " |  Built-in mutable sequence.\n",
      " |  \n",
      " |  If no argument is given, the constructor creates a new empty list.\n",
      " |  The argument must be an iterable if specified.\n",
      " |  \n",
      " |  Methods defined here:\n",
      " |  \n",
      " |  __add__(self, value, /)\n",
      " |      Return self+value.\n",
      " |  \n",
      " |  __contains__(self, key, /)\n",
      " |      Return key in self.\n",
      " |  \n",
      " |  __delitem__(self, key, /)\n",
      " |      Delete self[key].\n",
      " |  \n",
      " |  __eq__(self, value, /)\n",
      " |      Return self==value.\n",
      " |  \n",
      " |  __ge__(self, value, /)\n",
      " |      Return self>=value.\n",
      " |  \n",
      " |  __getattribute__(self, name, /)\n",
      " |      Return getattr(self, name).\n",
      " |  \n",
      " |  __getitem__(...)\n",
      " |      x.__getitem__(y) <==> x[y]\n",
      " |  \n",
      " |  __gt__(self, value, /)\n",
      " |      Return self>value.\n",
      " |  \n",
      " |  __iadd__(self, value, /)\n",
      " |      Implement self+=value.\n",
      " |  \n",
      " |  __imul__(self, value, /)\n",
      " |      Implement self*=value.\n",
      " |  \n",
      " |  __init__(self, /, *args, **kwargs)\n",
      " |      Initialize self.  See help(type(self)) for accurate signature.\n",
      " |  \n",
      " |  __iter__(self, /)\n",
      " |      Implement iter(self).\n",
      " |  \n",
      " |  __le__(self, value, /)\n",
      " |      Return self<=value.\n",
      " |  \n",
      " |  __len__(self, /)\n",
      " |      Return len(self).\n",
      " |  \n",
      " |  __lt__(self, value, /)\n",
      " |      Return self<value.\n",
      " |  \n",
      " |  __mul__(self, value, /)\n",
      " |      Return self*value.\n",
      " |  \n",
      " |  __ne__(self, value, /)\n",
      " |      Return self!=value.\n",
      " |  \n",
      " |  __repr__(self, /)\n",
      " |      Return repr(self).\n",
      " |  \n",
      " |  __reversed__(self, /)\n",
      " |      Return a reverse iterator over the list.\n",
      " |  \n",
      " |  __rmul__(self, value, /)\n",
      " |      Return value*self.\n",
      " |  \n",
      " |  __setitem__(self, key, value, /)\n",
      " |      Set self[key] to value.\n",
      " |  \n",
      " |  __sizeof__(self, /)\n",
      " |      Return the size of the list in memory, in bytes.\n",
      " |  \n",
      " |  append(self, object, /)\n",
      " |      Append object to the end of the list.\n",
      " |  \n",
      " |  clear(self, /)\n",
      " |      Remove all items from list.\n",
      " |  \n",
      " |  copy(self, /)\n",
      " |      Return a shallow copy of the list.\n",
      " |  \n",
      " |  count(self, value, /)\n",
      " |      Return number of occurrences of value.\n",
      " |  \n",
      " |  extend(self, iterable, /)\n",
      " |      Extend list by appending elements from the iterable.\n",
      " |  \n",
      " |  index(self, value, start=0, stop=9223372036854775807, /)\n",
      " |      Return first index of value.\n",
      " |      \n",
      " |      Raises ValueError if the value is not present.\n",
      " |  \n",
      " |  insert(self, index, object, /)\n",
      " |      Insert object before index.\n",
      " |  \n",
      " |  pop(self, index=-1, /)\n",
      " |      Remove and return item at index (default last).\n",
      " |      \n",
      " |      Raises IndexError if list is empty or index is out of range.\n",
      " |  \n",
      " |  remove(self, value, /)\n",
      " |      Remove first occurrence of value.\n",
      " |      \n",
      " |      Raises ValueError if the value is not present.\n",
      " |  \n",
      " |  reverse(self, /)\n",
      " |      Reverse *IN PLACE*.\n",
      " |  \n",
      " |  sort(self, /, *, key=None, reverse=False)\n",
      " |      Sort the list in ascending order and return None.\n",
      " |      \n",
      " |      The sort is in-place (i.e. the list itself is modified) and stable (i.e. the\n",
      " |      order of two equal elements is maintained).\n",
      " |      \n",
      " |      If a key function is given, apply it once to each list item and sort them,\n",
      " |      ascending or descending, according to their function values.\n",
      " |      \n",
      " |      The reverse flag can be set to sort in descending order.\n",
      " |  \n",
      " |  ----------------------------------------------------------------------\n",
      " |  Class methods defined here:\n",
      " |  \n",
      " |  __class_getitem__(...) from builtins.type\n",
      " |      See PEP 585\n",
      " |  \n",
      " |  ----------------------------------------------------------------------\n",
      " |  Static methods defined here:\n",
      " |  \n",
      " |  __new__(*args, **kwargs) from builtins.type\n",
      " |      Create and return a new object.  See help(type) for accurate signature.\n",
      " |  \n",
      " |  ----------------------------------------------------------------------\n",
      " |  Data and other attributes defined here:\n",
      " |  \n",
      " |  __hash__ = None\n",
      "\n"
     ]
    }
   ],
   "source": [
    "help(list)"
   ]
  },
  {
   "cell_type": "markdown",
   "id": "2055a9e6-7789-4ec8-b9a9-a7ea66363788",
   "metadata": {},
   "source": [
    "### 문서화 포맷 3가지"
   ]
  },
  {
   "cell_type": "markdown",
   "id": "1b226e4b-d03c-4414-9622-f1badc4a14b7",
   "metadata": {},
   "source": [
    "#### Google docstring"
   ]
  },
  {
   "cell_type": "code",
   "execution_count": 28,
   "id": "49e0ef4f-a272-4da3-bee8-84e09573138f",
   "metadata": {
    "execution": {
     "iopub.execute_input": "2022-02-13T04:30:55.632244Z",
     "iopub.status.busy": "2022-02-13T04:30:55.631983Z",
     "iopub.status.idle": "2022-02-13T04:30:55.636773Z",
     "shell.execute_reply": "2022-02-13T04:30:55.635967Z",
     "shell.execute_reply.started": "2022-02-13T04:30:55.632224Z"
    },
    "tags": []
   },
   "outputs": [
    {
     "data": {
      "text/plain": [
       "'유저에게 추천할 영상을 찾아준다\\nParameters:\\n  number_of_suggestions (int): 추천하고 싶은 영상 수\\n    (기본값은 5)\\n    \\nReturns:\\n  list: 추천할 영상 주소가 담긴 리스트\\n'"
      ]
     },
     "execution_count": 28,
     "metadata": {},
     "output_type": "execute_result"
    }
   ],
   "source": [
    "\"\"\"유저에게 추천할 영상을 찾아준다\n",
    "Parameters:\n",
    "  number_of_suggestions (int): 추천하고 싶은 영상 수\n",
    "    (기본값은 5)\n",
    "    \n",
    "Returns:\n",
    "  list: 추천할 영상 주소가 담긴 리스트\n",
    "\"\"\""
   ]
  },
  {
   "cell_type": "markdown",
   "id": "33663728-a509-4b84-885e-ec1623638a25",
   "metadata": {},
   "source": [
    "#### reStructuredText(파이썬 공식 문서화 기준)"
   ]
  },
  {
   "cell_type": "code",
   "execution_count": 29,
   "id": "1c1835e1-2e70-4fe6-80e7-8a016dc8fc64",
   "metadata": {
    "execution": {
     "iopub.execute_input": "2022-02-13T04:31:01.358028Z",
     "iopub.status.busy": "2022-02-13T04:31:01.357200Z",
     "iopub.status.idle": "2022-02-13T04:31:01.362640Z",
     "shell.execute_reply": "2022-02-13T04:31:01.361639Z",
     "shell.execute_reply.started": "2022-02-13T04:31:01.358008Z"
    },
    "tags": []
   },
   "outputs": [
    {
     "data": {
      "text/plain": [
       "'유저에게 추천할 영상을 찾아준다\\n    \\n:param number_of_suggestions: 추천하고 싶은 영상 수\\n  (기본값은 5)\\n:type number_of_suggestions: int\\n:returns: 추천할 영상 주소가 담긴 리스트\\n:rtype: list\\n'"
      ]
     },
     "execution_count": 29,
     "metadata": {},
     "output_type": "execute_result"
    }
   ],
   "source": [
    "\"\"\"유저에게 추천할 영상을 찾아준다\n",
    "    \n",
    ":param number_of_suggestions: 추천하고 싶은 영상 수\n",
    "  (기본값은 5)\n",
    ":type number_of_suggestions: int\n",
    ":returns: 추천할 영상 주소가 담긴 리스트\n",
    ":rtype: list\n",
    "\"\"\""
   ]
  },
  {
   "cell_type": "markdown",
   "id": "507b6529-a8ee-4694-a723-8a270722c0f9",
   "metadata": {},
   "source": [
    "#### NumPy/SciPy (통계, 과학 분야에서 쓰이는 Python 라이브러리)"
   ]
  },
  {
   "cell_type": "code",
   "execution_count": 30,
   "id": "466f53ac-cc86-4fe5-a696-06cf456041e5",
   "metadata": {
    "execution": {
     "iopub.execute_input": "2022-02-13T04:31:13.818275Z",
     "iopub.status.busy": "2022-02-13T04:31:13.817469Z",
     "iopub.status.idle": "2022-02-13T04:31:13.822895Z",
     "shell.execute_reply": "2022-02-13T04:31:13.822125Z",
     "shell.execute_reply.started": "2022-02-13T04:31:13.818255Z"
    },
    "tags": []
   },
   "outputs": [
    {
     "data": {
      "text/plain": [
       "'유저에게 추천할 영상을 찾아준다\\n    \\nParameters\\n----------\\nnumber_of_suggestions: int\\n  추천하고 싶은 영상 수 (기본값은 5)\\n    \\nReturns\\n-------\\nlist \\n  추천할 영상 주소가 담긴 리스트\\n'"
      ]
     },
     "execution_count": 30,
     "metadata": {},
     "output_type": "execute_result"
    }
   ],
   "source": [
    "\"\"\"유저에게 추천할 영상을 찾아준다\n",
    "    \n",
    "Parameters\n",
    "----------\n",
    "number_of_suggestions: int\n",
    "  추천하고 싶은 영상 수 (기본값은 5)\n",
    "    \n",
    "Returns\n",
    "-------\n",
    "list \n",
    "  추천할 영상 주소가 담긴 리스트\n",
    "\"\"\""
   ]
  },
  {
   "cell_type": "markdown",
   "id": "8749185c-92ab-4311-91f2-7631f10628f2",
   "metadata": {},
   "source": [
    "### Type hinting"
   ]
  },
  {
   "cell_type": "code",
   "execution_count": 31,
   "id": "74b1b33f-1f28-43d7-9e18-09510e72ea9e",
   "metadata": {
    "execution": {
     "iopub.execute_input": "2022-02-13T04:39:34.727822Z",
     "iopub.status.busy": "2022-02-13T04:39:34.727268Z",
     "iopub.status.idle": "2022-02-13T04:39:34.733689Z",
     "shell.execute_reply": "2022-02-13T04:39:34.732665Z",
     "shell.execute_reply.started": "2022-02-13T04:39:34.727803Z"
    },
    "tags": []
   },
   "outputs": [],
   "source": [
    "class BankAccount:\n",
    "    \"\"\"은행 계좌 클래스\"\"\"\n",
    "    interest: float = 0.02 # 콜론 후 변수 type\n",
    "    \n",
    "    def __init__(self, ovewer_name: str, balance: float) -> None:\n",
    "        \"\"\"인스턴스 변수: name(문자열), balance (실수형)\"\"\"\n",
    "        self.ovewer_name = ovewer_name\n",
    "        self.balance = balance\n",
    "        \n",
    "    def deposit(self, amount: float) -> None: # 메소드 여기\n",
    "        \"\"\"잔액 인스턴스 balance를 파라미터 amount만큼 늘려주는 메소드\"\"\"\n",
    "        self.balance += amount\n",
    "        \n",
    "    def withdraw(self, amount: float) -> None:\n",
    "        \"\"\"잔액 인스턴스 balance를 파라미터 amount만큼 줄여주는 메소드\"\"\"\n",
    "        if self.balance < amount:\n",
    "            print(\"Insufficient balance!\")\n",
    "        else:\n",
    "            self.balance -= amount\n",
    "        \n",
    "    def add_interest(self) -> None:\n",
    "        \"\"\"잔액 인스턴스 balance를 파라미터 이자율만큼 늘여주는 메소드\"\"\"\n",
    "        self.balance *= 1 + BankAccount.interest"
   ]
  },
  {
   "cell_type": "code",
   "execution_count": 32,
   "id": "ebec5848-ae57-4421-b400-d484d1ab4e69",
   "metadata": {
    "execution": {
     "iopub.execute_input": "2022-02-13T04:40:14.292282Z",
     "iopub.status.busy": "2022-02-13T04:40:14.291713Z",
     "iopub.status.idle": "2022-02-13T04:40:14.295622Z",
     "shell.execute_reply": "2022-02-13T04:40:14.294847Z",
     "shell.execute_reply.started": "2022-02-13T04:40:14.292260Z"
    },
    "tags": []
   },
   "outputs": [],
   "source": [
    "example_account = BankAccount(\"정민\", 1000)"
   ]
  },
  {
   "cell_type": "code",
   "execution_count": 33,
   "id": "f70fe720-14c8-4539-999e-1356bc59a845",
   "metadata": {
    "execution": {
     "iopub.execute_input": "2022-02-13T04:40:14.755395Z",
     "iopub.status.busy": "2022-02-13T04:40:14.755138Z",
     "iopub.status.idle": "2022-02-13T04:40:14.759353Z",
     "shell.execute_reply": "2022-02-13T04:40:14.758411Z",
     "shell.execute_reply.started": "2022-02-13T04:40:14.755364Z"
    },
    "tags": []
   },
   "outputs": [],
   "source": [
    "example_account.add_interest()"
   ]
  },
  {
   "cell_type": "code",
   "execution_count": 34,
   "id": "dc1e60eb-a7c9-4b9f-81fd-2ea31a1dcf28",
   "metadata": {
    "execution": {
     "iopub.execute_input": "2022-02-13T04:40:15.166877Z",
     "iopub.status.busy": "2022-02-13T04:40:15.166685Z",
     "iopub.status.idle": "2022-02-13T04:40:15.172050Z",
     "shell.execute_reply": "2022-02-13T04:40:15.171300Z",
     "shell.execute_reply.started": "2022-02-13T04:40:15.166860Z"
    },
    "tags": []
   },
   "outputs": [
    {
     "name": "stdout",
     "output_type": "stream",
     "text": [
      "1020.0\n"
     ]
    }
   ],
   "source": [
    "print(example_account.balance)"
   ]
  },
  {
   "cell_type": "code",
   "execution_count": 35,
   "id": "01606fbd-1c64-4003-b848-0da5819dfaa1",
   "metadata": {
    "execution": {
     "iopub.execute_input": "2022-02-13T04:40:15.608925Z",
     "iopub.status.busy": "2022-02-13T04:40:15.608646Z",
     "iopub.status.idle": "2022-02-13T04:40:15.614552Z",
     "shell.execute_reply": "2022-02-13T04:40:15.613414Z",
     "shell.execute_reply.started": "2022-02-13T04:40:15.608895Z"
    },
    "tags": []
   },
   "outputs": [
    {
     "name": "stdout",
     "output_type": "stream",
     "text": [
      "1520.0\n"
     ]
    }
   ],
   "source": [
    "example_account.deposit(500)\n",
    "print(example_account.balance)"
   ]
  },
  {
   "cell_type": "code",
   "execution_count": 36,
   "id": "c54bf113-ec3e-4939-869e-f63d842524c5",
   "metadata": {
    "execution": {
     "iopub.execute_input": "2022-02-13T04:40:15.789956Z",
     "iopub.status.busy": "2022-02-13T04:40:15.789709Z",
     "iopub.status.idle": "2022-02-13T04:40:15.807238Z",
     "shell.execute_reply": "2022-02-13T04:40:15.806451Z",
     "shell.execute_reply.started": "2022-02-13T04:40:15.789909Z"
    },
    "tags": []
   },
   "outputs": [],
   "source": [
    "example_account.withdraw(1000)"
   ]
  },
  {
   "cell_type": "code",
   "execution_count": 37,
   "id": "59cbd4ba-bbe7-4084-b049-af95f56eeb5a",
   "metadata": {
    "execution": {
     "iopub.execute_input": "2022-02-13T04:40:15.969287Z",
     "iopub.status.busy": "2022-02-13T04:40:15.969102Z",
     "iopub.status.idle": "2022-02-13T04:40:15.973783Z",
     "shell.execute_reply": "2022-02-13T04:40:15.973071Z",
     "shell.execute_reply.started": "2022-02-13T04:40:15.969268Z"
    },
    "tags": []
   },
   "outputs": [
    {
     "data": {
      "text/plain": [
       "520.0"
      ]
     },
     "execution_count": 37,
     "metadata": {},
     "output_type": "execute_result"
    }
   ],
   "source": [
    "example_account.balance"
   ]
  },
  {
   "cell_type": "code",
   "execution_count": 38,
   "id": "3ece7b58-af08-4095-b53e-0c56537c84b8",
   "metadata": {
    "execution": {
     "iopub.execute_input": "2022-02-13T04:41:24.051622Z",
     "iopub.status.busy": "2022-02-13T04:41:24.050777Z",
     "iopub.status.idle": "2022-02-13T04:41:24.055083Z",
     "shell.execute_reply": "2022-02-13T04:41:24.054335Z",
     "shell.execute_reply.started": "2022-02-13T04:41:24.051600Z"
    }
   },
   "outputs": [],
   "source": [
    "bank_account_2 = BankAccount(\"정민\", \"1000\")"
   ]
  },
  {
   "cell_type": "code",
   "execution_count": 39,
   "id": "92b2ea4d-5195-4dd2-87bb-91c294199152",
   "metadata": {
    "execution": {
     "iopub.execute_input": "2022-02-13T04:41:25.302029Z",
     "iopub.status.busy": "2022-02-13T04:41:25.301845Z",
     "iopub.status.idle": "2022-02-13T04:41:25.306810Z",
     "shell.execute_reply": "2022-02-13T04:41:25.306011Z",
     "shell.execute_reply.started": "2022-02-13T04:41:25.302011Z"
    }
   },
   "outputs": [
    {
     "name": "stdout",
     "output_type": "stream",
     "text": [
      "1000\n"
     ]
    }
   ],
   "source": [
    "print(bank_account_2.balance)"
   ]
  },
  {
   "cell_type": "code",
   "execution_count": 42,
   "id": "54e8f7fe-ddc2-4784-9026-1e1b9b85e306",
   "metadata": {
    "execution": {
     "iopub.execute_input": "2022-02-13T04:41:49.697145Z",
     "iopub.status.busy": "2022-02-13T04:41:49.696878Z",
     "iopub.status.idle": "2022-02-13T04:41:49.700750Z",
     "shell.execute_reply": "2022-02-13T04:41:49.699749Z",
     "shell.execute_reply.started": "2022-02-13T04:41:49.697124Z"
    },
    "tags": []
   },
   "outputs": [],
   "source": [
    "bank_account_2.deposit(\"00\")"
   ]
  },
  {
   "cell_type": "code",
   "execution_count": 43,
   "id": "a341ecda-b137-467b-9f65-03eccabcc584",
   "metadata": {
    "execution": {
     "iopub.execute_input": "2022-02-13T04:41:50.141656Z",
     "iopub.status.busy": "2022-02-13T04:41:50.141114Z",
     "iopub.status.idle": "2022-02-13T04:41:50.145681Z",
     "shell.execute_reply": "2022-02-13T04:41:50.144812Z",
     "shell.execute_reply.started": "2022-02-13T04:41:50.141636Z"
    },
    "tags": []
   },
   "outputs": [
    {
     "name": "stdout",
     "output_type": "stream",
     "text": [
      "100000\n"
     ]
    }
   ],
   "source": [
    "print(bank_account_2.balance)"
   ]
  },
  {
   "cell_type": "markdown",
   "id": "abd7ee76-d893-4d41-966b-3b8e388d1422",
   "metadata": {},
   "source": [
    "# 캡슐화"
   ]
  },
  {
   "cell_type": "code",
   "execution_count": 53,
   "id": "2168e54e-ba73-426a-9f92-3b7a50827ae3",
   "metadata": {
    "execution": {
     "iopub.execute_input": "2022-02-13T05:34:52.915071Z",
     "iopub.status.busy": "2022-02-13T05:34:52.914553Z",
     "iopub.status.idle": "2022-02-13T05:34:52.919838Z",
     "shell.execute_reply": "2022-02-13T05:34:52.918957Z",
     "shell.execute_reply.started": "2022-02-13T05:34:52.915049Z"
    },
    "tags": []
   },
   "outputs": [],
   "source": [
    "class Citizen:\n",
    "    \"\"\"주민 클래스\"\"\"\n",
    "    drinking_age = 19\n",
    "    \n",
    "    def __init__(self, name, age, resident_id):\n",
    "        \"\"\"이름, 나이, 주민등록번호\"\"\"\n",
    "        self.name = name\n",
    "        self.__age = age\n",
    "        self.__resident_id = resident_id\n",
    "        \n",
    "    def authenticate(self, id_field):\n",
    "        \"\"\"본인이 맞는지 확인\"\"\"\n",
    "        return self.__resident_id == id_field\n",
    "    \n",
    "    def can_drink(self):\n",
    "        \"\"\"음주 가능 나이 확인\"\"\"\n",
    "        return self.__age >= Citizen.drinking_age\n",
    "    \n",
    "    def __str__(self):\n",
    "        \"\"\"주민 정보를 문자열로 리턴하는 메소드\"\"\"\n",
    "        return self.name + \"씨는 \" + str(self.__age) + \"살입니다!\"\n"
   ]
  },
  {
   "cell_type": "code",
   "execution_count": 45,
   "id": "588a0930-8a2b-4599-9e46-5ee51a8313a9",
   "metadata": {
    "execution": {
     "iopub.execute_input": "2022-02-13T05:31:07.606843Z",
     "iopub.status.busy": "2022-02-13T05:31:07.606402Z",
     "iopub.status.idle": "2022-02-13T05:31:07.611384Z",
     "shell.execute_reply": "2022-02-13T05:31:07.610671Z",
     "shell.execute_reply.started": "2022-02-13T05:31:07.606822Z"
    },
    "tags": []
   },
   "outputs": [
    {
     "name": "stdout",
     "output_type": "stream",
     "text": [
      "12345678\n",
      "최규식씨는 -12살입니다!\n"
     ]
    }
   ],
   "source": [
    "kyusik = Citizen(\"최규식\", 25, \"12345678\")\n",
    "young = Citizen(\"youhoon kang\", 5, \"87654321\")\n",
    "\n",
    "print(kyusik.resident_id)\n",
    "kyusik.age = -12\n",
    "print(kyusik)"
   ]
  },
  {
   "cell_type": "code",
   "execution_count": 46,
   "id": "c9f7c69a-7ce9-4d8c-8071-680a3fdb82ba",
   "metadata": {
    "execution": {
     "iopub.execute_input": "2022-02-13T05:31:13.282818Z",
     "iopub.status.busy": "2022-02-13T05:31:13.282613Z",
     "iopub.status.idle": "2022-02-13T05:31:13.286683Z",
     "shell.execute_reply": "2022-02-13T05:31:13.285710Z",
     "shell.execute_reply.started": "2022-02-13T05:31:13.282800Z"
    },
    "tags": []
   },
   "outputs": [],
   "source": [
    "young.age = 20"
   ]
  },
  {
   "cell_type": "code",
   "execution_count": 47,
   "id": "9d5f81e5-d19a-4b6a-80d2-32e36baf8990",
   "metadata": {
    "execution": {
     "iopub.execute_input": "2022-02-13T05:31:20.697491Z",
     "iopub.status.busy": "2022-02-13T05:31:20.697317Z",
     "iopub.status.idle": "2022-02-13T05:31:20.701798Z",
     "shell.execute_reply": "2022-02-13T05:31:20.701054Z",
     "shell.execute_reply.started": "2022-02-13T05:31:20.697473Z"
    },
    "tags": []
   },
   "outputs": [
    {
     "name": "stdout",
     "output_type": "stream",
     "text": [
      "True\n"
     ]
    }
   ],
   "source": [
    "print(young.can_drink())"
   ]
  },
  {
   "cell_type": "markdown",
   "id": "c35bf8df-5b9e-4e2a-a61e-90b711bf133e",
   "metadata": {},
   "source": [
    "### 메소드나 변수에 \"__\" 붙이기"
   ]
  },
  {
   "cell_type": "code",
   "execution_count": 52,
   "id": "b6ac8a92-6cbb-49e6-9ac6-e61f9e1369ee",
   "metadata": {
    "execution": {
     "iopub.execute_input": "2022-02-13T05:34:26.402561Z",
     "iopub.status.busy": "2022-02-13T05:34:26.402207Z",
     "iopub.status.idle": "2022-02-13T05:34:26.408979Z",
     "shell.execute_reply": "2022-02-13T05:34:26.407821Z",
     "shell.execute_reply.started": "2022-02-13T05:34:26.402538Z"
    },
    "tags": []
   },
   "outputs": [
    {
     "ename": "AttributeError",
     "evalue": "'Citizen' object has no attribute '__age'",
     "output_type": "error",
     "traceback": [
      "\u001b[0;31m---------------------------------------------------------------------------\u001b[0m",
      "\u001b[0;31mAttributeError\u001b[0m                            Traceback (most recent call last)",
      "\u001b[0;32m/tmp/ipykernel_62/3572570565.py\u001b[0m in \u001b[0;36m<module>\u001b[0;34m\u001b[0m\n\u001b[1;32m      1\u001b[0m \u001b[0mkyusik\u001b[0m \u001b[0;34m=\u001b[0m \u001b[0mCitizen\u001b[0m\u001b[0;34m(\u001b[0m\u001b[0;34m\"최규식\"\u001b[0m\u001b[0;34m,\u001b[0m \u001b[0;36m25\u001b[0m\u001b[0;34m,\u001b[0m \u001b[0;34m\"12345678\"\u001b[0m\u001b[0;34m)\u001b[0m\u001b[0;34m\u001b[0m\u001b[0;34m\u001b[0m\u001b[0m\n\u001b[0;32m----> 2\u001b[0;31m \u001b[0mprint\u001b[0m\u001b[0;34m(\u001b[0m\u001b[0mkyusik\u001b[0m\u001b[0;34m.\u001b[0m\u001b[0m__age\u001b[0m\u001b[0;34m)\u001b[0m\u001b[0;34m\u001b[0m\u001b[0;34m\u001b[0m\u001b[0m\n\u001b[0m",
      "\u001b[0;31mAttributeError\u001b[0m: 'Citizen' object has no attribute '__age'"
     ]
    }
   ],
   "source": [
    "kyusik = Citizen(\"최규식\", 25, \"12345678\")\n",
    "print(kyusik.__age)"
   ]
  },
  {
   "cell_type": "code",
   "execution_count": 54,
   "id": "758fe7f6-9755-4d90-9304-6d0be9e9591b",
   "metadata": {
    "execution": {
     "iopub.execute_input": "2022-02-13T05:35:16.212768Z",
     "iopub.status.busy": "2022-02-13T05:35:16.211755Z",
     "iopub.status.idle": "2022-02-13T05:35:16.219668Z",
     "shell.execute_reply": "2022-02-13T05:35:16.218848Z",
     "shell.execute_reply.started": "2022-02-13T05:35:16.212734Z"
    },
    "tags": []
   },
   "outputs": [
    {
     "ename": "AttributeError",
     "evalue": "'Citizen' object has no attribute '__authenticate'",
     "output_type": "error",
     "traceback": [
      "\u001b[0;31m---------------------------------------------------------------------------\u001b[0m",
      "\u001b[0;31mAttributeError\u001b[0m                            Traceback (most recent call last)",
      "\u001b[0;32m/tmp/ipykernel_62/467263004.py\u001b[0m in \u001b[0;36m<module>\u001b[0;34m\u001b[0m\n\u001b[1;32m      1\u001b[0m \u001b[0mkyusik\u001b[0m \u001b[0;34m=\u001b[0m \u001b[0mCitizen\u001b[0m\u001b[0;34m(\u001b[0m\u001b[0;34m\"최규식\"\u001b[0m\u001b[0;34m,\u001b[0m \u001b[0;36m25\u001b[0m\u001b[0;34m,\u001b[0m \u001b[0;34m\"12345678\"\u001b[0m\u001b[0;34m)\u001b[0m\u001b[0;34m\u001b[0m\u001b[0;34m\u001b[0m\u001b[0m\n\u001b[0;32m----> 2\u001b[0;31m \u001b[0mkyusik\u001b[0m\u001b[0;34m.\u001b[0m\u001b[0m__authenticate\u001b[0m\u001b[0;34m(\u001b[0m\u001b[0;34m\"12345678\"\u001b[0m\u001b[0;34m)\u001b[0m\u001b[0;34m\u001b[0m\u001b[0;34m\u001b[0m\u001b[0m\n\u001b[0m",
      "\u001b[0;31mAttributeError\u001b[0m: 'Citizen' object has no attribute '__authenticate'"
     ]
    }
   ],
   "source": [
    "kyusik = Citizen(\"최규식\", 25, \"12345678\")\n",
    "kyusik.__authenticate(\"12345678\")"
   ]
  },
  {
   "cell_type": "markdown",
   "id": "a578914b-4482-48d2-9825-633bd8088867",
   "metadata": {},
   "source": [
    "### 객체의 메소드를 통해 변수 접근하기"
   ]
  },
  {
   "cell_type": "code",
   "execution_count": 55,
   "id": "9430a451-f7c2-49db-90fd-2309329ed0df",
   "metadata": {
    "execution": {
     "iopub.execute_input": "2022-02-13T05:40:46.297430Z",
     "iopub.status.busy": "2022-02-13T05:40:46.296730Z",
     "iopub.status.idle": "2022-02-13T05:40:46.302373Z",
     "shell.execute_reply": "2022-02-13T05:40:46.301609Z",
     "shell.execute_reply.started": "2022-02-13T05:40:46.297389Z"
    },
    "tags": []
   },
   "outputs": [],
   "source": [
    "class Citizen:\n",
    "    \"\"\"주민 클래스\"\"\"\n",
    "    drinking_age = 19\n",
    "    \n",
    "    def __init__(self, name, age, resident_id):\n",
    "        \"\"\"이름, 나이, 주민등록번호\"\"\"\n",
    "        self.name = name\n",
    "        self.__age = age\n",
    "        self.__resident_id = resident_id\n",
    "        \n",
    "    def authenticate(self, id_field):\n",
    "        \"\"\"본인이 맞는지 확인\"\"\"\n",
    "        return self.__resident_id == id_field\n",
    "    \n",
    "    def can_drink(self):\n",
    "        \"\"\"음주 가능 나이 확인\"\"\"\n",
    "        return self.__age >= Citizen.drinking_age\n",
    "    \n",
    "    def __str__(self):\n",
    "        \"\"\"주민 정보를 문자열로 리턴하는 메소드\"\"\"\n",
    "        return self.name + \"씨는 \" + str(self.__age) + \"살입니다!\"\n",
    "        \n",
    "    def get_age(self):\n",
    "        return self.__age\n",
    "    \n",
    "    def set_age(self, value):\n",
    "        self.__age = value"
   ]
  },
  {
   "cell_type": "code",
   "execution_count": 56,
   "id": "139b32c1-37dc-4da4-aa86-4a89baf4b92a",
   "metadata": {
    "execution": {
     "iopub.execute_input": "2022-02-13T05:41:29.718282Z",
     "iopub.status.busy": "2022-02-13T05:41:29.717716Z",
     "iopub.status.idle": "2022-02-13T05:41:29.722019Z",
     "shell.execute_reply": "2022-02-13T05:41:29.721088Z",
     "shell.execute_reply.started": "2022-02-13T05:41:29.718246Z"
    },
    "tags": []
   },
   "outputs": [],
   "source": [
    "young = Citizen(\"youhoon kang\", 18, \"87654321\")"
   ]
  },
  {
   "cell_type": "code",
   "execution_count": 57,
   "id": "ba7c7764-c6c7-4533-93fa-a8892a2a6dda",
   "metadata": {
    "execution": {
     "iopub.execute_input": "2022-02-13T05:41:38.588722Z",
     "iopub.status.busy": "2022-02-13T05:41:38.587823Z",
     "iopub.status.idle": "2022-02-13T05:41:38.593166Z",
     "shell.execute_reply": "2022-02-13T05:41:38.592481Z",
     "shell.execute_reply.started": "2022-02-13T05:41:38.588681Z"
    },
    "tags": []
   },
   "outputs": [
    {
     "data": {
      "text/plain": [
       "18"
      ]
     },
     "execution_count": 57,
     "metadata": {},
     "output_type": "execute_result"
    }
   ],
   "source": [
    "young.get_age()"
   ]
  },
  {
   "cell_type": "code",
   "execution_count": 58,
   "id": "db93b7f3-d26b-4af8-9978-9f162e1ced25",
   "metadata": {
    "execution": {
     "iopub.execute_input": "2022-02-13T05:41:44.791493Z",
     "iopub.status.busy": "2022-02-13T05:41:44.791094Z",
     "iopub.status.idle": "2022-02-13T05:41:44.795043Z",
     "shell.execute_reply": "2022-02-13T05:41:44.794234Z",
     "shell.execute_reply.started": "2022-02-13T05:41:44.791466Z"
    },
    "tags": []
   },
   "outputs": [],
   "source": [
    "young.set_age(20)"
   ]
  },
  {
   "cell_type": "code",
   "execution_count": 59,
   "id": "485ab46c-8039-4433-920f-995601c4c166",
   "metadata": {
    "execution": {
     "iopub.execute_input": "2022-02-13T05:41:49.665826Z",
     "iopub.status.busy": "2022-02-13T05:41:49.665562Z",
     "iopub.status.idle": "2022-02-13T05:41:49.670763Z",
     "shell.execute_reply": "2022-02-13T05:41:49.669924Z",
     "shell.execute_reply.started": "2022-02-13T05:41:49.665807Z"
    },
    "tags": []
   },
   "outputs": [
    {
     "data": {
      "text/plain": [
       "20"
      ]
     },
     "execution_count": 59,
     "metadata": {},
     "output_type": "execute_result"
    }
   ],
   "source": [
    "young.get_age()"
   ]
  }
 ],
 "metadata": {
  "kernelspec": {
   "display_name": "Python 3 (ipykernel)",
   "language": "python",
   "name": "python3"
  },
  "language_info": {
   "codemirror_mode": {
    "name": "ipython",
    "version": 3
   },
   "file_extension": ".py",
   "mimetype": "text/x-python",
   "name": "python",
   "nbconvert_exporter": "python",
   "pygments_lexer": "ipython3",
   "version": "3.9.7"
  }
 },
 "nbformat": 4,
 "nbformat_minor": 5
}
