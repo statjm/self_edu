{
 "cells": [
  {
   "cell_type": "markdown",
   "id": "3bf592a2-9b70-4d2e-84c7-6e74932c5ff0",
   "metadata": {},
   "source": [
    "# 추상화"
   ]
  },
  {
   "cell_type": "code",
   "execution_count": 1,
   "id": "516a94ee-f936-4186-b107-fa0d4bac9744",
   "metadata": {
    "execution": {
     "iopub.execute_input": "2022-02-13T04:02:34.198150Z",
     "iopub.status.busy": "2022-02-13T04:02:34.197272Z",
     "iopub.status.idle": "2022-02-13T04:02:34.205203Z",
     "shell.execute_reply": "2022-02-13T04:02:34.204309Z",
     "shell.execute_reply.started": "2022-02-13T04:02:34.198067Z"
    },
    "tags": []
   },
   "outputs": [],
   "source": [
    "bolt_speed = 10.438413361\n",
    "minute = 60"
   ]
  },
  {
   "cell_type": "code",
   "execution_count": 2,
   "id": "de03757c-a989-4a57-b8f8-9f4ab636cf28",
   "metadata": {
    "execution": {
     "iopub.execute_input": "2022-02-13T04:02:44.081289Z",
     "iopub.status.busy": "2022-02-13T04:02:44.081029Z",
     "iopub.status.idle": "2022-02-13T04:02:44.086847Z",
     "shell.execute_reply": "2022-02-13T04:02:44.086071Z",
     "shell.execute_reply.started": "2022-02-13T04:02:44.081270Z"
    },
    "tags": []
   },
   "outputs": [
    {
     "name": "stdout",
     "output_type": "stream",
     "text": [
      "626.3048016600001\n"
     ]
    }
   ],
   "source": [
    "print(bolt_speed * minute)"
   ]
  },
  {
   "cell_type": "code",
   "execution_count": 3,
   "id": "14a4b2b3-cffa-4ad6-8c5c-d24ebad4f568",
   "metadata": {
    "execution": {
     "iopub.execute_input": "2022-02-13T04:02:56.310188Z",
     "iopub.status.busy": "2022-02-13T04:02:56.309529Z",
     "iopub.status.idle": "2022-02-13T04:02:56.315124Z",
     "shell.execute_reply": "2022-02-13T04:02:56.314330Z",
     "shell.execute_reply.started": "2022-02-13T04:02:56.310158Z"
    },
    "tags": []
   },
   "outputs": [
    {
     "name": "stdout",
     "output_type": "stream",
     "text": [
      "1252.6096033200001\n",
      "1878.91440498\n"
     ]
    }
   ],
   "source": [
    "print(bolt_speed * 2 * minute)\n",
    "print(bolt_speed * 3 * minute)"
   ]
  },
  {
   "cell_type": "code",
   "execution_count": 4,
   "id": "3b07b935-9f04-4189-bf45-422af0b1111c",
   "metadata": {
    "execution": {
     "iopub.execute_input": "2022-02-13T04:03:14.852716Z",
     "iopub.status.busy": "2022-02-13T04:03:14.852444Z",
     "iopub.status.idle": "2022-02-13T04:03:14.857135Z",
     "shell.execute_reply": "2022-02-13T04:03:14.856147Z",
     "shell.execute_reply.started": "2022-02-13T04:03:14.852694Z"
    },
    "tags": []
   },
   "outputs": [],
   "source": [
    "def welcome(name):\n",
    "    print(\"Hello, \"+name)\n",
    "    print(\"Welcome to codeit!!\")"
   ]
  },
  {
   "cell_type": "code",
   "execution_count": 5,
   "id": "09a846db-ba39-4548-a184-0e98db2158e7",
   "metadata": {
    "execution": {
     "iopub.execute_input": "2022-02-13T04:03:26.115729Z",
     "iopub.status.busy": "2022-02-13T04:03:26.115326Z",
     "iopub.status.idle": "2022-02-13T04:03:26.120328Z",
     "shell.execute_reply": "2022-02-13T04:03:26.119535Z",
     "shell.execute_reply.started": "2022-02-13T04:03:26.115708Z"
    },
    "tags": []
   },
   "outputs": [
    {
     "name": "stdout",
     "output_type": "stream",
     "text": [
      "Hello, 정맨\n",
      "Welcome to codeit!!\n"
     ]
    }
   ],
   "source": [
    "welcome(\"정맨\")"
   ]
  },
  {
   "cell_type": "code",
   "execution_count": 6,
   "id": "b6c92719-ae12-4e37-ac5a-e9fbab45d88b",
   "metadata": {
    "execution": {
     "iopub.execute_input": "2022-02-13T04:04:48.873602Z",
     "iopub.status.busy": "2022-02-13T04:04:48.872789Z",
     "iopub.status.idle": "2022-02-13T04:04:48.879232Z",
     "shell.execute_reply": "2022-02-13T04:04:48.878390Z",
     "shell.execute_reply.started": "2022-02-13T04:04:48.873565Z"
    },
    "tags": []
   },
   "outputs": [
    {
     "name": "stdout",
     "output_type": "stream",
     "text": [
      "3\n",
      "2\n",
      "6\n"
     ]
    }
   ],
   "source": [
    "example_list = []\n",
    "example_list.append(3)\n",
    "example_list.append(2)\n",
    "example_list.append(6)\n",
    "print(example_list[0])\n",
    "print(example_list[1])\n",
    "print(example_list[2])"
   ]
  },
  {
   "cell_type": "markdown",
   "id": "b97a7899-6164-48db-9407-295d71517d2c",
   "metadata": {},
   "source": [
    "### 추상화 잘하기 : 이름 잘 짓기"
   ]
  },
  {
   "cell_type": "markdown",
   "id": "92d7d436-a78e-46c6-8b79-8e13deae63ec",
   "metadata": {},
   "source": [
    "#### 더 잘하기 : 문서화"
   ]
  },
  {
   "cell_type": "code",
   "execution_count": 9,
   "id": "32f8df60-9b26-4060-acc3-6fc75d44facf",
   "metadata": {
    "execution": {
     "iopub.execute_input": "2022-02-13T04:17:17.605887Z",
     "iopub.status.busy": "2022-02-13T04:17:17.605193Z",
     "iopub.status.idle": "2022-02-13T04:17:17.611062Z",
     "shell.execute_reply": "2022-02-13T04:17:17.610125Z",
     "shell.execute_reply.started": "2022-02-13T04:17:17.605867Z"
    },
    "tags": []
   },
   "outputs": [],
   "source": [
    "# 안좋은 예\n",
    "class SomeClass:\n",
    "    class_variable = 0.02\n",
    "    \n",
    "    def __init__(self, var1, var2):\n",
    "        self.var1 = var1\n",
    "        self.var2 = var2\n",
    "        \n",
    "    def method_1(self, some_value):\n",
    "        self.var2 += some_value\n",
    "        \n",
    "    def method_2(self, some_value):\n",
    "        if self.var2 < some_value:\n",
    "            print(\"Insufficient balance!\")\n",
    "        else:\n",
    "            self.var2 -= some_value\n",
    "        \n",
    "    def method_3(self):\n",
    "        self.var2 *= 1 + SomeClass.class_var"
   ]
  },
  {
   "cell_type": "code",
   "execution_count": 24,
   "id": "cb8f3bd9-2a2c-4ddc-b705-d055802f142b",
   "metadata": {
    "execution": {
     "iopub.execute_input": "2022-02-13T04:25:54.386923Z",
     "iopub.status.busy": "2022-02-13T04:25:54.386629Z",
     "iopub.status.idle": "2022-02-13T04:25:54.393103Z",
     "shell.execute_reply": "2022-02-13T04:25:54.392307Z",
     "shell.execute_reply.started": "2022-02-13T04:25:54.386888Z"
    },
    "tags": []
   },
   "outputs": [],
   "source": [
    "# 좋은 예 ( 문서화 추가 )\n",
    "class BankAccount:\n",
    "    \"\"\"은행 계좌 클래스\"\"\"\n",
    "    interest = 0.02\n",
    "    \n",
    "    def __init__(self, ovewer_name, balance):\n",
    "        \"\"\"인스턴스 변수: name(문자열), balance (실수형)\"\"\"\n",
    "        self.ovewer_name = ovewer_name\n",
    "        self.balance = balance\n",
    "        \n",
    "    def deposit(self, amount):\n",
    "        \"\"\"잔액 인스턴스 balance를 파라미터 amount만큼 늘려주는 메소드\"\"\"\n",
    "        self.balance += amount\n",
    "        \n",
    "    def withdraw(self, amount):\n",
    "        \"\"\"잔액 인스턴스 balance를 파라미터 amount만큼 줄여주는 메소드\"\"\"\n",
    "        if self.balance < amount:\n",
    "            print(\"Insufficient balance!\")\n",
    "        else:\n",
    "            self.balance -= amount\n",
    "        \n",
    "    def add_interest(self):\n",
    "        \"\"\"잔액 인스턴스 balance를 파라미터 이자율만큼 늘여주는 메소드\"\"\"\n",
    "        self.balance *= 1 + BankAccount.interest\n"
   ]
  },
  {
   "cell_type": "code",
   "execution_count": 14,
   "id": "8a8bb651-ac7a-40f5-9a37-59c33456d5ba",
   "metadata": {
    "execution": {
     "iopub.execute_input": "2022-02-13T04:19:55.084423Z",
     "iopub.status.busy": "2022-02-13T04:19:55.084061Z",
     "iopub.status.idle": "2022-02-13T04:19:55.087878Z",
     "shell.execute_reply": "2022-02-13T04:19:55.087021Z",
     "shell.execute_reply.started": "2022-02-13T04:19:55.084403Z"
    },
    "tags": []
   },
   "outputs": [],
   "source": [
    "example_account = BankAccount(\"정민\", 1000)"
   ]
  },
  {
   "cell_type": "code",
   "execution_count": 15,
   "id": "3632931b-487b-4a85-8895-9a7192eb0f34",
   "metadata": {
    "execution": {
     "iopub.execute_input": "2022-02-13T04:20:00.980768Z",
     "iopub.status.busy": "2022-02-13T04:20:00.980320Z",
     "iopub.status.idle": "2022-02-13T04:20:00.984359Z",
     "shell.execute_reply": "2022-02-13T04:20:00.983358Z",
     "shell.execute_reply.started": "2022-02-13T04:20:00.980746Z"
    },
    "tags": []
   },
   "outputs": [],
   "source": [
    "example_account.add_interest()"
   ]
  },
  {
   "cell_type": "code",
   "execution_count": 16,
   "id": "933904dc-e813-47a4-bbe8-d3dd8d9036e8",
   "metadata": {
    "execution": {
     "iopub.execute_input": "2022-02-13T04:20:13.568469Z",
     "iopub.status.busy": "2022-02-13T04:20:13.567273Z",
     "iopub.status.idle": "2022-02-13T04:20:13.573250Z",
     "shell.execute_reply": "2022-02-13T04:20:13.572416Z",
     "shell.execute_reply.started": "2022-02-13T04:20:13.568416Z"
    },
    "tags": []
   },
   "outputs": [
    {
     "name": "stdout",
     "output_type": "stream",
     "text": [
      "1020.0\n"
     ]
    }
   ],
   "source": [
    "print(example_account.balance)"
   ]
  },
  {
   "cell_type": "code",
   "execution_count": 17,
   "id": "17f5990f-07a5-4770-9c7e-fd3ad8d00806",
   "metadata": {
    "execution": {
     "iopub.execute_input": "2022-02-13T04:20:46.144067Z",
     "iopub.status.busy": "2022-02-13T04:20:46.143858Z",
     "iopub.status.idle": "2022-02-13T04:20:46.148802Z",
     "shell.execute_reply": "2022-02-13T04:20:46.147806Z",
     "shell.execute_reply.started": "2022-02-13T04:20:46.144048Z"
    },
    "tags": []
   },
   "outputs": [
    {
     "name": "stdout",
     "output_type": "stream",
     "text": [
      "1520.0\n"
     ]
    }
   ],
   "source": [
    "example_account.deposit(500)\n",
    "print(example_account.balance)"
   ]
  },
  {
   "cell_type": "code",
   "execution_count": 19,
   "id": "5c8ba813-a527-44a0-91dd-1a2866c9515a",
   "metadata": {
    "execution": {
     "iopub.execute_input": "2022-02-13T04:21:23.872036Z",
     "iopub.status.busy": "2022-02-13T04:21:23.871695Z",
     "iopub.status.idle": "2022-02-13T04:21:23.875625Z",
     "shell.execute_reply": "2022-02-13T04:21:23.874709Z",
     "shell.execute_reply.started": "2022-02-13T04:21:23.872014Z"
    },
    "tags": []
   },
   "outputs": [],
   "source": [
    "example_account.withdraw(1000)"
   ]
  },
  {
   "cell_type": "code",
   "execution_count": 20,
   "id": "437cd8e7-ad7d-45a1-ac95-416caf7cada6",
   "metadata": {
    "execution": {
     "iopub.execute_input": "2022-02-13T04:21:28.624334Z",
     "iopub.status.busy": "2022-02-13T04:21:28.624161Z",
     "iopub.status.idle": "2022-02-13T04:21:28.634320Z",
     "shell.execute_reply": "2022-02-13T04:21:28.633483Z",
     "shell.execute_reply.started": "2022-02-13T04:21:28.624317Z"
    },
    "tags": []
   },
   "outputs": [
    {
     "data": {
      "text/plain": [
       "520.0"
      ]
     },
     "execution_count": 20,
     "metadata": {},
     "output_type": "execute_result"
    }
   ],
   "source": [
    "example_account.balance"
   ]
  },
  {
   "cell_type": "markdown",
   "id": "99660d88-5d73-46c0-9377-48c30973e61f",
   "metadata": {},
   "source": [
    "#### docstring 보려면 `help()`"
   ]
  },
  {
   "cell_type": "code",
   "execution_count": 25,
   "id": "14ff5e30-fb66-4c8d-8af3-ee4e0e929c72",
   "metadata": {
    "execution": {
     "iopub.execute_input": "2022-02-13T04:26:48.269570Z",
     "iopub.status.busy": "2022-02-13T04:26:48.269003Z",
     "iopub.status.idle": "2022-02-13T04:26:48.274375Z",
     "shell.execute_reply": "2022-02-13T04:26:48.273261Z",
     "shell.execute_reply.started": "2022-02-13T04:26:48.269550Z"
    },
    "tags": []
   },
   "outputs": [
    {
     "name": "stdout",
     "output_type": "stream",
     "text": [
      "Help on class BankAccount in module __main__:\n",
      "\n",
      "class BankAccount(builtins.object)\n",
      " |  BankAccount(ovewer_name, balance)\n",
      " |  \n",
      " |  은행 계좌 클래스\n",
      " |  \n",
      " |  Methods defined here:\n",
      " |  \n",
      " |  __init__(self, ovewer_name, balance)\n",
      " |      인스턴스 변수: name(문자열), balance (실수형)\n",
      " |  \n",
      " |  add_interest(self)\n",
      " |      잔액 인스턴스 balance를 파라미터 이자율만큼 늘여주는 메소드\n",
      " |  \n",
      " |  deposit(self, amount)\n",
      " |      잔액 인스턴스 balance를 파라미터 amount만큼 늘려주는 메소드\n",
      " |  \n",
      " |  withdraw(self, amount)\n",
      " |      잔액 인스턴스 balance를 파라미터 amount만큼 줄여주는 메소드\n",
      " |  \n",
      " |  ----------------------------------------------------------------------\n",
      " |  Data descriptors defined here:\n",
      " |  \n",
      " |  __dict__\n",
      " |      dictionary for instance variables (if defined)\n",
      " |  \n",
      " |  __weakref__\n",
      " |      list of weak references to the object (if defined)\n",
      " |  \n",
      " |  ----------------------------------------------------------------------\n",
      " |  Data and other attributes defined here:\n",
      " |  \n",
      " |  interest = 0.02\n",
      "\n"
     ]
    }
   ],
   "source": [
    "help(BankAccount)"
   ]
  },
  {
   "cell_type": "code",
   "execution_count": 27,
   "id": "8d68609d-700e-46b6-9da6-02eecf2a1acd",
   "metadata": {
    "execution": {
     "iopub.execute_input": "2022-02-13T04:27:54.644015Z",
     "iopub.status.busy": "2022-02-13T04:27:54.643817Z",
     "iopub.status.idle": "2022-02-13T04:27:54.656220Z",
     "shell.execute_reply": "2022-02-13T04:27:54.655438Z",
     "shell.execute_reply.started": "2022-02-13T04:27:54.643998Z"
    },
    "tags": []
   },
   "outputs": [
    {
     "name": "stdout",
     "output_type": "stream",
     "text": [
      "Help on class list in module builtins:\n",
      "\n",
      "class list(object)\n",
      " |  list(iterable=(), /)\n",
      " |  \n",
      " |  Built-in mutable sequence.\n",
      " |  \n",
      " |  If no argument is given, the constructor creates a new empty list.\n",
      " |  The argument must be an iterable if specified.\n",
      " |  \n",
      " |  Methods defined here:\n",
      " |  \n",
      " |  __add__(self, value, /)\n",
      " |      Return self+value.\n",
      " |  \n",
      " |  __contains__(self, key, /)\n",
      " |      Return key in self.\n",
      " |  \n",
      " |  __delitem__(self, key, /)\n",
      " |      Delete self[key].\n",
      " |  \n",
      " |  __eq__(self, value, /)\n",
      " |      Return self==value.\n",
      " |  \n",
      " |  __ge__(self, value, /)\n",
      " |      Return self>=value.\n",
      " |  \n",
      " |  __getattribute__(self, name, /)\n",
      " |      Return getattr(self, name).\n",
      " |  \n",
      " |  __getitem__(...)\n",
      " |      x.__getitem__(y) <==> x[y]\n",
      " |  \n",
      " |  __gt__(self, value, /)\n",
      " |      Return self>value.\n",
      " |  \n",
      " |  __iadd__(self, value, /)\n",
      " |      Implement self+=value.\n",
      " |  \n",
      " |  __imul__(self, value, /)\n",
      " |      Implement self*=value.\n",
      " |  \n",
      " |  __init__(self, /, *args, **kwargs)\n",
      " |      Initialize self.  See help(type(self)) for accurate signature.\n",
      " |  \n",
      " |  __iter__(self, /)\n",
      " |      Implement iter(self).\n",
      " |  \n",
      " |  __le__(self, value, /)\n",
      " |      Return self<=value.\n",
      " |  \n",
      " |  __len__(self, /)\n",
      " |      Return len(self).\n",
      " |  \n",
      " |  __lt__(self, value, /)\n",
      " |      Return self<value.\n",
      " |  \n",
      " |  __mul__(self, value, /)\n",
      " |      Return self*value.\n",
      " |  \n",
      " |  __ne__(self, value, /)\n",
      " |      Return self!=value.\n",
      " |  \n",
      " |  __repr__(self, /)\n",
      " |      Return repr(self).\n",
      " |  \n",
      " |  __reversed__(self, /)\n",
      " |      Return a reverse iterator over the list.\n",
      " |  \n",
      " |  __rmul__(self, value, /)\n",
      " |      Return value*self.\n",
      " |  \n",
      " |  __setitem__(self, key, value, /)\n",
      " |      Set self[key] to value.\n",
      " |  \n",
      " |  __sizeof__(self, /)\n",
      " |      Return the size of the list in memory, in bytes.\n",
      " |  \n",
      " |  append(self, object, /)\n",
      " |      Append object to the end of the list.\n",
      " |  \n",
      " |  clear(self, /)\n",
      " |      Remove all items from list.\n",
      " |  \n",
      " |  copy(self, /)\n",
      " |      Return a shallow copy of the list.\n",
      " |  \n",
      " |  count(self, value, /)\n",
      " |      Return number of occurrences of value.\n",
      " |  \n",
      " |  extend(self, iterable, /)\n",
      " |      Extend list by appending elements from the iterable.\n",
      " |  \n",
      " |  index(self, value, start=0, stop=9223372036854775807, /)\n",
      " |      Return first index of value.\n",
      " |      \n",
      " |      Raises ValueError if the value is not present.\n",
      " |  \n",
      " |  insert(self, index, object, /)\n",
      " |      Insert object before index.\n",
      " |  \n",
      " |  pop(self, index=-1, /)\n",
      " |      Remove and return item at index (default last).\n",
      " |      \n",
      " |      Raises IndexError if list is empty or index is out of range.\n",
      " |  \n",
      " |  remove(self, value, /)\n",
      " |      Remove first occurrence of value.\n",
      " |      \n",
      " |      Raises ValueError if the value is not present.\n",
      " |  \n",
      " |  reverse(self, /)\n",
      " |      Reverse *IN PLACE*.\n",
      " |  \n",
      " |  sort(self, /, *, key=None, reverse=False)\n",
      " |      Sort the list in ascending order and return None.\n",
      " |      \n",
      " |      The sort is in-place (i.e. the list itself is modified) and stable (i.e. the\n",
      " |      order of two equal elements is maintained).\n",
      " |      \n",
      " |      If a key function is given, apply it once to each list item and sort them,\n",
      " |      ascending or descending, according to their function values.\n",
      " |      \n",
      " |      The reverse flag can be set to sort in descending order.\n",
      " |  \n",
      " |  ----------------------------------------------------------------------\n",
      " |  Class methods defined here:\n",
      " |  \n",
      " |  __class_getitem__(...) from builtins.type\n",
      " |      See PEP 585\n",
      " |  \n",
      " |  ----------------------------------------------------------------------\n",
      " |  Static methods defined here:\n",
      " |  \n",
      " |  __new__(*args, **kwargs) from builtins.type\n",
      " |      Create and return a new object.  See help(type) for accurate signature.\n",
      " |  \n",
      " |  ----------------------------------------------------------------------\n",
      " |  Data and other attributes defined here:\n",
      " |  \n",
      " |  __hash__ = None\n",
      "\n"
     ]
    }
   ],
   "source": [
    "help(list)"
   ]
  },
  {
   "cell_type": "markdown",
   "id": "2055a9e6-7789-4ec8-b9a9-a7ea66363788",
   "metadata": {},
   "source": [
    "### 문서화 포맷 3가지"
   ]
  },
  {
   "cell_type": "markdown",
   "id": "1b226e4b-d03c-4414-9622-f1badc4a14b7",
   "metadata": {},
   "source": [
    "#### Google docstring"
   ]
  },
  {
   "cell_type": "code",
   "execution_count": 28,
   "id": "49e0ef4f-a272-4da3-bee8-84e09573138f",
   "metadata": {
    "execution": {
     "iopub.execute_input": "2022-02-13T04:30:55.632244Z",
     "iopub.status.busy": "2022-02-13T04:30:55.631983Z",
     "iopub.status.idle": "2022-02-13T04:30:55.636773Z",
     "shell.execute_reply": "2022-02-13T04:30:55.635967Z",
     "shell.execute_reply.started": "2022-02-13T04:30:55.632224Z"
    },
    "tags": []
   },
   "outputs": [
    {
     "data": {
      "text/plain": [
       "'유저에게 추천할 영상을 찾아준다\\nParameters:\\n  number_of_suggestions (int): 추천하고 싶은 영상 수\\n    (기본값은 5)\\n    \\nReturns:\\n  list: 추천할 영상 주소가 담긴 리스트\\n'"
      ]
     },
     "execution_count": 28,
     "metadata": {},
     "output_type": "execute_result"
    }
   ],
   "source": [
    "\"\"\"유저에게 추천할 영상을 찾아준다\n",
    "Parameters:\n",
    "  number_of_suggestions (int): 추천하고 싶은 영상 수\n",
    "    (기본값은 5)\n",
    "    \n",
    "Returns:\n",
    "  list: 추천할 영상 주소가 담긴 리스트\n",
    "\"\"\""
   ]
  },
  {
   "cell_type": "markdown",
   "id": "33663728-a509-4b84-885e-ec1623638a25",
   "metadata": {},
   "source": [
    "#### reStructuredText(파이썬 공식 문서화 기준)"
   ]
  },
  {
   "cell_type": "code",
   "execution_count": 29,
   "id": "1c1835e1-2e70-4fe6-80e7-8a016dc8fc64",
   "metadata": {
    "execution": {
     "iopub.execute_input": "2022-02-13T04:31:01.358028Z",
     "iopub.status.busy": "2022-02-13T04:31:01.357200Z",
     "iopub.status.idle": "2022-02-13T04:31:01.362640Z",
     "shell.execute_reply": "2022-02-13T04:31:01.361639Z",
     "shell.execute_reply.started": "2022-02-13T04:31:01.358008Z"
    },
    "tags": []
   },
   "outputs": [
    {
     "data": {
      "text/plain": [
       "'유저에게 추천할 영상을 찾아준다\\n    \\n:param number_of_suggestions: 추천하고 싶은 영상 수\\n  (기본값은 5)\\n:type number_of_suggestions: int\\n:returns: 추천할 영상 주소가 담긴 리스트\\n:rtype: list\\n'"
      ]
     },
     "execution_count": 29,
     "metadata": {},
     "output_type": "execute_result"
    }
   ],
   "source": [
    "\"\"\"유저에게 추천할 영상을 찾아준다\n",
    "    \n",
    ":param number_of_suggestions: 추천하고 싶은 영상 수\n",
    "  (기본값은 5)\n",
    ":type number_of_suggestions: int\n",
    ":returns: 추천할 영상 주소가 담긴 리스트\n",
    ":rtype: list\n",
    "\"\"\""
   ]
  },
  {
   "cell_type": "markdown",
   "id": "507b6529-a8ee-4694-a723-8a270722c0f9",
   "metadata": {},
   "source": [
    "#### NumPy/SciPy (통계, 과학 분야에서 쓰이는 Python 라이브러리)"
   ]
  },
  {
   "cell_type": "code",
   "execution_count": 30,
   "id": "466f53ac-cc86-4fe5-a696-06cf456041e5",
   "metadata": {
    "execution": {
     "iopub.execute_input": "2022-02-13T04:31:13.818275Z",
     "iopub.status.busy": "2022-02-13T04:31:13.817469Z",
     "iopub.status.idle": "2022-02-13T04:31:13.822895Z",
     "shell.execute_reply": "2022-02-13T04:31:13.822125Z",
     "shell.execute_reply.started": "2022-02-13T04:31:13.818255Z"
    },
    "tags": []
   },
   "outputs": [
    {
     "data": {
      "text/plain": [
       "'유저에게 추천할 영상을 찾아준다\\n    \\nParameters\\n----------\\nnumber_of_suggestions: int\\n  추천하고 싶은 영상 수 (기본값은 5)\\n    \\nReturns\\n-------\\nlist \\n  추천할 영상 주소가 담긴 리스트\\n'"
      ]
     },
     "execution_count": 30,
     "metadata": {},
     "output_type": "execute_result"
    }
   ],
   "source": [
    "\"\"\"유저에게 추천할 영상을 찾아준다\n",
    "    \n",
    "Parameters\n",
    "----------\n",
    "number_of_suggestions: int\n",
    "  추천하고 싶은 영상 수 (기본값은 5)\n",
    "    \n",
    "Returns\n",
    "-------\n",
    "list \n",
    "  추천할 영상 주소가 담긴 리스트\n",
    "\"\"\""
   ]
  },
  {
   "cell_type": "markdown",
   "id": "8749185c-92ab-4311-91f2-7631f10628f2",
   "metadata": {},
   "source": [
    "### Type hinting"
   ]
  },
  {
   "cell_type": "code",
   "execution_count": 31,
   "id": "74b1b33f-1f28-43d7-9e18-09510e72ea9e",
   "metadata": {
    "execution": {
     "iopub.execute_input": "2022-02-13T04:39:34.727822Z",
     "iopub.status.busy": "2022-02-13T04:39:34.727268Z",
     "iopub.status.idle": "2022-02-13T04:39:34.733689Z",
     "shell.execute_reply": "2022-02-13T04:39:34.732665Z",
     "shell.execute_reply.started": "2022-02-13T04:39:34.727803Z"
    },
    "tags": []
   },
   "outputs": [],
   "source": [
    "class BankAccount:\n",
    "    \"\"\"은행 계좌 클래스\"\"\"\n",
    "    interest: float = 0.02 # 콜론 후 변수 type\n",
    "    \n",
    "    def __init__(self, ovewer_name: str, balance: float) -> None:\n",
    "        \"\"\"인스턴스 변수: name(문자열), balance (실수형)\"\"\"\n",
    "        self.ovewer_name = ovewer_name\n",
    "        self.balance = balance\n",
    "        \n",
    "    def deposit(self, amount: float) -> None: # 메소드 여기\n",
    "        \"\"\"잔액 인스턴스 balance를 파라미터 amount만큼 늘려주는 메소드\"\"\"\n",
    "        self.balance += amount\n",
    "        \n",
    "    def withdraw(self, amount: float) -> None:\n",
    "        \"\"\"잔액 인스턴스 balance를 파라미터 amount만큼 줄여주는 메소드\"\"\"\n",
    "        if self.balance < amount:\n",
    "            print(\"Insufficient balance!\")\n",
    "        else:\n",
    "            self.balance -= amount\n",
    "        \n",
    "    def add_interest(self) -> None:\n",
    "        \"\"\"잔액 인스턴스 balance를 파라미터 이자율만큼 늘여주는 메소드\"\"\"\n",
    "        self.balance *= 1 + BankAccount.interest"
   ]
  },
  {
   "cell_type": "code",
   "execution_count": 32,
   "id": "ebec5848-ae57-4421-b400-d484d1ab4e69",
   "metadata": {
    "execution": {
     "iopub.execute_input": "2022-02-13T04:40:14.292282Z",
     "iopub.status.busy": "2022-02-13T04:40:14.291713Z",
     "iopub.status.idle": "2022-02-13T04:40:14.295622Z",
     "shell.execute_reply": "2022-02-13T04:40:14.294847Z",
     "shell.execute_reply.started": "2022-02-13T04:40:14.292260Z"
    },
    "tags": []
   },
   "outputs": [],
   "source": [
    "example_account = BankAccount(\"정민\", 1000)"
   ]
  },
  {
   "cell_type": "code",
   "execution_count": 33,
   "id": "f70fe720-14c8-4539-999e-1356bc59a845",
   "metadata": {
    "execution": {
     "iopub.execute_input": "2022-02-13T04:40:14.755395Z",
     "iopub.status.busy": "2022-02-13T04:40:14.755138Z",
     "iopub.status.idle": "2022-02-13T04:40:14.759353Z",
     "shell.execute_reply": "2022-02-13T04:40:14.758411Z",
     "shell.execute_reply.started": "2022-02-13T04:40:14.755364Z"
    },
    "tags": []
   },
   "outputs": [],
   "source": [
    "example_account.add_interest()"
   ]
  },
  {
   "cell_type": "code",
   "execution_count": 34,
   "id": "dc1e60eb-a7c9-4b9f-81fd-2ea31a1dcf28",
   "metadata": {
    "execution": {
     "iopub.execute_input": "2022-02-13T04:40:15.166877Z",
     "iopub.status.busy": "2022-02-13T04:40:15.166685Z",
     "iopub.status.idle": "2022-02-13T04:40:15.172050Z",
     "shell.execute_reply": "2022-02-13T04:40:15.171300Z",
     "shell.execute_reply.started": "2022-02-13T04:40:15.166860Z"
    },
    "tags": []
   },
   "outputs": [
    {
     "name": "stdout",
     "output_type": "stream",
     "text": [
      "1020.0\n"
     ]
    }
   ],
   "source": [
    "print(example_account.balance)"
   ]
  },
  {
   "cell_type": "code",
   "execution_count": 35,
   "id": "01606fbd-1c64-4003-b848-0da5819dfaa1",
   "metadata": {
    "execution": {
     "iopub.execute_input": "2022-02-13T04:40:15.608925Z",
     "iopub.status.busy": "2022-02-13T04:40:15.608646Z",
     "iopub.status.idle": "2022-02-13T04:40:15.614552Z",
     "shell.execute_reply": "2022-02-13T04:40:15.613414Z",
     "shell.execute_reply.started": "2022-02-13T04:40:15.608895Z"
    },
    "tags": []
   },
   "outputs": [
    {
     "name": "stdout",
     "output_type": "stream",
     "text": [
      "1520.0\n"
     ]
    }
   ],
   "source": [
    "example_account.deposit(500)\n",
    "print(example_account.balance)"
   ]
  },
  {
   "cell_type": "code",
   "execution_count": 36,
   "id": "c54bf113-ec3e-4939-869e-f63d842524c5",
   "metadata": {
    "execution": {
     "iopub.execute_input": "2022-02-13T04:40:15.789956Z",
     "iopub.status.busy": "2022-02-13T04:40:15.789709Z",
     "iopub.status.idle": "2022-02-13T04:40:15.807238Z",
     "shell.execute_reply": "2022-02-13T04:40:15.806451Z",
     "shell.execute_reply.started": "2022-02-13T04:40:15.789909Z"
    },
    "tags": []
   },
   "outputs": [],
   "source": [
    "example_account.withdraw(1000)"
   ]
  },
  {
   "cell_type": "code",
   "execution_count": 37,
   "id": "59cbd4ba-bbe7-4084-b049-af95f56eeb5a",
   "metadata": {
    "execution": {
     "iopub.execute_input": "2022-02-13T04:40:15.969287Z",
     "iopub.status.busy": "2022-02-13T04:40:15.969102Z",
     "iopub.status.idle": "2022-02-13T04:40:15.973783Z",
     "shell.execute_reply": "2022-02-13T04:40:15.973071Z",
     "shell.execute_reply.started": "2022-02-13T04:40:15.969268Z"
    },
    "tags": []
   },
   "outputs": [
    {
     "data": {
      "text/plain": [
       "520.0"
      ]
     },
     "execution_count": 37,
     "metadata": {},
     "output_type": "execute_result"
    }
   ],
   "source": [
    "example_account.balance"
   ]
  },
  {
   "cell_type": "code",
   "execution_count": 38,
   "id": "3ece7b58-af08-4095-b53e-0c56537c84b8",
   "metadata": {
    "execution": {
     "iopub.execute_input": "2022-02-13T04:41:24.051622Z",
     "iopub.status.busy": "2022-02-13T04:41:24.050777Z",
     "iopub.status.idle": "2022-02-13T04:41:24.055083Z",
     "shell.execute_reply": "2022-02-13T04:41:24.054335Z",
     "shell.execute_reply.started": "2022-02-13T04:41:24.051600Z"
    }
   },
   "outputs": [],
   "source": [
    "bank_account_2 = BankAccount(\"정민\", \"1000\")"
   ]
  },
  {
   "cell_type": "code",
   "execution_count": 39,
   "id": "92b2ea4d-5195-4dd2-87bb-91c294199152",
   "metadata": {
    "execution": {
     "iopub.execute_input": "2022-02-13T04:41:25.302029Z",
     "iopub.status.busy": "2022-02-13T04:41:25.301845Z",
     "iopub.status.idle": "2022-02-13T04:41:25.306810Z",
     "shell.execute_reply": "2022-02-13T04:41:25.306011Z",
     "shell.execute_reply.started": "2022-02-13T04:41:25.302011Z"
    }
   },
   "outputs": [
    {
     "name": "stdout",
     "output_type": "stream",
     "text": [
      "1000\n"
     ]
    }
   ],
   "source": [
    "print(bank_account_2.balance)"
   ]
  },
  {
   "cell_type": "code",
   "execution_count": 42,
   "id": "54e8f7fe-ddc2-4784-9026-1e1b9b85e306",
   "metadata": {
    "execution": {
     "iopub.execute_input": "2022-02-13T04:41:49.697145Z",
     "iopub.status.busy": "2022-02-13T04:41:49.696878Z",
     "iopub.status.idle": "2022-02-13T04:41:49.700750Z",
     "shell.execute_reply": "2022-02-13T04:41:49.699749Z",
     "shell.execute_reply.started": "2022-02-13T04:41:49.697124Z"
    },
    "tags": []
   },
   "outputs": [],
   "source": [
    "bank_account_2.deposit(\"00\")"
   ]
  },
  {
   "cell_type": "code",
   "execution_count": 43,
   "id": "a341ecda-b137-467b-9f65-03eccabcc584",
   "metadata": {
    "execution": {
     "iopub.execute_input": "2022-02-13T04:41:50.141656Z",
     "iopub.status.busy": "2022-02-13T04:41:50.141114Z",
     "iopub.status.idle": "2022-02-13T04:41:50.145681Z",
     "shell.execute_reply": "2022-02-13T04:41:50.144812Z",
     "shell.execute_reply.started": "2022-02-13T04:41:50.141636Z"
    },
    "tags": []
   },
   "outputs": [
    {
     "name": "stdout",
     "output_type": "stream",
     "text": [
      "100000\n"
     ]
    }
   ],
   "source": [
    "print(bank_account_2.balance)"
   ]
  },
  {
   "cell_type": "markdown",
   "id": "abd7ee76-d893-4d41-966b-3b8e388d1422",
   "metadata": {},
   "source": [
    "# 캡슐화"
   ]
  },
  {
   "cell_type": "code",
   "execution_count": 53,
   "id": "2168e54e-ba73-426a-9f92-3b7a50827ae3",
   "metadata": {
    "execution": {
     "iopub.execute_input": "2022-02-13T05:34:52.915071Z",
     "iopub.status.busy": "2022-02-13T05:34:52.914553Z",
     "iopub.status.idle": "2022-02-13T05:34:52.919838Z",
     "shell.execute_reply": "2022-02-13T05:34:52.918957Z",
     "shell.execute_reply.started": "2022-02-13T05:34:52.915049Z"
    },
    "tags": []
   },
   "outputs": [],
   "source": [
    "class Citizen:\n",
    "    \"\"\"주민 클래스\"\"\"\n",
    "    drinking_age = 19\n",
    "    \n",
    "    def __init__(self, name, age, resident_id):\n",
    "        \"\"\"이름, 나이, 주민등록번호\"\"\"\n",
    "        self.name = name\n",
    "        self.__age = age\n",
    "        self.__resident_id = resident_id\n",
    "        \n",
    "    def authenticate(self, id_field):\n",
    "        \"\"\"본인이 맞는지 확인\"\"\"\n",
    "        return self.__resident_id == id_field\n",
    "    \n",
    "    def can_drink(self):\n",
    "        \"\"\"음주 가능 나이 확인\"\"\"\n",
    "        return self.__age >= Citizen.drinking_age\n",
    "    \n",
    "    def __str__(self):\n",
    "        \"\"\"주민 정보를 문자열로 리턴하는 메소드\"\"\"\n",
    "        return self.name + \"씨는 \" + str(self.__age) + \"살입니다!\"\n"
   ]
  },
  {
   "cell_type": "code",
   "execution_count": 45,
   "id": "588a0930-8a2b-4599-9e46-5ee51a8313a9",
   "metadata": {
    "execution": {
     "iopub.execute_input": "2022-02-13T05:31:07.606843Z",
     "iopub.status.busy": "2022-02-13T05:31:07.606402Z",
     "iopub.status.idle": "2022-02-13T05:31:07.611384Z",
     "shell.execute_reply": "2022-02-13T05:31:07.610671Z",
     "shell.execute_reply.started": "2022-02-13T05:31:07.606822Z"
    },
    "tags": []
   },
   "outputs": [
    {
     "name": "stdout",
     "output_type": "stream",
     "text": [
      "12345678\n",
      "최규식씨는 -12살입니다!\n"
     ]
    }
   ],
   "source": [
    "kyusik = Citizen(\"최규식\", 25, \"12345678\")\n",
    "young = Citizen(\"youhoon kang\", 5, \"87654321\")\n",
    "\n",
    "print(kyusik.resident_id)\n",
    "kyusik.age = -12\n",
    "print(kyusik)"
   ]
  },
  {
   "cell_type": "code",
   "execution_count": 46,
   "id": "c9f7c69a-7ce9-4d8c-8071-680a3fdb82ba",
   "metadata": {
    "execution": {
     "iopub.execute_input": "2022-02-13T05:31:13.282818Z",
     "iopub.status.busy": "2022-02-13T05:31:13.282613Z",
     "iopub.status.idle": "2022-02-13T05:31:13.286683Z",
     "shell.execute_reply": "2022-02-13T05:31:13.285710Z",
     "shell.execute_reply.started": "2022-02-13T05:31:13.282800Z"
    },
    "tags": []
   },
   "outputs": [],
   "source": [
    "young.age = 20"
   ]
  },
  {
   "cell_type": "code",
   "execution_count": 47,
   "id": "9d5f81e5-d19a-4b6a-80d2-32e36baf8990",
   "metadata": {
    "execution": {
     "iopub.execute_input": "2022-02-13T05:31:20.697491Z",
     "iopub.status.busy": "2022-02-13T05:31:20.697317Z",
     "iopub.status.idle": "2022-02-13T05:31:20.701798Z",
     "shell.execute_reply": "2022-02-13T05:31:20.701054Z",
     "shell.execute_reply.started": "2022-02-13T05:31:20.697473Z"
    },
    "tags": []
   },
   "outputs": [
    {
     "name": "stdout",
     "output_type": "stream",
     "text": [
      "True\n"
     ]
    }
   ],
   "source": [
    "print(young.can_drink())"
   ]
  },
  {
   "cell_type": "markdown",
   "id": "c35bf8df-5b9e-4e2a-a61e-90b711bf133e",
   "metadata": {},
   "source": [
    "### 메소드나 변수에 \"__\" 붙이기"
   ]
  },
  {
   "cell_type": "code",
   "execution_count": 52,
   "id": "b6ac8a92-6cbb-49e6-9ac6-e61f9e1369ee",
   "metadata": {
    "execution": {
     "iopub.execute_input": "2022-02-13T05:34:26.402561Z",
     "iopub.status.busy": "2022-02-13T05:34:26.402207Z",
     "iopub.status.idle": "2022-02-13T05:34:26.408979Z",
     "shell.execute_reply": "2022-02-13T05:34:26.407821Z",
     "shell.execute_reply.started": "2022-02-13T05:34:26.402538Z"
    },
    "tags": []
   },
   "outputs": [
    {
     "ename": "AttributeError",
     "evalue": "'Citizen' object has no attribute '__age'",
     "output_type": "error",
     "traceback": [
      "\u001b[0;31m---------------------------------------------------------------------------\u001b[0m",
      "\u001b[0;31mAttributeError\u001b[0m                            Traceback (most recent call last)",
      "\u001b[0;32m/tmp/ipykernel_62/3572570565.py\u001b[0m in \u001b[0;36m<module>\u001b[0;34m\u001b[0m\n\u001b[1;32m      1\u001b[0m \u001b[0mkyusik\u001b[0m \u001b[0;34m=\u001b[0m \u001b[0mCitizen\u001b[0m\u001b[0;34m(\u001b[0m\u001b[0;34m\"최규식\"\u001b[0m\u001b[0;34m,\u001b[0m \u001b[0;36m25\u001b[0m\u001b[0;34m,\u001b[0m \u001b[0;34m\"12345678\"\u001b[0m\u001b[0;34m)\u001b[0m\u001b[0;34m\u001b[0m\u001b[0;34m\u001b[0m\u001b[0m\n\u001b[0;32m----> 2\u001b[0;31m \u001b[0mprint\u001b[0m\u001b[0;34m(\u001b[0m\u001b[0mkyusik\u001b[0m\u001b[0;34m.\u001b[0m\u001b[0m__age\u001b[0m\u001b[0;34m)\u001b[0m\u001b[0;34m\u001b[0m\u001b[0;34m\u001b[0m\u001b[0m\n\u001b[0m",
      "\u001b[0;31mAttributeError\u001b[0m: 'Citizen' object has no attribute '__age'"
     ]
    }
   ],
   "source": [
    "kyusik = Citizen(\"최규식\", 25, \"12345678\")\n",
    "print(kyusik.__age)"
   ]
  },
  {
   "cell_type": "code",
   "execution_count": 54,
   "id": "758fe7f6-9755-4d90-9304-6d0be9e9591b",
   "metadata": {
    "execution": {
     "iopub.execute_input": "2022-02-13T05:35:16.212768Z",
     "iopub.status.busy": "2022-02-13T05:35:16.211755Z",
     "iopub.status.idle": "2022-02-13T05:35:16.219668Z",
     "shell.execute_reply": "2022-02-13T05:35:16.218848Z",
     "shell.execute_reply.started": "2022-02-13T05:35:16.212734Z"
    },
    "tags": []
   },
   "outputs": [
    {
     "ename": "AttributeError",
     "evalue": "'Citizen' object has no attribute '__authenticate'",
     "output_type": "error",
     "traceback": [
      "\u001b[0;31m---------------------------------------------------------------------------\u001b[0m",
      "\u001b[0;31mAttributeError\u001b[0m                            Traceback (most recent call last)",
      "\u001b[0;32m/tmp/ipykernel_62/467263004.py\u001b[0m in \u001b[0;36m<module>\u001b[0;34m\u001b[0m\n\u001b[1;32m      1\u001b[0m \u001b[0mkyusik\u001b[0m \u001b[0;34m=\u001b[0m \u001b[0mCitizen\u001b[0m\u001b[0;34m(\u001b[0m\u001b[0;34m\"최규식\"\u001b[0m\u001b[0;34m,\u001b[0m \u001b[0;36m25\u001b[0m\u001b[0;34m,\u001b[0m \u001b[0;34m\"12345678\"\u001b[0m\u001b[0;34m)\u001b[0m\u001b[0;34m\u001b[0m\u001b[0;34m\u001b[0m\u001b[0m\n\u001b[0;32m----> 2\u001b[0;31m \u001b[0mkyusik\u001b[0m\u001b[0;34m.\u001b[0m\u001b[0m__authenticate\u001b[0m\u001b[0;34m(\u001b[0m\u001b[0;34m\"12345678\"\u001b[0m\u001b[0;34m)\u001b[0m\u001b[0;34m\u001b[0m\u001b[0;34m\u001b[0m\u001b[0m\n\u001b[0m",
      "\u001b[0;31mAttributeError\u001b[0m: 'Citizen' object has no attribute '__authenticate'"
     ]
    }
   ],
   "source": [
    "kyusik = Citizen(\"최규식\", 25, \"12345678\")\n",
    "kyusik.__authenticate(\"12345678\")"
   ]
  },
  {
   "cell_type": "markdown",
   "id": "a578914b-4482-48d2-9825-633bd8088867",
   "metadata": {},
   "source": [
    "### 객체의 메소드를 통해 변수 접근하기"
   ]
  },
  {
   "cell_type": "code",
   "execution_count": 60,
   "id": "9430a451-f7c2-49db-90fd-2309329ed0df",
   "metadata": {
    "execution": {
     "iopub.execute_input": "2022-02-13T05:49:33.325096Z",
     "iopub.status.busy": "2022-02-13T05:49:33.324700Z",
     "iopub.status.idle": "2022-02-13T05:49:33.330353Z",
     "shell.execute_reply": "2022-02-13T05:49:33.329357Z",
     "shell.execute_reply.started": "2022-02-13T05:49:33.325077Z"
    },
    "tags": []
   },
   "outputs": [],
   "source": [
    "class Citizen:\n",
    "    \"\"\"주민 클래스\"\"\"\n",
    "    drinking_age = 19\n",
    "    \n",
    "    def __init__(self, name, age, resident_id):\n",
    "        \"\"\"이름, 나이, 주민등록번호\"\"\"\n",
    "        self.name = name\n",
    "        self.set_age(age)\n",
    "        self.__resident_id = resident_id\n",
    "        \n",
    "    def authenticate(self, id_field):\n",
    "        \"\"\"본인이 맞는지 확인\"\"\"\n",
    "        return self.__resident_id == id_field\n",
    "    \n",
    "    def can_drink(self):\n",
    "        \"\"\"음주 가능 나이 확인\"\"\"\n",
    "        return self.__age >= Citizen.drinking_age\n",
    "    \n",
    "    def __str__(self):\n",
    "        \"\"\"주민 정보를 문자열로 리턴하는 메소드\"\"\"\n",
    "        return self.name + \"씨는 \" + str(self.__age) + \"살입니다!\"\n",
    "        \n",
    "    def get_age(self):\n",
    "        return self.__age\n",
    "    \n",
    "    def set_age(self, value):\n",
    "        if value < 0:\n",
    "            print(\"나이 음수 가능?\")\n",
    "            self.__age = 0\n",
    "        else:\n",
    "            self.__age = value"
   ]
  },
  {
   "cell_type": "code",
   "execution_count": 56,
   "id": "139b32c1-37dc-4da4-aa86-4a89baf4b92a",
   "metadata": {
    "execution": {
     "iopub.execute_input": "2022-02-13T05:41:29.718282Z",
     "iopub.status.busy": "2022-02-13T05:41:29.717716Z",
     "iopub.status.idle": "2022-02-13T05:41:29.722019Z",
     "shell.execute_reply": "2022-02-13T05:41:29.721088Z",
     "shell.execute_reply.started": "2022-02-13T05:41:29.718246Z"
    },
    "tags": []
   },
   "outputs": [],
   "source": [
    "young = Citizen(\"youhoon kang\", 18, \"87654321\")"
   ]
  },
  {
   "cell_type": "code",
   "execution_count": 57,
   "id": "ba7c7764-c6c7-4533-93fa-a8892a2a6dda",
   "metadata": {
    "execution": {
     "iopub.execute_input": "2022-02-13T05:41:38.588722Z",
     "iopub.status.busy": "2022-02-13T05:41:38.587823Z",
     "iopub.status.idle": "2022-02-13T05:41:38.593166Z",
     "shell.execute_reply": "2022-02-13T05:41:38.592481Z",
     "shell.execute_reply.started": "2022-02-13T05:41:38.588681Z"
    },
    "tags": []
   },
   "outputs": [
    {
     "data": {
      "text/plain": [
       "18"
      ]
     },
     "execution_count": 57,
     "metadata": {},
     "output_type": "execute_result"
    }
   ],
   "source": [
    "young.get_age()"
   ]
  },
  {
   "cell_type": "code",
   "execution_count": 58,
   "id": "db93b7f3-d26b-4af8-9978-9f162e1ced25",
   "metadata": {
    "execution": {
     "iopub.execute_input": "2022-02-13T05:41:44.791493Z",
     "iopub.status.busy": "2022-02-13T05:41:44.791094Z",
     "iopub.status.idle": "2022-02-13T05:41:44.795043Z",
     "shell.execute_reply": "2022-02-13T05:41:44.794234Z",
     "shell.execute_reply.started": "2022-02-13T05:41:44.791466Z"
    },
    "tags": []
   },
   "outputs": [],
   "source": [
    "young.set_age(20)"
   ]
  },
  {
   "cell_type": "code",
   "execution_count": 59,
   "id": "485ab46c-8039-4433-920f-995601c4c166",
   "metadata": {
    "execution": {
     "iopub.execute_input": "2022-02-13T05:41:49.665826Z",
     "iopub.status.busy": "2022-02-13T05:41:49.665562Z",
     "iopub.status.idle": "2022-02-13T05:41:49.670763Z",
     "shell.execute_reply": "2022-02-13T05:41:49.669924Z",
     "shell.execute_reply.started": "2022-02-13T05:41:49.665807Z"
    },
    "tags": []
   },
   "outputs": [
    {
     "data": {
      "text/plain": [
       "20"
      ]
     },
     "execution_count": 59,
     "metadata": {},
     "output_type": "execute_result"
    }
   ],
   "source": [
    "young.get_age()"
   ]
  },
  {
   "cell_type": "code",
   "execution_count": 61,
   "id": "ba485a7c-b7ad-4526-b151-d16aa9edc834",
   "metadata": {
    "execution": {
     "iopub.execute_input": "2022-02-13T05:49:48.033780Z",
     "iopub.status.busy": "2022-02-13T05:49:48.032475Z",
     "iopub.status.idle": "2022-02-13T05:49:48.037823Z",
     "shell.execute_reply": "2022-02-13T05:49:48.036926Z",
     "shell.execute_reply.started": "2022-02-13T05:49:48.033757Z"
    },
    "tags": []
   },
   "outputs": [
    {
     "name": "stdout",
     "output_type": "stream",
     "text": [
      "나이 음수 가능?\n"
     ]
    }
   ],
   "source": [
    "young = Citizen(\"youhoon kang\", -18, \"87654321\")"
   ]
  },
  {
   "cell_type": "code",
   "execution_count": 62,
   "id": "e1d5a0ad-0288-4aa1-8450-15402a00211f",
   "metadata": {
    "execution": {
     "iopub.execute_input": "2022-02-13T05:49:58.061968Z",
     "iopub.status.busy": "2022-02-13T05:49:58.061515Z",
     "iopub.status.idle": "2022-02-13T05:49:58.066706Z",
     "shell.execute_reply": "2022-02-13T05:49:58.066031Z",
     "shell.execute_reply.started": "2022-02-13T05:49:58.061950Z"
    },
    "tags": []
   },
   "outputs": [
    {
     "data": {
      "text/plain": [
       "0"
      ]
     },
     "execution_count": 62,
     "metadata": {},
     "output_type": "execute_result"
    }
   ],
   "source": [
    "young.get_age()"
   ]
  },
  {
   "cell_type": "code",
   "execution_count": 63,
   "id": "68096af2-6229-4963-884b-300ae5be0e9e",
   "metadata": {
    "execution": {
     "iopub.execute_input": "2022-02-13T05:50:17.230099Z",
     "iopub.status.busy": "2022-02-13T05:50:17.229445Z",
     "iopub.status.idle": "2022-02-13T05:50:17.233860Z",
     "shell.execute_reply": "2022-02-13T05:50:17.232955Z",
     "shell.execute_reply.started": "2022-02-13T05:50:17.230075Z"
    },
    "tags": []
   },
   "outputs": [
    {
     "name": "stdout",
     "output_type": "stream",
     "text": [
      "나이 음수 가능?\n"
     ]
    }
   ],
   "source": [
    "young.set_age(-20)"
   ]
  },
  {
   "cell_type": "code",
   "execution_count": 64,
   "id": "839158df-b9d2-4a8a-ba08-7ae653e65fe7",
   "metadata": {
    "execution": {
     "iopub.execute_input": "2022-02-13T05:50:23.234696Z",
     "iopub.status.busy": "2022-02-13T05:50:23.234118Z",
     "iopub.status.idle": "2022-02-13T05:50:23.239572Z",
     "shell.execute_reply": "2022-02-13T05:50:23.238665Z",
     "shell.execute_reply.started": "2022-02-13T05:50:23.234675Z"
    },
    "tags": []
   },
   "outputs": [
    {
     "data": {
      "text/plain": [
       "0"
      ]
     },
     "execution_count": 64,
     "metadata": {},
     "output_type": "execute_result"
    }
   ],
   "source": [
    "young.get_age()"
   ]
  },
  {
   "cell_type": "code",
   "execution_count": 65,
   "id": "235a8523-b647-482b-b94e-d162df602c44",
   "metadata": {
    "execution": {
     "iopub.execute_input": "2022-02-13T05:50:45.399596Z",
     "iopub.status.busy": "2022-02-13T05:50:45.399397Z",
     "iopub.status.idle": "2022-02-13T05:50:45.403697Z",
     "shell.execute_reply": "2022-02-13T05:50:45.402888Z",
     "shell.execute_reply.started": "2022-02-13T05:50:45.399577Z"
    },
    "tags": []
   },
   "outputs": [],
   "source": [
    "young.set_age(19)"
   ]
  },
  {
   "cell_type": "code",
   "execution_count": 66,
   "id": "c8839844-4d8b-496b-af46-29e705396e49",
   "metadata": {
    "execution": {
     "iopub.execute_input": "2022-02-13T05:50:49.294069Z",
     "iopub.status.busy": "2022-02-13T05:50:49.293394Z",
     "iopub.status.idle": "2022-02-13T05:50:49.298470Z",
     "shell.execute_reply": "2022-02-13T05:50:49.297751Z",
     "shell.execute_reply.started": "2022-02-13T05:50:49.294034Z"
    },
    "tags": []
   },
   "outputs": [
    {
     "data": {
      "text/plain": [
       "19"
      ]
     },
     "execution_count": 66,
     "metadata": {},
     "output_type": "execute_result"
    }
   ],
   "source": [
    "young.get_age()"
   ]
  },
  {
   "cell_type": "code",
   "execution_count": 67,
   "id": "f66a498d-0e6d-408e-9fd3-1ff010691675",
   "metadata": {
    "execution": {
     "iopub.execute_input": "2022-02-13T05:55:33.351675Z",
     "iopub.status.busy": "2022-02-13T05:55:33.351265Z",
     "iopub.status.idle": "2022-02-13T05:55:33.357170Z",
     "shell.execute_reply": "2022-02-13T05:55:33.356263Z",
     "shell.execute_reply.started": "2022-02-13T05:55:33.351654Z"
    },
    "tags": []
   },
   "outputs": [],
   "source": [
    "class Citizen:\n",
    "    \"\"\"주민 클래스\"\"\"\n",
    "    drinking_age = 19\n",
    "    \n",
    "    def __init__(self, name, age, resident_id):\n",
    "        \"\"\"이름, 나이, 주민등록번호\"\"\"\n",
    "        self.name = name\n",
    "        self.set_age(age)\n",
    "        self._resident_id = resident_id\n",
    "        \n",
    "    def authenticate(self, id_field):\n",
    "        \"\"\"본인이 맞는지 확인\"\"\"\n",
    "        return self._resident_id == id_field\n",
    "    \n",
    "    def can_drink(self):\n",
    "        \"\"\"음주 가능 나이 확인\"\"\"\n",
    "        return self._age >= Citizen.drinking_age\n",
    "    \n",
    "    def __str__(self):\n",
    "        \"\"\"주민 정보를 문자열로 리턴하는 메소드\"\"\"\n",
    "        return self.name + \"씨는 \" + str(self._age) + \"살입니다!\"\n",
    "        \n",
    "    def get_age(self):\n",
    "        return self._age\n",
    "    \n",
    "    def set_age(self, value):\n",
    "        if value < 0:\n",
    "            print(\"나이 음수 가능?\")\n",
    "            self._age = 0\n",
    "        else:\n",
    "            self._age = value"
   ]
  },
  {
   "cell_type": "code",
   "execution_count": 68,
   "id": "14f2801a-7435-4d06-976b-871479960caa",
   "metadata": {
    "execution": {
     "iopub.execute_input": "2022-02-13T05:55:52.431611Z",
     "iopub.status.busy": "2022-02-13T05:55:52.431372Z",
     "iopub.status.idle": "2022-02-13T05:55:52.435313Z",
     "shell.execute_reply": "2022-02-13T05:55:52.434505Z",
     "shell.execute_reply.started": "2022-02-13T05:55:52.431594Z"
    },
    "tags": []
   },
   "outputs": [],
   "source": [
    "young = Citizen(\"youhoon kang\", 15, \"87654321\")"
   ]
  },
  {
   "cell_type": "code",
   "execution_count": 69,
   "id": "10b7ca94-d76f-4318-86b4-46e9e52e2f62",
   "metadata": {
    "execution": {
     "iopub.execute_input": "2022-02-13T05:55:56.993946Z",
     "iopub.status.busy": "2022-02-13T05:55:56.993741Z",
     "iopub.status.idle": "2022-02-13T05:55:56.999348Z",
     "shell.execute_reply": "2022-02-13T05:55:56.998692Z",
     "shell.execute_reply.started": "2022-02-13T05:55:56.993927Z"
    },
    "tags": []
   },
   "outputs": [
    {
     "data": {
      "text/plain": [
       "15"
      ]
     },
     "execution_count": 69,
     "metadata": {},
     "output_type": "execute_result"
    }
   ],
   "source": [
    "young._age"
   ]
  },
  {
   "cell_type": "code",
   "execution_count": 70,
   "id": "c9615331-add2-4664-9794-d2ea1f3f67a0",
   "metadata": {
    "execution": {
     "iopub.execute_input": "2022-02-13T05:56:17.815507Z",
     "iopub.status.busy": "2022-02-13T05:56:17.815259Z",
     "iopub.status.idle": "2022-02-13T05:56:17.819331Z",
     "shell.execute_reply": "2022-02-13T05:56:17.818651Z",
     "shell.execute_reply.started": "2022-02-13T05:56:17.815485Z"
    },
    "tags": []
   },
   "outputs": [],
   "source": [
    "young.set_age(20)"
   ]
  },
  {
   "cell_type": "code",
   "execution_count": 71,
   "id": "f6ed5f6c-e1f5-4e0b-8fef-2a1d0d504bbf",
   "metadata": {
    "execution": {
     "iopub.execute_input": "2022-02-13T05:56:23.916674Z",
     "iopub.status.busy": "2022-02-13T05:56:23.915880Z",
     "iopub.status.idle": "2022-02-13T05:56:23.920591Z",
     "shell.execute_reply": "2022-02-13T05:56:23.919873Z",
     "shell.execute_reply.started": "2022-02-13T05:56:23.916653Z"
    },
    "tags": []
   },
   "outputs": [
    {
     "name": "stdout",
     "output_type": "stream",
     "text": [
      "20\n"
     ]
    }
   ],
   "source": [
    "print(young._age)"
   ]
  },
  {
   "cell_type": "code",
   "execution_count": 72,
   "id": "aee6f229-bb21-4030-ac53-018ffea36cf3",
   "metadata": {
    "execution": {
     "iopub.execute_input": "2022-02-13T06:00:08.094782Z",
     "iopub.status.busy": "2022-02-13T06:00:08.094507Z",
     "iopub.status.idle": "2022-02-13T06:00:08.100030Z",
     "shell.execute_reply": "2022-02-13T06:00:08.099353Z",
     "shell.execute_reply.started": "2022-02-13T06:00:08.094762Z"
    },
    "tags": []
   },
   "outputs": [],
   "source": [
    "class Citizen:\n",
    "    \"\"\"주민 클래스\"\"\"\n",
    "    drinking_age = 19\n",
    "    \n",
    "    def __init__(self, name, age, resident_id):\n",
    "        \"\"\"이름, 나이, 주민등록번호\"\"\"\n",
    "        self.name = name\n",
    "        self.set_age(age)\n",
    "        self._resident_id = resident_id\n",
    "        \n",
    "    def authenticate(self, id_field):\n",
    "        \"\"\"본인이 맞는지 확인\"\"\"\n",
    "        return self._resident_id == id_field\n",
    "    \n",
    "    def can_drink(self):\n",
    "        \"\"\"음주 가능 나이 확인\"\"\"\n",
    "        return self.__age >= Citizen.drinking_age\n",
    "    \n",
    "    def __str__(self):\n",
    "        \"\"\"주민 정보를 문자열로 리턴하는 메소드\"\"\"\n",
    "        return self.name + \"씨는 \" + str(self._age) + \"살입니다!\"\n",
    "        \n",
    "    def get_age(self):\n",
    "        return self._age\n",
    "    \n",
    "    def set_age(self, value):\n",
    "        if value < 0:\n",
    "            print(\"나이 음수 가능?\")\n",
    "            self._age = 0\n",
    "        else:\n",
    "            self._age = value"
   ]
  },
  {
   "cell_type": "code",
   "execution_count": 73,
   "id": "86385ed2-97ab-4951-9cb1-dbb71839485c",
   "metadata": {
    "execution": {
     "iopub.execute_input": "2022-02-13T06:00:21.820091Z",
     "iopub.status.busy": "2022-02-13T06:00:21.819579Z",
     "iopub.status.idle": "2022-02-13T06:00:21.824294Z",
     "shell.execute_reply": "2022-02-13T06:00:21.823442Z",
     "shell.execute_reply.started": "2022-02-13T06:00:21.820067Z"
    }
   },
   "outputs": [],
   "source": [
    "young = Citizen(\"youhoon kang\", 15, \"87654321\")"
   ]
  },
  {
   "cell_type": "code",
   "execution_count": 74,
   "id": "bd1b87fc-7bae-430c-aee0-ebf23a1cbb84",
   "metadata": {
    "execution": {
     "iopub.execute_input": "2022-02-13T06:00:21.971359Z",
     "iopub.status.busy": "2022-02-13T06:00:21.971178Z",
     "iopub.status.idle": "2022-02-13T06:00:21.992671Z",
     "shell.execute_reply": "2022-02-13T06:00:21.991971Z",
     "shell.execute_reply.started": "2022-02-13T06:00:21.971341Z"
    }
   },
   "outputs": [],
   "source": [
    "young.set_age(20)"
   ]
  },
  {
   "cell_type": "code",
   "execution_count": 75,
   "id": "c86e1500-48ed-4877-95f2-6aa1e61dd60d",
   "metadata": {
    "execution": {
     "iopub.execute_input": "2022-02-13T06:00:27.102807Z",
     "iopub.status.busy": "2022-02-13T06:00:27.102557Z",
     "iopub.status.idle": "2022-02-13T06:00:27.107985Z",
     "shell.execute_reply": "2022-02-13T06:00:27.107191Z",
     "shell.execute_reply.started": "2022-02-13T06:00:27.102788Z"
    },
    "tags": []
   },
   "outputs": [
    {
     "data": {
      "text/plain": [
       "20"
      ]
     },
     "execution_count": 75,
     "metadata": {},
     "output_type": "execute_result"
    }
   ],
   "source": [
    "young.get_age()"
   ]
  },
  {
   "cell_type": "markdown",
   "id": "fdb66dd1-031b-4676-8533-1059390567d6",
   "metadata": {},
   "source": [
    "### 데코레이터를 사용한 캡슐화"
   ]
  },
  {
   "cell_type": "code",
   "execution_count": 78,
   "id": "53e633c7-f51e-4574-a503-6a80f504d9cf",
   "metadata": {
    "execution": {
     "iopub.execute_input": "2022-02-13T06:07:30.874864Z",
     "iopub.status.busy": "2022-02-13T06:07:30.874452Z",
     "iopub.status.idle": "2022-02-13T06:07:30.880980Z",
     "shell.execute_reply": "2022-02-13T06:07:30.880310Z",
     "shell.execute_reply.started": "2022-02-13T06:07:30.874843Z"
    }
   },
   "outputs": [],
   "source": [
    "class Citizen:\n",
    "    \"\"\"주민 클래스\"\"\"\n",
    "    drinking_age = 19\n",
    "    \n",
    "    def __init__(self, name, age, resident_id):\n",
    "        \"\"\"이름, 나이, 주민등록번호\"\"\"\n",
    "        self.name = name\n",
    "        self.age = age\n",
    "        self.resident_id = resident_id\n",
    "        \n",
    "    def authenticate(self, id_field):\n",
    "        \"\"\"본인이 맞는지 확인\"\"\"\n",
    "        return self.resident_id == id_field\n",
    "    \n",
    "    def can_drink(self):\n",
    "        \"\"\"음주 가능 나이 확인\"\"\"\n",
    "        return self.age >= Citizen.drinking_age\n",
    "    \n",
    "    def __str__(self):\n",
    "        \"\"\"주민 정보를 문자열로 리턴하는 메소드\"\"\"\n",
    "        return self.name + \"씨는 \" + str(self.age) + \"살입니다!\"\n",
    "    \n",
    "    @property\n",
    "    def age(self): ## getter 메소드\n",
    "        print(\"나이를 리턴\")\n",
    "        return self._age\n",
    "    \n",
    "    @age.setter\n",
    "    def age(self, value): ## setter 메소드\n",
    "        print(\"나이를 설정합니다\")\n",
    "        if value < 0:\n",
    "            print(\"나이 음수 안돼. 0으로 설정할게\")\n",
    "            self._age = 0\n",
    "        else:\n",
    "            self._age = value\n"
   ]
  },
  {
   "cell_type": "code",
   "execution_count": 79,
   "id": "558dc013-3820-4733-a035-4ab1d60856da",
   "metadata": {
    "execution": {
     "iopub.execute_input": "2022-02-13T06:07:31.006348Z",
     "iopub.status.busy": "2022-02-13T06:07:31.005533Z",
     "iopub.status.idle": "2022-02-13T06:07:31.048279Z",
     "shell.execute_reply": "2022-02-13T06:07:31.047514Z",
     "shell.execute_reply.started": "2022-02-13T06:07:31.006327Z"
    },
    "tags": []
   },
   "outputs": [
    {
     "name": "stdout",
     "output_type": "stream",
     "text": [
      "나이를 설정합니다\n"
     ]
    }
   ],
   "source": [
    "young = Citizen(\"youhoon kang\", 15, \"87654321\")"
   ]
  },
  {
   "cell_type": "code",
   "execution_count": 80,
   "id": "f255a4ce-12c1-4b3b-99de-3d71cb49f823",
   "metadata": {
    "execution": {
     "iopub.execute_input": "2022-02-13T06:07:31.348930Z",
     "iopub.status.busy": "2022-02-13T06:07:31.348156Z",
     "iopub.status.idle": "2022-02-13T06:07:31.353662Z",
     "shell.execute_reply": "2022-02-13T06:07:31.352837Z",
     "shell.execute_reply.started": "2022-02-13T06:07:31.348852Z"
    },
    "tags": []
   },
   "outputs": [
    {
     "name": "stdout",
     "output_type": "stream",
     "text": [
      "나이를 리턴\n",
      "15\n"
     ]
    }
   ],
   "source": [
    "print(young.age) # 데코레이터를 쓰면 age 메소드를 실행하라는 뜻으로 바뀜"
   ]
  },
  {
   "cell_type": "code",
   "execution_count": 81,
   "id": "8a2f8e39-061a-4a47-b3c7-7a95ffacd511",
   "metadata": {
    "execution": {
     "iopub.execute_input": "2022-02-13T06:07:32.078053Z",
     "iopub.status.busy": "2022-02-13T06:07:32.077667Z",
     "iopub.status.idle": "2022-02-13T06:07:32.082130Z",
     "shell.execute_reply": "2022-02-13T06:07:32.081428Z",
     "shell.execute_reply.started": "2022-02-13T06:07:32.078017Z"
    }
   },
   "outputs": [
    {
     "name": "stdout",
     "output_type": "stream",
     "text": [
      "나이를 설정합니다\n"
     ]
    }
   ],
   "source": [
    "young.age = 30 # 데코레이터 때문에 age라는 setter 메소드를 싫행하라는 뜻으로 바뀜"
   ]
  },
  {
   "cell_type": "code",
   "execution_count": 82,
   "id": "5e1fe0cf-aafb-48a0-8a5d-4ddfa4d393c0",
   "metadata": {
    "execution": {
     "iopub.execute_input": "2022-02-13T06:07:32.653700Z",
     "iopub.status.busy": "2022-02-13T06:07:32.653396Z",
     "iopub.status.idle": "2022-02-13T06:07:32.658726Z",
     "shell.execute_reply": "2022-02-13T06:07:32.657675Z",
     "shell.execute_reply.started": "2022-02-13T06:07:32.653657Z"
    },
    "tags": []
   },
   "outputs": [
    {
     "name": "stdout",
     "output_type": "stream",
     "text": [
      "나이를 리턴\n",
      "30\n"
     ]
    }
   ],
   "source": [
    "print(young.age)"
   ]
  },
  {
   "cell_type": "markdown",
   "id": "41e2b8c4-b1d1-4e28-8ccd-ed276a69a6a8",
   "metadata": {},
   "source": [
    "### 신용 카드 정보 보호하기"
   ]
  },
  {
   "cell_type": "markdown",
   "id": "418535e9-2bca-4a36-99d9-d5213e0eac73",
   "metadata": {},
   "source": [
    "#### 데코레이터 사용 X"
   ]
  },
  {
   "cell_type": "code",
   "execution_count": 1,
   "id": "b180ebbe-7432-423f-ba3f-912ffe144c2d",
   "metadata": {
    "execution": {
     "iopub.execute_input": "2022-02-14T14:33:24.051740Z",
     "iopub.status.busy": "2022-02-14T14:33:24.050990Z",
     "iopub.status.idle": "2022-02-14T14:33:24.063483Z",
     "shell.execute_reply": "2022-02-14T14:33:24.062530Z",
     "shell.execute_reply.started": "2022-02-14T14:33:24.051586Z"
    },
    "tags": []
   },
   "outputs": [],
   "source": [
    "class CreditCard:\n",
    "    MAX_PAYMENT_LIMIT = 30000000\n",
    "\n",
    "    # 모든 인스턴스 변수 이름 앞에 __를 붙여서 외부 접근을 막는다\n",
    "    def __init__(self, name, password, payment_limit):\n",
    "        self.__name = name\n",
    "        self.__password = password\n",
    "        self.__payment_limit = payment_limit\n",
    "\n",
    "    def get_name(self):\n",
    "        return self.__name\n",
    "\n",
    "    def set_name(self, new_name):\n",
    "        self.__name = new_name\n",
    "\n",
    "    def get_password(self):\n",
    "        return \"비밀 번호는 볼 수 없습니다\"\n",
    "\n",
    "    def set_password(self, new_password):\n",
    "        self.__password = new_password\n",
    "\n",
    "    def get_payment_limit(self):\n",
    "        return self.__payment_limit\n",
    "\n",
    "    def set_payment_limit(self, new_payment_limit):\n",
    "        if new_payment_limit >= 0 and new_payment_limit <= CreditCard.MAX_PAYMENT_LIMIT:\n",
    "            self.__payment_limit = new_payment_limit\n",
    "        else:\n",
    "            print(\"카드 한도는 0원 ~ 3천만 원 사이로 설정해주세요!\")"
   ]
  },
  {
   "cell_type": "markdown",
   "id": "e719099a-130c-4104-8a45-826a121cf1a7",
   "metadata": {
    "execution": {
     "iopub.execute_input": "2022-02-13T06:39:07.575869Z",
     "iopub.status.busy": "2022-02-13T06:39:07.575539Z",
     "iopub.status.idle": "2022-02-13T06:39:07.578894Z",
     "shell.execute_reply": "2022-02-13T06:39:07.578236Z",
     "shell.execute_reply.started": "2022-02-13T06:39:07.575838Z"
    },
    "tags": []
   },
   "source": [
    "#### 데코레이터 사용 O"
   ]
  },
  {
   "cell_type": "code",
   "execution_count": 2,
   "id": "0e724c60-4f27-4a95-827e-a57bc831fa24",
   "metadata": {
    "execution": {
     "iopub.execute_input": "2022-02-14T14:33:26.006149Z",
     "iopub.status.busy": "2022-02-14T14:33:26.005677Z",
     "iopub.status.idle": "2022-02-14T14:33:26.018747Z",
     "shell.execute_reply": "2022-02-14T14:33:26.017539Z",
     "shell.execute_reply.started": "2022-02-14T14:33:26.006119Z"
    },
    "tags": []
   },
   "outputs": [
    {
     "name": "stdout",
     "output_type": "stream",
     "text": [
      "강영훈\n",
      "비밀 번호는 볼 수 없습니다\n",
      "100000\n",
      "카드 한도는 0원 ~ 3천만 원 사이로 설정해주세요!\n",
      "성태호\n",
      "비밀 번호는 볼 수 없습니다\n",
      "100000\n"
     ]
    }
   ],
   "source": [
    "class CreditCard:\n",
    "    MAX_PAYMENT_LIMIT = 30000000\n",
    "\n",
    "    def __init__(self, name, password, payment_limit):\n",
    "        # 코드를 쓰세요\n",
    "        self.name = name\n",
    "        self._password = password\n",
    "        self._payment_limit = payment_limit\n",
    "    \n",
    "    @property\n",
    "    def password(self):\n",
    "        return \"비밀 번호는 볼 수 없습니다\"\n",
    "    \n",
    "    @password.setter\n",
    "    def password(self, new_password):\n",
    "        self._password = new_password\n",
    "    \n",
    "    @property\n",
    "    def payment_limit(self):\n",
    "        return self._payment_limit\n",
    "    \n",
    "    @payment_limit.setter\n",
    "    def payment_limit(self, new_payment_limit):\n",
    "        if 0 < new_payment_limit < CreditCard.MAX_PAYMENT_LIMIT:\n",
    "            self._payment_limit = new_payment_limit\n",
    "        else:\n",
    "            print(\"카드 한도는 0원 ~ 3천만 원 사이로 설정해주세요!\")\n",
    "\n",
    "card = CreditCard(\"강영훈\", \"123\", 100000)\n",
    "\n",
    "print(card.name)\n",
    "print(card.password)\n",
    "print(card.payment_limit)\n",
    "\n",
    "card.name = \"성태호\"\n",
    "card.password = \"1234\"\n",
    "card.payment_limit = -10\n",
    "\n",
    "print(card.name)\n",
    "print(card.password)\n",
    "print(card.payment_limit)"
   ]
  },
  {
   "cell_type": "markdown",
   "id": "1750cb11-f124-48ee-953a-25e43d023fd0",
   "metadata": {},
   "source": [
    "# 상속"
   ]
  },
  {
   "cell_type": "code",
   "execution_count": 3,
   "id": "75044b6d-aa9b-4bff-8697-e1aa1d3c3670",
   "metadata": {
    "execution": {
     "iopub.execute_input": "2022-02-14T14:38:07.835687Z",
     "iopub.status.busy": "2022-02-14T14:38:07.834739Z",
     "iopub.status.idle": "2022-02-14T14:38:07.844276Z",
     "shell.execute_reply": "2022-02-14T14:38:07.843125Z",
     "shell.execute_reply.started": "2022-02-14T14:38:07.835646Z"
    },
    "tags": []
   },
   "outputs": [],
   "source": [
    "class Cashier:\n",
    "    \"\"\"계산대 직원 클래스\"\"\"\n",
    "    company_name = \"코드잇 버거\"\n",
    "    raise_percentage = 1.03\n",
    "    burger_price = 4000 # 햄버거 가격\n",
    "    \n",
    "    def __init__(self, name, wage, number_sold = 0):\n",
    "        self.name = name\n",
    "        self.wage = wage\n",
    "        self.number_sold = number_sold # 하루 판매량\n",
    "        \n",
    "    def raise_pay(self):\n",
    "        \"\"\"시급을 인상한다\"\"\"\n",
    "        self.wage *= self.raise_percentage\n",
    "        \n",
    "    def take_order(self, money_received):\n",
    "        \"\"\"주문과 돈을 받고 거스름돈을 리턴한다\"\"\"\n",
    "        if Cashier.burger_price > money_received:\n",
    "            print(\"돈이 충분하지 않습니다.\")\n",
    "            return money_received\n",
    "        else:\n",
    "            self.number_sold += 1\n",
    "            change = money_received - Cashier.burger_price\n",
    "            return change\n",
    "    \n",
    "    def __str__(self):\n",
    "        return Cashier.company_name + \" 계산대 직원: \"+ self.name"
   ]
  },
  {
   "cell_type": "code",
   "execution_count": 4,
   "id": "c01d4e19-1654-4735-82f5-6f572cb22603",
   "metadata": {
    "execution": {
     "iopub.execute_input": "2022-02-14T14:38:59.046407Z",
     "iopub.status.busy": "2022-02-14T14:38:59.046056Z",
     "iopub.status.idle": "2022-02-14T14:38:59.051761Z",
     "shell.execute_reply": "2022-02-14T14:38:59.050742Z",
     "shell.execute_reply.started": "2022-02-14T14:38:59.046376Z"
    }
   },
   "outputs": [],
   "source": [
    "jiwoong = Cashier(\"최지웅\", 8900, 0)"
   ]
  },
  {
   "cell_type": "code",
   "execution_count": 5,
   "id": "f34914b0-bd52-4bb1-b5af-ee91341def4e",
   "metadata": {
    "execution": {
     "iopub.execute_input": "2022-02-14T14:38:59.198538Z",
     "iopub.status.busy": "2022-02-14T14:38:59.198223Z",
     "iopub.status.idle": "2022-02-14T14:38:59.242926Z",
     "shell.execute_reply": "2022-02-14T14:38:59.241648Z",
     "shell.execute_reply.started": "2022-02-14T14:38:59.198508Z"
    }
   },
   "outputs": [],
   "source": [
    "jiwoong.raise_pay()"
   ]
  },
  {
   "cell_type": "code",
   "execution_count": 6,
   "id": "3ba62762-67d3-4fe2-96d8-039aa99857dc",
   "metadata": {
    "execution": {
     "iopub.execute_input": "2022-02-14T14:39:07.779409Z",
     "iopub.status.busy": "2022-02-14T14:39:07.779074Z",
     "iopub.status.idle": "2022-02-14T14:39:07.785716Z",
     "shell.execute_reply": "2022-02-14T14:39:07.784569Z",
     "shell.execute_reply.started": "2022-02-14T14:39:07.779362Z"
    },
    "tags": []
   },
   "outputs": [
    {
     "name": "stdout",
     "output_type": "stream",
     "text": [
      "9167.0\n"
     ]
    }
   ],
   "source": [
    "print(jiwoong.wage)"
   ]
  },
  {
   "cell_type": "code",
   "execution_count": 7,
   "id": "a14b6bdf-95d7-42e6-8297-c7d372cec761",
   "metadata": {
    "execution": {
     "iopub.execute_input": "2022-02-14T14:39:17.778343Z",
     "iopub.status.busy": "2022-02-14T14:39:17.778122Z",
     "iopub.status.idle": "2022-02-14T14:39:17.783583Z",
     "shell.execute_reply": "2022-02-14T14:39:17.782301Z",
     "shell.execute_reply.started": "2022-02-14T14:39:17.778321Z"
    },
    "tags": []
   },
   "outputs": [
    {
     "name": "stdout",
     "output_type": "stream",
     "text": [
      "3000\n"
     ]
    }
   ],
   "source": [
    "print(jiwoong.take_order(7000))"
   ]
  },
  {
   "cell_type": "code",
   "execution_count": 8,
   "id": "453667d3-9c88-4b1f-bf0a-792375ad424b",
   "metadata": {
    "execution": {
     "iopub.execute_input": "2022-02-14T14:39:35.531082Z",
     "iopub.status.busy": "2022-02-14T14:39:35.530829Z",
     "iopub.status.idle": "2022-02-14T14:39:35.537758Z",
     "shell.execute_reply": "2022-02-14T14:39:35.536441Z",
     "shell.execute_reply.started": "2022-02-14T14:39:35.531058Z"
    },
    "tags": []
   },
   "outputs": [
    {
     "name": "stdout",
     "output_type": "stream",
     "text": [
      "돈이 충분하지 않습니다.\n",
      "3000\n"
     ]
    }
   ],
   "source": [
    "print(jiwoong.take_order(3000))"
   ]
  },
  {
   "cell_type": "code",
   "execution_count": 9,
   "id": "4f8ae5c1-f4ac-415a-b0e8-34c10139fdd8",
   "metadata": {
    "execution": {
     "iopub.execute_input": "2022-02-14T14:39:53.432415Z",
     "iopub.status.busy": "2022-02-14T14:39:53.431639Z",
     "iopub.status.idle": "2022-02-14T14:39:53.438853Z",
     "shell.execute_reply": "2022-02-14T14:39:53.437452Z",
     "shell.execute_reply.started": "2022-02-14T14:39:53.432378Z"
    },
    "tags": []
   },
   "outputs": [
    {
     "name": "stdout",
     "output_type": "stream",
     "text": [
      "4000\n"
     ]
    }
   ],
   "source": [
    "print(jiwoong.burger_price)"
   ]
  },
  {
   "cell_type": "code",
   "execution_count": 10,
   "id": "20a688ca-bb51-445c-bc75-e50844d6b6f6",
   "metadata": {
    "execution": {
     "iopub.execute_input": "2022-02-14T14:40:01.460928Z",
     "iopub.status.busy": "2022-02-14T14:40:01.460351Z",
     "iopub.status.idle": "2022-02-14T14:40:01.467795Z",
     "shell.execute_reply": "2022-02-14T14:40:01.466211Z",
     "shell.execute_reply.started": "2022-02-14T14:40:01.460878Z"
    },
    "tags": []
   },
   "outputs": [
    {
     "name": "stdout",
     "output_type": "stream",
     "text": [
      "4000\n"
     ]
    }
   ],
   "source": [
    "print(Cashier.burger_price)"
   ]
  },
  {
   "cell_type": "code",
   "execution_count": 11,
   "id": "5a4f8aaa-af52-4c1e-bf2a-6f89bc8be70a",
   "metadata": {
    "execution": {
     "iopub.execute_input": "2022-02-14T14:40:18.482495Z",
     "iopub.status.busy": "2022-02-14T14:40:18.481878Z",
     "iopub.status.idle": "2022-02-14T14:40:18.489049Z",
     "shell.execute_reply": "2022-02-14T14:40:18.487833Z",
     "shell.execute_reply.started": "2022-02-14T14:40:18.482464Z"
    },
    "tags": []
   },
   "outputs": [
    {
     "name": "stdout",
     "output_type": "stream",
     "text": [
      "1\n"
     ]
    }
   ],
   "source": [
    "print(jiwoong.number_sold)"
   ]
  },
  {
   "cell_type": "code",
   "execution_count": 12,
   "id": "d141d737-d04d-485d-b80f-01c87ab5a1bb",
   "metadata": {
    "execution": {
     "iopub.execute_input": "2022-02-14T14:40:29.811742Z",
     "iopub.status.busy": "2022-02-14T14:40:29.811409Z",
     "iopub.status.idle": "2022-02-14T14:40:29.818693Z",
     "shell.execute_reply": "2022-02-14T14:40:29.817394Z",
     "shell.execute_reply.started": "2022-02-14T14:40:29.811709Z"
    },
    "tags": []
   },
   "outputs": [
    {
     "name": "stdout",
     "output_type": "stream",
     "text": [
      "코드잇 버거 계산대 직원: 최지웅\n"
     ]
    }
   ],
   "source": [
    "print(jiwoong)"
   ]
  },
  {
   "cell_type": "code",
   "execution_count": 13,
   "id": "c6a4aff0-1543-4062-9cd8-b830cb85e2d0",
   "metadata": {
    "execution": {
     "iopub.execute_input": "2022-02-14T14:43:50.588681Z",
     "iopub.status.busy": "2022-02-14T14:43:50.588293Z",
     "iopub.status.idle": "2022-02-14T14:43:50.597426Z",
     "shell.execute_reply": "2022-02-14T14:43:50.596297Z",
     "shell.execute_reply.started": "2022-02-14T14:43:50.588648Z"
    },
    "tags": []
   },
   "outputs": [],
   "source": [
    "class DeliveryMan:\n",
    "    \"\"\"계산대 직원 클래스\"\"\"\n",
    "    company_name = \"코드잇 버거\"\n",
    "    raise_percentage = 1.03 # 가게 이름\n",
    "    \n",
    "    def __init__(self, name, wage, on_standby):\n",
    "        self.name = name\n",
    "        self.wage = wage\n",
    "        self.on_standby = on_standby # 하루 판매량\n",
    "        \n",
    "    def raise_pay(self):\n",
    "        \"\"\"시급을 인상한다\"\"\"\n",
    "        self.wage *= self.raise_percentage\n",
    "        \n",
    "    def deliver(self, address):\n",
    "        \"\"\"배달원이 대기 중이면 주어진 주소로 배달을 보내고 아니면 설명 메시지를 출력한다\"\"\"\n",
    "        if self.on_standby:\n",
    "            print(address + \"로 배달 나갑니다!\")\n",
    "            self.on_standby = False\n",
    "        else:\n",
    "            print(\"이미 배달하러 나갔습니다!\")\n",
    "            \n",
    "    def back(self):\n",
    "        \"\"\"배달원을 복귀 처리 한다\"\"\"\n",
    "        self.on_standby = True\n",
    "    \n",
    "    def __str__(self):\n",
    "        return Cashier.company_name + \" 배달원: \"+ self.name"
   ]
  },
  {
   "cell_type": "code",
   "execution_count": 15,
   "id": "c5290b70-e980-4691-9217-f41393c072a5",
   "metadata": {
    "execution": {
     "iopub.execute_input": "2022-02-14T14:44:30.256413Z",
     "iopub.status.busy": "2022-02-14T14:44:30.255302Z",
     "iopub.status.idle": "2022-02-14T14:44:30.261166Z",
     "shell.execute_reply": "2022-02-14T14:44:30.259908Z",
     "shell.execute_reply.started": "2022-02-14T14:44:30.256385Z"
    },
    "tags": []
   },
   "outputs": [],
   "source": [
    "taeho = DeliveryMan(\"성태호\", 7000, True)"
   ]
  },
  {
   "cell_type": "code",
   "execution_count": 16,
   "id": "45feed99-7a3e-44a6-8786-531d587a84a0",
   "metadata": {
    "execution": {
     "iopub.execute_input": "2022-02-14T14:44:35.922104Z",
     "iopub.status.busy": "2022-02-14T14:44:35.921333Z",
     "iopub.status.idle": "2022-02-14T14:44:35.927149Z",
     "shell.execute_reply": "2022-02-14T14:44:35.925877Z",
     "shell.execute_reply.started": "2022-02-14T14:44:35.922063Z"
    },
    "tags": []
   },
   "outputs": [],
   "source": [
    "taeho.raise_pay()"
   ]
  },
  {
   "cell_type": "code",
   "execution_count": 17,
   "id": "2bd98219-e971-47aa-bab2-1405e139bd64",
   "metadata": {
    "execution": {
     "iopub.execute_input": "2022-02-14T14:44:46.350720Z",
     "iopub.status.busy": "2022-02-14T14:44:46.350431Z",
     "iopub.status.idle": "2022-02-14T14:44:46.366511Z",
     "shell.execute_reply": "2022-02-14T14:44:46.365255Z",
     "shell.execute_reply.started": "2022-02-14T14:44:46.350689Z"
    },
    "tags": []
   },
   "outputs": [
    {
     "data": {
      "text/plain": [
       "7210.0"
      ]
     },
     "execution_count": 17,
     "metadata": {},
     "output_type": "execute_result"
    }
   ],
   "source": [
    "taeho.wage"
   ]
  },
  {
   "cell_type": "code",
   "execution_count": 21,
   "id": "1f918a38-069d-4cf3-bcf4-351fa2adf971",
   "metadata": {
    "execution": {
     "iopub.execute_input": "2022-02-14T14:45:35.204031Z",
     "iopub.status.busy": "2022-02-14T14:45:35.203726Z",
     "iopub.status.idle": "2022-02-14T14:45:35.210343Z",
     "shell.execute_reply": "2022-02-14T14:45:35.209066Z",
     "shell.execute_reply.started": "2022-02-14T14:45:35.203999Z"
    },
    "tags": []
   },
   "outputs": [
    {
     "name": "stdout",
     "output_type": "stream",
     "text": [
      "서울시 코드잇로 51 최고 건물 401호로 배달 나갑니다!\n"
     ]
    }
   ],
   "source": [
    "taeho.deliver(\"서울시 코드잇로 51 최고 건물 401호\")"
   ]
  },
  {
   "cell_type": "code",
   "execution_count": 22,
   "id": "bde68a28-8250-4414-8119-e5f01cc25268",
   "metadata": {
    "execution": {
     "iopub.execute_input": "2022-02-14T14:45:46.811092Z",
     "iopub.status.busy": "2022-02-14T14:45:46.810802Z",
     "iopub.status.idle": "2022-02-14T14:45:46.817485Z",
     "shell.execute_reply": "2022-02-14T14:45:46.816430Z",
     "shell.execute_reply.started": "2022-02-14T14:45:46.811061Z"
    },
    "tags": []
   },
   "outputs": [
    {
     "name": "stdout",
     "output_type": "stream",
     "text": [
      "이미 배달하러 나갔습니다!\n"
     ]
    }
   ],
   "source": [
    "taeho.deliver(\"암사동\")"
   ]
  },
  {
   "cell_type": "code",
   "execution_count": 19,
   "id": "c486b2ce-4360-4598-86f1-e8da76fb6038",
   "metadata": {
    "execution": {
     "iopub.execute_input": "2022-02-14T14:45:26.435580Z",
     "iopub.status.busy": "2022-02-14T14:45:26.434409Z",
     "iopub.status.idle": "2022-02-14T14:45:26.440741Z",
     "shell.execute_reply": "2022-02-14T14:45:26.439770Z",
     "shell.execute_reply.started": "2022-02-14T14:45:26.435520Z"
    },
    "tags": []
   },
   "outputs": [],
   "source": [
    "taeho.back()"
   ]
  },
  {
   "cell_type": "code",
   "execution_count": 20,
   "id": "60422ef2-57d9-4921-8164-077fd0182a66",
   "metadata": {
    "execution": {
     "iopub.execute_input": "2022-02-14T14:45:31.854624Z",
     "iopub.status.busy": "2022-02-14T14:45:31.854331Z",
     "iopub.status.idle": "2022-02-14T14:45:31.861982Z",
     "shell.execute_reply": "2022-02-14T14:45:31.860782Z",
     "shell.execute_reply.started": "2022-02-14T14:45:31.854592Z"
    },
    "tags": []
   },
   "outputs": [
    {
     "data": {
      "text/plain": [
       "True"
      ]
     },
     "execution_count": 20,
     "metadata": {},
     "output_type": "execute_result"
    }
   ],
   "source": [
    "taeho.on_standby"
   ]
  },
  {
   "cell_type": "code",
   "execution_count": 24,
   "id": "fa9c34be-7261-49fd-8c6a-36c24bd3b0c7",
   "metadata": {
    "execution": {
     "iopub.execute_input": "2022-02-14T14:46:41.298727Z",
     "iopub.status.busy": "2022-02-14T14:46:41.297749Z",
     "iopub.status.idle": "2022-02-14T14:46:41.304168Z",
     "shell.execute_reply": "2022-02-14T14:46:41.302808Z",
     "shell.execute_reply.started": "2022-02-14T14:46:41.298697Z"
    },
    "tags": []
   },
   "outputs": [
    {
     "name": "stdout",
     "output_type": "stream",
     "text": [
      "코드잇 버거 배달원: 성태호\n"
     ]
    }
   ],
   "source": [
    "print(taeho)"
   ]
  },
  {
   "cell_type": "code",
   "execution_count": 11,
   "id": "0f97d297-177d-4a36-ae2d-f634e1a3419b",
   "metadata": {
    "execution": {
     "iopub.execute_input": "2022-02-15T14:44:50.020011Z",
     "iopub.status.busy": "2022-02-15T14:44:50.018947Z",
     "iopub.status.idle": "2022-02-15T14:44:50.026266Z",
     "shell.execute_reply": "2022-02-15T14:44:50.024927Z",
     "shell.execute_reply.started": "2022-02-15T14:44:50.019954Z"
    },
    "tags": []
   },
   "outputs": [],
   "source": [
    "class Employee:\n",
    "    \"\"\"직원 클래스\"\"\"\n",
    "    company_name = \"코드잇 버거\"\n",
    "    raise_percentage = 1.03 # 가게 이름\n",
    "    \n",
    "    def __init__(self, name, wage):\n",
    "        self.name = name\n",
    "        self.wage = wage\n",
    "        \n",
    "    def raise_pay(self):\n",
    "        \"\"\"시급을 인상한다\"\"\"\n",
    "        self.wage *= self.raise_percentage\n",
    "    \n",
    "    def __str__(self):\n",
    "        return Cashier.company_name + \" 배달원: \"+ self.name\n",
    "    \n",
    "class Cashier(Employee):\n",
    "    pass"
   ]
  },
  {
   "cell_type": "code",
   "execution_count": 27,
   "id": "917133d2-edd2-4eb6-9693-48524e499795",
   "metadata": {
    "execution": {
     "iopub.execute_input": "2022-02-14T14:56:53.656399Z",
     "iopub.status.busy": "2022-02-14T14:56:53.656106Z",
     "iopub.status.idle": "2022-02-14T14:56:53.662145Z",
     "shell.execute_reply": "2022-02-14T14:56:53.661099Z",
     "shell.execute_reply.started": "2022-02-14T14:56:53.656368Z"
    },
    "tags": []
   },
   "outputs": [],
   "source": [
    "young = Cashier(\"강영훈\", 8000)"
   ]
  },
  {
   "cell_type": "code",
   "execution_count": 29,
   "id": "9d983b20-e68b-49fe-8c68-46d59e3a9f8a",
   "metadata": {
    "execution": {
     "iopub.execute_input": "2022-02-14T14:57:13.621792Z",
     "iopub.status.busy": "2022-02-14T14:57:13.621505Z",
     "iopub.status.idle": "2022-02-14T14:57:13.628677Z",
     "shell.execute_reply": "2022-02-14T14:57:13.627438Z",
     "shell.execute_reply.started": "2022-02-14T14:57:13.621760Z"
    },
    "tags": []
   },
   "outputs": [
    {
     "name": "stdout",
     "output_type": "stream",
     "text": [
      "8487.2\n",
      "코드잇 버거 배달원: 강영훈\n"
     ]
    }
   ],
   "source": [
    "young.raise_pay()\n",
    "print(young.wage)\n",
    "print(young)"
   ]
  },
  {
   "cell_type": "code",
   "execution_count": 30,
   "id": "b3daff9b-bc38-489d-a41d-c71e20ddcd0f",
   "metadata": {
    "execution": {
     "iopub.execute_input": "2022-02-14T14:57:22.440498Z",
     "iopub.status.busy": "2022-02-14T14:57:22.439723Z",
     "iopub.status.idle": "2022-02-14T14:57:22.448537Z",
     "shell.execute_reply": "2022-02-14T14:57:22.447249Z",
     "shell.execute_reply.started": "2022-02-14T14:57:22.440442Z"
    },
    "tags": []
   },
   "outputs": [
    {
     "name": "stdout",
     "output_type": "stream",
     "text": [
      "Help on class Cashier in module __main__:\n",
      "\n",
      "class Cashier(Employee)\n",
      " |  Cashier(name, wage)\n",
      " |  \n",
      " |  Method resolution order:\n",
      " |      Cashier\n",
      " |      Employee\n",
      " |      builtins.object\n",
      " |  \n",
      " |  Methods inherited from Employee:\n",
      " |  \n",
      " |  __init__(self, name, wage)\n",
      " |      Initialize self.  See help(type(self)) for accurate signature.\n",
      " |  \n",
      " |  __str__(self)\n",
      " |      Return str(self).\n",
      " |  \n",
      " |  raise_pay(self)\n",
      " |      시급을 인상한다\n",
      " |  \n",
      " |  ----------------------------------------------------------------------\n",
      " |  Data descriptors inherited from Employee:\n",
      " |  \n",
      " |  __dict__\n",
      " |      dictionary for instance variables (if defined)\n",
      " |  \n",
      " |  __weakref__\n",
      " |      list of weak references to the object (if defined)\n",
      " |  \n",
      " |  ----------------------------------------------------------------------\n",
      " |  Data and other attributes inherited from Employee:\n",
      " |  \n",
      " |  company_name = '코드잇 버거'\n",
      " |  \n",
      " |  raise_percentage = 1.03\n",
      "\n"
     ]
    }
   ],
   "source": [
    "help(Cashier)"
   ]
  },
  {
   "cell_type": "code",
   "execution_count": 56,
   "id": "96c62eb5-c03e-4c03-88fe-07b1b95e9079",
   "metadata": {
    "execution": {
     "iopub.execute_input": "2022-02-15T15:16:55.306951Z",
     "iopub.status.busy": "2022-02-15T15:16:55.306083Z",
     "iopub.status.idle": "2022-02-15T15:16:55.312846Z",
     "shell.execute_reply": "2022-02-15T15:16:55.311684Z",
     "shell.execute_reply.started": "2022-02-15T15:16:55.306928Z"
    },
    "tags": []
   },
   "outputs": [],
   "source": [
    "class DeliveryMan(Employee):\n",
    "    \"\"\"계산대 직원 클래스\"\"\"\n",
    "    company_name = \"코드잇 버거\"\n",
    "    raise_percentage = 1.03 # 가게 이름\n",
    "    \n",
    "    def __init__(self, name, wage, on_standby):\n",
    "        super().__init__(name, wage)\n",
    "        self.on_standby = on_standby # 하루 판매량\n",
    "        \n",
    "    def deliver(self, address):\n",
    "        \"\"\"배달원이 대기 중이면 주어진 주소로 배달을 보내고 아니면 설명 메시지를 출력한다\"\"\"\n",
    "        if self.on_standby:\n",
    "            print(address + \"로 배달 나갑니다!\")\n",
    "            self.on_standby = False\n",
    "        else:\n",
    "            print(\"이미 배달하러 나갔습니다!\")\n",
    "            \n",
    "    def back(self):\n",
    "        \"\"\"배달원을 복귀 처리 한다\"\"\"\n",
    "        self.on_standby = True\n",
    "    \n",
    "    def __str__(self):\n",
    "        return Cashier.company_name + \" 배달원: \"+ self.name"
   ]
  },
  {
   "cell_type": "code",
   "execution_count": 28,
   "id": "071de9d5-e92f-4d99-b9ee-4f5323c1ab04",
   "metadata": {
    "execution": {
     "iopub.execute_input": "2022-02-15T14:55:14.955751Z",
     "iopub.status.busy": "2022-02-15T14:55:14.955212Z",
     "iopub.status.idle": "2022-02-15T14:55:14.965152Z",
     "shell.execute_reply": "2022-02-15T14:55:14.964111Z",
     "shell.execute_reply.started": "2022-02-15T14:55:14.955716Z"
    },
    "tags": []
   },
   "outputs": [],
   "source": [
    "class Cashier(Employee):\n",
    "    raise_percentage = 1.05\n",
    "    burger_price = 4000\n",
    "    \n",
    "    def __init__(self, name, wage, number_sold):\n",
    "        super().__init__(name, wage) # Employee.__init__(self, name, wage) # 오버라이딩 부분\n",
    "        self.number_sold = number_sold\n",
    "        \n",
    "    def take_order(self, money_received):\n",
    "        \"\"\"주문과 돈을 받고 거스름돈을 리턴한다\"\"\"\n",
    "        if Cashier.burger_price > money_received:\n",
    "            print(\"돈이 충분하지 않습니다.\")\n",
    "            return money_received\n",
    "        else:\n",
    "            self.number_sold += 1\n",
    "            change = money_received - Cashier.burger_price\n",
    "            return change\n",
    "        \n",
    "    def __str__(self):\n",
    "        return Cashier.company_name + \" 계산대 직원: \"+ self.name"
   ]
  },
  {
   "cell_type": "code",
   "execution_count": 37,
   "id": "d1e22b1d-197c-4361-9d77-987faaa21299",
   "metadata": {
    "execution": {
     "iopub.execute_input": "2022-02-15T14:55:54.919433Z",
     "iopub.status.busy": "2022-02-15T14:55:54.918394Z",
     "iopub.status.idle": "2022-02-15T14:55:54.924664Z",
     "shell.execute_reply": "2022-02-15T14:55:54.923496Z",
     "shell.execute_reply.started": "2022-02-15T14:55:54.919408Z"
    },
    "tags": []
   },
   "outputs": [
    {
     "name": "stdout",
     "output_type": "stream",
     "text": [
      "9345.0\n"
     ]
    }
   ],
   "source": [
    "young = Cashier(\"강영훈\", 8900, 0)\n",
    "young.raise_pay()\n",
    "print(young.wage)"
   ]
  },
  {
   "cell_type": "code",
   "execution_count": 38,
   "id": "91943da3-15ac-420a-a884-2c61a9018ce2",
   "metadata": {
    "execution": {
     "iopub.execute_input": "2022-02-15T14:55:55.339339Z",
     "iopub.status.busy": "2022-02-15T14:55:55.339084Z",
     "iopub.status.idle": "2022-02-15T14:55:55.367005Z",
     "shell.execute_reply": "2022-02-15T14:55:55.365705Z",
     "shell.execute_reply.started": "2022-02-15T14:55:55.339299Z"
    },
    "tags": []
   },
   "outputs": [
    {
     "data": {
      "text/plain": [
       "[__main__.Cashier, __main__.Employee, object]"
      ]
     },
     "execution_count": 38,
     "metadata": {},
     "output_type": "execute_result"
    }
   ],
   "source": [
    "Cashier.mro()"
   ]
  },
  {
   "cell_type": "code",
   "execution_count": 39,
   "id": "0f7b559b-38e3-4f44-b5d9-069a8e09b8f8",
   "metadata": {
    "execution": {
     "iopub.execute_input": "2022-02-15T14:55:57.020660Z",
     "iopub.status.busy": "2022-02-15T14:55:57.020359Z",
     "iopub.status.idle": "2022-02-15T14:55:57.027395Z",
     "shell.execute_reply": "2022-02-15T14:55:57.026203Z",
     "shell.execute_reply.started": "2022-02-15T14:55:57.020629Z"
    },
    "tags": []
   },
   "outputs": [
    {
     "name": "stdout",
     "output_type": "stream",
     "text": [
      "3000\n"
     ]
    }
   ],
   "source": [
    "print(young.take_order(7000))"
   ]
  },
  {
   "cell_type": "code",
   "execution_count": 40,
   "id": "ec28dac2-48de-44ea-b5d2-a97c2fb0d0d4",
   "metadata": {
    "execution": {
     "iopub.execute_input": "2022-02-15T14:55:57.620555Z",
     "iopub.status.busy": "2022-02-15T14:55:57.620242Z",
     "iopub.status.idle": "2022-02-15T14:55:57.628753Z",
     "shell.execute_reply": "2022-02-15T14:55:57.627625Z",
     "shell.execute_reply.started": "2022-02-15T14:55:57.620525Z"
    },
    "tags": []
   },
   "outputs": [
    {
     "name": "stdout",
     "output_type": "stream",
     "text": [
      "돈이 충분하지 않습니다.\n",
      "3000\n"
     ]
    }
   ],
   "source": [
    "print(young.take_order(3000))"
   ]
  },
  {
   "cell_type": "code",
   "execution_count": 41,
   "id": "82dd11a0-6413-4f09-9a5f-d417a5d1fd17",
   "metadata": {
    "execution": {
     "iopub.execute_input": "2022-02-15T14:55:58.491054Z",
     "iopub.status.busy": "2022-02-15T14:55:58.490365Z",
     "iopub.status.idle": "2022-02-15T14:55:58.498491Z",
     "shell.execute_reply": "2022-02-15T14:55:58.496702Z",
     "shell.execute_reply.started": "2022-02-15T14:55:58.490970Z"
    },
    "tags": []
   },
   "outputs": [
    {
     "name": "stdout",
     "output_type": "stream",
     "text": [
      "4000\n"
     ]
    }
   ],
   "source": [
    "print(young.burger_price)"
   ]
  },
  {
   "cell_type": "code",
   "execution_count": 34,
   "id": "af8fa989-17ce-4812-9a07-68ef1adbb3df",
   "metadata": {
    "execution": {
     "iopub.execute_input": "2022-02-15T14:55:31.422224Z",
     "iopub.status.busy": "2022-02-15T14:55:31.421102Z",
     "iopub.status.idle": "2022-02-15T14:55:31.428735Z",
     "shell.execute_reply": "2022-02-15T14:55:31.427158Z",
     "shell.execute_reply.started": "2022-02-15T14:55:31.422175Z"
    },
    "tags": []
   },
   "outputs": [
    {
     "name": "stdout",
     "output_type": "stream",
     "text": [
      "4000\n"
     ]
    }
   ],
   "source": [
    "print(young.burger_price)"
   ]
  },
  {
   "cell_type": "code",
   "execution_count": 35,
   "id": "275640d2-04f8-4b45-a20d-979619497b98",
   "metadata": {
    "execution": {
     "iopub.execute_input": "2022-02-15T14:55:31.922652Z",
     "iopub.status.busy": "2022-02-15T14:55:31.922432Z",
     "iopub.status.idle": "2022-02-15T14:55:31.926767Z",
     "shell.execute_reply": "2022-02-15T14:55:31.925888Z",
     "shell.execute_reply.started": "2022-02-15T14:55:31.922629Z"
    },
    "tags": []
   },
   "outputs": [
    {
     "name": "stdout",
     "output_type": "stream",
     "text": [
      "1\n"
     ]
    }
   ],
   "source": [
    "print(young.number_sold)"
   ]
  },
  {
   "cell_type": "code",
   "execution_count": 36,
   "id": "d020eb4b-3244-4640-b282-f0f100e65a18",
   "metadata": {
    "execution": {
     "iopub.execute_input": "2022-02-15T14:55:33.684987Z",
     "iopub.status.busy": "2022-02-15T14:55:33.684668Z",
     "iopub.status.idle": "2022-02-15T14:55:33.691002Z",
     "shell.execute_reply": "2022-02-15T14:55:33.689759Z",
     "shell.execute_reply.started": "2022-02-15T14:55:33.684957Z"
    },
    "tags": []
   },
   "outputs": [
    {
     "name": "stdout",
     "output_type": "stream",
     "text": [
      "코드잇 버거 계산대 직원: 강영훈\n"
     ]
    }
   ],
   "source": [
    "print(young)"
   ]
  },
  {
   "cell_type": "markdown",
   "id": "e7d4839b-d2ec-45a7-8398-75844f51a690",
   "metadata": {},
   "source": [
    "## 실습"
   ]
  },
  {
   "cell_type": "code",
   "execution_count": 42,
   "id": "65461c11-3276-479f-bdbe-3d8303974831",
   "metadata": {
    "execution": {
     "iopub.execute_input": "2022-02-15T15:04:47.860728Z",
     "iopub.status.busy": "2022-02-15T15:04:47.860439Z",
     "iopub.status.idle": "2022-02-15T15:04:47.875422Z",
     "shell.execute_reply": "2022-02-15T15:04:47.874108Z",
     "shell.execute_reply.started": "2022-02-15T15:04:47.860698Z"
    },
    "tags": []
   },
   "outputs": [
    {
     "name": "stdout",
     "output_type": "stream",
     "text": [
      "성태호님의 계좌 예치금은 98000원입니다\n",
      "강영훈님의 계좌 예치금은 21000.0원입니다\n",
      "[<class '__main__.CheckingAccount'>, <class '__main__.BankAccount'>, <class 'object'>]\n",
      "[<class '__main__.SavingsAccount'>, <class '__main__.BankAccount'>, <class 'object'>]\n"
     ]
    }
   ],
   "source": [
    "class BankAccount:\n",
    "    \"\"\"계좌 클래스\"\"\"\n",
    "    def __init__(self, name, balance):\n",
    "        self.name = name\n",
    "        self.balance = balance\n",
    "        \n",
    "    def withdraw(self, amount):\n",
    "        \"\"\"돈을 출금한다\"\"\"\n",
    "        self.balance -= amount\n",
    "\n",
    "    def deposit(self, amount):\n",
    "        \"\"\"돈을 입금한다\"\"\"\n",
    "        self.balance += amount\n",
    "\n",
    "class CheckingAccount(BankAccount):\n",
    "    \"\"\"자유 입출금 계좌 클래스\"\"\"\n",
    "    def __init__(self, name, balance, max_spending):\n",
    "        \"\"\"모든 인스턴스 변수의 초기값을 설정한다\"\"\"\n",
    "        super().__init__(name, balance)\n",
    "        self.max_spending = max_spending\n",
    "\n",
    "    def use_check_card(self, amount):\n",
    "        \"\"\"한 회 사용 한도 초과 이하인 금액을 체크 카드 결제 시 예치금을 줄인다\"\"\"\n",
    "        if amount <= self.max_spending:\n",
    "            self.balance -= amount\n",
    "        else:\n",
    "            print(\"{}님의 체크 카드는 한 회 {} 초과 사용 불가능합니다\".format(self.name, self.max_spending))\n",
    "\n",
    "    def __str__(self):\n",
    "        \"\"\"자유 입출금 계좌의 정보를 문자열로 리턴한다.\"\"\"\n",
    "        return \"{}님의 계좌 예치금은 {}원입니다\".format(self.name, self.balance)\n",
    "\n",
    "class SavingsAccount(BankAccount):\n",
    "    \"\"\"저축 계좌 클래스\"\"\"\n",
    "    def __init__(self, name, balance, interest_rate):\n",
    "        \"\"\"모든 인스턴스 변수의 초기값을 설정한다\"\"\"\n",
    "        super().__init__(name, balance)\n",
    "        self.interest_rate = interest_rate\n",
    "\n",
    "    def add_interest(self):\n",
    "        \"\"\"이자를 더한다\"\"\"\n",
    "        self.balance *= (1+self.interest_rate)\n",
    "\n",
    "    def __str__(self):\n",
    "        \"\"\"저축 계좌의 정보를 문자열로 리턴한다.\"\"\"\n",
    "        return \"{}님의 계좌 예치금은 {}원입니다\".format(self.name, self.balance)\n",
    "\n",
    "bank_account_1 = CheckingAccount(\"성태호\", 100000, 10000)\n",
    "bank_account_2 = SavingsAccount(\"강영훈\", 20000, 0.05)\n",
    "\n",
    "bank_account_1.withdraw(1000)\n",
    "bank_account_1.deposit(1000)\n",
    "bank_account_1.use_check_card(2000)\n",
    "\n",
    "bank_account_2.withdraw(1000)\n",
    "bank_account_2.deposit(1000)\n",
    "bank_account_2.add_interest()\n",
    "\n",
    "print(bank_account_1)\n",
    "print(bank_account_2)\n",
    "\n",
    "print(CheckingAccount.mro())\n",
    "print(SavingsAccount.mro())"
   ]
  },
  {
   "cell_type": "markdown",
   "id": "34c29562-1093-44cd-a7e1-722b1efd5d87",
   "metadata": {},
   "source": [
    "### 다중상속"
   ]
  },
  {
   "cell_type": "code",
   "execution_count": 52,
   "id": "afb3bce8-4634-480a-abb9-2f35f35811c7",
   "metadata": {
    "execution": {
     "iopub.execute_input": "2022-02-15T15:12:55.755001Z",
     "iopub.status.busy": "2022-02-15T15:12:55.754362Z",
     "iopub.status.idle": "2022-02-15T15:12:55.762261Z",
     "shell.execute_reply": "2022-02-15T15:12:55.761223Z",
     "shell.execute_reply.started": "2022-02-15T15:12:55.754970Z"
    },
    "tags": []
   },
   "outputs": [],
   "source": [
    "class Engineer:\n",
    "    def __init__(self, favorite_language):\n",
    "        self.favorite_language = favorite_language\n",
    "        \n",
    "    def program(self):\n",
    "        print(\"{}으로 프로그래밍합니다.\".format(self.favorite_language))\n",
    "        \n",
    "class TennisPlayer:\n",
    "    def __init__(self, tennis_level):\n",
    "        self.tennis_level = tennis_level\n",
    "        \n",
    "    def play_tennis(self):\n",
    "        print(\"{} 수준으로 테니스를 칩니다.\".format(self.tennis_level))\n",
    "        \n",
    "class EngineerTennisPlayer(Engineer, TennisPlayer):\n",
    "     def __init__(self, favorite_language, tennis_level):\n",
    "        Engineer.favorite_language = favorite_language\n",
    "        TennisPlayer.tennis_level = tennis_level"
   ]
  },
  {
   "cell_type": "code",
   "execution_count": 50,
   "id": "ef6d5442-084b-4c18-a25a-be60e71837f3",
   "metadata": {
    "execution": {
     "iopub.execute_input": "2022-02-15T15:08:52.528937Z",
     "iopub.status.busy": "2022-02-15T15:08:52.528656Z",
     "iopub.status.idle": "2022-02-15T15:08:52.560601Z",
     "shell.execute_reply": "2022-02-15T15:08:52.559296Z",
     "shell.execute_reply.started": "2022-02-15T15:08:52.528908Z"
    },
    "tags": []
   },
   "outputs": [],
   "source": [
    "captain = Engineer(\"자바스크립트\")\n",
    "jm = TennisPlayer(\"구력 3년\")"
   ]
  },
  {
   "cell_type": "code",
   "execution_count": 51,
   "id": "26f7e9b3-09ab-45e2-8387-89ed8daac39c",
   "metadata": {
    "execution": {
     "iopub.execute_input": "2022-02-15T15:08:52.701899Z",
     "iopub.status.busy": "2022-02-15T15:08:52.701652Z",
     "iopub.status.idle": "2022-02-15T15:08:52.708077Z",
     "shell.execute_reply": "2022-02-15T15:08:52.707156Z",
     "shell.execute_reply.started": "2022-02-15T15:08:52.701873Z"
    },
    "tags": []
   },
   "outputs": [
    {
     "name": "stdout",
     "output_type": "stream",
     "text": [
      "자바스크립트으로 프로그래밍합니다.\n",
      "구력 3년 수준으로 테니스를 칩니다.\n"
     ]
    }
   ],
   "source": [
    "captain.program()\n",
    "jm.play_tennis()"
   ]
  },
  {
   "cell_type": "code",
   "execution_count": 53,
   "id": "9411cf7d-29e6-4d4a-b54e-8e2851520694",
   "metadata": {
    "execution": {
     "iopub.execute_input": "2022-02-15T15:13:21.594736Z",
     "iopub.status.busy": "2022-02-15T15:13:21.593432Z",
     "iopub.status.idle": "2022-02-15T15:13:21.599999Z",
     "shell.execute_reply": "2022-02-15T15:13:21.598229Z",
     "shell.execute_reply.started": "2022-02-15T15:13:21.594691Z"
    },
    "tags": []
   },
   "outputs": [],
   "source": [
    "e = EngineerTennisPlayer(\"파이썬\", \"구력1년\")"
   ]
  },
  {
   "cell_type": "code",
   "execution_count": 54,
   "id": "9a07aadb-06b5-49cf-8454-44ee10f67d1b",
   "metadata": {
    "execution": {
     "iopub.execute_input": "2022-02-15T15:13:29.225138Z",
     "iopub.status.busy": "2022-02-15T15:13:29.224860Z",
     "iopub.status.idle": "2022-02-15T15:13:29.231304Z",
     "shell.execute_reply": "2022-02-15T15:13:29.230265Z",
     "shell.execute_reply.started": "2022-02-15T15:13:29.225108Z"
    },
    "tags": []
   },
   "outputs": [
    {
     "name": "stdout",
     "output_type": "stream",
     "text": [
      "파이썬으로 프로그래밍합니다.\n",
      "구력1년 수준으로 테니스를 칩니다.\n"
     ]
    }
   ],
   "source": [
    "e.program()\n",
    "e.play_tennis()"
   ]
  },
  {
   "cell_type": "code",
   "execution_count": 61,
   "id": "ad8c5344-acae-4949-ad67-23967f07ed1a",
   "metadata": {
    "execution": {
     "iopub.execute_input": "2022-02-15T15:19:57.381969Z",
     "iopub.status.busy": "2022-02-15T15:19:57.381349Z",
     "iopub.status.idle": "2022-02-15T15:19:57.388793Z",
     "shell.execute_reply": "2022-02-15T15:19:57.387480Z",
     "shell.execute_reply.started": "2022-02-15T15:19:57.381902Z"
    },
    "tags": []
   },
   "outputs": [],
   "source": [
    "class CashierDeliveryMan(Cashier,DeliveryMan):\n",
    "    def __init__(self, name, wage, on_standby, number_sold = 0):\n",
    "        Employee.__init__(self, name, wage)\n",
    "        self.on_standby = on_standby\n",
    "        self.number_sold = number_sold"
   ]
  },
  {
   "cell_type": "code",
   "execution_count": 62,
   "id": "1c629ea4-76b9-4ba7-bb0f-4c2b7d419baa",
   "metadata": {
    "execution": {
     "iopub.execute_input": "2022-02-15T15:19:59.155589Z",
     "iopub.status.busy": "2022-02-15T15:19:59.154614Z",
     "iopub.status.idle": "2022-02-15T15:19:59.163569Z",
     "shell.execute_reply": "2022-02-15T15:19:59.162192Z",
     "shell.execute_reply.started": "2022-02-15T15:19:59.155545Z"
    },
    "tags": []
   },
   "outputs": [
    {
     "name": "stdout",
     "output_type": "stream",
     "text": [
      "돈이 충분하지 않습니다.\n",
      "601호로 배달 나갑니다!\n",
      "이미 배달하러 나갔습니다!\n",
      "코드잇 버거 계산대 직원: jm\n"
     ]
    }
   ],
   "source": [
    "a = CashierDeliveryMan(\"jm\", 7000, True, 10)\n",
    "a.take_order(3000)\n",
    "a.deliver(\"601호\")\n",
    "a.deliver(\"602호\")\n",
    "a.back()\n",
    "\n",
    "print(a)"
   ]
  },
  {
   "cell_type": "code",
   "execution_count": 60,
   "id": "81fe6e18-522f-486b-b4ad-2b8c5e09aadf",
   "metadata": {
    "execution": {
     "iopub.execute_input": "2022-02-15T15:19:17.616336Z",
     "iopub.status.busy": "2022-02-15T15:19:17.616011Z",
     "iopub.status.idle": "2022-02-15T15:19:17.624934Z",
     "shell.execute_reply": "2022-02-15T15:19:17.623560Z",
     "shell.execute_reply.started": "2022-02-15T15:19:17.616305Z"
    },
    "tags": []
   },
   "outputs": [
    {
     "data": {
      "text/plain": [
       "[__main__.CashierDeliveryMan,\n",
       " __main__.DeliveryMan,\n",
       " __main__.Cashier,\n",
       " __main__.Employee,\n",
       " object]"
      ]
     },
     "execution_count": 60,
     "metadata": {},
     "output_type": "execute_result"
    }
   ],
   "source": [
    "CashierDeliveryMan.mro()"
   ]
  },
  {
   "cell_type": "markdown",
   "id": "25829916-93b2-4be0-8d61-32ae359545c1",
   "metadata": {},
   "source": [
    "# 다형성"
   ]
  },
  {
   "cell_type": "code",
   "execution_count": 10,
   "id": "0c6689fe-81a0-414b-a14e-ae3cb66e1a59",
   "metadata": {
    "execution": {
     "iopub.execute_input": "2022-02-18T09:46:51.747724Z",
     "iopub.status.busy": "2022-02-18T09:46:51.747553Z",
     "iopub.status.idle": "2022-02-18T09:46:51.757218Z",
     "shell.execute_reply": "2022-02-18T09:46:51.756272Z",
     "shell.execute_reply.started": "2022-02-18T09:46:51.747704Z"
    },
    "tags": []
   },
   "outputs": [],
   "source": [
    "from math import pi\n",
    "\n",
    "class Rectangle:\n",
    "    \"\"\"직사각형 클래스\"\"\"\n",
    "    def __init__(self, width, height):\n",
    "        self.width = width\n",
    "        self.height = height\n",
    "    \n",
    "    def area(self):\n",
    "        \"\"\"직사각형의 넓이를 리턴한다\"\"\"\n",
    "        return self.width * self.height\n",
    "    \n",
    "    def perimeter(self):\n",
    "        \"\"\"직사각형의 둘레를 리턴한다\"\"\"\n",
    "        return 2*self.width + 2*self.height\n",
    "    \n",
    "    def __str__(self):\n",
    "        \"\"\"직사각형의 정보를 문자열로 리턴한다\"\"\"\n",
    "        return \"밑변 {}, 높이 {}인 직사각형\".format(self.width, self.height)\n",
    "    \n",
    "class Circle:\n",
    "    \"\"\"원 클래스\"\"\"\n",
    "    \n",
    "    def __init__(self, radius):\n",
    "        self.radius = radius\n",
    "    \n",
    "    def area(self):\n",
    "        \"\"\"원의 넓이를 리턴한다\"\"\"\n",
    "        return pi * self.radius * self.radius\n",
    "    \n",
    "    def perimeter(self):\n",
    "        \"\"\"원의 둘레를 리턴한다\"\"\"\n",
    "        return 2 * pi * self.radius\n",
    "    \n",
    "    def __str__(self):\n",
    "        \"\"\"원의 정보를 문자열로 리턴한다\"\"\"\n",
    "        return \"반지름 {}인 원\".format(self.radius)\n",
    "    \n",
    "class Cylinder:\n",
    "    \"\"\"원통 클래스\"\"\"\n",
    "    def __init__(self, radius, height):\n",
    "        self.radius = radius\n",
    "        self.height = height\n",
    "\n",
    "    def __str__(self):\n",
    "        \"\"\"원통의 정보를 문자열로 리턴하는 메소드\"\"\"\n",
    "        return \"밑면 반지름 {}, 높이 {}인 원기둥\".format(self.radius, self.height)\n",
    "    \n",
    "class Paint:\n",
    "    \"\"\"그림판 프로그램 클래스\"\"\"\n",
    "    def __init__(self):\n",
    "        self.shapes = []\n",
    "        \n",
    "    def add_shape(self, shape):\n",
    "        \"\"\"그림판에 도형을 추가한다\"\"\"\n",
    "        if isinstance(shape, Circle) or isinstance(shape, Rectangle):\n",
    "            self.shapes.append(shape)\n",
    "        else:\n",
    "            print(\"넓이, 둘레를 구하는 메소드가 없는 도형은 추가할 수 없습니다!\")\n",
    "        \n",
    "    def total_area_of_shapes(self):\n",
    "        \"\"\"그림판에 있는 모든 도형의 넓이의 합을 구한다\"\"\"\n",
    "        return sum([shape.area() for shape in self.shapes])\n",
    "    \n",
    "    def total_perimeter_of_shapes(self):\n",
    "        \"\"\"그림판에 있는 모든 도형의 둘레의 합을 구한다\"\"\"\n",
    "        return sum([shape.perimeter() for shape in self.shapes])\n",
    "    \n",
    "    def __str__(self):\n",
    "        \"\"\"그림판에 있는 각 도형들의 정보를 출력한다\"\"\"\n",
    "        res_str = \"그림판 안에 있는 도형들:\\n\\n\"\n",
    "        for shape in self.shapes:\n",
    "            res_str += str(shape) + \"\\n\"\n",
    "        return res_str"
   ]
  },
  {
   "cell_type": "code",
   "execution_count": 11,
   "id": "e8083f6e-4216-438d-bc1c-883164f2d386",
   "metadata": {
    "execution": {
     "iopub.execute_input": "2022-02-18T09:46:53.226634Z",
     "iopub.status.busy": "2022-02-18T09:46:53.226453Z",
     "iopub.status.idle": "2022-02-18T09:46:53.233518Z",
     "shell.execute_reply": "2022-02-18T09:46:53.232602Z",
     "shell.execute_reply.started": "2022-02-18T09:46:53.226616Z"
    },
    "tags": []
   },
   "outputs": [
    {
     "name": "stdout",
     "output_type": "stream",
     "text": [
      "넓이, 둘레를 구하는 메소드가 없는 도형은 추가할 수 없습니다!\n",
      "45.132741228718345\n",
      "71.26548245743669\n"
     ]
    }
   ],
   "source": [
    "paint_program = Paint()\n",
    "cylinder = Cylinder(7, 4)\n",
    "rectangle = Rectangle(3, 7)\n",
    "circle = Circle(4)\n",
    "\n",
    "paint_program.add_shape(cylinder)\n",
    "paint_program.add_shape(circle)\n",
    "paint_program.add_shape(rectangle)\n",
    "\n",
    "print(paint_program.total_perimeter_of_shapes()) # 에러가 난다!\n",
    "print(paint_program.total_area_of_shapes())"
   ]
  },
  {
   "cell_type": "markdown",
   "id": "22c7929e-b640-4d4e-be7a-8a8a3a14e28a",
   "metadata": {},
   "source": [
    "### 상속을 활용한 다형성 I"
   ]
  },
  {
   "cell_type": "code",
   "execution_count": 14,
   "id": "74d20ce4-e048-4b99-ab84-4c521f820110",
   "metadata": {
    "execution": {
     "iopub.execute_input": "2022-02-18T10:01:44.524832Z",
     "iopub.status.busy": "2022-02-18T10:01:44.524202Z",
     "iopub.status.idle": "2022-02-18T10:01:44.535456Z",
     "shell.execute_reply": "2022-02-18T10:01:44.534432Z",
     "shell.execute_reply.started": "2022-02-18T10:01:44.524807Z"
    },
    "tags": []
   },
   "outputs": [],
   "source": [
    "from math import pi\n",
    "\n",
    "class Shape:\n",
    "    \"\"\"도형 클래스\"\"\"\n",
    "    def area(self):\n",
    "        \"\"\"도형의 넓이를 리턴한다: 자식클래스가 오버라이딩할 것\"\"\"\n",
    "        pass\n",
    "    \n",
    "    def perimeter(self):\n",
    "        \"\"\"도형의 둘레를 리턴한다: 자식클래스가 오버라이딩할 것\"\"\"\n",
    "        pass\n",
    "\n",
    "class Rectangle(Shape):\n",
    "    \"\"\"직사각형 클래스\"\"\"\n",
    "    def __init__(self, width, height):\n",
    "        self.width = width\n",
    "        self.height = height\n",
    "    \n",
    "    def area(self):\n",
    "        \"\"\"직사각형의 넓이를 리턴한다\"\"\"\n",
    "        return self.width * self.height\n",
    "    \n",
    "    def perimeter(self):\n",
    "        \"\"\"직사각형의 둘레를 리턴한다\"\"\"\n",
    "        return 2*self.width + 2*self.height\n",
    "    \n",
    "    def __str__(self):\n",
    "        \"\"\"직사각형의 정보를 문자열로 리턴한다\"\"\"\n",
    "        return \"밑변 {}, 높이 {}인 직사각형\".format(self.width, self.height)\n",
    "    \n",
    "class Circle(Shape):\n",
    "    \"\"\"원 클래스\"\"\"\n",
    "    \n",
    "    def __init__(self, radius):\n",
    "        self.radius = radius\n",
    "    \n",
    "    def area(self):\n",
    "        \"\"\"원의 넓이를 리턴한다\"\"\"\n",
    "        return pi * self.radius * self.radius\n",
    "    \n",
    "    def perimeter(self):\n",
    "        \"\"\"원의 둘레를 리턴한다\"\"\"\n",
    "        return 2 * pi * self.radius\n",
    "    \n",
    "    def __str__(self):\n",
    "        \"\"\"원의 정보를 문자열로 리턴한다\"\"\"\n",
    "        return \"반지름 {}인 원\".format(self.radius)\n",
    "    \n",
    "class Cylinder:\n",
    "    \"\"\"원통 클래스\"\"\"\n",
    "    def __init__(self, radius, height):\n",
    "        self.radius = radius\n",
    "        self.height = height\n",
    "\n",
    "    def __str__(self):\n",
    "        \"\"\"원통의 정보를 문자열로 리턴하는 메소드\"\"\"\n",
    "        return \"밑면 반지름 {}, 높이 {}인 원기둥\".format(self.radius, self.height)\n",
    "    \n",
    "class EquilateralTriangle(Shape):\n",
    "    \"\"\"정삼각형 클래스\"\"\"\n",
    "    def __init__(self, side):\n",
    "        self.side = side\n",
    "    \n",
    "class Paint:\n",
    "    \"\"\"그림판 프로그램 클래스\"\"\"\n",
    "    def __init__(self):\n",
    "        self.shapes = []\n",
    "        \n",
    "    def add_shape(self, shape):\n",
    "        \"\"\"그림판에 도형을 추가한다\"\"\"\n",
    "        if isinstance(shape, Shape): # 상속 : 자식 인스턴스는 부모 인스턴스이기도 하다\n",
    "            self.shapes.append(shape)\n",
    "        else:\n",
    "            print(\"넓이, 둘레를 구하는 메소드가 없는 도형은 추가할 수 없습니다!\")\n",
    "        \n",
    "    def total_area_of_shapes(self):\n",
    "        \"\"\"그림판에 있는 모든 도형의 넓이의 합을 구한다\"\"\"\n",
    "        return sum([shape.area() for shape in self.shapes])\n",
    "    \n",
    "    def total_perimeter_of_shapes(self):\n",
    "        \"\"\"그림판에 있는 모든 도형의 둘레의 합을 구한다\"\"\"\n",
    "        return sum([shape.perimeter() for shape in self.shapes])\n",
    "    \n",
    "    def __str__(self):\n",
    "        \"\"\"그림판에 있는 각 도형들의 정보를 출력한다\"\"\"\n",
    "        res_str = \"그림판 안에 있는 도형들:\\n\\n\"\n",
    "        for shape in self.shapes:\n",
    "            res_str += str(shape) + \"\\n\"\n",
    "        return res_str"
   ]
  },
  {
   "cell_type": "code",
   "execution_count": 15,
   "id": "c5136281-35dd-4743-9406-12bbcfc142ac",
   "metadata": {
    "execution": {
     "iopub.execute_input": "2022-02-18T10:01:54.468228Z",
     "iopub.status.busy": "2022-02-18T10:01:54.467870Z",
     "iopub.status.idle": "2022-02-18T10:01:54.480273Z",
     "shell.execute_reply": "2022-02-18T10:01:54.479422Z",
     "shell.execute_reply.started": "2022-02-18T10:01:54.468205Z"
    },
    "tags": []
   },
   "outputs": [
    {
     "name": "stdout",
     "output_type": "stream",
     "text": [
      "넓이, 둘레를 구하는 메소드가 없는 도형은 추가할 수 없습니다!\n"
     ]
    },
    {
     "ename": "TypeError",
     "evalue": "unsupported operand type(s) for +: 'float' and 'NoneType'",
     "output_type": "error",
     "traceback": [
      "\u001b[0;31m---------------------------------------------------------------------------\u001b[0m",
      "\u001b[0;31mTypeError\u001b[0m                                 Traceback (most recent call last)",
      "\u001b[0;32m/tmp/ipykernel_150/4152060371.py\u001b[0m in \u001b[0;36m<module>\u001b[0;34m\u001b[0m\n\u001b[1;32m     10\u001b[0m \u001b[0mpaint_program\u001b[0m\u001b[0;34m.\u001b[0m\u001b[0madd_shape\u001b[0m\u001b[0;34m(\u001b[0m\u001b[0mtriangle\u001b[0m\u001b[0;34m)\u001b[0m\u001b[0;34m\u001b[0m\u001b[0;34m\u001b[0m\u001b[0m\n\u001b[1;32m     11\u001b[0m \u001b[0;34m\u001b[0m\u001b[0m\n\u001b[0;32m---> 12\u001b[0;31m \u001b[0mprint\u001b[0m\u001b[0;34m(\u001b[0m\u001b[0mpaint_program\u001b[0m\u001b[0;34m.\u001b[0m\u001b[0mtotal_perimeter_of_shapes\u001b[0m\u001b[0;34m(\u001b[0m\u001b[0;34m)\u001b[0m\u001b[0;34m)\u001b[0m \u001b[0;31m# 에러가 난다!\u001b[0m\u001b[0;34m\u001b[0m\u001b[0;34m\u001b[0m\u001b[0m\n\u001b[0m\u001b[1;32m     13\u001b[0m \u001b[0mprint\u001b[0m\u001b[0;34m(\u001b[0m\u001b[0mpaint_program\u001b[0m\u001b[0;34m.\u001b[0m\u001b[0mtotal_area_of_shapes\u001b[0m\u001b[0;34m(\u001b[0m\u001b[0;34m)\u001b[0m\u001b[0;34m)\u001b[0m\u001b[0;34m\u001b[0m\u001b[0;34m\u001b[0m\u001b[0m\n",
      "\u001b[0;32m/tmp/ipykernel_150/18059767.py\u001b[0m in \u001b[0;36mtotal_perimeter_of_shapes\u001b[0;34m(self)\u001b[0m\n\u001b[1;32m     80\u001b[0m     \u001b[0;32mdef\u001b[0m \u001b[0mtotal_perimeter_of_shapes\u001b[0m\u001b[0;34m(\u001b[0m\u001b[0mself\u001b[0m\u001b[0;34m)\u001b[0m\u001b[0;34m:\u001b[0m\u001b[0;34m\u001b[0m\u001b[0;34m\u001b[0m\u001b[0m\n\u001b[1;32m     81\u001b[0m         \u001b[0;34m\"\"\"그림판에 있는 모든 도형의 둘레의 합을 구한다\"\"\"\u001b[0m\u001b[0;34m\u001b[0m\u001b[0;34m\u001b[0m\u001b[0m\n\u001b[0;32m---> 82\u001b[0;31m         \u001b[0;32mreturn\u001b[0m \u001b[0msum\u001b[0m\u001b[0;34m(\u001b[0m\u001b[0;34m[\u001b[0m\u001b[0mshape\u001b[0m\u001b[0;34m.\u001b[0m\u001b[0mperimeter\u001b[0m\u001b[0;34m(\u001b[0m\u001b[0;34m)\u001b[0m \u001b[0;32mfor\u001b[0m \u001b[0mshape\u001b[0m \u001b[0;32min\u001b[0m \u001b[0mself\u001b[0m\u001b[0;34m.\u001b[0m\u001b[0mshapes\u001b[0m\u001b[0;34m]\u001b[0m\u001b[0;34m)\u001b[0m\u001b[0;34m\u001b[0m\u001b[0;34m\u001b[0m\u001b[0m\n\u001b[0m\u001b[1;32m     83\u001b[0m \u001b[0;34m\u001b[0m\u001b[0m\n\u001b[1;32m     84\u001b[0m     \u001b[0;32mdef\u001b[0m \u001b[0m__str__\u001b[0m\u001b[0;34m(\u001b[0m\u001b[0mself\u001b[0m\u001b[0;34m)\u001b[0m\u001b[0;34m:\u001b[0m\u001b[0;34m\u001b[0m\u001b[0;34m\u001b[0m\u001b[0m\n",
      "\u001b[0;31mTypeError\u001b[0m: unsupported operand type(s) for +: 'float' and 'NoneType'"
     ]
    }
   ],
   "source": [
    "paint_program = Paint()\n",
    "cylinder = Cylinder(7, 4)\n",
    "rectangle = Rectangle(3, 7)\n",
    "circle = Circle(4)\n",
    "triangle = EquilateralTriangle(4)\n",
    "\n",
    "paint_program.add_shape(cylinder)\n",
    "paint_program.add_shape(circle)\n",
    "paint_program.add_shape(rectangle)\n",
    "paint_program.add_shape(triangle)\n",
    "\n",
    "print(paint_program.total_perimeter_of_shapes()) # 에러가 난다!\n",
    "print(paint_program.total_area_of_shapes())"
   ]
  },
  {
   "cell_type": "markdown",
   "id": "68cae2fb-f052-4dea-974e-e63c6469bd23",
   "metadata": {},
   "source": [
    "### 상속을 활용한 다형성 III"
   ]
  },
  {
   "cell_type": "code",
   "execution_count": 27,
   "id": "075fddb3-7557-48d6-87d4-16c286bb1fa3",
   "metadata": {
    "execution": {
     "iopub.execute_input": "2022-02-18T10:17:21.707587Z",
     "iopub.status.busy": "2022-02-18T10:17:21.707420Z",
     "iopub.status.idle": "2022-02-18T10:17:21.719266Z",
     "shell.execute_reply": "2022-02-18T10:17:21.717921Z",
     "shell.execute_reply.started": "2022-02-18T10:17:21.707570Z"
    },
    "tags": []
   },
   "outputs": [],
   "source": [
    "from math import pi, sqrt\n",
    "from abc import ABC, abstractmethod\n",
    "\n",
    "class Shape(ABC): # ABC를 상속받고\n",
    "    \"\"\"도형 클래스\"\"\"\n",
    "    @abstractmethod # 추상메소드\n",
    "    def area(self) -> float: # type hinting\n",
    "        \"\"\"도형의 넓이를 리턴한다: 자식클래스가 오버라이딩할 것\"\"\"\n",
    "        pass\n",
    "    \n",
    "    @abstractmethod\n",
    "    def perimeter(self) -> float:\n",
    "        \"\"\"도형의 둘레를 리턴한다: 자식클래스가 오버라이딩할 것\"\"\"\n",
    "        pass\n",
    "\n",
    "class Rectangle(Shape):\n",
    "    \"\"\"직사각형 클래스\"\"\"\n",
    "    def __init__(self, width, height):\n",
    "        self.width = width\n",
    "        self.height = height\n",
    "    \n",
    "    def area(self):\n",
    "        \"\"\"직사각형의 넓이를 리턴한다\"\"\"\n",
    "        return self.width * self.height\n",
    "    \n",
    "    def perimeter(self):\n",
    "        \"\"\"직사각형의 둘레를 리턴한다\"\"\"\n",
    "        return 2*self.width + 2*self.height\n",
    "    \n",
    "    def __str__(self):\n",
    "        \"\"\"직사각형의 정보를 문자열로 리턴한다\"\"\"\n",
    "        return \"밑변 {}, 높이 {}인 직사각형\".format(self.width, self.height)\n",
    "    \n",
    "class Circle(Shape):\n",
    "    \"\"\"원 클래스\"\"\"\n",
    "    \n",
    "    def __init__(self, radius):\n",
    "        self.radius = radius\n",
    "    \n",
    "    def area(self):\n",
    "        \"\"\"원의 넓이를 리턴한다\"\"\"\n",
    "        return pi * self.radius * self.radius\n",
    "    \n",
    "    def perimeter(self):\n",
    "        \"\"\"원의 둘레를 리턴한다\"\"\"\n",
    "        return 2 * pi * self.radius\n",
    "    \n",
    "    def __str__(self):\n",
    "        \"\"\"원의 정보를 문자열로 리턴한다\"\"\"\n",
    "        return \"반지름 {}인 원\".format(self.radius)\n",
    "    \n",
    "class Cylinder:\n",
    "    \"\"\"원통 클래스\"\"\"\n",
    "    def __init__(self, radius, height):\n",
    "        self.radius = radius\n",
    "        self.height = height\n",
    "\n",
    "    def __str__(self):\n",
    "        \"\"\"원통의 정보를 문자열로 리턴하는 메소드\"\"\"\n",
    "        return \"밑면 반지름 {}, 높이 {}인 원기둥\".format(self.radius, self.height)\n",
    "    \n",
    "class EquilateralTriangle(Shape):\n",
    "    \"\"\"정삼각형 클래스\"\"\"\n",
    "    def __init__(self, side):\n",
    "        self.side = side\n",
    "        \n",
    "    def area(self):\n",
    "        \"\"\"정삼각형의 넓이를 리턴한다\"\"\"\n",
    "        return sqrt(3) * self.side * self.side / 4\n",
    "    \n",
    "    def perimeter(self):\n",
    "        \"\"\"정삼각형의 둘레를 리턴한다\"\"\"\n",
    "        return 3 * self.side\n",
    "        \n",
    "    \n",
    "class Paint:\n",
    "    \"\"\"그림판 프로그램 클래스\"\"\"\n",
    "    def __init__(self):\n",
    "        self.shapes = []\n",
    "        \n",
    "    def add_shape(self, shape):\n",
    "        \"\"\"그림판에 도형을 추가한다\"\"\"\n",
    "        if isinstance(shape, Shape): # 상속 : 자식 인스턴스는 부모 인스턴스이기도 하다\n",
    "            self.shapes.append(shape)\n",
    "        else:\n",
    "            print(\"넓이, 둘레를 구하는 메소드가 없는 도형은 추가할 수 없습니다!\")\n",
    "        \n",
    "    def total_area_of_shapes(self):\n",
    "        \"\"\"그림판에 있는 모든 도형의 넓이의 합을 구한다\"\"\"\n",
    "        return sum([shape.area() for shape in self.shapes])\n",
    "    \n",
    "    def total_perimeter_of_shapes(self):\n",
    "        \"\"\"그림판에 있는 모든 도형의 둘레의 합을 구한다\"\"\"\n",
    "        return sum([shape.perimeter() for shape in self.shapes])\n",
    "    \n",
    "    def __str__(self):\n",
    "        \"\"\"그림판에 있는 각 도형들의 정보를 출력한다\"\"\"\n",
    "        res_str = \"그림판 안에 있는 도형들:\\n\\n\"\n",
    "        for shape in self.shapes:\n",
    "            res_str += str(shape) + \"\\n\"\n",
    "        return res_str"
   ]
  },
  {
   "cell_type": "code",
   "execution_count": 20,
   "id": "1801301e-3217-428b-8c8c-c239085f75f5",
   "metadata": {
    "execution": {
     "iopub.execute_input": "2022-02-18T10:09:15.509596Z",
     "iopub.status.busy": "2022-02-18T10:09:15.509054Z",
     "iopub.status.idle": "2022-02-18T10:09:15.516383Z",
     "shell.execute_reply": "2022-02-18T10:09:15.515482Z",
     "shell.execute_reply.started": "2022-02-18T10:09:15.509558Z"
    },
    "tags": []
   },
   "outputs": [
    {
     "ename": "TypeError",
     "evalue": "Can't instantiate abstract class Shape with abstract methods area, perimeter",
     "output_type": "error",
     "traceback": [
      "\u001b[0;31m---------------------------------------------------------------------------\u001b[0m",
      "\u001b[0;31mTypeError\u001b[0m                                 Traceback (most recent call last)",
      "\u001b[0;32m/tmp/ipykernel_150/3407401146.py\u001b[0m in \u001b[0;36m<module>\u001b[0;34m\u001b[0m\n\u001b[1;32m      1\u001b[0m \u001b[0;31m# 추상클래스는 인스턴스를 만들수 없음\u001b[0m\u001b[0;34m\u001b[0m\u001b[0;34m\u001b[0m\u001b[0m\n\u001b[0;32m----> 2\u001b[0;31m \u001b[0mshape\u001b[0m \u001b[0;34m=\u001b[0m \u001b[0mShape\u001b[0m\u001b[0;34m(\u001b[0m\u001b[0;34m)\u001b[0m\u001b[0;34m\u001b[0m\u001b[0;34m\u001b[0m\u001b[0m\n\u001b[0m",
      "\u001b[0;31mTypeError\u001b[0m: Can't instantiate abstract class Shape with abstract methods area, perimeter"
     ]
    }
   ],
   "source": [
    "# 추상클래스는 인스턴스를 만들수 없음\n",
    "shape = Shape()"
   ]
  },
  {
   "cell_type": "code",
   "execution_count": 28,
   "id": "daf819ae-a778-4118-9530-63d77d10d36a",
   "metadata": {
    "execution": {
     "iopub.execute_input": "2022-02-18T10:17:23.161512Z",
     "iopub.status.busy": "2022-02-18T10:17:23.160725Z",
     "iopub.status.idle": "2022-02-18T10:17:23.166700Z",
     "shell.execute_reply": "2022-02-18T10:17:23.165971Z",
     "shell.execute_reply.started": "2022-02-18T10:17:23.161429Z"
    },
    "tags": []
   },
   "outputs": [
    {
     "name": "stdout",
     "output_type": "stream",
     "text": [
      "넓이, 둘레를 구하는 메소드가 없는 도형은 추가할 수 없습니다!\n",
      "57.132741228718345\n",
      "78.1936856877122\n"
     ]
    }
   ],
   "source": [
    "paint_program = Paint()\n",
    "cylinder = Cylinder(7, 4)\n",
    "rectangle = Rectangle(3, 7)\n",
    "circle = Circle(4)\n",
    "triangle = EquilateralTriangle(4)\n",
    "\n",
    "paint_program.add_shape(cylinder)\n",
    "paint_program.add_shape(circle)\n",
    "paint_program.add_shape(rectangle)\n",
    "paint_program.add_shape(triangle)\n",
    "\n",
    "print(paint_program.total_perimeter_of_shapes()) # 에러가 난다!\n",
    "print(paint_program.total_area_of_shapes())"
   ]
  }
 ],
 "metadata": {
  "kernelspec": {
   "display_name": "Python 3 (ipykernel)",
   "language": "python",
   "name": "python3"
  },
  "language_info": {
   "codemirror_mode": {
    "name": "ipython",
    "version": 3
   },
   "file_extension": ".py",
   "mimetype": "text/x-python",
   "name": "python",
   "nbconvert_exporter": "python",
   "pygments_lexer": "ipython3",
   "version": "3.9.7"
  }
 },
 "nbformat": 4,
 "nbformat_minor": 5
}
