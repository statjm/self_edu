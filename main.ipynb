{
 "cells": [
  {
   "cell_type": "markdown",
   "id": "6e7fab27-b083-45ce-a65a-6cfc66a2e687",
   "metadata": {},
   "source": [
    "# 1. 클래스의 정의와 인스턴스 생성"
   ]
  },
  {
   "cell_type": "code",
   "execution_count": 1,
   "id": "73a46cce-245f-45b7-af71-0cd166740a1c",
   "metadata": {
    "execution": {
     "iopub.execute_input": "2022-01-04T10:42:08.807824Z",
     "iopub.status.busy": "2022-01-04T10:42:08.806885Z",
     "iopub.status.idle": "2022-01-04T10:42:08.815807Z",
     "shell.execute_reply": "2022-01-04T10:42:08.814549Z",
     "shell.execute_reply.started": "2022-01-04T10:42:08.807759Z"
    },
    "tags": []
   },
   "outputs": [],
   "source": [
    "class Person:\n",
    "\tname = \"Default Name\"\n",
    "\tdef print(self):\n",
    "\t\tprint(\"My name is {0}\".format(self.name))"
   ]
  },
  {
   "cell_type": "code",
   "execution_count": 3,
   "id": "ddb226ca-49c0-4071-8261-c1758dae363a",
   "metadata": {
    "execution": {
     "iopub.execute_input": "2022-01-04T10:43:22.452681Z",
     "iopub.status.busy": "2022-01-04T10:43:22.452113Z",
     "iopub.status.idle": "2022-01-04T10:43:22.456285Z",
     "shell.execute_reply": "2022-01-04T10:43:22.455224Z",
     "shell.execute_reply.started": "2022-01-04T10:43:22.452657Z"
    },
    "tags": []
   },
   "outputs": [],
   "source": [
    "p1 = Person()"
   ]
  },
  {
   "cell_type": "code",
   "execution_count": 4,
   "id": "68a8e2dd-4fbd-4524-8ee6-7d136eb64226",
   "metadata": {
    "execution": {
     "iopub.execute_input": "2022-01-04T10:43:25.875345Z",
     "iopub.status.busy": "2022-01-04T10:43:25.875084Z",
     "iopub.status.idle": "2022-01-04T10:43:25.879716Z",
     "shell.execute_reply": "2022-01-04T10:43:25.878912Z",
     "shell.execute_reply.started": "2022-01-04T10:43:25.875311Z"
    },
    "tags": []
   },
   "outputs": [
    {
     "name": "stdout",
     "output_type": "stream",
     "text": [
      "My name is Default Name\n"
     ]
    }
   ],
   "source": [
    "p1.print()"
   ]
  },
  {
   "cell_type": "code",
   "execution_count": 5,
   "id": "2e318d1f-576e-4664-a94a-faafbc260a89",
   "metadata": {
    "execution": {
     "iopub.execute_input": "2022-01-04T10:43:50.233097Z",
     "iopub.status.busy": "2022-01-04T10:43:50.232266Z",
     "iopub.status.idle": "2022-01-04T10:43:50.236842Z",
     "shell.execute_reply": "2022-01-04T10:43:50.235800Z",
     "shell.execute_reply.started": "2022-01-04T10:43:50.233072Z"
    },
    "tags": []
   },
   "outputs": [],
   "source": [
    "p1.name = \"임정맨\""
   ]
  },
  {
   "cell_type": "code",
   "execution_count": 6,
   "id": "7adaf8a2-ade2-4d50-885b-5935ab040f33",
   "metadata": {
    "execution": {
     "iopub.execute_input": "2022-01-04T10:43:52.921597Z",
     "iopub.status.busy": "2022-01-04T10:43:52.921038Z",
     "iopub.status.idle": "2022-01-04T10:43:52.925390Z",
     "shell.execute_reply": "2022-01-04T10:43:52.924554Z",
     "shell.execute_reply.started": "2022-01-04T10:43:52.921563Z"
    },
    "tags": []
   },
   "outputs": [
    {
     "name": "stdout",
     "output_type": "stream",
     "text": [
      "My name is 임정맨\n"
     ]
    }
   ],
   "source": [
    "p1.print()"
   ]
  },
  {
   "cell_type": "markdown",
   "id": "53fb94a2-821b-4747-a513-2abd0470c144",
   "metadata": {},
   "source": [
    "# 2. 인스턴스 사용과 self의 의미"
   ]
  },
  {
   "cell_type": "code",
   "execution_count": 7,
   "id": "3a2255e9-2f8f-4938-bce1-542597e8fce1",
   "metadata": {
    "execution": {
     "iopub.execute_input": "2022-01-04T11:01:42.359012Z",
     "iopub.status.busy": "2022-01-04T11:01:42.358835Z",
     "iopub.status.idle": "2022-01-04T11:01:42.362867Z",
     "shell.execute_reply": "2022-01-04T11:01:42.361847Z",
     "shell.execute_reply.started": "2022-01-04T11:01:42.358994Z"
    },
    "tags": []
   },
   "outputs": [],
   "source": [
    "class Person:\n",
    "    name = \"default name\""
   ]
  },
  {
   "cell_type": "code",
   "execution_count": 8,
   "id": "6fb50ffe-d44e-40a5-a171-82870349608f",
   "metadata": {
    "execution": {
     "iopub.execute_input": "2022-01-04T11:02:27.817219Z",
     "iopub.status.busy": "2022-01-04T11:02:27.816520Z",
     "iopub.status.idle": "2022-01-04T11:02:27.821498Z",
     "shell.execute_reply": "2022-01-04T11:02:27.820251Z",
     "shell.execute_reply.started": "2022-01-04T11:02:27.817185Z"
    },
    "tags": []
   },
   "outputs": [],
   "source": [
    "p1 = Person()\n",
    "p2 = Person()"
   ]
  },
  {
   "cell_type": "code",
   "execution_count": 9,
   "id": "982df330-acf2-4f6b-b6a4-d54756f2ffd0",
   "metadata": {
    "execution": {
     "iopub.execute_input": "2022-01-04T11:02:39.659837Z",
     "iopub.status.busy": "2022-01-04T11:02:39.659571Z",
     "iopub.status.idle": "2022-01-04T11:02:39.665414Z",
     "shell.execute_reply": "2022-01-04T11:02:39.664289Z",
     "shell.execute_reply.started": "2022-01-04T11:02:39.659817Z"
    },
    "tags": []
   },
   "outputs": [
    {
     "data": {
      "text/plain": [
       "'default name'"
      ]
     },
     "execution_count": 9,
     "metadata": {},
     "output_type": "execute_result"
    }
   ],
   "source": [
    "p1.name"
   ]
  },
  {
   "cell_type": "code",
   "execution_count": 10,
   "id": "5fc9e2a5-0656-4008-ac85-02fe5fdaff2e",
   "metadata": {
    "execution": {
     "iopub.execute_input": "2022-01-04T11:02:42.074690Z",
     "iopub.status.busy": "2022-01-04T11:02:42.074128Z",
     "iopub.status.idle": "2022-01-04T11:02:42.079687Z",
     "shell.execute_reply": "2022-01-04T11:02:42.078808Z",
     "shell.execute_reply.started": "2022-01-04T11:02:42.074668Z"
    },
    "tags": []
   },
   "outputs": [
    {
     "data": {
      "text/plain": [
       "'default name'"
      ]
     },
     "execution_count": 10,
     "metadata": {},
     "output_type": "execute_result"
    }
   ],
   "source": [
    "p2.name"
   ]
  },
  {
   "cell_type": "code",
   "execution_count": 11,
   "id": "a8f1251c-5b05-4a7b-a3cc-acd84a7c2f69",
   "metadata": {
    "execution": {
     "iopub.execute_input": "2022-01-04T11:02:54.004405Z",
     "iopub.status.busy": "2022-01-04T11:02:54.004003Z",
     "iopub.status.idle": "2022-01-04T11:02:54.008429Z",
     "shell.execute_reply": "2022-01-04T11:02:54.007503Z",
     "shell.execute_reply.started": "2022-01-04T11:02:54.004370Z"
    },
    "tags": []
   },
   "outputs": [],
   "source": [
    "p1.name = \"임정맨\""
   ]
  },
  {
   "cell_type": "code",
   "execution_count": 12,
   "id": "74fb1593-16f6-49c5-afb9-851403d46f9b",
   "metadata": {
    "execution": {
     "iopub.execute_input": "2022-01-04T11:02:58.791228Z",
     "iopub.status.busy": "2022-01-04T11:02:58.790988Z",
     "iopub.status.idle": "2022-01-04T11:02:58.796518Z",
     "shell.execute_reply": "2022-01-04T11:02:58.795588Z",
     "shell.execute_reply.started": "2022-01-04T11:02:58.791209Z"
    },
    "tags": []
   },
   "outputs": [
    {
     "data": {
      "text/plain": [
       "'임정맨'"
      ]
     },
     "execution_count": 12,
     "metadata": {},
     "output_type": "execute_result"
    }
   ],
   "source": [
    "p1.name"
   ]
  },
  {
   "cell_type": "code",
   "execution_count": 13,
   "id": "529bb32c-13f2-4395-b134-6dc855e0e3c5",
   "metadata": {
    "execution": {
     "iopub.execute_input": "2022-01-04T11:03:02.047086Z",
     "iopub.status.busy": "2022-01-04T11:03:02.046863Z",
     "iopub.status.idle": "2022-01-04T11:03:02.052458Z",
     "shell.execute_reply": "2022-01-04T11:03:02.051384Z",
     "shell.execute_reply.started": "2022-01-04T11:03:02.047066Z"
    },
    "tags": []
   },
   "outputs": [
    {
     "data": {
      "text/plain": [
       "'default name'"
      ]
     },
     "execution_count": 13,
     "metadata": {},
     "output_type": "execute_result"
    }
   ],
   "source": [
    "p2.name"
   ]
  },
  {
   "cell_type": "code",
   "execution_count": 14,
   "id": "9d7abd5e-793a-44b4-a8ab-11037d705d56",
   "metadata": {
    "execution": {
     "iopub.execute_input": "2022-01-04T11:03:22.403585Z",
     "iopub.status.busy": "2022-01-04T11:03:22.403354Z",
     "iopub.status.idle": "2022-01-04T11:03:22.407177Z",
     "shell.execute_reply": "2022-01-04T11:03:22.406230Z",
     "shell.execute_reply.started": "2022-01-04T11:03:22.403566Z"
    },
    "tags": []
   },
   "outputs": [],
   "source": [
    "Person.title = \"new title\""
   ]
  },
  {
   "cell_type": "code",
   "execution_count": 15,
   "id": "7a00eca7-f550-4827-a203-7f9a292bfe98",
   "metadata": {
    "execution": {
     "iopub.execute_input": "2022-01-04T11:03:26.100238Z",
     "iopub.status.busy": "2022-01-04T11:03:26.100056Z",
     "iopub.status.idle": "2022-01-04T11:03:26.105558Z",
     "shell.execute_reply": "2022-01-04T11:03:26.104672Z",
     "shell.execute_reply.started": "2022-01-04T11:03:26.100220Z"
    },
    "tags": []
   },
   "outputs": [
    {
     "data": {
      "text/plain": [
       "'new title'"
      ]
     },
     "execution_count": 15,
     "metadata": {},
     "output_type": "execute_result"
    }
   ],
   "source": [
    "p1.title"
   ]
  },
  {
   "cell_type": "code",
   "execution_count": 16,
   "id": "cb79b1eb-9a2f-4cac-915f-74c6f08e1093",
   "metadata": {
    "execution": {
     "iopub.execute_input": "2022-01-04T11:03:31.160437Z",
     "iopub.status.busy": "2022-01-04T11:03:31.159612Z",
     "iopub.status.idle": "2022-01-04T11:03:31.165722Z",
     "shell.execute_reply": "2022-01-04T11:03:31.164624Z",
     "shell.execute_reply.started": "2022-01-04T11:03:31.160415Z"
    },
    "tags": []
   },
   "outputs": [
    {
     "data": {
      "text/plain": [
       "'new title'"
      ]
     },
     "execution_count": 16,
     "metadata": {},
     "output_type": "execute_result"
    }
   ],
   "source": [
    "p2.title"
   ]
  },
  {
   "cell_type": "code",
   "execution_count": 17,
   "id": "950510c2-763a-4ae3-ab6e-e1f2e000ccca",
   "metadata": {
    "execution": {
     "iopub.execute_input": "2022-01-04T11:03:39.338467Z",
     "iopub.status.busy": "2022-01-04T11:03:39.337933Z",
     "iopub.status.idle": "2022-01-04T11:03:39.344005Z",
     "shell.execute_reply": "2022-01-04T11:03:39.342598Z",
     "shell.execute_reply.started": "2022-01-04T11:03:39.338446Z"
    },
    "tags": []
   },
   "outputs": [
    {
     "data": {
      "text/plain": [
       "'new title'"
      ]
     },
     "execution_count": 17,
     "metadata": {},
     "output_type": "execute_result"
    }
   ],
   "source": [
    "Person.title"
   ]
  },
  {
   "cell_type": "code",
   "execution_count": 18,
   "id": "5a6a443c-54bb-4fa6-afbe-dd7dda2ebc4c",
   "metadata": {
    "execution": {
     "iopub.execute_input": "2022-01-04T11:04:03.787867Z",
     "iopub.status.busy": "2022-01-04T11:04:03.787456Z",
     "iopub.status.idle": "2022-01-04T11:04:03.791552Z",
     "shell.execute_reply": "2022-01-04T11:04:03.790587Z",
     "shell.execute_reply.started": "2022-01-04T11:04:03.787846Z"
    },
    "tags": []
   },
   "outputs": [],
   "source": [
    "p1.age = 20"
   ]
  },
  {
   "cell_type": "code",
   "execution_count": 19,
   "id": "03a70d44-2c77-48d8-a637-979701556772",
   "metadata": {
    "execution": {
     "iopub.execute_input": "2022-01-04T11:04:05.869515Z",
     "iopub.status.busy": "2022-01-04T11:04:05.869321Z",
     "iopub.status.idle": "2022-01-04T11:04:05.874032Z",
     "shell.execute_reply": "2022-01-04T11:04:05.873161Z",
     "shell.execute_reply.started": "2022-01-04T11:04:05.869495Z"
    },
    "tags": []
   },
   "outputs": [
    {
     "data": {
      "text/plain": [
       "20"
      ]
     },
     "execution_count": 19,
     "metadata": {},
     "output_type": "execute_result"
    }
   ],
   "source": [
    "p1.age"
   ]
  },
  {
   "cell_type": "code",
   "execution_count": 20,
   "id": "7baef7ac-6b84-4fe5-bf47-a1514db93f76",
   "metadata": {
    "execution": {
     "iopub.execute_input": "2022-01-04T11:04:09.052081Z",
     "iopub.status.busy": "2022-01-04T11:04:09.051734Z",
     "iopub.status.idle": "2022-01-04T11:04:09.098275Z",
     "shell.execute_reply": "2022-01-04T11:04:09.096783Z",
     "shell.execute_reply.started": "2022-01-04T11:04:09.052059Z"
    },
    "tags": []
   },
   "outputs": [
    {
     "ename": "AttributeError",
     "evalue": "'Person' object has no attribute 'age'",
     "output_type": "error",
     "traceback": [
      "\u001b[0;31m---------------------------------------------------------------------------\u001b[0m",
      "\u001b[0;31mAttributeError\u001b[0m                            Traceback (most recent call last)",
      "\u001b[0;32m/tmp/ipykernel_102/1409727921.py\u001b[0m in \u001b[0;36m<module>\u001b[0;34m\u001b[0m\n\u001b[0;32m----> 1\u001b[0;31m \u001b[0mp2\u001b[0m\u001b[0;34m.\u001b[0m\u001b[0mage\u001b[0m\u001b[0;34m\u001b[0m\u001b[0;34m\u001b[0m\u001b[0m\n\u001b[0m",
      "\u001b[0;31mAttributeError\u001b[0m: 'Person' object has no attribute 'age'"
     ]
    }
   ],
   "source": [
    "p2.age"
   ]
  },
  {
   "cell_type": "code",
   "execution_count": 21,
   "id": "4379366a-77a3-4205-9d83-2ca91cb2b628",
   "metadata": {
    "execution": {
     "iopub.execute_input": "2022-01-04T11:08:30.097804Z",
     "iopub.status.busy": "2022-01-04T11:08:30.097369Z",
     "iopub.status.idle": "2022-01-04T11:08:30.102283Z",
     "shell.execute_reply": "2022-01-04T11:08:30.101314Z",
     "shell.execute_reply.started": "2022-01-04T11:08:30.097784Z"
    },
    "tags": []
   },
   "outputs": [
    {
     "name": "stdout",
     "output_type": "stream",
     "text": [
      "Not Class Member\n"
     ]
    }
   ],
   "source": [
    "# 클래스를 정의한 코드\n",
    "str = \"Not Class Member\"\n",
    "\n",
    "class GString:\n",
    "\tstr = \"\"\n",
    "\tdef set(self, msg):\n",
    "\t\tself.str = msg ## Good\n",
    "\tdef print(self):\n",
    "\t\tprint(str) ## Bad\n",
    "\n",
    "# 인스턴스 객체 생성\n",
    "g = GString()\n",
    "g.set(\"First Message\")\n",
    "g.print() # Not Class Member"
   ]
  },
  {
   "cell_type": "code",
   "execution_count": 22,
   "id": "2d632bda-5470-463e-8229-ec3918fd1c3b",
   "metadata": {
    "execution": {
     "iopub.execute_input": "2022-01-04T11:08:31.774999Z",
     "iopub.status.busy": "2022-01-04T11:08:31.774646Z",
     "iopub.status.idle": "2022-01-04T11:08:31.780171Z",
     "shell.execute_reply": "2022-01-04T11:08:31.779180Z",
     "shell.execute_reply.started": "2022-01-04T11:08:31.774978Z"
    },
    "tags": []
   },
   "outputs": [
    {
     "name": "stdout",
     "output_type": "stream",
     "text": [
      "First Message\n"
     ]
    }
   ],
   "source": [
    "str = \"Not Class Member\"\n",
    "\n",
    "# 클래스 정의+\n",
    "class GString:\n",
    "\tstr = \"\"\n",
    "\tdef set(self, msg):\n",
    "\t\tself.str = msg ## Good\n",
    "\tdef print(self):\n",
    "\t\tprint(self.str) ## Good\n",
    "\n",
    "# 인스턴스 객체 생성\n",
    "g = GString()\n",
    "g.set(\"First Message\")\n",
    "g.print() # First Message"
   ]
  },
  {
   "cell_type": "markdown",
   "id": "a7d6f1bf-a2d2-4a14-a3bc-d4f7e95b5624",
   "metadata": {},
   "source": [
    "# 3. 생성자와 소멸자 메소드"
   ]
  },
  {
   "cell_type": "code",
   "execution_count": 1,
   "id": "2d9fb17b-6f32-49c9-aec1-5eccee955eb7",
   "metadata": {
    "execution": {
     "iopub.execute_input": "2022-01-11T09:52:03.342407Z",
     "iopub.status.busy": "2022-01-11T09:52:03.341816Z",
     "iopub.status.idle": "2022-01-11T09:52:03.349548Z",
     "shell.execute_reply": "2022-01-11T09:52:03.348708Z",
     "shell.execute_reply.started": "2022-01-11T09:52:03.342342Z"
    },
    "tags": []
   },
   "outputs": [],
   "source": [
    "class MyClass: ## 클래스 정의\n",
    "\tdef __init__(self, value): ## 생성자 메소드\n",
    "\t\tself.Value = value\n",
    "\t\tprint(\"Class is created! Value = \", value)\n",
    "\tdef __del__(self): ## 소멸자 메소드\n",
    "\t\tprint(\"Class is deleted\")"
   ]
  },
  {
   "cell_type": "code",
   "execution_count": 2,
   "id": "478c240e-2f80-48c7-be64-71545b3dd027",
   "metadata": {
    "execution": {
     "iopub.execute_input": "2022-01-11T09:52:10.572283Z",
     "iopub.status.busy": "2022-01-11T09:52:10.571712Z",
     "iopub.status.idle": "2022-01-11T09:52:10.576479Z",
     "shell.execute_reply": "2022-01-11T09:52:10.575678Z",
     "shell.execute_reply.started": "2022-01-11T09:52:10.572262Z"
    },
    "tags": []
   },
   "outputs": [
    {
     "name": "stdout",
     "output_type": "stream",
     "text": [
      "Class is created! Value =  10\n"
     ]
    }
   ],
   "source": [
    "d = MyClass(10) ## 생성자 메소드를 호출"
   ]
  },
  {
   "cell_type": "code",
   "execution_count": 3,
   "id": "9698eb52-a213-48a4-8b07-dae69eff9cf9",
   "metadata": {
    "execution": {
     "iopub.execute_input": "2022-01-11T09:52:15.145373Z",
     "iopub.status.busy": "2022-01-11T09:52:15.144768Z",
     "iopub.status.idle": "2022-01-11T09:52:15.149333Z",
     "shell.execute_reply": "2022-01-11T09:52:15.148496Z",
     "shell.execute_reply.started": "2022-01-11T09:52:15.145352Z"
    },
    "tags": []
   },
   "outputs": [
    {
     "name": "stdout",
     "output_type": "stream",
     "text": [
      "Class is deleted\n"
     ]
    }
   ],
   "source": [
    "del d"
   ]
  },
  {
   "cell_type": "code",
   "execution_count": 4,
   "id": "68ab7aec-77b0-4113-972c-778608ea918d",
   "metadata": {
    "execution": {
     "iopub.execute_input": "2022-01-11T09:52:36.895014Z",
     "iopub.status.busy": "2022-01-11T09:52:36.894801Z",
     "iopub.status.idle": "2022-01-11T09:52:36.900253Z",
     "shell.execute_reply": "2022-01-11T09:52:36.899347Z",
     "shell.execute_reply.started": "2022-01-11T09:52:36.894995Z"
    },
    "tags": []
   },
   "outputs": [
    {
     "name": "stdout",
     "output_type": "stream",
     "text": [
      "Class is created! Value =  10\n"
     ]
    }
   ],
   "source": [
    "d = MyClass(10) ## 생성자 메소드를 호출 : 참조카운트 1"
   ]
  },
  {
   "cell_type": "code",
   "execution_count": 5,
   "id": "50b6b299-359a-4460-9d44-a5145f3d5306",
   "metadata": {
    "execution": {
     "iopub.execute_input": "2022-01-11T09:52:44.629963Z",
     "iopub.status.busy": "2022-01-11T09:52:44.629476Z",
     "iopub.status.idle": "2022-01-11T09:52:44.633033Z",
     "shell.execute_reply": "2022-01-11T09:52:44.632397Z",
     "shell.execute_reply.started": "2022-01-11T09:52:44.629929Z"
    },
    "tags": []
   },
   "outputs": [],
   "source": [
    "d_copy = d ## 참조카운트 2"
   ]
  },
  {
   "cell_type": "code",
   "execution_count": 6,
   "id": "d57d64d0-6d75-4980-9fad-68d012548861",
   "metadata": {
    "execution": {
     "iopub.execute_input": "2022-01-11T09:52:48.543632Z",
     "iopub.status.busy": "2022-01-11T09:52:48.542446Z",
     "iopub.status.idle": "2022-01-11T09:52:48.546995Z",
     "shell.execute_reply": "2022-01-11T09:52:48.546052Z",
     "shell.execute_reply.started": "2022-01-11T09:52:48.543612Z"
    },
    "tags": []
   },
   "outputs": [],
   "source": [
    "del d ## 참조카운트 1로 감소"
   ]
  },
  {
   "cell_type": "code",
   "execution_count": 7,
   "id": "6d95d570-697d-43af-b5d8-2212f4927ac0",
   "metadata": {
    "execution": {
     "iopub.execute_input": "2022-01-11T09:52:50.257138Z",
     "iopub.status.busy": "2022-01-11T09:52:50.256713Z",
     "iopub.status.idle": "2022-01-11T09:52:50.260674Z",
     "shell.execute_reply": "2022-01-11T09:52:50.259986Z",
     "shell.execute_reply.started": "2022-01-11T09:52:50.257118Z"
    },
    "tags": []
   },
   "outputs": [
    {
     "name": "stdout",
     "output_type": "stream",
     "text": [
      "Class is deleted\n"
     ]
    }
   ],
   "source": [
    "del d_copy ## 소멸자 메소드를 호출 : 참조카운트 0"
   ]
  },
  {
   "cell_type": "markdown",
   "id": "d3c8a4ab-24db-4f11-8277-dbda2c318c6e",
   "metadata": {},
   "source": [
    "# 4. 정적 메소드 사용"
   ]
  },
  {
   "cell_type": "code",
   "execution_count": 8,
   "id": "ddcc34c3-2124-48cd-8eb0-f7b9f2650a49",
   "metadata": {
    "execution": {
     "iopub.execute_input": "2022-01-11T09:53:48.000645Z",
     "iopub.status.busy": "2022-01-11T09:53:48.000037Z",
     "iopub.status.idle": "2022-01-11T09:53:48.004293Z",
     "shell.execute_reply": "2022-01-11T09:53:48.003465Z",
     "shell.execute_reply.started": "2022-01-11T09:53:48.000624Z"
    },
    "tags": []
   },
   "outputs": [],
   "source": [
    "class MyCalc(object):\n",
    "    @staticmethod\n",
    "    def my_add(x, y):\n",
    "        return x + y"
   ]
  },
  {
   "cell_type": "code",
   "execution_count": 9,
   "id": "37b0ba93-ca93-43d5-8d01-abab1565ef8e",
   "metadata": {
    "execution": {
     "iopub.execute_input": "2022-01-11T09:55:19.862154Z",
     "iopub.status.busy": "2022-01-11T09:55:19.861755Z",
     "iopub.status.idle": "2022-01-11T09:55:19.871993Z",
     "shell.execute_reply": "2022-01-11T09:55:19.871174Z",
     "shell.execute_reply.started": "2022-01-11T09:55:19.862133Z"
    },
    "tags": []
   },
   "outputs": [
    {
     "data": {
      "text/plain": [
       "7"
      ]
     },
     "execution_count": 9,
     "metadata": {},
     "output_type": "execute_result"
    }
   ],
   "source": [
    "MyCalc.my_add(3, 4)"
   ]
  },
  {
   "cell_type": "markdown",
   "id": "f2a88577-6369-44a4-b323-0d7728b40450",
   "metadata": {},
   "source": [
    "# 5. private 멤버 사용"
   ]
  },
  {
   "cell_type": "code",
   "execution_count": 1,
   "id": "5e109f25-3311-4d0e-abeb-189bf9ff8558",
   "metadata": {
    "execution": {
     "iopub.execute_input": "2022-01-13T12:26:19.015481Z",
     "iopub.status.busy": "2022-01-13T12:26:19.014729Z",
     "iopub.status.idle": "2022-01-13T12:26:19.024543Z",
     "shell.execute_reply": "2022-01-13T12:26:19.023688Z",
     "shell.execute_reply.started": "2022-01-13T12:26:19.015410Z"
    },
    "tags": []
   },
   "outputs": [],
   "source": [
    "class BankAccount:\n",
    "\t__id = 0\n",
    "\t__name = \"\"\n",
    "\t__balance = 0\n",
    "\t\n",
    "\tdef __init__(self, id, name, balance):\n",
    "\t\tself.__id = id\n",
    "\t\tself.__name = name\n",
    "\t\tself.__balance = balance\n",
    "\n",
    "\tdef deposit(self, amount):\n",
    "\t\tself.__balance += amount\n",
    "\n",
    "\tdef withdraw(self, amount):\n",
    "\t\tself.__balance -= amount\n",
    "\n",
    "\tdef __str__(self):\n",
    "\t\treturn \"{0}, {1}, {2}\".format(self.__id, self.__name, self.__balance)"
   ]
  },
  {
   "cell_type": "code",
   "execution_count": 2,
   "id": "328ad2f6-4ebe-4417-9e6c-a35870e27f13",
   "metadata": {
    "execution": {
     "iopub.execute_input": "2022-01-13T12:26:38.593466Z",
     "iopub.status.busy": "2022-01-13T12:26:38.593005Z",
     "iopub.status.idle": "2022-01-13T12:26:38.596719Z",
     "shell.execute_reply": "2022-01-13T12:26:38.596048Z",
     "shell.execute_reply.started": "2022-01-13T12:26:38.593445Z"
    },
    "tags": []
   },
   "outputs": [],
   "source": [
    "account1 = BankAccount(100, \"전우치\", 15000)"
   ]
  },
  {
   "cell_type": "code",
   "execution_count": 3,
   "id": "89c96ad2-efef-4fd0-8443-9e4b7f743f89",
   "metadata": {
    "execution": {
     "iopub.execute_input": "2022-01-13T12:26:58.399089Z",
     "iopub.status.busy": "2022-01-13T12:26:58.397903Z",
     "iopub.status.idle": "2022-01-13T12:26:58.402652Z",
     "shell.execute_reply": "2022-01-13T12:26:58.401738Z",
     "shell.execute_reply.started": "2022-01-13T12:26:58.399065Z"
    },
    "tags": []
   },
   "outputs": [],
   "source": [
    "account1.withdraw(3000)"
   ]
  },
  {
   "cell_type": "code",
   "execution_count": 4,
   "id": "c0bcac43-490a-43af-94b0-2a27a3b4c12c",
   "metadata": {
    "execution": {
     "iopub.execute_input": "2022-01-13T12:27:03.210101Z",
     "iopub.status.busy": "2022-01-13T12:27:03.209466Z",
     "iopub.status.idle": "2022-01-13T12:27:03.214622Z",
     "shell.execute_reply": "2022-01-13T12:27:03.213773Z",
     "shell.execute_reply.started": "2022-01-13T12:27:03.210079Z"
    },
    "tags": []
   },
   "outputs": [
    {
     "name": "stdout",
     "output_type": "stream",
     "text": [
      "100, 전우치, 12000\n"
     ]
    }
   ],
   "source": [
    "print(account1)"
   ]
  },
  {
   "cell_type": "code",
   "execution_count": 5,
   "id": "dc996bce-146a-468f-bf09-7dae4a3d0017",
   "metadata": {
    "execution": {
     "iopub.execute_input": "2022-01-13T12:27:37.705252Z",
     "iopub.status.busy": "2022-01-13T12:27:37.704195Z",
     "iopub.status.idle": "2022-01-13T12:27:37.756777Z",
     "shell.execute_reply": "2022-01-13T12:27:37.755486Z",
     "shell.execute_reply.started": "2022-01-13T12:27:37.705209Z"
    },
    "tags": []
   },
   "outputs": [
    {
     "ename": "AttributeError",
     "evalue": "'BankAccount' object has no attribute '__balance'",
     "output_type": "error",
     "traceback": [
      "\u001b[0;31m---------------------------------------------------------------------------\u001b[0m",
      "\u001b[0;31mAttributeError\u001b[0m                            Traceback (most recent call last)",
      "\u001b[0;32m/tmp/ipykernel_80/2321409292.py\u001b[0m in \u001b[0;36m<module>\u001b[0;34m\u001b[0m\n\u001b[0;32m----> 1\u001b[0;31m \u001b[0mprint\u001b[0m\u001b[0;34m(\u001b[0m\u001b[0maccount1\u001b[0m\u001b[0;34m.\u001b[0m\u001b[0m__balance\u001b[0m\u001b[0;34m)\u001b[0m\u001b[0;34m\u001b[0m\u001b[0;34m\u001b[0m\u001b[0m\n\u001b[0m",
      "\u001b[0;31mAttributeError\u001b[0m: 'BankAccount' object has no attribute '__balance'"
     ]
    }
   ],
   "source": [
    "print(account1.__balance)"
   ]
  },
  {
   "cell_type": "code",
   "execution_count": 6,
   "id": "f5a722a4-7cd0-46ae-b196-b90bfef637fb",
   "metadata": {
    "execution": {
     "iopub.execute_input": "2022-01-13T12:27:54.607785Z",
     "iopub.status.busy": "2022-01-13T12:27:54.606904Z",
     "iopub.status.idle": "2022-01-13T12:27:54.611992Z",
     "shell.execute_reply": "2022-01-13T12:27:54.611229Z",
     "shell.execute_reply.started": "2022-01-13T12:27:54.607762Z"
    },
    "tags": []
   },
   "outputs": [
    {
     "name": "stdout",
     "output_type": "stream",
     "text": [
      "12000\n"
     ]
    }
   ],
   "source": [
    "print(account1._BankAccount__balance)"
   ]
  },
  {
   "cell_type": "code",
   "execution_count": 8,
   "id": "d4dbbf07-49c9-40cc-8201-1f40a5c390d1",
   "metadata": {
    "execution": {
     "iopub.execute_input": "2022-01-13T12:29:41.182484Z",
     "iopub.status.busy": "2022-01-13T12:29:41.181941Z",
     "iopub.status.idle": "2022-01-13T12:29:41.185787Z",
     "shell.execute_reply": "2022-01-13T12:29:41.184992Z",
     "shell.execute_reply.started": "2022-01-13T12:29:41.182463Z"
    },
    "tags": []
   },
   "outputs": [],
   "source": [
    "account1._BankAccount__balance = 35000"
   ]
  },
  {
   "cell_type": "code",
   "execution_count": 9,
   "id": "8760f347-06d4-47cb-ae83-0ba0e2112979",
   "metadata": {
    "execution": {
     "iopub.execute_input": "2022-01-13T12:29:43.420154Z",
     "iopub.status.busy": "2022-01-13T12:29:43.419689Z",
     "iopub.status.idle": "2022-01-13T12:29:43.424069Z",
     "shell.execute_reply": "2022-01-13T12:29:43.423184Z",
     "shell.execute_reply.started": "2022-01-13T12:29:43.420133Z"
    },
    "tags": []
   },
   "outputs": [
    {
     "name": "stdout",
     "output_type": "stream",
     "text": [
      "35000\n"
     ]
    }
   ],
   "source": [
    "print(account1._BankAccount__balance)"
   ]
  },
  {
   "cell_type": "code",
   "execution_count": 10,
   "id": "0bcec8f1-bf79-465a-9cb0-76b7f3098233",
   "metadata": {
    "execution": {
     "iopub.execute_input": "2022-01-13T12:29:54.314632Z",
     "iopub.status.busy": "2022-01-13T12:29:54.313468Z",
     "iopub.status.idle": "2022-01-13T12:29:54.318364Z",
     "shell.execute_reply": "2022-01-13T12:29:54.317658Z",
     "shell.execute_reply.started": "2022-01-13T12:29:54.314596Z"
    },
    "tags": []
   },
   "outputs": [
    {
     "name": "stdout",
     "output_type": "stream",
     "text": [
      "100, 전우치, 35000\n"
     ]
    }
   ],
   "source": [
    "print(account1)"
   ]
  },
  {
   "cell_type": "markdown",
   "id": "ed400a2a-e7cb-4a7a-8cf5-f00684d1258c",
   "metadata": {},
   "source": [
    "# 6. 상속과 다형성"
   ]
  },
  {
   "cell_type": "code",
   "execution_count": 23,
   "id": "8682d175-5fbf-4dc1-99ba-1c9516297a09",
   "metadata": {
    "execution": {
     "iopub.execute_input": "2022-01-13T12:46:15.406047Z",
     "iopub.status.busy": "2022-01-13T12:46:15.405467Z",
     "iopub.status.idle": "2022-01-13T12:46:15.410317Z",
     "shell.execute_reply": "2022-01-13T12:46:15.409605Z",
     "shell.execute_reply.started": "2022-01-13T12:46:15.406028Z"
    },
    "tags": []
   },
   "outputs": [],
   "source": [
    "class Person:\n",
    "\tdef __init__(self, name, phoneNumber):\n",
    "\t\tself.name = name\n",
    "\t\tself.phoneNumber = phoneNumber\n",
    "\tdef printInfo(self):\n",
    "\t\tprint(\"Info(Name:{0}, Phone Number:{1})\".format(self.name, self.phoneNumber))\n",
    "\n",
    "class Student(Person):\n",
    "\tdef __init__(self, name, phoneNumber, subject, studentID):\n",
    "\t\tself.name = name\n",
    "\t\tself.phoneNumber = phoneNumber\n",
    "\t\tself.subject = subject\n",
    "\t\tself.studentID = studentID"
   ]
  },
  {
   "cell_type": "code",
   "execution_count": 25,
   "id": "451ab330-ceb2-401e-8d78-5b49fa3fa41e",
   "metadata": {
    "execution": {
     "iopub.execute_input": "2022-01-13T12:46:27.891354Z",
     "iopub.status.busy": "2022-01-13T12:46:27.890797Z",
     "iopub.status.idle": "2022-01-13T12:46:27.894741Z",
     "shell.execute_reply": "2022-01-13T12:46:27.893914Z",
     "shell.execute_reply.started": "2022-01-13T12:46:27.891332Z"
    },
    "tags": []
   },
   "outputs": [],
   "source": [
    "p = Person(\"전우치\", \"010-222\")\n",
    "s = Student(\"이순신\", \"010-333\", \"컴공\", \"991122\")"
   ]
  },
  {
   "cell_type": "code",
   "execution_count": 26,
   "id": "a7915800-ca73-4df0-bd7e-3110f4e27e2c",
   "metadata": {
    "execution": {
     "iopub.execute_input": "2022-01-13T12:46:33.154939Z",
     "iopub.status.busy": "2022-01-13T12:46:33.154276Z",
     "iopub.status.idle": "2022-01-13T12:46:33.159843Z",
     "shell.execute_reply": "2022-01-13T12:46:33.158785Z",
     "shell.execute_reply.started": "2022-01-13T12:46:33.154919Z"
    },
    "tags": []
   },
   "outputs": [
    {
     "data": {
      "text/plain": [
       "{'name': '전우치', 'phoneNumber': '010-222'}"
      ]
     },
     "execution_count": 26,
     "metadata": {},
     "output_type": "execute_result"
    }
   ],
   "source": [
    "p.__dict__"
   ]
  },
  {
   "cell_type": "code",
   "execution_count": 27,
   "id": "6d2842b1-27b8-4f2b-ad6b-2a797bbda568",
   "metadata": {
    "execution": {
     "iopub.execute_input": "2022-01-13T12:46:34.124426Z",
     "iopub.status.busy": "2022-01-13T12:46:34.124255Z",
     "iopub.status.idle": "2022-01-13T12:46:34.129997Z",
     "shell.execute_reply": "2022-01-13T12:46:34.128992Z",
     "shell.execute_reply.started": "2022-01-13T12:46:34.124410Z"
    },
    "tags": []
   },
   "outputs": [
    {
     "data": {
      "text/plain": [
       "{'name': '이순신',\n",
       " 'phoneNumber': '010-333',\n",
       " 'subject': '컴공',\n",
       " 'studentID': '991122'}"
      ]
     },
     "execution_count": 27,
     "metadata": {},
     "output_type": "execute_result"
    }
   ],
   "source": [
    "s.__dict__ # __dict__ : 저장되어 있는 key와 value를 확인할 수 있음 "
   ]
  },
  {
   "cell_type": "code",
   "execution_count": 28,
   "id": "d86f7d4a-3855-461a-bbb7-3e7a9fe61375",
   "metadata": {
    "execution": {
     "iopub.execute_input": "2022-01-13T12:48:39.421949Z",
     "iopub.status.busy": "2022-01-13T12:48:39.421500Z",
     "iopub.status.idle": "2022-01-13T12:48:39.426775Z",
     "shell.execute_reply": "2022-01-13T12:48:39.425999Z",
     "shell.execute_reply.started": "2022-01-13T12:48:39.421928Z"
    },
    "tags": []
   },
   "outputs": [],
   "source": [
    "class Person:\n",
    "\tdef __init__(self, name, phoneNumber):\n",
    "\t\tself.name = name\n",
    "\t\tself.phoneNumber = phoneNumber\n",
    "\tdef printInfo(self):\n",
    "\t\tprint(\"Info(Name:{0}, Phone Number:{1})\".format(self.name, self.phoneNumber))\n",
    "\n",
    "\n",
    "class Student(Person):\n",
    "\tdef __init__(self, name, phoneNumber, subject, studentID):\n",
    "\t\tPerson.__init__(self, name, phoneNumber) # 상속받은 부모 클래스의 생성자를 명시적으로 호출하는 방법\n",
    "\t\tself.subject = subject\n",
    "\t\tself.studentID = studentID"
   ]
  },
  {
   "cell_type": "code",
   "execution_count": 29,
   "id": "d634aeaf-a4b5-471b-98f8-f7125c09fc68",
   "metadata": {
    "execution": {
     "iopub.execute_input": "2022-01-13T12:48:47.469997Z",
     "iopub.status.busy": "2022-01-13T12:48:47.469258Z",
     "iopub.status.idle": "2022-01-13T12:48:47.473317Z",
     "shell.execute_reply": "2022-01-13T12:48:47.472654Z",
     "shell.execute_reply.started": "2022-01-13T12:48:47.469961Z"
    },
    "tags": []
   },
   "outputs": [],
   "source": [
    "p = Person(\"전우치\", \"010-222\")\n",
    "s = Student(\"이순신\", \"010-333\", \"컴공\", \"991122\")"
   ]
  },
  {
   "cell_type": "code",
   "execution_count": 30,
   "id": "1273b768-f1e6-4fad-adc3-5f0cabf3275a",
   "metadata": {
    "execution": {
     "iopub.execute_input": "2022-01-13T12:48:49.596569Z",
     "iopub.status.busy": "2022-01-13T12:48:49.595974Z",
     "iopub.status.idle": "2022-01-13T12:48:49.601747Z",
     "shell.execute_reply": "2022-01-13T12:48:49.600759Z",
     "shell.execute_reply.started": "2022-01-13T12:48:49.596546Z"
    },
    "tags": []
   },
   "outputs": [
    {
     "data": {
      "text/plain": [
       "{'name': '전우치', 'phoneNumber': '010-222'}"
      ]
     },
     "execution_count": 30,
     "metadata": {},
     "output_type": "execute_result"
    }
   ],
   "source": [
    "p.__dict__"
   ]
  },
  {
   "cell_type": "code",
   "execution_count": 31,
   "id": "2b5f7c3f-0152-4d37-9fc4-92ea57f66e44",
   "metadata": {
    "execution": {
     "iopub.execute_input": "2022-01-13T12:48:50.809198Z",
     "iopub.status.busy": "2022-01-13T12:48:50.808936Z",
     "iopub.status.idle": "2022-01-13T12:48:50.815087Z",
     "shell.execute_reply": "2022-01-13T12:48:50.814324Z",
     "shell.execute_reply.started": "2022-01-13T12:48:50.809180Z"
    },
    "tags": []
   },
   "outputs": [
    {
     "data": {
      "text/plain": [
       "{'name': '이순신',\n",
       " 'phoneNumber': '010-333',\n",
       " 'subject': '컴공',\n",
       " 'studentID': '991122'}"
      ]
     },
     "execution_count": 31,
     "metadata": {},
     "output_type": "execute_result"
    }
   ],
   "source": [
    "s.__dict__ # __dict__ : 저장되어 있는 key와 value를 확인할 수 있음 "
   ]
  },
  {
   "cell_type": "code",
   "execution_count": 57,
   "id": "dd5db94f-3253-48e7-8549-3f7b30e98c81",
   "metadata": {
    "execution": {
     "iopub.execute_input": "2022-01-13T12:52:05.334333Z",
     "iopub.status.busy": "2022-01-13T12:52:05.333459Z",
     "iopub.status.idle": "2022-01-13T12:52:05.339462Z",
     "shell.execute_reply": "2022-01-13T12:52:05.338547Z",
     "shell.execute_reply.started": "2022-01-13T12:52:05.334313Z"
    },
    "tags": []
   },
   "outputs": [],
   "source": [
    "class Person:\n",
    "\tdef __init__(self, name, phoneNumber):\n",
    "\t\tself.name = name\n",
    "\t\tself.phoneNumber = phoneNumber\n",
    "\n",
    "\tdef printInfo(self):\n",
    "\t\tprint(\"Info(Name:{0}, Phone Number:{1})\".format(self.name, self.phoneNumber))\n",
    "\n",
    "\n",
    "class Student(Person):\n",
    "\t\n",
    "\tdef __init__(self, name, phoneNumber, subject, studentID):\n",
    "\t\tPerson.__init__(self, name, phoneNumber) # 상속받은 부모 클래스의 생성자를 명시적으로 호출하는 방법\n",
    "\t\tself.subject = subject\n",
    "\t\tself.studentID = studentID\n",
    "\t\n",
    "\tdef printInfo(self):\n",
    "\t\tprint(\"Info(Name:{0}, Phone Number:{1})\".format(self.name, self.phoneNumber))\n",
    "\t\tprint(\"Info(Subject:{0}, Student:{1})\".format(self.subject, self.studentID))"
   ]
  },
  {
   "cell_type": "code",
   "execution_count": 58,
   "id": "d7d652f5-c11c-4524-abac-8741d4702fae",
   "metadata": {
    "execution": {
     "iopub.execute_input": "2022-01-13T12:52:05.464300Z",
     "iopub.status.busy": "2022-01-13T12:52:05.464130Z",
     "iopub.status.idle": "2022-01-13T12:52:05.505027Z",
     "shell.execute_reply": "2022-01-13T12:52:05.504411Z",
     "shell.execute_reply.started": "2022-01-13T12:52:05.464283Z"
    },
    "tags": []
   },
   "outputs": [],
   "source": [
    "p = Person(\"전우치\", \"010-222\")\n",
    "s = Student(\"이순신\", \"010-333\", \"컴공\", \"991122\")"
   ]
  },
  {
   "cell_type": "code",
   "execution_count": 59,
   "id": "a448f1f1-2fc5-4c49-a5f7-2e9f42851f32",
   "metadata": {
    "execution": {
     "iopub.execute_input": "2022-01-13T12:52:05.617006Z",
     "iopub.status.busy": "2022-01-13T12:52:05.616834Z",
     "iopub.status.idle": "2022-01-13T12:52:05.622049Z",
     "shell.execute_reply": "2022-01-13T12:52:05.620958Z",
     "shell.execute_reply.started": "2022-01-13T12:52:05.616988Z"
    },
    "tags": []
   },
   "outputs": [
    {
     "name": "stdout",
     "output_type": "stream",
     "text": [
      "Info(Name:전우치, Phone Number:010-222)\n"
     ]
    }
   ],
   "source": [
    "p.printInfo()"
   ]
  },
  {
   "cell_type": "code",
   "execution_count": 60,
   "id": "d6d85ff3-7137-4130-a5a0-0451bc078579",
   "metadata": {
    "execution": {
     "iopub.execute_input": "2022-01-13T12:52:05.780156Z",
     "iopub.status.busy": "2022-01-13T12:52:05.779985Z",
     "iopub.status.idle": "2022-01-13T12:52:05.784675Z",
     "shell.execute_reply": "2022-01-13T12:52:05.783946Z",
     "shell.execute_reply.started": "2022-01-13T12:52:05.780139Z"
    },
    "tags": []
   },
   "outputs": [
    {
     "name": "stdout",
     "output_type": "stream",
     "text": [
      "Info(Name:이순신, Phone Number:010-333)\n",
      "Info(Subject:컴공, Student:991122)\n"
     ]
    }
   ],
   "source": [
    "s.printInfo()"
   ]
  }
 ],
 "metadata": {
  "kernelspec": {
   "display_name": "Python 3 (ipykernel)",
   "language": "python",
   "name": "python3"
  },
  "language_info": {
   "codemirror_mode": {
    "name": "ipython",
    "version": 3
   },
   "file_extension": ".py",
   "mimetype": "text/x-python",
   "name": "python",
   "nbconvert_exporter": "python",
   "pygments_lexer": "ipython3",
   "version": "3.9.7"
  }
 },
 "nbformat": 4,
 "nbformat_minor": 5
}
