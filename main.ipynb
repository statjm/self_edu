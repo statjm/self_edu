{
 "cells": [
  {
   "cell_type": "markdown",
   "id": "6e7fab27-b083-45ce-a65a-6cfc66a2e687",
   "metadata": {},
   "source": [
    "# 1. 클래스의 정의와 인스턴스 생성"
   ]
  },
  {
   "cell_type": "code",
   "execution_count": 1,
   "id": "73a46cce-245f-45b7-af71-0cd166740a1c",
   "metadata": {
    "execution": {
     "iopub.execute_input": "2022-01-04T10:42:08.807824Z",
     "iopub.status.busy": "2022-01-04T10:42:08.806885Z",
     "iopub.status.idle": "2022-01-04T10:42:08.815807Z",
     "shell.execute_reply": "2022-01-04T10:42:08.814549Z",
     "shell.execute_reply.started": "2022-01-04T10:42:08.807759Z"
    },
    "tags": []
   },
   "outputs": [],
   "source": [
    "class Person:\n",
    "\tname = \"Default Name\"\n",
    "\tdef print(self):\n",
    "\t\tprint(\"My name is {0}\".format(self.name))"
   ]
  },
  {
   "cell_type": "code",
   "execution_count": 3,
   "id": "ddb226ca-49c0-4071-8261-c1758dae363a",
   "metadata": {
    "execution": {
     "iopub.execute_input": "2022-01-04T10:43:22.452681Z",
     "iopub.status.busy": "2022-01-04T10:43:22.452113Z",
     "iopub.status.idle": "2022-01-04T10:43:22.456285Z",
     "shell.execute_reply": "2022-01-04T10:43:22.455224Z",
     "shell.execute_reply.started": "2022-01-04T10:43:22.452657Z"
    },
    "tags": []
   },
   "outputs": [],
   "source": [
    "p1 = Person()"
   ]
  },
  {
   "cell_type": "code",
   "execution_count": 4,
   "id": "68a8e2dd-4fbd-4524-8ee6-7d136eb64226",
   "metadata": {
    "execution": {
     "iopub.execute_input": "2022-01-04T10:43:25.875345Z",
     "iopub.status.busy": "2022-01-04T10:43:25.875084Z",
     "iopub.status.idle": "2022-01-04T10:43:25.879716Z",
     "shell.execute_reply": "2022-01-04T10:43:25.878912Z",
     "shell.execute_reply.started": "2022-01-04T10:43:25.875311Z"
    },
    "tags": []
   },
   "outputs": [
    {
     "name": "stdout",
     "output_type": "stream",
     "text": [
      "My name is Default Name\n"
     ]
    }
   ],
   "source": [
    "p1.print()"
   ]
  },
  {
   "cell_type": "code",
   "execution_count": 5,
   "id": "2e318d1f-576e-4664-a94a-faafbc260a89",
   "metadata": {
    "execution": {
     "iopub.execute_input": "2022-01-04T10:43:50.233097Z",
     "iopub.status.busy": "2022-01-04T10:43:50.232266Z",
     "iopub.status.idle": "2022-01-04T10:43:50.236842Z",
     "shell.execute_reply": "2022-01-04T10:43:50.235800Z",
     "shell.execute_reply.started": "2022-01-04T10:43:50.233072Z"
    },
    "tags": []
   },
   "outputs": [],
   "source": [
    "p1.name = \"임정맨\""
   ]
  },
  {
   "cell_type": "code",
   "execution_count": 6,
   "id": "7adaf8a2-ade2-4d50-885b-5935ab040f33",
   "metadata": {
    "execution": {
     "iopub.execute_input": "2022-01-04T10:43:52.921597Z",
     "iopub.status.busy": "2022-01-04T10:43:52.921038Z",
     "iopub.status.idle": "2022-01-04T10:43:52.925390Z",
     "shell.execute_reply": "2022-01-04T10:43:52.924554Z",
     "shell.execute_reply.started": "2022-01-04T10:43:52.921563Z"
    },
    "tags": []
   },
   "outputs": [
    {
     "name": "stdout",
     "output_type": "stream",
     "text": [
      "My name is 임정맨\n"
     ]
    }
   ],
   "source": [
    "p1.print()"
   ]
  },
  {
   "cell_type": "markdown",
   "id": "53fb94a2-821b-4747-a513-2abd0470c144",
   "metadata": {},
   "source": [
    "# 2. 인스턴스 사용과 self의 의미"
   ]
  },
  {
   "cell_type": "code",
   "execution_count": 7,
   "id": "3a2255e9-2f8f-4938-bce1-542597e8fce1",
   "metadata": {
    "execution": {
     "iopub.execute_input": "2022-01-04T11:01:42.359012Z",
     "iopub.status.busy": "2022-01-04T11:01:42.358835Z",
     "iopub.status.idle": "2022-01-04T11:01:42.362867Z",
     "shell.execute_reply": "2022-01-04T11:01:42.361847Z",
     "shell.execute_reply.started": "2022-01-04T11:01:42.358994Z"
    },
    "tags": []
   },
   "outputs": [],
   "source": [
    "class Person:\n",
    "    name = \"default name\""
   ]
  },
  {
   "cell_type": "code",
   "execution_count": 8,
   "id": "6fb50ffe-d44e-40a5-a171-82870349608f",
   "metadata": {
    "execution": {
     "iopub.execute_input": "2022-01-04T11:02:27.817219Z",
     "iopub.status.busy": "2022-01-04T11:02:27.816520Z",
     "iopub.status.idle": "2022-01-04T11:02:27.821498Z",
     "shell.execute_reply": "2022-01-04T11:02:27.820251Z",
     "shell.execute_reply.started": "2022-01-04T11:02:27.817185Z"
    },
    "tags": []
   },
   "outputs": [],
   "source": [
    "p1 = Person()\n",
    "p2 = Person()"
   ]
  },
  {
   "cell_type": "code",
   "execution_count": 9,
   "id": "982df330-acf2-4f6b-b6a4-d54756f2ffd0",
   "metadata": {
    "execution": {
     "iopub.execute_input": "2022-01-04T11:02:39.659837Z",
     "iopub.status.busy": "2022-01-04T11:02:39.659571Z",
     "iopub.status.idle": "2022-01-04T11:02:39.665414Z",
     "shell.execute_reply": "2022-01-04T11:02:39.664289Z",
     "shell.execute_reply.started": "2022-01-04T11:02:39.659817Z"
    },
    "tags": []
   },
   "outputs": [
    {
     "data": {
      "text/plain": [
       "'default name'"
      ]
     },
     "execution_count": 9,
     "metadata": {},
     "output_type": "execute_result"
    }
   ],
   "source": [
    "p1.name"
   ]
  },
  {
   "cell_type": "code",
   "execution_count": 10,
   "id": "5fc9e2a5-0656-4008-ac85-02fe5fdaff2e",
   "metadata": {
    "execution": {
     "iopub.execute_input": "2022-01-04T11:02:42.074690Z",
     "iopub.status.busy": "2022-01-04T11:02:42.074128Z",
     "iopub.status.idle": "2022-01-04T11:02:42.079687Z",
     "shell.execute_reply": "2022-01-04T11:02:42.078808Z",
     "shell.execute_reply.started": "2022-01-04T11:02:42.074668Z"
    },
    "tags": []
   },
   "outputs": [
    {
     "data": {
      "text/plain": [
       "'default name'"
      ]
     },
     "execution_count": 10,
     "metadata": {},
     "output_type": "execute_result"
    }
   ],
   "source": [
    "p2.name"
   ]
  },
  {
   "cell_type": "code",
   "execution_count": 11,
   "id": "a8f1251c-5b05-4a7b-a3cc-acd84a7c2f69",
   "metadata": {
    "execution": {
     "iopub.execute_input": "2022-01-04T11:02:54.004405Z",
     "iopub.status.busy": "2022-01-04T11:02:54.004003Z",
     "iopub.status.idle": "2022-01-04T11:02:54.008429Z",
     "shell.execute_reply": "2022-01-04T11:02:54.007503Z",
     "shell.execute_reply.started": "2022-01-04T11:02:54.004370Z"
    },
    "tags": []
   },
   "outputs": [],
   "source": [
    "p1.name = \"임정맨\""
   ]
  },
  {
   "cell_type": "code",
   "execution_count": 12,
   "id": "74fb1593-16f6-49c5-afb9-851403d46f9b",
   "metadata": {
    "execution": {
     "iopub.execute_input": "2022-01-04T11:02:58.791228Z",
     "iopub.status.busy": "2022-01-04T11:02:58.790988Z",
     "iopub.status.idle": "2022-01-04T11:02:58.796518Z",
     "shell.execute_reply": "2022-01-04T11:02:58.795588Z",
     "shell.execute_reply.started": "2022-01-04T11:02:58.791209Z"
    },
    "tags": []
   },
   "outputs": [
    {
     "data": {
      "text/plain": [
       "'임정맨'"
      ]
     },
     "execution_count": 12,
     "metadata": {},
     "output_type": "execute_result"
    }
   ],
   "source": [
    "p1.name"
   ]
  },
  {
   "cell_type": "code",
   "execution_count": 13,
   "id": "529bb32c-13f2-4395-b134-6dc855e0e3c5",
   "metadata": {
    "execution": {
     "iopub.execute_input": "2022-01-04T11:03:02.047086Z",
     "iopub.status.busy": "2022-01-04T11:03:02.046863Z",
     "iopub.status.idle": "2022-01-04T11:03:02.052458Z",
     "shell.execute_reply": "2022-01-04T11:03:02.051384Z",
     "shell.execute_reply.started": "2022-01-04T11:03:02.047066Z"
    },
    "tags": []
   },
   "outputs": [
    {
     "data": {
      "text/plain": [
       "'default name'"
      ]
     },
     "execution_count": 13,
     "metadata": {},
     "output_type": "execute_result"
    }
   ],
   "source": [
    "p2.name"
   ]
  },
  {
   "cell_type": "code",
   "execution_count": 14,
   "id": "9d7abd5e-793a-44b4-a8ab-11037d705d56",
   "metadata": {
    "execution": {
     "iopub.execute_input": "2022-01-04T11:03:22.403585Z",
     "iopub.status.busy": "2022-01-04T11:03:22.403354Z",
     "iopub.status.idle": "2022-01-04T11:03:22.407177Z",
     "shell.execute_reply": "2022-01-04T11:03:22.406230Z",
     "shell.execute_reply.started": "2022-01-04T11:03:22.403566Z"
    },
    "tags": []
   },
   "outputs": [],
   "source": [
    "Person.title = \"new title\""
   ]
  },
  {
   "cell_type": "code",
   "execution_count": 15,
   "id": "7a00eca7-f550-4827-a203-7f9a292bfe98",
   "metadata": {
    "execution": {
     "iopub.execute_input": "2022-01-04T11:03:26.100238Z",
     "iopub.status.busy": "2022-01-04T11:03:26.100056Z",
     "iopub.status.idle": "2022-01-04T11:03:26.105558Z",
     "shell.execute_reply": "2022-01-04T11:03:26.104672Z",
     "shell.execute_reply.started": "2022-01-04T11:03:26.100220Z"
    },
    "tags": []
   },
   "outputs": [
    {
     "data": {
      "text/plain": [
       "'new title'"
      ]
     },
     "execution_count": 15,
     "metadata": {},
     "output_type": "execute_result"
    }
   ],
   "source": [
    "p1.title"
   ]
  },
  {
   "cell_type": "code",
   "execution_count": 16,
   "id": "cb79b1eb-9a2f-4cac-915f-74c6f08e1093",
   "metadata": {
    "execution": {
     "iopub.execute_input": "2022-01-04T11:03:31.160437Z",
     "iopub.status.busy": "2022-01-04T11:03:31.159612Z",
     "iopub.status.idle": "2022-01-04T11:03:31.165722Z",
     "shell.execute_reply": "2022-01-04T11:03:31.164624Z",
     "shell.execute_reply.started": "2022-01-04T11:03:31.160415Z"
    },
    "tags": []
   },
   "outputs": [
    {
     "data": {
      "text/plain": [
       "'new title'"
      ]
     },
     "execution_count": 16,
     "metadata": {},
     "output_type": "execute_result"
    }
   ],
   "source": [
    "p2.title"
   ]
  },
  {
   "cell_type": "code",
   "execution_count": 17,
   "id": "950510c2-763a-4ae3-ab6e-e1f2e000ccca",
   "metadata": {
    "execution": {
     "iopub.execute_input": "2022-01-04T11:03:39.338467Z",
     "iopub.status.busy": "2022-01-04T11:03:39.337933Z",
     "iopub.status.idle": "2022-01-04T11:03:39.344005Z",
     "shell.execute_reply": "2022-01-04T11:03:39.342598Z",
     "shell.execute_reply.started": "2022-01-04T11:03:39.338446Z"
    },
    "tags": []
   },
   "outputs": [
    {
     "data": {
      "text/plain": [
       "'new title'"
      ]
     },
     "execution_count": 17,
     "metadata": {},
     "output_type": "execute_result"
    }
   ],
   "source": [
    "Person.title"
   ]
  },
  {
   "cell_type": "code",
   "execution_count": 18,
   "id": "5a6a443c-54bb-4fa6-afbe-dd7dda2ebc4c",
   "metadata": {
    "execution": {
     "iopub.execute_input": "2022-01-04T11:04:03.787867Z",
     "iopub.status.busy": "2022-01-04T11:04:03.787456Z",
     "iopub.status.idle": "2022-01-04T11:04:03.791552Z",
     "shell.execute_reply": "2022-01-04T11:04:03.790587Z",
     "shell.execute_reply.started": "2022-01-04T11:04:03.787846Z"
    },
    "tags": []
   },
   "outputs": [],
   "source": [
    "p1.age = 20"
   ]
  },
  {
   "cell_type": "code",
   "execution_count": 19,
   "id": "03a70d44-2c77-48d8-a637-979701556772",
   "metadata": {
    "execution": {
     "iopub.execute_input": "2022-01-04T11:04:05.869515Z",
     "iopub.status.busy": "2022-01-04T11:04:05.869321Z",
     "iopub.status.idle": "2022-01-04T11:04:05.874032Z",
     "shell.execute_reply": "2022-01-04T11:04:05.873161Z",
     "shell.execute_reply.started": "2022-01-04T11:04:05.869495Z"
    },
    "tags": []
   },
   "outputs": [
    {
     "data": {
      "text/plain": [
       "20"
      ]
     },
     "execution_count": 19,
     "metadata": {},
     "output_type": "execute_result"
    }
   ],
   "source": [
    "p1.age"
   ]
  },
  {
   "cell_type": "code",
   "execution_count": 20,
   "id": "7baef7ac-6b84-4fe5-bf47-a1514db93f76",
   "metadata": {
    "execution": {
     "iopub.execute_input": "2022-01-04T11:04:09.052081Z",
     "iopub.status.busy": "2022-01-04T11:04:09.051734Z",
     "iopub.status.idle": "2022-01-04T11:04:09.098275Z",
     "shell.execute_reply": "2022-01-04T11:04:09.096783Z",
     "shell.execute_reply.started": "2022-01-04T11:04:09.052059Z"
    },
    "tags": []
   },
   "outputs": [
    {
     "ename": "AttributeError",
     "evalue": "'Person' object has no attribute 'age'",
     "output_type": "error",
     "traceback": [
      "\u001b[0;31m---------------------------------------------------------------------------\u001b[0m",
      "\u001b[0;31mAttributeError\u001b[0m                            Traceback (most recent call last)",
      "\u001b[0;32m/tmp/ipykernel_102/1409727921.py\u001b[0m in \u001b[0;36m<module>\u001b[0;34m\u001b[0m\n\u001b[0;32m----> 1\u001b[0;31m \u001b[0mp2\u001b[0m\u001b[0;34m.\u001b[0m\u001b[0mage\u001b[0m\u001b[0;34m\u001b[0m\u001b[0;34m\u001b[0m\u001b[0m\n\u001b[0m",
      "\u001b[0;31mAttributeError\u001b[0m: 'Person' object has no attribute 'age'"
     ]
    }
   ],
   "source": [
    "p2.age"
   ]
  },
  {
   "cell_type": "code",
   "execution_count": 21,
   "id": "4379366a-77a3-4205-9d83-2ca91cb2b628",
   "metadata": {
    "execution": {
     "iopub.execute_input": "2022-01-04T11:08:30.097804Z",
     "iopub.status.busy": "2022-01-04T11:08:30.097369Z",
     "iopub.status.idle": "2022-01-04T11:08:30.102283Z",
     "shell.execute_reply": "2022-01-04T11:08:30.101314Z",
     "shell.execute_reply.started": "2022-01-04T11:08:30.097784Z"
    },
    "tags": []
   },
   "outputs": [
    {
     "name": "stdout",
     "output_type": "stream",
     "text": [
      "Not Class Member\n"
     ]
    }
   ],
   "source": [
    "# 클래스를 정의한 코드\n",
    "str = \"Not Class Member\"\n",
    "\n",
    "class GString:\n",
    "\tstr = \"\"\n",
    "\tdef set(self, msg):\n",
    "\t\tself.str = msg ## Good\n",
    "\tdef print(self):\n",
    "\t\tprint(str) ## Bad\n",
    "\n",
    "# 인스턴스 객체 생성\n",
    "g = GString()\n",
    "g.set(\"First Message\")\n",
    "g.print() # Not Class Member"
   ]
  },
  {
   "cell_type": "code",
   "execution_count": 22,
   "id": "2d632bda-5470-463e-8229-ec3918fd1c3b",
   "metadata": {
    "execution": {
     "iopub.execute_input": "2022-01-04T11:08:31.774999Z",
     "iopub.status.busy": "2022-01-04T11:08:31.774646Z",
     "iopub.status.idle": "2022-01-04T11:08:31.780171Z",
     "shell.execute_reply": "2022-01-04T11:08:31.779180Z",
     "shell.execute_reply.started": "2022-01-04T11:08:31.774978Z"
    },
    "tags": []
   },
   "outputs": [
    {
     "name": "stdout",
     "output_type": "stream",
     "text": [
      "First Message\n"
     ]
    }
   ],
   "source": [
    "str = \"Not Class Member\"\n",
    "\n",
    "# 클래스 정의+\n",
    "class GString:\n",
    "\tstr = \"\"\n",
    "\tdef set(self, msg):\n",
    "\t\tself.str = msg ## Good\n",
    "\tdef print(self):\n",
    "\t\tprint(self.str) ## Good\n",
    "\n",
    "# 인스턴스 객체 생성\n",
    "g = GString()\n",
    "g.set(\"First Message\")\n",
    "g.print() # First Message"
   ]
  },
  {
   "cell_type": "markdown",
   "id": "a7d6f1bf-a2d2-4a14-a3bc-d4f7e95b5624",
   "metadata": {},
   "source": [
    "# 3. 생성자와 소멸자 메소드"
   ]
  },
  {
   "cell_type": "code",
   "execution_count": 1,
   "id": "2d9fb17b-6f32-49c9-aec1-5eccee955eb7",
   "metadata": {
    "execution": {
     "iopub.execute_input": "2022-01-11T09:52:03.342407Z",
     "iopub.status.busy": "2022-01-11T09:52:03.341816Z",
     "iopub.status.idle": "2022-01-11T09:52:03.349548Z",
     "shell.execute_reply": "2022-01-11T09:52:03.348708Z",
     "shell.execute_reply.started": "2022-01-11T09:52:03.342342Z"
    },
    "tags": []
   },
   "outputs": [],
   "source": [
    "class MyClass: ## 클래스 정의\n",
    "\tdef __init__(self, value): ## 생성자 메소드\n",
    "\t\tself.Value = value\n",
    "\t\tprint(\"Class is created! Value = \", value)\n",
    "\tdef __del__(self): ## 소멸자 메소드\n",
    "\t\tprint(\"Class is deleted\")"
   ]
  },
  {
   "cell_type": "code",
   "execution_count": 2,
   "id": "478c240e-2f80-48c7-be64-71545b3dd027",
   "metadata": {
    "execution": {
     "iopub.execute_input": "2022-01-11T09:52:10.572283Z",
     "iopub.status.busy": "2022-01-11T09:52:10.571712Z",
     "iopub.status.idle": "2022-01-11T09:52:10.576479Z",
     "shell.execute_reply": "2022-01-11T09:52:10.575678Z",
     "shell.execute_reply.started": "2022-01-11T09:52:10.572262Z"
    },
    "tags": []
   },
   "outputs": [
    {
     "name": "stdout",
     "output_type": "stream",
     "text": [
      "Class is created! Value =  10\n"
     ]
    }
   ],
   "source": [
    "d = MyClass(10) ## 생성자 메소드를 호출"
   ]
  },
  {
   "cell_type": "code",
   "execution_count": 3,
   "id": "9698eb52-a213-48a4-8b07-dae69eff9cf9",
   "metadata": {
    "execution": {
     "iopub.execute_input": "2022-01-11T09:52:15.145373Z",
     "iopub.status.busy": "2022-01-11T09:52:15.144768Z",
     "iopub.status.idle": "2022-01-11T09:52:15.149333Z",
     "shell.execute_reply": "2022-01-11T09:52:15.148496Z",
     "shell.execute_reply.started": "2022-01-11T09:52:15.145352Z"
    },
    "tags": []
   },
   "outputs": [
    {
     "name": "stdout",
     "output_type": "stream",
     "text": [
      "Class is deleted\n"
     ]
    }
   ],
   "source": [
    "del d"
   ]
  },
  {
   "cell_type": "code",
   "execution_count": 4,
   "id": "68ab7aec-77b0-4113-972c-778608ea918d",
   "metadata": {
    "execution": {
     "iopub.execute_input": "2022-01-11T09:52:36.895014Z",
     "iopub.status.busy": "2022-01-11T09:52:36.894801Z",
     "iopub.status.idle": "2022-01-11T09:52:36.900253Z",
     "shell.execute_reply": "2022-01-11T09:52:36.899347Z",
     "shell.execute_reply.started": "2022-01-11T09:52:36.894995Z"
    },
    "tags": []
   },
   "outputs": [
    {
     "name": "stdout",
     "output_type": "stream",
     "text": [
      "Class is created! Value =  10\n"
     ]
    }
   ],
   "source": [
    "d = MyClass(10) ## 생성자 메소드를 호출 : 참조카운트 1"
   ]
  },
  {
   "cell_type": "code",
   "execution_count": 5,
   "id": "50b6b299-359a-4460-9d44-a5145f3d5306",
   "metadata": {
    "execution": {
     "iopub.execute_input": "2022-01-11T09:52:44.629963Z",
     "iopub.status.busy": "2022-01-11T09:52:44.629476Z",
     "iopub.status.idle": "2022-01-11T09:52:44.633033Z",
     "shell.execute_reply": "2022-01-11T09:52:44.632397Z",
     "shell.execute_reply.started": "2022-01-11T09:52:44.629929Z"
    },
    "tags": []
   },
   "outputs": [],
   "source": [
    "d_copy = d ## 참조카운트 2"
   ]
  },
  {
   "cell_type": "code",
   "execution_count": 6,
   "id": "d57d64d0-6d75-4980-9fad-68d012548861",
   "metadata": {
    "execution": {
     "iopub.execute_input": "2022-01-11T09:52:48.543632Z",
     "iopub.status.busy": "2022-01-11T09:52:48.542446Z",
     "iopub.status.idle": "2022-01-11T09:52:48.546995Z",
     "shell.execute_reply": "2022-01-11T09:52:48.546052Z",
     "shell.execute_reply.started": "2022-01-11T09:52:48.543612Z"
    },
    "tags": []
   },
   "outputs": [],
   "source": [
    "del d ## 참조카운트 1로 감소"
   ]
  },
  {
   "cell_type": "code",
   "execution_count": 7,
   "id": "6d95d570-697d-43af-b5d8-2212f4927ac0",
   "metadata": {
    "execution": {
     "iopub.execute_input": "2022-01-11T09:52:50.257138Z",
     "iopub.status.busy": "2022-01-11T09:52:50.256713Z",
     "iopub.status.idle": "2022-01-11T09:52:50.260674Z",
     "shell.execute_reply": "2022-01-11T09:52:50.259986Z",
     "shell.execute_reply.started": "2022-01-11T09:52:50.257118Z"
    },
    "tags": []
   },
   "outputs": [
    {
     "name": "stdout",
     "output_type": "stream",
     "text": [
      "Class is deleted\n"
     ]
    }
   ],
   "source": [
    "del d_copy ## 소멸자 메소드를 호출 : 참조카운트 0"
   ]
  },
  {
   "cell_type": "markdown",
   "id": "d3c8a4ab-24db-4f11-8277-dbda2c318c6e",
   "metadata": {},
   "source": [
    "# 4. 정적 메소드 사용"
   ]
  },
  {
   "cell_type": "code",
   "execution_count": 8,
   "id": "ddcc34c3-2124-48cd-8eb0-f7b9f2650a49",
   "metadata": {
    "execution": {
     "iopub.execute_input": "2022-01-11T09:53:48.000645Z",
     "iopub.status.busy": "2022-01-11T09:53:48.000037Z",
     "iopub.status.idle": "2022-01-11T09:53:48.004293Z",
     "shell.execute_reply": "2022-01-11T09:53:48.003465Z",
     "shell.execute_reply.started": "2022-01-11T09:53:48.000624Z"
    },
    "tags": []
   },
   "outputs": [],
   "source": [
    "class MyCalc(object):\n",
    "    @staticmethod\n",
    "    def my_add(x, y):\n",
    "        return x + y"
   ]
  },
  {
   "cell_type": "code",
   "execution_count": 9,
   "id": "37b0ba93-ca93-43d5-8d01-abab1565ef8e",
   "metadata": {
    "execution": {
     "iopub.execute_input": "2022-01-11T09:55:19.862154Z",
     "iopub.status.busy": "2022-01-11T09:55:19.861755Z",
     "iopub.status.idle": "2022-01-11T09:55:19.871993Z",
     "shell.execute_reply": "2022-01-11T09:55:19.871174Z",
     "shell.execute_reply.started": "2022-01-11T09:55:19.862133Z"
    },
    "tags": []
   },
   "outputs": [
    {
     "data": {
      "text/plain": [
       "7"
      ]
     },
     "execution_count": 9,
     "metadata": {},
     "output_type": "execute_result"
    }
   ],
   "source": [
    "MyCalc.my_add(3, 4)"
   ]
  },
  {
   "cell_type": "code",
   "execution_count": null,
   "id": "40f73ed6-c895-4838-8741-50feea7157a3",
   "metadata": {},
   "outputs": [],
   "source": []
  },
  {
   "cell_type": "code",
   "execution_count": null,
   "id": "5e109f25-3311-4d0e-abeb-189bf9ff8558",
   "metadata": {},
   "outputs": [],
   "source": []
  }
 ],
 "metadata": {
  "kernelspec": {
   "display_name": "Python 3 (ipykernel)",
   "language": "python",
   "name": "python3"
  },
  "language_info": {
   "codemirror_mode": {
    "name": "ipython",
    "version": 3
   },
   "file_extension": ".py",
   "mimetype": "text/x-python",
   "name": "python",
   "nbconvert_exporter": "python",
   "pygments_lexer": "ipython3",
   "version": "3.9.7"
  }
 },
 "nbformat": 4,
 "nbformat_minor": 5
}
